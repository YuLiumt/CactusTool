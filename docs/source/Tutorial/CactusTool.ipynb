{
 "cells": [
  {
   "cell_type": "code",
   "execution_count": 1,
   "metadata": {},
   "outputs": [],
   "source": [
    "import CactusTool\n",
    "\n",
    "name = 'BBH000Lev5'\n",
    "sim = CactusTool.load(name, basedir='/Volumes/simulations/BBH_Catalog')"
   ]
  },
  {
   "cell_type": "markdown",
   "metadata": {},
   "source": [
    "## Scalar\n",
    "\n",
    "Reduction operation: ('', 'minimum', 'maximum', 'norm1', 'norm2', 'average', 'infnorm', 'scalars')"
   ]
  },
  {
   "cell_type": "code",
   "execution_count": 2,
   "metadata": {},
   "outputs": [
    {
     "name": "stdout",
     "output_type": "stream",
     "text": [
      "Reduction type: 'maximum'\n",
      "File Name                          Variables\n",
      "---------                          ---------\n",
      "\u001b[1msystemstatistics-process_memory_mb\u001b[0m ['maxrss_mb', 'majflt_mb', 'arena_mb', 'ordblks_mb', 'hblks_mb', 'hblkhd_mb', 'uordblks_mb', 'fordblks_mb', 'keepcost_mb', 'swap_used_mb']\n",
      "\u001b[1mml_admconstraints-ml_ham          \u001b[0m ['H']\n",
      "\u001b[1mml_admconstraints-ml_mom          \u001b[0m ['M1', 'M2', 'M3']\n",
      "\n"
     ]
    }
   ],
   "source": [
    "print(sim.Scalar('maximum'))"
   ]
  },
  {
   "cell_type": "code",
   "execution_count": 3,
   "metadata": {},
   "outputs": [],
   "source": [
    "ham = sim.Scalar('maximum')['ml_admconstraints-ml_ham']"
   ]
  },
  {
   "cell_type": "code",
   "execution_count": 4,
   "metadata": {},
   "outputs": [
    {
     "name": "stdout",
     "output_type": "stream",
     "text": [
      "Fige Size: 0.1660442352294922 MB\n"
     ]
    }
   ],
   "source": [
    "print(\"Fige Size:\", ham.filesize(),\"MB\")"
   ]
  },
  {
   "cell_type": "code",
   "execution_count": 5,
   "metadata": {},
   "outputs": [
    {
     "data": {
      "text/html": [
       "<div>\n",
       "<style scoped>\n",
       "    .dataframe tbody tr th:only-of-type {\n",
       "        vertical-align: middle;\n",
       "    }\n",
       "\n",
       "    .dataframe tbody tr th {\n",
       "        vertical-align: top;\n",
       "    }\n",
       "\n",
       "    .dataframe thead th {\n",
       "        text-align: right;\n",
       "    }\n",
       "</style>\n",
       "<table border=\"1\" class=\"dataframe\">\n",
       "  <thead>\n",
       "    <tr style=\"text-align: right;\">\n",
       "      <th></th>\n",
       "      <th>H</th>\n",
       "    </tr>\n",
       "  </thead>\n",
       "  <tbody>\n",
       "    <tr>\n",
       "      <th>0.000000</th>\n",
       "      <td>26188.047208</td>\n",
       "    </tr>\n",
       "    <tr>\n",
       "      <th>0.392727</th>\n",
       "      <td>1008.582411</td>\n",
       "    </tr>\n",
       "    <tr>\n",
       "      <th>0.785455</th>\n",
       "      <td>3810.981482</td>\n",
       "    </tr>\n",
       "    <tr>\n",
       "      <th>1.178182</th>\n",
       "      <td>495.765967</td>\n",
       "    </tr>\n",
       "    <tr>\n",
       "      <th>1.570909</th>\n",
       "      <td>1491.275971</td>\n",
       "    </tr>\n",
       "    <tr>\n",
       "      <th>...</th>\n",
       "      <td>...</td>\n",
       "    </tr>\n",
       "    <tr>\n",
       "      <th>1698.152727</th>\n",
       "      <td>9.088710</td>\n",
       "    </tr>\n",
       "    <tr>\n",
       "      <th>1698.545455</th>\n",
       "      <td>7.453572</td>\n",
       "    </tr>\n",
       "    <tr>\n",
       "      <th>1698.938182</th>\n",
       "      <td>11.509960</td>\n",
       "    </tr>\n",
       "    <tr>\n",
       "      <th>1699.330909</th>\n",
       "      <td>13.820011</td>\n",
       "    </tr>\n",
       "    <tr>\n",
       "      <th>1699.723636</th>\n",
       "      <td>12.690018</td>\n",
       "    </tr>\n",
       "  </tbody>\n",
       "</table>\n",
       "<p>4329 rows × 1 columns</p>\n",
       "</div>"
      ],
      "text/plain": [
       "                        H\n",
       "0.000000     26188.047208\n",
       "0.392727      1008.582411\n",
       "0.785455      3810.981482\n",
       "1.178182       495.765967\n",
       "1.570909      1491.275971\n",
       "...                   ...\n",
       "1698.152727      9.088710\n",
       "1698.545455      7.453572\n",
       "1698.938182     11.509960\n",
       "1699.330909     13.820011\n",
       "1699.723636     12.690018\n",
       "\n",
       "[4329 rows x 1 columns]"
      ]
     },
     "execution_count": 5,
     "metadata": {},
     "output_type": "execute_result"
    }
   ],
   "source": [
    "ham.dsets(['H']).DataFrame"
   ]
  },
  {
   "cell_type": "code",
   "execution_count": null,
   "metadata": {},
   "outputs": [],
   "source": []
  }
 ],
 "metadata": {
  "kernelspec": {
   "display_name": "Python 3",
   "language": "python",
   "name": "python3"
  },
  "language_info": {
   "codemirror_mode": {
    "name": "ipython",
    "version": 3
   },
   "file_extension": ".py",
   "mimetype": "text/x-python",
   "name": "python",
   "nbconvert_exporter": "python",
   "pygments_lexer": "ipython3",
   "version": "3.8.5"
  }
 },
 "nbformat": 4,
 "nbformat_minor": 4
}
