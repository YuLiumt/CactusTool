{
 "cells": [
  {
   "cell_type": "markdown",
   "metadata": {},
   "source": [
    "# CactusTool\n",
    "Basis class of CactusTool, anything start from it.\n",
    "* Par: parfile\n",
    "* Scalar\n",
    "* H5: HDF5\n",
    "* Debug"
   ]
  },
  {
   "cell_type": "markdown",
   "metadata": {},
   "source": [
    "## Sim module"
   ]
  },
  {
   "cell_type": "markdown",
   "metadata": {},
   "source": [
    "You need use Sim module to load up data and make some visualizations.\n",
    "\n",
    "Acquiring the datasets\n",
    "\n",
    "For this dataset, we see that there are two particle types file "
   ]
  },
  {
   "cell_type": "code",
   "execution_count": 1,
   "metadata": {
    "scrolled": true
   },
   "outputs": [],
   "source": [
    "from CactusTool.simulation import Sim\n",
    "name = '/Users/liuyu/simulations/TOV_single_vel'\n",
    "# name = '/Users/liuyu/simulations/BH'"
   ]
  },
  {
   "cell_type": "code",
   "execution_count": 2,
   "metadata": {},
   "outputs": [],
   "source": [
    "sim = Sim(name)"
   ]
  },
  {
   "cell_type": "markdown",
   "metadata": {},
   "source": [
    "## Parfile\n",
    "Read parameter file if it exist."
   ]
  },
  {
   "cell_type": "code",
   "execution_count": 3,
   "metadata": {},
   "outputs": [
    {
     "name": "stdout",
     "output_type": "stream",
     "text": [
      "TOV_single_vel.par:\n",
      "['ADMAnalysis', 'ADMBase', 'ADMCoupling', 'ADMMacros', 'AEILocalInterp', 'ActiveThorns', 'Cactus', 'Carpet', 'CarpetIOASCII', 'CarpetIOBasic', 'CarpetIOHDF5', 'CarpetIOScalar', 'CarpetInterp', 'CarpetInterp2', 'CarpetLib', 'CarpetReduce', 'CarpetRegrid2', 'CarpetTracker', 'CartGrid3D', 'Constants', 'CoordBase', 'CoordGauge', 'Dissipation', 'EOS_Omni', 'GRHydro', 'GenericFD', 'HydroBase', 'Hydro_Analysis', 'IO', 'IOASCII', 'IOBasic', 'IOHDF5', 'IOScalar', 'IOUtil', 'InitBase', 'LocalInterp', 'LocalReduce', 'ML_ADMConstraints', 'ML_BSSN', 'ML_BSSN_Helper', 'MoL', 'NSTracker', 'NaNChecker', 'NewRad', 'QuasiLocalMeasures', 'SpaceMask', 'SphericalSurface', 'StaticConformal', 'SummationByParts', 'SystemStatistics', 'TOVSolver', 'Time', 'TmunuBase', 'boundary', 'driver', 'symbase', 'tovsolver']\n"
     ]
    }
   ],
   "source": [
    "print(sim.Par)"
   ]
  },
  {
   "cell_type": "code",
   "execution_count": 4,
   "metadata": {},
   "outputs": [
    {
     "name": "stdout",
     "output_type": "stream",
     "text": [
      "{'ODE_Method': 'rk4', 'MoL_Intermediate_Steps': 4, 'MoL_Num_Scratch_Levels': 1}\n"
     ]
    }
   ],
   "source": [
    "print(sim.Par.MoL)"
   ]
  },
  {
   "cell_type": "markdown",
   "metadata": {},
   "source": [
    "## Scalar\n"
   ]
  },
  {
   "cell_type": "markdown",
   "metadata": {},
   "source": [
    "### Base Information"
   ]
  },
  {
   "cell_type": "code",
   "execution_count": 5,
   "metadata": {},
   "outputs": [
    {
     "name": "stdout",
     "output_type": "stream",
     "text": [
      "Available minimum timeseries:\n",
      "[]\n",
      "\n",
      "Available maximum timeseries:\n",
      "['Hydro_Analysis_rho_max_loc[0]', 'Hydro_Analysis_rho_max_loc[1]', 'Hydro_Analysis_rho_max_loc[2]', 'H', 'M1', 'M2', 'M3', 'qlm_shape[0]', 'rho', 'Hydro_Analysis_rho_max_origin_distance', 'maxrss_mb', 'majflt_mb', 'arena_mb', 'ordblks_mb', 'hblks_mb', 'hblkhd_mb', 'uordblks_mb', 'fordblks_mb', 'keepcost_mb', 'swap_used_mb']\n",
      "\n",
      "Available norm1 timeseries:\n",
      "[]\n",
      "\n",
      "Available norm2 timeseries:\n",
      "[]\n",
      "\n",
      "Available average timeseries:\n",
      "[]\n",
      "\n",
      "Available none timeseries:\n",
      "['qlm_time[0]', 'qlm_equatorial_circumference[0]', 'qlm_polar_circumference_0[0]', 'qlm_polar_circumference_pi_2[0]', 'qlm_area[0]', 'qlm_irreducible_mass[0]', 'qlm_radius[0]', 'qlm_spin_guess[0]', 'qlm_mass_guess[0]', 'qlm_killing_eigenvalue_re[0]', 'qlm_killing_eigenvalue_im[0]', 'qlm_spin[0]', 'qlm_npspin[0]', 'qlm_wsspin[0]', 'qlm_cvspin[0]', 'qlm_coordspinx[0]', 'qlm_coordspiny[0]', 'qlm_coordspinz[0]', 'qlm_mass[0]', 'qlm_adm_energy[0]', 'qlm_adm_momentum_x[0]', 'qlm_adm_momentum_y[0]', 'qlm_adm_momentum_z[0]', 'qlm_adm_angular_momentum_x[0]', 'qlm_adm_angular_momentum_y[0]', 'qlm_adm_angular_momentum_z[0]', 'qlm_w_energy[0]', 'qlm_w_momentum_x[0]', 'qlm_w_momentum_y[0]', 'qlm_w_momentum_z[0]', 'qlm_w_angular_momentum_x[0]', 'qlm_w_angular_momentum_y[0]', 'qlm_w_angular_momentum_z[0]']\n",
      "\n",
      "\n"
     ]
    }
   ],
   "source": [
    "print(sim.Scalar)"
   ]
  },
  {
   "cell_type": "code",
   "execution_count": 6,
   "metadata": {
    "scrolled": true
   },
   "outputs": [
    {
     "name": "stdout",
     "output_type": "stream",
     "text": [
      "Available none timeseries:\n",
      "['qlm_time[0]', 'qlm_equatorial_circumference[0]', 'qlm_polar_circumference_0[0]', 'qlm_polar_circumference_pi_2[0]', 'qlm_area[0]', 'qlm_irreducible_mass[0]', 'qlm_radius[0]', 'qlm_spin_guess[0]', 'qlm_mass_guess[0]', 'qlm_killing_eigenvalue_re[0]', 'qlm_killing_eigenvalue_im[0]', 'qlm_spin[0]', 'qlm_npspin[0]', 'qlm_wsspin[0]', 'qlm_cvspin[0]', 'qlm_coordspinx[0]', 'qlm_coordspiny[0]', 'qlm_coordspinz[0]', 'qlm_mass[0]', 'qlm_adm_energy[0]', 'qlm_adm_momentum_x[0]', 'qlm_adm_momentum_y[0]', 'qlm_adm_momentum_z[0]', 'qlm_adm_angular_momentum_x[0]', 'qlm_adm_angular_momentum_y[0]', 'qlm_adm_angular_momentum_z[0]', 'qlm_w_energy[0]', 'qlm_w_momentum_x[0]', 'qlm_w_momentum_y[0]', 'qlm_w_momentum_z[0]', 'qlm_w_angular_momentum_x[0]', 'qlm_w_angular_momentum_y[0]', 'qlm_w_angular_momentum_z[0]']\n",
      "\n",
      "{\n",
      "    \"output-0000\": [\n",
      "        \"/Users/liuyu/simulations/TOV_single_vel/output-0000/TOV_single_vel/quasilocalmeasures-qlm_scalars..asc\"\n",
      "    ]\n",
      "}\n"
     ]
    }
   ],
   "source": [
    "print(sim.Scalar.none)\n",
    "print(sim.Scalar.none['qlm_area[0]'])"
   ]
  },
  {
   "cell_type": "code",
   "execution_count": 7,
   "metadata": {
    "scrolled": true
   },
   "outputs": [
    {
     "name": "stdout",
     "output_type": "stream",
     "text": [
      "[129219.28889638 129219.27606376 129219.23624869 129219.16912215\n",
      "             nan]\n"
     ]
    }
   ],
   "source": [
    "print(sim.Scalar.none['qlm_area[0]'].y)"
   ]
  },
  {
   "cell_type": "markdown",
   "metadata": {},
   "source": [
    "### Plot"
   ]
  },
  {
   "cell_type": "markdown",
   "metadata": {},
   "source": [
    "## ASCII"
   ]
  },
  {
   "cell_type": "markdown",
   "metadata": {},
   "source": [
    "### Base information"
   ]
  },
  {
   "cell_type": "markdown",
   "metadata": {},
   "source": [
    "### Plot"
   ]
  },
  {
   "cell_type": "markdown",
   "metadata": {},
   "source": [
    "## HDF5"
   ]
  },
  {
   "cell_type": "markdown",
   "metadata": {},
   "source": [
    "### Base Information"
   ]
  },
  {
   "cell_type": "code",
   "execution_count": 8,
   "metadata": {
    "scrolled": false
   },
   "outputs": [
    {
     "name": "stdout",
     "output_type": "stream",
     "text": [
      "Available grid data of dimension x: \n",
      "[]\n",
      "\n",
      "Available grid data of dimension y: \n",
      "[]\n",
      "\n",
      "Available grid data of dimension z: \n",
      "[]\n",
      "\n",
      "Available grid data of dimension xy: \n",
      "['H', 'M1', 'M2', 'M3', 'press', 'eps', 'rho']\n",
      "\n",
      "Available grid data of dimension xz: \n",
      "['eps', 'rho', 'press', 'M1', 'M2', 'M3', 'H']\n",
      "\n",
      "Available grid data of dimension yz: \n",
      "['eps', 'rho', 'press', 'M1', 'M2', 'M3', 'H']\n",
      "\n",
      "Available grid data of dimension xyz: \n",
      "[]\n",
      "\n",
      "\n"
     ]
    }
   ],
   "source": [
    "print(sim.H5)"
   ]
  },
  {
   "cell_type": "code",
   "execution_count": 9,
   "metadata": {},
   "outputs": [
    {
     "name": "stdout",
     "output_type": "stream",
     "text": [
      "Parameters and Global Attributes\n",
      "{\n",
      "    \"output-0000\": [\n",
      "        \"/Users/liuyu/simulations/TOV_single_vel/output-0000/TOV_single_vel/hydrobase-rho.xy.h5\"\n",
      "    ]\n",
      "}\n"
     ]
    }
   ],
   "source": [
    "print(sim.H5.xy['rho'])"
   ]
  },
  {
   "cell_type": "code",
   "execution_count": 10,
   "metadata": {},
   "outputs": [
    {
     "data": {
      "text/plain": [
       "True"
      ]
     },
     "execution_count": 10,
     "metadata": {},
     "output_type": "execute_result"
    }
   ],
   "source": [
    "'H' in sim.H5.xy"
   ]
  },
  {
   "cell_type": "markdown",
   "metadata": {},
   "source": [
    "## Debug"
   ]
  },
  {
   "cell_type": "code",
   "execution_count": 13,
   "metadata": {},
   "outputs": [
    {
     "name": "stdout",
     "output_type": "stream",
     "text": [
      "['/Users/liuyu/simulations/TOV_single_vel/output-0000/TOV_single_vel/NaNmask.file_10.h5', '/Users/liuyu/simulations/TOV_single_vel/output-0000/TOV_single_vel/NaNmask.file_4.h5', '/Users/liuyu/simulations/TOV_single_vel/output-0000/TOV_single_vel/NaNmask.file_14.h5', '/Users/liuyu/simulations/TOV_single_vel/output-0000/TOV_single_vel/NaNmask.file_0.h5', '/Users/liuyu/simulations/TOV_single_vel/output-0000/TOV_single_vel/NaNmask.file_15.h5', '/Users/liuyu/simulations/TOV_single_vel/output-0000/TOV_single_vel/NaNmask.file_1.h5', '/Users/liuyu/simulations/TOV_single_vel/output-0000/TOV_single_vel/NaNmask.file_11.h5', '/Users/liuyu/simulations/TOV_single_vel/output-0000/TOV_single_vel/NaNmask.file_5.h5', '/Users/liuyu/simulations/TOV_single_vel/output-0000/TOV_single_vel/NaNmask.file_16.h5', '/Users/liuyu/simulations/TOV_single_vel/output-0000/TOV_single_vel/NaNmask.file_2.h5', '/Users/liuyu/simulations/TOV_single_vel/output-0000/TOV_single_vel/NaNmask.file_12.h5', '/Users/liuyu/simulations/TOV_single_vel/output-0000/TOV_single_vel/NaNmask.file_6.h5', '/Users/liuyu/simulations/TOV_single_vel/output-0000/TOV_single_vel/NaNmask.file_13.h5', '/Users/liuyu/simulations/TOV_single_vel/output-0000/TOV_single_vel/NaNmask.file_7.h5', '/Users/liuyu/simulations/TOV_single_vel/output-0000/TOV_single_vel/NaNmask.file_17.h5', '/Users/liuyu/simulations/TOV_single_vel/output-0000/TOV_single_vel/NaNmask.file_3.h5', '/Users/liuyu/simulations/TOV_single_vel/output-0000/TOV_single_vel/NaNmask.file_8.h5', '/Users/liuyu/simulations/TOV_single_vel/output-0000/TOV_single_vel/NaNmask.file_18.h5', '/Users/liuyu/simulations/TOV_single_vel/output-0000/TOV_single_vel/NaNmask.file_19.h5', '/Users/liuyu/simulations/TOV_single_vel/output-0000/TOV_single_vel/NaNmask.file_9.h5']\n"
     ]
    }
   ],
   "source": [
    "files = sim.Debug.files\n",
    "print(files)"
   ]
  },
  {
   "cell_type": "markdown",
   "metadata": {},
   "source": [
    "### Plot"
   ]
  },
  {
   "cell_type": "code",
   "execution_count": null,
   "metadata": {},
   "outputs": [],
   "source": []
  }
 ],
 "metadata": {
  "file_extension": ".py",
  "kernelspec": {
   "display_name": "Python 3",
   "language": "python",
   "name": "python3"
  },
  "language_info": {
   "codemirror_mode": {
    "name": "ipython",
    "version": 3
   },
   "file_extension": ".py",
   "mimetype": "text/x-python",
   "name": "python",
   "nbconvert_exporter": "python",
   "pygments_lexer": "ipython3",
   "version": "3.7.4"
  },
  "mimetype": "text/x-python",
  "name": "python",
  "npconvert_exporter": "python",
  "pygments_lexer": "ipython3",
  "toc": {
   "base_numbering": 1,
   "nav_menu": {},
   "number_sections": true,
   "sideBar": true,
   "skip_h1_title": false,
   "title_cell": "Table of Contents",
   "title_sidebar": "Contents",
   "toc_cell": false,
   "toc_position": {},
   "toc_section_display": true,
   "toc_window_display": true
  },
  "varInspector": {
   "cols": {
    "lenName": 16,
    "lenType": 16,
    "lenVar": 40
   },
   "kernels_config": {
    "python": {
     "delete_cmd_postfix": "",
     "delete_cmd_prefix": "del ",
     "library": "var_list.py",
     "varRefreshCmd": "print(var_dic_list())"
    },
    "r": {
     "delete_cmd_postfix": ") ",
     "delete_cmd_prefix": "rm(",
     "library": "var_list.r",
     "varRefreshCmd": "cat(var_dic_list()) "
    }
   },
   "types_to_exclude": [
    "module",
    "function",
    "builtin_function_or_method",
    "instance",
    "_Feature"
   ],
   "window_display": false
  },
  "version": 3
 },
 "nbformat": 4,
 "nbformat_minor": 2
}
