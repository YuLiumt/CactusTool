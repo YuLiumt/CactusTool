{
 "cells": [
  {
   "cell_type": "code",
   "execution_count": 1,
   "metadata": {},
   "outputs": [],
   "source": [
    "import sys\n",
    "\n",
    "sys.path.append('/Users/liuyu/Desktop/Pylib/nrpytutorial/NRPyPN')\n",
    "sys.path.append('/Users/liuyu/Desktop/Pylib/nrpytutorial')"
   ]
  },
  {
   "cell_type": "code",
   "execution_count": 2,
   "metadata": {},
   "outputs": [
    {
     "name": "stdout",
     "output_type": "stream",
     "text": [
      "P_t =  0.0244235190948483\n",
      "P_r =  2.90375030721975e-5\n"
     ]
    }
   ],
   "source": [
    "#### INPUT PARAMETERS:\n",
    "qmassratio = 10  # m2/m1; by convention must be >= 1\n",
    "nr         = 15.0  # Orbital separation\n",
    "# Dimensionless spin parameters of each black hole\n",
    "nchi1x     = +0.   # chi_{1x}, x-component of spin vector for black hole 1\n",
    "nchi1y     = +0.\n",
    "nchi1z     = +0.\n",
    "nchi2x     = +0.\n",
    "nchi2y     = +0.\n",
    "nchi2z     = -0.\n",
    "\n",
    "#### DON'T TOUCH; see output after running this cell.\n",
    "from NRPyPN_shortcuts import *   # NRPyPN: shortcuts for e.g., vector operations\n",
    "\n",
    "# Compute p_t, the radial component of momentum\n",
    "import PN_p_t as pt\n",
    "pt.f_p_t(m1,m2, chi1U,chi2U, r)\n",
    "\n",
    "# Compute p_r, the radial component of momentum\n",
    "import PN_p_r as pr\n",
    "pr.f_p_r(m1,m2, n12U,n21U, chi1U,chi2U, S1U,S2U, p1U,p2U, r)\n",
    "\n",
    "nPt = num_eval(pt.p_t,\n",
    "               qmassratio=qmassratio, nr=nr,\n",
    "               nchi1x=nchi1x,nchi1y=nchi1y,nchi1z=nchi1z,\n",
    "               nchi2x=nchi2x,nchi2y=nchi2y,nchi2z=nchi2z)\n",
    "\n",
    "np_r = num_eval(pr.p_r.subs(gamma_EulerMascheroni,0.5772156649015328606065120900824024310421),\n",
    "                qmassratio = qmassratio, nr=nr,\n",
    "                nchi1x=nchi1x, nchi1y=nchi1y, nchi1z=nchi1z,\n",
    "                nchi2x=nchi2x, nchi2y=nchi2y, nchi2z=nchi2z,  nPt=nPt)\n",
    "\n",
    "print(\"P_t = \",nPt)\n",
    "print(\"P_r = \",np_r)"
   ]
  },
  {
   "cell_type": "markdown",
   "metadata": {},
   "source": [
    "To produce initial data for a desired eccentricity we perturb the initial tangential momentum of the black holes by a factor $\\lambda_{t}$ from its quasicircular value. \n",
    "\n",
    "$$\\lambda_{t}\\left(r, e_{0}, \\eta, \\text { sign }\\right)=1+\\frac{e_{0}}{2} \\times \\operatorname{sign} \\times\\left[1-\\frac{1}{r}(\\eta+2)\\right]$$\n",
    "\n",
    "We compute the correction factor applied to the momentum as the mean between the inverse of the expression with the plus sign plus the expression with the minus sign, \n",
    "\n",
    "$$\n",
    "\\begin{aligned} \\bar{\\lambda}_{t}^{0}\\left(r, e_{0}, \\eta\\right) &=\\frac{1}{2}\\left[\\lambda_{t}\\left(r, e_{0}, \\eta,+1\\right)^{-1}+\\lambda_{t}\\left(r, e_{0}, \\eta,-1\\right)\\right] \\\\ &=\\frac{8 r^{2}-e_{0}^{2}(\\eta-r+2)^{2}}{4 r\\left(e_{0}(-\\eta+r-2)+2 r\\right)} \\end{aligned}\n",
    "$$"
   ]
  },
  {
   "cell_type": "code",
   "execution_count": 3,
   "metadata": {},
   "outputs": [
    {
     "name": "stdout",
     "output_type": "stream",
     "text": [
      "P_t =  0.0239877824015274\n",
      "P_r =  2.90375030721975e-5\n"
     ]
    }
   ],
   "source": [
    "def Lambda_t(r, e, eta):\n",
    "    return (8*r**2 - e**2*(eta - r +2)**2) / (4*r*(e*(-eta + r -2) + 2*r))\n",
    "\n",
    "print(\"P_t = \",nPt*Lambda_t(nr, 0.18, qmassratio))\n",
    "print(\"P_r = \",np_r)"
   ]
  },
  {
   "cell_type": "code",
   "execution_count": 69,
   "metadata": {},
   "outputs": [
    {
     "data": {
      "image/png": "[encoded data removed]",
      "text/plain": [
       "<Figure size 432x288 with 2 Axes>"
      ]
     },
     "metadata": {
      "needs_background": "light"
     },
     "output_type": "display_data"
    }
   ],
   "source": [
    "import matplotlib.pyplot as plt\n",
    "import numpy as np\n",
    "\n",
    "fig = plt.figure()\n",
    "ax1 = fig.add_subplot(121)\n",
    "ax2 = fig.add_subplot(122, projection='polar')\n",
    "ax2.set_thetamin(0.0) \n",
    "ax2.set_thetamax(90.0)\n",
    "\n",
    "x = np.array([1, 5, 10])\n",
    "y = np.array([0, 0.3, 0.6])\n",
    "\n",
    "mass_ratio, eccentricity = np.meshgrid(x, y)\n",
    "ax1.plot(mass_ratio, eccentricity, 'k.')\n",
    "\n",
    "r = np.array([0, 0.3, 0.6])\n",
    "theta = np.array([0, 0.25*np.pi, 0.5*np.pi])\n",
    "\n",
    "chi_p, chi_eff = np.meshgrid(theta, r)\n",
    "ax2.plot(chi_p, chi_eff, 'k.')\n",
    "\n",
    "plt.show()"
   ]
  },
  {
   "cell_type": "code",
   "execution_count": null,
   "metadata": {},
   "outputs": [],
   "source": []
  }
 ],
 "metadata": {
  "kernelspec": {
   "display_name": "Python 3",
   "language": "python",
   "name": "python3"
  },
  "language_info": {
   "codemirror_mode": {
    "name": "ipython",
    "version": 3
   },
   "file_extension": ".py",
   "mimetype": "text/x-python",
   "name": "python",
   "nbconvert_exporter": "python",
   "pygments_lexer": "ipython3",
   "version": "3.8.5"
  }
 },
 "nbformat": 4,
 "nbformat_minor": 4
}
