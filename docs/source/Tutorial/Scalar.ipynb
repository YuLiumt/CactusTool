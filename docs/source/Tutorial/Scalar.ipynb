{
 "cells": [
  {
   "cell_type": "code",
   "execution_count": 12,
   "metadata": {},
   "outputs": [
    {
     "data": {
      "application/vnd.jupyter.widget-view+json": {
       "model_id": "f6686298e117482fbbd4f029736dff53",
       "version_major": 2,
       "version_minor": 0
      },
      "text/plain": [
       "VBox(children=(Label(value='Scalar:'), HBox(children=(Dropdown(description='File type:', options=('maximum', '…"
      ]
     },
     "metadata": {},
     "output_type": "display_data"
    }
   ],
   "source": [
    "import ipywidgets as widgets\n",
    "from ipywidgets import interactive_output, HBox, VBox\n",
    "from CactusTool import TimeSeries\n",
    "import matplotlib.pyplot as plt\n",
    "import CactusTool\n",
    "\n",
    "# name = 'BBH001'\n",
    "name = 'BBH003'\n",
    "# sim = CactusTool.load(name, '/Volumes/simulations/')\n",
    "sim = CactusTool.load(name, '/Users/liuyu/Desktop/Remote')\n",
    "\n",
    "chapter = widgets.Label(value='Scalar:')\n",
    "\n",
    "ftype_item = widgets.Dropdown(description='File type:', value='maximum', options=['maximum', 'minimum',  'norm1', 'norm2', 'average', ''])\n",
    "dsets = sim.Scalar(ftype='maximum')\n",
    "fname = list(dsets.fname)\n",
    "fname_item = widgets.Dropdown(description='File name:', options=fname)\n",
    "def update_fname_item(*args):\n",
    "    fname_item.options = sim.Scalar(ftype_item.value).fname\n",
    "ftype_item.observe(update_fname_item, 'value')\n",
    "var = dsets[fname[0]].vars\n",
    "var_item = widgets.Dropdown(description='Variable:', options=var)\n",
    "def update_var_item(*args):\n",
    "    var_item.options = sim.Scalar(ftype_item.value)[fname_item.value].vars\n",
    "fname_item.observe(update_var_item, 'value')\n",
    "\n",
    "def execute(ftyoe, fname, var):\n",
    "    p = sim.Scalar(ftyoe)[fname].dsets(var)\n",
    "    fig, ax = plt.subplots(figsize=(10,4))\n",
    "    TimeSeries(ax, p)\n",
    "    ax.set_title(var)\n",
    "    plt.rcParams['xtick.direction'] = 'in'\n",
    "    plt.rcParams['ytick.direction'] = 'in'\n",
    "    plt.show()\n",
    "\n",
    "output = interactive_output(execute, \n",
    "                            {\n",
    "                                'ftyoe': ftype_item,\n",
    "                                'fname': fname_item,\n",
    "                                'var': var_item,\n",
    "                            })\n",
    "    \n",
    "VBox([\n",
    "    chapter,\n",
    "    HBox([\n",
    "        ftype_item,\n",
    "        fname_item,\n",
    "        var_item,\n",
    "    ]),\n",
    "    output,\n",
    "])"
   ]
  },
  {
   "cell_type": "code",
   "execution_count": 23,
   "metadata": {},
   "outputs": [
    {
     "data": {
      "text/plain": [
       "<matplotlib.legend.Legend at 0x126b6f8b0>"
      ]
     },
     "execution_count": 23,
     "metadata": {},
     "output_type": "execute_result"
    },
    {
     "data": {
      "image/png": "[encoded data removed]",
      "text/plain": [
       "<Figure size 432x288 with 1 Axes>"
      ]
     },
     "metadata": {
      "needs_background": "light"
     },
     "output_type": "display_data"
    }
   ],
   "source": [
    "import numpy as np\n",
    "lin_data = np.genfromtxt(\"/Users/liuyu/Desktop/Remote/tov_ET/output-0000/static_tov/hydrobase-rho.maximum.asc\")\n",
    "plt.plot(lin_data[:,1],lin_data[:,2]/lin_data[0,2], label=\"central density\")\n",
    "plt.xlabel(r'$t$ [$M_{\\odot}$]')\n",
    "plt.ylabel(r'$\\rho_c / \\rho_c(0)$')\n",
    "plt.legend()"
   ]
  },
  {
   "cell_type": "code",
   "execution_count": 10,
   "metadata": {},
   "outputs": [
    {
     "name": "stdout",
     "output_type": "stream",
     "text": [
      "\u001b[1m\u001b[36mBBH001\u001b[m\u001b[m     \u001b[1m\u001b[36mBBH001Lev2\u001b[m\u001b[m \u001b[1m\u001b[36mBBH003\u001b[m\u001b[m     \u001b[1m\u001b[36mGW150914\u001b[m\u001b[m   \u001b[1m\u001b[36mhelloworld\u001b[m\u001b[m \u001b[1m\u001b[36mtov_ET\u001b[m\u001b[m\r\n",
      "\u001b[1m\u001b[36mBBH001Lev1\u001b[m\u001b[m \u001b[1m\u001b[36mBBH001Lev3\u001b[m\u001b[m \u001b[1m\u001b[36mCACHE\u001b[m\u001b[m      \u001b[1m\u001b[36mTRASH\u001b[m\u001b[m      \u001b[1m\u001b[36mmytests\u001b[m\u001b[m\r\n"
     ]
    }
   ],
   "source": [
    "! ls /Users/liuyu/Desktop/Remote"
   ]
  },
  {
   "cell_type": "code",
   "execution_count": null,
   "metadata": {},
   "outputs": [],
   "source": []
  }
 ],
 "metadata": {
  "kernelspec": {
   "display_name": "Python 3",
   "language": "python",
   "name": "python3"
  },
  "language_info": {
   "codemirror_mode": {
    "name": "ipython",
    "version": 3
   },
   "file_extension": ".py",
   "mimetype": "text/x-python",
   "name": "python",
   "nbconvert_exporter": "python",
   "pygments_lexer": "ipython3",
   "version": "3.8.5"
  }
 },
 "nbformat": 4,
 "nbformat_minor": 4
}
