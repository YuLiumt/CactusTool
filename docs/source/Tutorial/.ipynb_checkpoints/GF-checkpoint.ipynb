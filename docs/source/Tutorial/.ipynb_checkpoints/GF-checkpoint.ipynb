{
 "cells": [
  {
   "cell_type": "markdown",
   "metadata": {},
   "source": [
    "## HDF5"
   ]
  },
  {
   "cell_type": "code",
   "execution_count": 13,
   "metadata": {},
   "outputs": [
    {
     "name": "stdout",
     "output_type": "stream",
     "text": [
      "{'phi', 'z', 'y', 'r', 'Psi4i', 'alpha', 'x', 'trK', 'Psi4r'}\n"
     ]
    }
   ],
   "source": [
    "import CactusTool\n",
    "\n",
    "name = 'BBH001_nonprecessing'\n",
    "sim = CactusTool.load(name, '/Volumes/simulations/HUST_error')\n",
    "# dim include ['x', 'y', 'z', 'xy', 'xz', 'yz', 'xyz']\n",
    "dim = 'xy'\n",
    "ftype = 'h5'\n",
    "print(sim.GF(dim, ftype).fname)"
   ]
  },
  {
   "cell_type": "code",
   "execution_count": 14,
   "metadata": {},
   "outputs": [
    {
     "name": "stdout",
     "output_type": "stream",
     "text": [
      "Var:\n",
      " {'phi'}\n",
      "iteration:\n",
      " {0, 1024, 12288, 10240, 11264, 2048, 3072, 4096, 5120, 6144, 7168, 8192, 9216}\n",
      "hierarchy:\n",
      " {0: set(), 1: {0, 2, 3, 4, 5, 6, 7, 8, 9, 10, 11, 12}, 2: {0, 2, 3, 4, 5, 6, 7, 8, 9, 10, 11, 12}, 3: {0, 1, 2, 3, 4, 5, 6, 7, 8, 9, 10, 11, 12}, 4: {0, 1, 2, 3, 4, 5, 6, 7, 8, 9, 10, 11, 12}, 5: {0, 1, 2, 3, 4, 5, 6, 7, 8, 9, 10, 11, 12}, 6: {0, 2, 3, 4, 5, 7, 8, 9, 11, 12}, 7: {0, 2, 3, 4, 5, 7, 8, 9, 11, 12}, 8: {0, 2, 4, 5, 7, 8, 9, 11, 12}}\n"
     ]
    }
   ],
   "source": [
    "GF = sim.GF(dim, ftype)['phi']\n",
    "print(\"Var:\\n\", GF.vars)\n",
    "print(\"iteration:\\n\", GF.it)\n",
    "print(\"hierarchy:\\n\", GF.hierarchy)"
   ]
  },
  {
   "cell_type": "code",
   "execution_count": 34,
   "metadata": {},
   "outputs": [
    {
     "data": {
      "text/plain": [
       "<matplotlib.colorbar.Colorbar at 0x11f8ee5e0>"
      ]
     },
     "execution_count": 34,
     "metadata": {},
     "output_type": "execute_result"
    },
    {
     "data": {
      "image/png": "[encoded data removed]",
      "text/plain": [
       "<Figure size 432x288 with 2 Axes>"
      ]
     },
     "metadata": {
      "needs_background": "light"
     },
     "output_type": "display_data"
    }
   ],
   "source": [
    "from CactusTool.Visualize import pcolormesh\n",
    "import matplotlib.pyplot as plt\n",
    "\n",
    "p = GF.dsets('phi', 9216, -1, -1)\n",
    "time = list(p.keys())\n",
    "fig, ax = plt.subplots()\n",
    "ax.set_xlabel('x')\n",
    "ax.set_ylabel('y')\n",
    "ax.set_title(\"Time: {}\".format(time[0]))\n",
    "im = pcolormesh(ax, p[time[0]])\n",
    "fig.colorbar(im, ax=ax)"
   ]
  },
  {
   "cell_type": "markdown",
   "metadata": {},
   "source": [
    "## ASCII"
   ]
  },
  {
   "cell_type": "code",
   "execution_count": 4,
   "metadata": {},
   "outputs": [
    {
     "ename": "AssertionError",
     "evalue": "nsnstohmns don't have 'x' dim in '.asc' ftype",
     "output_type": "error",
     "traceback": [
      "\u001b[0;31m---------------------------------------------------------------------------\u001b[0m",
      "\u001b[0;31mAssertionError\u001b[0m                            Traceback (most recent call last)",
      "\u001b[0;32m<ipython-input-4-c1330f8b7712>\u001b[0m in \u001b[0;36m<module>\u001b[0;34m\u001b[0m\n\u001b[1;32m      6\u001b[0m \u001b[0mdim\u001b[0m \u001b[0;34m=\u001b[0m \u001b[0;34m'x'\u001b[0m\u001b[0;34m\u001b[0m\u001b[0;34m\u001b[0m\u001b[0m\n\u001b[1;32m      7\u001b[0m \u001b[0mftype\u001b[0m \u001b[0;34m=\u001b[0m \u001b[0;34m'asc'\u001b[0m\u001b[0;34m\u001b[0m\u001b[0;34m\u001b[0m\u001b[0m\n\u001b[0;32m----> 8\u001b[0;31m \u001b[0mprint\u001b[0m\u001b[0;34m(\u001b[0m\u001b[0msim\u001b[0m\u001b[0;34m.\u001b[0m\u001b[0mGF\u001b[0m\u001b[0;34m(\u001b[0m\u001b[0mdim\u001b[0m\u001b[0;34m,\u001b[0m \u001b[0mftype\u001b[0m\u001b[0;34m)\u001b[0m\u001b[0;34m.\u001b[0m\u001b[0mfname\u001b[0m\u001b[0;34m)\u001b[0m\u001b[0;34m\u001b[0m\u001b[0;34m\u001b[0m\u001b[0m\n\u001b[0m\u001b[1;32m      9\u001b[0m \u001b[0;31m# GF = sim.GF(dim, ftype)['rho']\u001b[0m\u001b[0;34m\u001b[0m\u001b[0;34m\u001b[0m\u001b[0;34m\u001b[0m\u001b[0m\n\u001b[1;32m     10\u001b[0m \u001b[0;31m# print(GF.vars)\u001b[0m\u001b[0;34m\u001b[0m\u001b[0;34m\u001b[0m\u001b[0;34m\u001b[0m\u001b[0m\n",
      "\u001b[0;32m~/Desktop/CactusTool/CactusTool/main.py\u001b[0m in \u001b[0;36mGF\u001b[0;34m(self, dim, ftype)\u001b[0m\n\u001b[1;32m     77\u001b[0m         \u001b[0;32melse\u001b[0m\u001b[0;34m:\u001b[0m\u001b[0;34m\u001b[0m\u001b[0;34m\u001b[0m\u001b[0m\n\u001b[1;32m     78\u001b[0m             \u001b[0mfileList\u001b[0m \u001b[0;34m=\u001b[0m \u001b[0mglob\u001b[0m\u001b[0;34m.\u001b[0m\u001b[0mglob\u001b[0m\u001b[0;34m(\u001b[0m\u001b[0mself\u001b[0m\u001b[0;34m.\u001b[0m\u001b[0msimpath\u001b[0m\u001b[0;34m+\u001b[0m\u001b[0mos\u001b[0m\u001b[0;34m.\u001b[0m\u001b[0mpath\u001b[0m\u001b[0;34m.\u001b[0m\u001b[0msep\u001b[0m\u001b[0;34m+\u001b[0m\u001b[0;34m'*.{}.*{}'\u001b[0m\u001b[0;34m.\u001b[0m\u001b[0mformat\u001b[0m\u001b[0;34m(\u001b[0m\u001b[0mdim\u001b[0m\u001b[0;34m,\u001b[0m \u001b[0mftype\u001b[0m\u001b[0;34m)\u001b[0m\u001b[0;34m)\u001b[0m\u001b[0;34m\u001b[0m\u001b[0;34m\u001b[0m\u001b[0m\n\u001b[0;32m---> 79\u001b[0;31m         \u001b[0;32massert\u001b[0m \u001b[0mbool\u001b[0m\u001b[0;34m(\u001b[0m\u001b[0mfileList\u001b[0m\u001b[0;34m)\u001b[0m\u001b[0;34m,\u001b[0m \u001b[0;34m\"{} don't have '{}' dim in '.{}' ftype\"\u001b[0m\u001b[0;34m.\u001b[0m\u001b[0mformat\u001b[0m\u001b[0;34m(\u001b[0m\u001b[0mself\u001b[0m\u001b[0;34m.\u001b[0m\u001b[0msimname\u001b[0m\u001b[0;34m,\u001b[0m \u001b[0mdim\u001b[0m\u001b[0;34m,\u001b[0m \u001b[0mftype\u001b[0m\u001b[0;34m)\u001b[0m\u001b[0;34m\u001b[0m\u001b[0;34m\u001b[0m\u001b[0m\n\u001b[0m\u001b[1;32m     80\u001b[0m         \u001b[0;32mreturn\u001b[0m \u001b[0mCarpetGF\u001b[0m\u001b[0;34m(\u001b[0m\u001b[0mfileList\u001b[0m\u001b[0;34m,\u001b[0m \u001b[0mdim\u001b[0m\u001b[0;34m,\u001b[0m \u001b[0mftype\u001b[0m\u001b[0;34m)\u001b[0m\u001b[0;34m\u001b[0m\u001b[0;34m\u001b[0m\u001b[0m\n\u001b[1;32m     81\u001b[0m \u001b[0;34m\u001b[0m\u001b[0m\n",
      "\u001b[0;31mAssertionError\u001b[0m: nsnstohmns don't have 'x' dim in '.asc' ftype"
     ]
    }
   ],
   "source": [
    "import CactusTool\n",
    "\n",
    "name = 'nsnstohmns'\n",
    "sim = CactusTool.load(name, '/Volumes/simulations/')\n",
    "# dim include ['x', 'y', 'z', 'xy', 'xz', 'yz', 'xyz']\n",
    "dim = 'x'\n",
    "ftype = 'asc'\n",
    "print(sim.GF(dim, ftype).fname)\n",
    "# GF = sim.GF(dim, ftype)['rho']\n",
    "# print(GF.vars)"
   ]
  },
  {
   "cell_type": "code",
   "execution_count": null,
   "metadata": {},
   "outputs": [],
   "source": []
  }
 ],
 "metadata": {
  "kernelspec": {
   "display_name": "Python 3",
   "language": "python",
   "name": "python3"
  },
  "language_info": {
   "codemirror_mode": {
    "name": "ipython",
    "version": 3
   },
   "file_extension": ".py",
   "mimetype": "text/x-python",
   "name": "python",
   "nbconvert_exporter": "python",
   "pygments_lexer": "ipython3",
   "version": "3.8.5"
  },
  "widgets": {
   "application/vnd.jupyter.widget-state+json": {
    "state": {},
    "version_major": 2,
    "version_minor": 0
   }
  }
 },
 "nbformat": 4,
 "nbformat_minor": 4
}
