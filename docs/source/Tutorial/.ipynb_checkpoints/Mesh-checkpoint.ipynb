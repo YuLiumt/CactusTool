{
 "cells": [
  {
   "cell_type": "code",
   "execution_count": 1,
   "metadata": {},
   "outputs": [
    {
     "name": "stdout",
     "output_type": "stream",
     "text": [
      "{'x', 'eps', 'alp', 'H', 'z', 'gxy', 'betay', 'gzz', 'gyz', 'betaz', 'gyy', 'gxz', 'rho', 'weight', 'r', 'y', 'gxx', 'betax'}\n"
     ]
    }
   ],
   "source": [
    "import ipywidgets as widgets\n",
    "from ipywidgets import interactive_output, HBox, VBox\n",
    "# from IPython.display import clear_output\n",
    "import matplotlib.pyplot as plt\n",
    "from CactusTool import pcolormesh\n",
    "import CactusTool\n",
    "\n",
    "name = 'nsnstohmns'\n",
    "sim = CactusTool.load(name, basedir='/Volumes/simulations/')\n",
    "# sim = CactusTool.load(name, '/Users/liuyu/Desktop/Remote/')\n",
    "print(sim.GF('xy', 'h5').fname)\n",
    "# alpha = sim.GF('xy', 'h5')['alpha']\n",
    "# alpha.it\n",
    "# it = Psi4r.it\n",
    "# it_item = widgets.Play(description='it:', value=0, min=it[0], max=it[-1], step=it[1] - it[0], interval=2000, disabled=False)\n",
    "# slider = widgets.IntSlider(min=it[0], max=it[-1], step=it[1] - it[0])\n",
    "# widgets.jslink((it_item, 'value'), (slider, 'value'))\n",
    "\n",
    "# def execute(it):\n",
    "#     p = Psi4r.dsets('Psi4r', it)\n",
    "#     fig, ax = plt.subplots()\n",
    "#     ax.set_xlabel('x')\n",
    "#     ax.set_ylabel('y')\n",
    "#     ax.set_xlim(-10, 10)\n",
    "#     ax.set_ylim(-10, 10)\n",
    "#     ax.set_title(\"Time: {}\".format(p[0][0]['time']))\n",
    "#     im = pcolormesh(ax, p)\n",
    "#     fig.colorbar(im, ax=ax)\n",
    "   \n",
    "# output = interactive_output(execute, \n",
    "#                             {\n",
    "#                                 'it': it_item,\n",
    "#                             })\n",
    "\n",
    "    \n",
    "# VBox([\n",
    "#     output,\n",
    "#     HBox([it_item, slider])\n",
    "# ])"
   ]
  },
  {
   "cell_type": "code",
   "execution_count": null,
   "metadata": {},
   "outputs": [],
   "source": []
  }
 ],
 "metadata": {
  "kernelspec": {
   "display_name": "Python 3",
   "language": "python",
   "name": "python3"
  },
  "language_info": {
   "codemirror_mode": {
    "name": "ipython",
    "version": 3
   },
   "file_extension": ".py",
   "mimetype": "text/x-python",
   "name": "python",
   "nbconvert_exporter": "python",
   "pygments_lexer": "ipython3",
   "version": "3.8.5"
  },
  "widgets": {
   "application/vnd.jupyter.widget-state+json": {
    "state": {},
    "version_major": 2,
    "version_minor": 0
   }
  }
 },
 "nbformat": 4,
 "nbformat_minor": 4
}
