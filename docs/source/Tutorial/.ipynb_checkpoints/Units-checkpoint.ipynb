{
 "cells": [
  {
   "cell_type": "markdown",
   "metadata": {},
   "source": [
    "All computations have been done in normalized **computational units** (hereafter denoted as CU) in which $c=G=M_{\\odot}=1$."
   ]
  },
  {
   "cell_type": "code",
   "execution_count": 2,
   "metadata": {
    "scrolled": true
   },
   "outputs": [
    {
     "name": "stdout",
     "output_type": "stream",
     "text": [
      "Simulations with resolution: 415.3007919515976 m\n",
      "The outer boundary of the grid is set at: 850.536021916872 km\n"
     ]
    }
   ],
   "source": [
    "from CactusTool import Units\n",
    "dx = 0.28125\n",
    "xmax = 576\n",
    "print('Simulations with resolution: {} m'.format(dx * Units('m')))\n",
    "print('The outer boundary of the grid is set at: {} km'.format(xmax * Units('km')))"
   ]
  },
  {
   "cell_type": "code",
   "execution_count": 8,
   "metadata": {},
   "outputs": [],
   "source": [
    "import numpy as np\n",
    "import math\n",
    "import re\n",
    "\n",
    "_subs_re = [\n",
    "    (\"\\N{DEGREE SIGN}\", \" degree\"),\n",
    "    (r\"([\\w\\.\\-\\+\\*\\\\\\^])\\s+\", r\"\\1 \"),  # merge multiple spaces\n",
    "    (r\"({}) squared\", r\"\\1**2\"),  # Handle square and cube\n",
    "    (r\"({}) cubed\", r\"\\1**3\"),\n",
    "    (r\"cubic ({})\", r\"\\1**3\"),\n",
    "    (r\"square ({})\", r\"\\1**2\"),\n",
    "    (r\"sq ({})\", r\"\\1**2\"),\n",
    "    (\n",
    "        r\"\\b([0-9]+\\.?[0-9]*)(?=[e|E][a-zA-Z]|[a-df-zA-DF-Z])\",\n",
    "        r\"\\1*\",\n",
    "    ),  # Handle numberLetter for multiplication\n",
    "    (r\"([\\w\\.\\-])\\s+(?=\\w)\", r\"\\1*\"),  # Handle space for multiplication\n",
    "]\n",
    "\n",
    "#: Compiles the regex and replace {} by a regex that matches an identifier.\n",
    "_subs_re = [(re.compile(a.format(r\"[_a-zA-Z][_a-zA-Z0-9]*\")), b) for a, b in _subs_re]\n",
    "\n",
    "ms = 10\n",
    "def units(input_string):\n",
    "    \"\"\"\n",
    "    Parse a units expression. \n",
    "    \n",
    "    The expression can only contain products, ratios and powers of units.\n",
    "    \n",
    "    :param str input_string: units expression\n",
    "    \"\"\"\n",
    "    # Sanitize input_string with whitespaces.\n",
    "    input_string = input_string.strip()\n",
    "    \n",
    "    for a, b in _subs_re:\n",
    "        input_string = a.sub(b, input_string)\n",
    "        \n",
    "    # Handle caret exponentiation\n",
    "    input_string = input_string.replace(\"^\", \"**\")\n",
    "    \n",
    "#     return eval(input_string)\n",
    "    return input_string"
   ]
  },
  {
   "cell_type": "code",
   "execution_count": 98,
   "metadata": {
    "scrolled": true
   },
   "outputs": [
    {
     "name": "stdout",
     "output_type": "stream",
     "text": [
      "ok\n"
     ]
    },
    {
     "data": {
      "text/plain": [
       "'2.3e-4*kg*m / s **2'"
      ]
     },
     "execution_count": 98,
     "metadata": {},
     "output_type": "execute_result"
    }
   ],
   "source": [
    "input_string = ' 2.3e-4 kg m   /  s ^2'\n",
    "input_string = input_string.strip()\n",
    "if input_string[0].isdigit():\n",
    "    \n",
    "    input_string = \n",
    "input_string = re.compile(r\"([\\w\\.\\-\\+\\*\\\\\\^/])\\s+\").sub(r\"\\1 \", input_string) # merge multiple spaces\n",
    "input_string = re.compile(r\"([\\w\\.\\-])\\s+(?=\\w)\").sub(r\"\\1*\", input_string) # Handle space for multiplication\n",
    "\n",
    "input_string = input_string.replace(\"^\", \"**\")\n",
    "input_string"
   ]
  },
  {
   "cell_type": "code",
   "execution_count": 133,
   "metadata": {},
   "outputs": [
    {
     "data": {
      "text/plain": [
       "('2.3e+4', 'kg m   /  s ^2')"
      ]
     },
     "execution_count": 133,
     "metadata": {},
     "output_type": "execute_result"
    }
   ],
   "source": [
    "input_string = ' 2.3e+4 kg m   /  s ^2 '\n",
    "input_string = input_string.strip()\n",
    "p = re.compile(r'([\\d\\.eE\\-\\+]+)\\s+(.*)')\n",
    "p.match(input_string).groups()"
   ]
  },
  {
   "cell_type": "code",
   "execution_count": 95,
   "metadata": {},
   "outputs": [
    {
     "data": {
      "text/plain": [
       "0.00011"
      ]
     },
     "execution_count": 95,
     "metadata": {},
     "output_type": "execute_result"
    }
   ],
   "source": [
    "1.1e-4"
   ]
  },
  {
   "cell_type": "code",
   "execution_count": null,
   "metadata": {},
   "outputs": [],
   "source": []
  }
 ],
 "metadata": {
  "kernelspec": {
   "display_name": "Python 3",
   "language": "python",
   "name": "python3"
  },
  "language_info": {
   "codemirror_mode": {
    "name": "ipython",
    "version": 3
   },
   "file_extension": ".py",
   "mimetype": "text/x-python",
   "name": "python",
   "nbconvert_exporter": "python",
   "pygments_lexer": "ipython3",
   "version": "3.7.3"
  }
 },
 "nbformat": 4,
 "nbformat_minor": 2
}
