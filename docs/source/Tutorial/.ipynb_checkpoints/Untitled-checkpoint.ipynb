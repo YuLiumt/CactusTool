{
 "cells": [
  {
   "cell_type": "code",
   "execution_count": 1,
   "metadata": {},
   "outputs": [],
   "source": [
    "import CactusTool\n",
    "\n",
    "name = 'BBH0000_D20/'\n",
    "sim = CactusTool.load(name, basedir='/Volumes/simulations/HUST_Catalog')"
   ]
  },
  {
   "cell_type": "code",
   "execution_count": 2,
   "metadata": {},
   "outputs": [
    {
     "data": {
      "text/plain": [
       "['/Volumes/simulations/HUST_Catalog/BBH0000_D20/output-0000/BBH0000_D20/ml_admconstraints-ml_ham.maximum.asc',\n",
       " '/Volumes/simulations/HUST_Catalog/BBH0000_D20/output-0000/BBH0000_D20/ml_admconstraints-ml_mom.maximum.asc',\n",
       " '/Volumes/simulations/HUST_Catalog/BBH0000_D20/output-0000/BBH0000_D20/systemstatistics-process_memory_mb.maximum.asc']"
      ]
     },
     "execution_count": 2,
     "metadata": {},
     "output_type": "execute_result"
    }
   ],
   "source": [
    "sim.Scalar('maximum')[]"
   ]
  },
  {
   "cell_type": "code",
   "execution_count": 3,
   "metadata": {},
   "outputs": [
    {
     "name": "stdout",
     "output_type": "stream",
     "text": [
      "Reduction type: 'norm1'\n",
      "File Name                          Variables\n",
      "---------                          ---------\n",
      "\u001b[1msystemstatistics-process_memory_mb\u001b[0m ['maxrss_mb', 'majflt_mb', 'arena_mb', 'ordblks_mb', 'hblks_mb', 'hblkhd_mb', 'uordblks_mb', 'fordblks_mb', 'keepcost_mb', 'swap_used_mb']\n",
      "\u001b[1mml_admconstraints-ml_mom          \u001b[0m ['M1', 'M2', 'M3']\n",
      "\u001b[1mml_admconstraints-ml_ham          \u001b[0m ['H']\n",
      "\n"
     ]
    }
   ],
   "source": [
    "print(sim.Scalar('norm1'))"
   ]
  },
  {
   "cell_type": "code",
   "execution_count": null,
   "metadata": {},
   "outputs": [],
   "source": []
  }
 ],
 "metadata": {
  "kernelspec": {
   "display_name": "Python 3",
   "language": "python",
   "name": "python3"
  },
  "language_info": {
   "codemirror_mode": {
    "name": "ipython",
    "version": 3
   },
   "file_extension": ".py",
   "mimetype": "text/x-python",
   "name": "python",
   "nbconvert_exporter": "python",
   "pygments_lexer": "ipython3",
   "version": "3.8.5"
  }
 },
 "nbformat": 4,
 "nbformat_minor": 4
}
