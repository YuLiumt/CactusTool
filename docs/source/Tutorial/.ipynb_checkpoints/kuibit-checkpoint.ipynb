{
 "cells": [
  {
   "cell_type": "code",
   "execution_count": 1,
   "metadata": {},
   "outputs": [],
   "source": [
    "import kuibit.simdir as sd\n",
    "\n",
    "sim = sd.SimDir(\"/Volumes/simulations/HUST_Catalog/BBH0000_D20\")"
   ]
  },
  {
   "cell_type": "code",
   "execution_count": 8,
   "metadata": {},
   "outputs": [],
   "source": [
    "gws = sim.gws\n",
    "gw_r500 = gws[500]\n",
    "psi4_22 = gw_r500[(2, 2)]"
   ]
  },
  {
   "cell_type": "code",
   "execution_count": 20,
   "metadata": {},
   "outputs": [],
   "source": [
    "import numpy as np\n",
    "h = gw_r500.get_strain_lm(2, 2, 0.15322990017275756/(2*np.pi))"
   ]
  },
  {
   "cell_type": "code",
   "execution_count": 21,
   "metadata": {},
   "outputs": [
    {
     "name": "stderr",
     "output_type": "stream",
     "text": [
      "/usr/local/lib/python3.8/site-packages/numpy/core/_asarray.py:83: ComplexWarning: Casting complex values to real discards the imaginary part\n",
      "  return array(a, dtype, copy=False, order=order)\n"
     ]
    },
    {
     "data": {
      "text/plain": [
       "[<matplotlib.lines.Line2D at 0x12259c3a0>]"
      ]
     },
     "execution_count": 21,
     "metadata": {},
     "output_type": "execute_result"
    },
    {
     "data": {
      "image/png": "[encoded data removed]",
      "text/plain": [
       "<Figure size 432x288 with 1 Axes>"
      ]
     },
     "metadata": {
      "needs_background": "light"
     },
     "output_type": "display_data"
    }
   ],
   "source": [
    "import matplotlib.pyplot as plt\n",
    "plt.plot(h.x, h.y)"
   ]
  },
  {
   "cell_type": "code",
   "execution_count": 14,
   "metadata": {},
   "outputs": [
    {
     "name": "stdout",
     "output_type": "stream",
     "text": [
      "Help on method get_strain_lm in module kuibit.cactus_waves:\n",
      "\n",
      "get_strain_lm(mult_l, mult_m, pcut, *args, window_function=None, trim_ends=True, **kwargs) method of kuibit.cactus_waves.GravitationalWavesOneDet instance\n",
      "    Return the strain associated to the multipolar component (l, m).\n",
      "    \n",
      "    The strain returned is multiplied by the distance.\n",
      "    The strain is extracted from the Weyl Scalar using the formula\n",
      "    \n",
      "    .. math::\n",
      "    \n",
      "         h_+^{lm}(r,t)\n",
      "         -     i h_\\times^{lm}(r,t) = \\int_{-\\infty}^t \\mathrm{d}u\n",
      "                \\int_{-\\infty}^u \\mathrm{d}v\\, \\Psi_4^{lm}(r,v)\n",
      "    \n",
      "    The return value is the complex :py:class:`~.TimeSeries` ``(r * h_plus + i r * h_cross)``.\n",
      "    \n",
      "    It is always important to have a function that goes smoothly to zero\n",
      "    before taking Fourier transform (to avoid spectral leakage and\n",
      "    aliasing). You can pass the ``window_function`` to apply as a parameter.\n",
      "    If ``window_function`` is None, no tapering is performed. If\n",
      "    ``window_function`` is a function, it has to be a function that takes as\n",
      "    first argument the length of the array and returns a new array with the\n",
      "    same length that is to be multiplied to the data (this is how SciPy's\n",
      "    windows work) If ``window_function`` is a string, use the method with\n",
      "    corresponding name from the :py:class:`~.TimeSeries` class. You must\n",
      "    only provide the name (e.g, 'tukey' will call 'tukey_windowed').\n",
      "    Optional arguments to the window function can be passed directly to this\n",
      "    function.\n",
      "    \n",
      "    ``pcut`` is the period associated to the angular velocity that enters in\n",
      "    the fixed frequency integration (``omega_th = 2 pi / pcut``). In\n",
      "    general, a wise choise is to pick the longest physical period in the\n",
      "    signal.\n",
      "    \n",
      "    Optionally, remove part of the output signal at both the beginning and\n",
      "    the end. If ``trim_ends`` is True, ``pcut`` is removed. This is because\n",
      "    those parts of the signal are typically not very accurate.\n",
      "    \n",
      "    :param mult_l: Multipolar component l.\n",
      "    :type mult_l: int\n",
      "    :param mult_m: Multipolar component m.\n",
      "    :type mult_m: int\n",
      "    :param pcut: Period that enters the fixed-frequency integration.\n",
      "                 Typically, the longest physical period in the signal.\n",
      "    :type pcut: float\n",
      "    :param window_function: If not None, apply window_function to the\n",
      "                            series before computing the strain.\n",
      "    :type window_function: callable, str, or None\n",
      "    :param trim_ends: If True, a portion of the resulting strain is removed\n",
      "                      at both the initial and final times. The amount removed\n",
      "                      is equal to pcut.\n",
      "    :type trim_ends: bool\n",
      "    \n",
      "    :returns: :math:`r (h^+ - i rh^\\times)`\n",
      "    :rtype: :py:class:`~.TimeSeries`\n",
      "\n"
     ]
    }
   ],
   "source": [
    "help(gw_r500.get_strain_lm)"
   ]
  },
  {
   "cell_type": "code",
   "execution_count": null,
   "metadata": {},
   "outputs": [],
   "source": []
  }
 ],
 "metadata": {
  "kernelspec": {
   "display_name": "Python 3",
   "language": "python",
   "name": "python3"
  },
  "language_info": {
   "codemirror_mode": {
    "name": "ipython",
    "version": 3
   },
   "file_extension": ".py",
   "mimetype": "text/x-python",
   "name": "python",
   "nbconvert_exporter": "python",
   "pygments_lexer": "ipython3",
   "version": "3.8.5"
  }
 },
 "nbformat": 4,
 "nbformat_minor": 4
}
