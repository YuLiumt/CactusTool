{
 "cells": [
  {
   "cell_type": "markdown",
   "metadata": {},
   "source": [
    "## TimeSeries"
   ]
  },
  {
   "cell_type": "code",
   "execution_count": 5,
   "metadata": {},
   "outputs": [],
   "source": [
    "from CactusTool import TimeSeries\n",
    "import numpy as np\n",
    "\n",
    "t = np.linspace(0, 2 * np.pi, 101)\n",
    "y = np.sin(t)+1j*np.cos(t)\n",
    "ts = TimeSeries(t, y, CU=False)"
   ]
  },
  {
   "cell_type": "code",
   "execution_count": 6,
   "metadata": {},
   "outputs": [
    {
     "name": "stdout",
     "output_type": "stream",
     "text": [
      "TimeSeries:\n",
      "\tCactus Unit: False\n",
      "\tLenght: 101\n",
      "\tTime: (0.0, 6.283185307179586, 0.06283185307179587)\n",
      "\tDuration: 6.283185307179586\n",
      "\tFind nearest time pi (index): 50\n",
      "\tMinimum Values: -1.0\n",
      "\tMaximum Values: 1.0\n",
      "\n"
     ]
    }
   ],
   "source": [
    "ret = \"TimeSeries:\\n\"\n",
    "ret += f\"\\tCactus Unit: {ts._CU}\\n\"\n",
    "ret += f\"\\tLenght: {len(ts)}\\n\"\n",
    "ret += f\"\\tTime: ({ts.tmin}, {ts.tmax}, {ts.dt})\\n\"\n",
    "ret += f\"\\tDuration: {ts.duration}\\n\"\n",
    "ret += f\"\\tFind nearest time pi (index): {ts.NearestTimeIndex(np.pi)}\\n\"\n",
    "ret += f\"\\tMinimum Values: {ts.min()}\\n\"\n",
    "ret += f\"\\tMaximum Values: {ts.max()}\\n\"\n",
    "print(ret)"
   ]
  },
  {
   "cell_type": "code",
   "execution_count": 7,
   "metadata": {},
   "outputs": [
    {
     "data": {
      "application/vnd.plotly.v1+json": {
       "config": {
        "plotlyServerURL": "https://plot.ly"
       },
       "data": [
        {
         "mode": "lines+markers",
         "name": "y",
         "type": "scatter",
         "x": [
          0,
          0.06283185307179587,
          0.12566370614359174,
          0.1884955592153876,
          0.25132741228718347,
          0.3141592653589793,
          0.3769911184307752,
          0.4398229715025711,
          0.5026548245743669,
          0.5654866776461628,
          0.6283185307179586,
          0.6911503837897546,
          0.7539822368615504,
          0.8168140899333463,
          0.8796459430051422,
          0.942477796076938,
          1.0053096491487339,
          1.0681415022205298,
          1.1309733552923256,
          1.1938052083641215,
          1.2566370614359172,
          1.3194689145077132,
          1.3823007675795091,
          1.4451326206513049,
          1.5079644737231008,
          1.5707963267948968,
          1.6336281798666925,
          1.6964600329384885,
          1.7592918860102844,
          1.8221237390820801,
          1.884955592153876,
          1.9477874452256718,
          2.0106192982974678,
          2.0734511513692637,
          2.1362830044410597,
          2.199114857512855,
          2.261946710584651,
          2.324778563656447,
          2.387610416728243,
          2.450442269800039,
          2.5132741228718345,
          2.5761059759436304,
          2.6389378290154264,
          2.7017696820872223,
          2.7646015351590183,
          2.8274333882308142,
          2.8902652413026098,
          2.9530970943744057,
          3.0159289474462017,
          3.0787608005179976,
          3.1415926535897936,
          3.204424506661589,
          3.267256359733385,
          3.330088212805181,
          3.392920065876977,
          3.455751918948773,
          3.518583772020569,
          3.5814156250923643,
          3.6442474781641603,
          3.7070793312359562,
          3.769911184307752,
          3.832743037379548,
          3.8955748904513436,
          3.9584067435231396,
          4.0212385965949355,
          4.084070449666731,
          4.1469023027385274,
          4.209734155810323,
          4.272566008882119,
          4.335397861953915,
          4.39822971502571,
          4.461061568097507,
          4.523893421169302,
          4.586725274241099,
          4.649557127312894,
          4.71238898038469,
          4.775220833456486,
          4.838052686528282,
          4.900884539600078,
          4.9637163926718735,
          5.026548245743669,
          5.089380098815465,
          5.152211951887261,
          5.215043804959057,
          5.277875658030853,
          5.340707511102649,
          5.403539364174445,
          5.46637121724624,
          5.529203070318037,
          5.592034923389832,
          5.6548667764616285,
          5.717698629533424,
          5.7805304826052195,
          5.843362335677016,
          5.906194188748811,
          5.969026041820608,
          6.031857894892403,
          6.094689747964199,
          6.157521601035995,
          6.220353454107791,
          6.283185307179586
         ],
         "y": [
          0,
          0.06279051952931337,
          0.12533323356430426,
          0.18738131458572463,
          0.2486898871648548,
          0.3090169943749474,
          0.368124552684678,
          0.4257792915650727,
          0.4817536741017153,
          0.5358267949789967,
          0.5877852522924731,
          0.6374239897486897,
          0.6845471059286887,
          0.7289686274214116,
          0.7705132427757893,
          0.8090169943749475,
          0.8443279255020151,
          0.8763066800438637,
          0.9048270524660196,
          0.9297764858882515,
          0.9510565162951535,
          0.9685831611286311,
          0.9822872507286887,
          0.9921147013144779,
          0.9980267284282716,
          1,
          0.9980267284282716,
          0.9921147013144778,
          0.9822872507286886,
          0.9685831611286311,
          0.9510565162951535,
          0.9297764858882513,
          0.9048270524660195,
          0.8763066800438635,
          0.844327925502015,
          0.8090169943749475,
          0.7705132427757893,
          0.7289686274214116,
          0.6845471059286885,
          0.6374239897486895,
          0.5877852522924732,
          0.5358267949789967,
          0.4817536741017152,
          0.4257792915650725,
          0.3681245526846777,
          0.3090169943749471,
          0.2486898871648548,
          0.18738131458572455,
          0.1253332335643041,
          0.06279051952931314,
          -3.216245299353273e-16,
          -0.06279051952931333,
          -0.1253332335643043,
          -0.18738131458572477,
          -0.24868988716485502,
          -0.30901699437494773,
          -0.36812455268467836,
          -0.4257792915650727,
          -0.4817536741017154,
          -0.5358267949789968,
          -0.5877852522924734,
          -0.63742398974869,
          -0.6845471059286887,
          -0.7289686274214116,
          -0.7705132427757894,
          -0.8090169943749473,
          -0.8443279255020153,
          -0.8763066800438636,
          -0.9048270524660198,
          -0.9297764858882515,
          -0.9510565162951535,
          -0.9685831611286312,
          -0.9822872507286887,
          -0.9921147013144779,
          -0.9980267284282716,
          -1,
          -0.9980267284282716,
          -0.9921147013144779,
          -0.9822872507286886,
          -0.9685831611286311,
          -0.9510565162951536,
          -0.9297764858882512,
          -0.9048270524660196,
          -0.8763066800438634,
          -0.8443279255020151,
          -0.809016994374947,
          -0.770513242775789,
          -0.7289686274214116,
          -0.6845471059286883,
          -0.6374239897486896,
          -0.5877852522924726,
          -0.5358267949789963,
          -0.4817536741017153,
          -0.4257792915650722,
          -0.3681245526846778,
          -0.3090169943749468,
          -0.2486898871648545,
          -0.18738131458572468,
          -0.1253332335643038,
          -0.06279051952931326,
          -2.4492935982947064e-16
         ]
        }
       ],
       "layout": {
        "autosize": true,
        "template": {
         "data": {
          "bar": [
           {
            "error_x": {
             "color": "#2a3f5f"
            },
            "error_y": {
             "color": "#2a3f5f"
            },
            "marker": {
             "line": {
              "color": "#E5ECF6",
              "width": 0.5
             }
            },
            "type": "bar"
           }
          ],
          "barpolar": [
           {
            "marker": {
             "line": {
              "color": "#E5ECF6",
              "width": 0.5
             }
            },
            "type": "barpolar"
           }
          ],
          "carpet": [
           {
            "aaxis": {
             "endlinecolor": "#2a3f5f",
             "gridcolor": "white",
             "linecolor": "white",
             "minorgridcolor": "white",
             "startlinecolor": "#2a3f5f"
            },
            "baxis": {
             "endlinecolor": "#2a3f5f",
             "gridcolor": "white",
             "linecolor": "white",
             "minorgridcolor": "white",
             "startlinecolor": "#2a3f5f"
            },
            "type": "carpet"
           }
          ],
          "choropleth": [
           {
            "colorbar": {
             "outlinewidth": 0,
             "ticks": ""
            },
            "type": "choropleth"
           }
          ],
          "contour": [
           {
            "colorbar": {
             "outlinewidth": 0,
             "ticks": ""
            },
            "colorscale": [
             [
              0,
              "#0d0887"
             ],
             [
              0.1111111111111111,
              "#46039f"
             ],
             [
              0.2222222222222222,
              "#7201a8"
             ],
             [
              0.3333333333333333,
              "#9c179e"
             ],
             [
              0.4444444444444444,
              "#bd3786"
             ],
             [
              0.5555555555555556,
              "#d8576b"
             ],
             [
              0.6666666666666666,
              "#ed7953"
             ],
             [
              0.7777777777777778,
              "#fb9f3a"
             ],
             [
              0.8888888888888888,
              "#fdca26"
             ],
             [
              1,
              "#f0f921"
             ]
            ],
            "type": "contour"
           }
          ],
          "contourcarpet": [
           {
            "colorbar": {
             "outlinewidth": 0,
             "ticks": ""
            },
            "type": "contourcarpet"
           }
          ],
          "heatmap": [
           {
            "colorbar": {
             "outlinewidth": 0,
             "ticks": ""
            },
            "colorscale": [
             [
              0,
              "#0d0887"
             ],
             [
              0.1111111111111111,
              "#46039f"
             ],
             [
              0.2222222222222222,
              "#7201a8"
             ],
             [
              0.3333333333333333,
              "#9c179e"
             ],
             [
              0.4444444444444444,
              "#bd3786"
             ],
             [
              0.5555555555555556,
              "#d8576b"
             ],
             [
              0.6666666666666666,
              "#ed7953"
             ],
             [
              0.7777777777777778,
              "#fb9f3a"
             ],
             [
              0.8888888888888888,
              "#fdca26"
             ],
             [
              1,
              "#f0f921"
             ]
            ],
            "type": "heatmap"
           }
          ],
          "heatmapgl": [
           {
            "colorbar": {
             "outlinewidth": 0,
             "ticks": ""
            },
            "colorscale": [
             [
              0,
              "#0d0887"
             ],
             [
              0.1111111111111111,
              "#46039f"
             ],
             [
              0.2222222222222222,
              "#7201a8"
             ],
             [
              0.3333333333333333,
              "#9c179e"
             ],
             [
              0.4444444444444444,
              "#bd3786"
             ],
             [
              0.5555555555555556,
              "#d8576b"
             ],
             [
              0.6666666666666666,
              "#ed7953"
             ],
             [
              0.7777777777777778,
              "#fb9f3a"
             ],
             [
              0.8888888888888888,
              "#fdca26"
             ],
             [
              1,
              "#f0f921"
             ]
            ],
            "type": "heatmapgl"
           }
          ],
          "histogram": [
           {
            "marker": {
             "colorbar": {
              "outlinewidth": 0,
              "ticks": ""
             }
            },
            "type": "histogram"
           }
          ],
          "histogram2d": [
           {
            "colorbar": {
             "outlinewidth": 0,
             "ticks": ""
            },
            "colorscale": [
             [
              0,
              "#0d0887"
             ],
             [
              0.1111111111111111,
              "#46039f"
             ],
             [
              0.2222222222222222,
              "#7201a8"
             ],
             [
              0.3333333333333333,
              "#9c179e"
             ],
             [
              0.4444444444444444,
              "#bd3786"
             ],
             [
              0.5555555555555556,
              "#d8576b"
             ],
             [
              0.6666666666666666,
              "#ed7953"
             ],
             [
              0.7777777777777778,
              "#fb9f3a"
             ],
             [
              0.8888888888888888,
              "#fdca26"
             ],
             [
              1,
              "#f0f921"
             ]
            ],
            "type": "histogram2d"
           }
          ],
          "histogram2dcontour": [
           {
            "colorbar": {
             "outlinewidth": 0,
             "ticks": ""
            },
            "colorscale": [
             [
              0,
              "#0d0887"
             ],
             [
              0.1111111111111111,
              "#46039f"
             ],
             [
              0.2222222222222222,
              "#7201a8"
             ],
             [
              0.3333333333333333,
              "#9c179e"
             ],
             [
              0.4444444444444444,
              "#bd3786"
             ],
             [
              0.5555555555555556,
              "#d8576b"
             ],
             [
              0.6666666666666666,
              "#ed7953"
             ],
             [
              0.7777777777777778,
              "#fb9f3a"
             ],
             [
              0.8888888888888888,
              "#fdca26"
             ],
             [
              1,
              "#f0f921"
             ]
            ],
            "type": "histogram2dcontour"
           }
          ],
          "mesh3d": [
           {
            "colorbar": {
             "outlinewidth": 0,
             "ticks": ""
            },
            "type": "mesh3d"
           }
          ],
          "parcoords": [
           {
            "line": {
             "colorbar": {
              "outlinewidth": 0,
              "ticks": ""
             }
            },
            "type": "parcoords"
           }
          ],
          "pie": [
           {
            "automargin": true,
            "type": "pie"
           }
          ],
          "scatter": [
           {
            "marker": {
             "colorbar": {
              "outlinewidth": 0,
              "ticks": ""
             }
            },
            "type": "scatter"
           }
          ],
          "scatter3d": [
           {
            "line": {
             "colorbar": {
              "outlinewidth": 0,
              "ticks": ""
             }
            },
            "marker": {
             "colorbar": {
              "outlinewidth": 0,
              "ticks": ""
             }
            },
            "type": "scatter3d"
           }
          ],
          "scattercarpet": [
           {
            "marker": {
             "colorbar": {
              "outlinewidth": 0,
              "ticks": ""
             }
            },
            "type": "scattercarpet"
           }
          ],
          "scattergeo": [
           {
            "marker": {
             "colorbar": {
              "outlinewidth": 0,
              "ticks": ""
             }
            },
            "type": "scattergeo"
           }
          ],
          "scattergl": [
           {
            "marker": {
             "colorbar": {
              "outlinewidth": 0,
              "ticks": ""
             }
            },
            "type": "scattergl"
           }
          ],
          "scattermapbox": [
           {
            "marker": {
             "colorbar": {
              "outlinewidth": 0,
              "ticks": ""
             }
            },
            "type": "scattermapbox"
           }
          ],
          "scatterpolar": [
           {
            "marker": {
             "colorbar": {
              "outlinewidth": 0,
              "ticks": ""
             }
            },
            "type": "scatterpolar"
           }
          ],
          "scatterpolargl": [
           {
            "marker": {
             "colorbar": {
              "outlinewidth": 0,
              "ticks": ""
             }
            },
            "type": "scatterpolargl"
           }
          ],
          "scatterternary": [
           {
            "marker": {
             "colorbar": {
              "outlinewidth": 0,
              "ticks": ""
             }
            },
            "type": "scatterternary"
           }
          ],
          "surface": [
           {
            "colorbar": {
             "outlinewidth": 0,
             "ticks": ""
            },
            "colorscale": [
             [
              0,
              "#0d0887"
             ],
             [
              0.1111111111111111,
              "#46039f"
             ],
             [
              0.2222222222222222,
              "#7201a8"
             ],
             [
              0.3333333333333333,
              "#9c179e"
             ],
             [
              0.4444444444444444,
              "#bd3786"
             ],
             [
              0.5555555555555556,
              "#d8576b"
             ],
             [
              0.6666666666666666,
              "#ed7953"
             ],
             [
              0.7777777777777778,
              "#fb9f3a"
             ],
             [
              0.8888888888888888,
              "#fdca26"
             ],
             [
              1,
              "#f0f921"
             ]
            ],
            "type": "surface"
           }
          ],
          "table": [
           {
            "cells": {
             "fill": {
              "color": "#EBF0F8"
             },
             "line": {
              "color": "white"
             }
            },
            "header": {
             "fill": {
              "color": "#C8D4E3"
             },
             "line": {
              "color": "white"
             }
            },
            "type": "table"
           }
          ]
         },
         "layout": {
          "annotationdefaults": {
           "arrowcolor": "#2a3f5f",
           "arrowhead": 0,
           "arrowwidth": 1
          },
          "autotypenumbers": "strict",
          "coloraxis": {
           "colorbar": {
            "outlinewidth": 0,
            "ticks": ""
           }
          },
          "colorscale": {
           "diverging": [
            [
             0,
             "#8e0152"
            ],
            [
             0.1,
             "#c51b7d"
            ],
            [
             0.2,
             "#de77ae"
            ],
            [
             0.3,
             "#f1b6da"
            ],
            [
             0.4,
             "#fde0ef"
            ],
            [
             0.5,
             "#f7f7f7"
            ],
            [
             0.6,
             "#e6f5d0"
            ],
            [
             0.7,
             "#b8e186"
            ],
            [
             0.8,
             "#7fbc41"
            ],
            [
             0.9,
             "#4d9221"
            ],
            [
             1,
             "#276419"
            ]
           ],
           "sequential": [
            [
             0,
             "#0d0887"
            ],
            [
             0.1111111111111111,
             "#46039f"
            ],
            [
             0.2222222222222222,
             "#7201a8"
            ],
            [
             0.3333333333333333,
             "#9c179e"
            ],
            [
             0.4444444444444444,
             "#bd3786"
            ],
            [
             0.5555555555555556,
             "#d8576b"
            ],
            [
             0.6666666666666666,
             "#ed7953"
            ],
            [
             0.7777777777777778,
             "#fb9f3a"
            ],
            [
             0.8888888888888888,
             "#fdca26"
            ],
            [
             1,
             "#f0f921"
            ]
           ],
           "sequentialminus": [
            [
             0,
             "#0d0887"
            ],
            [
             0.1111111111111111,
             "#46039f"
            ],
            [
             0.2222222222222222,
             "#7201a8"
            ],
            [
             0.3333333333333333,
             "#9c179e"
            ],
            [
             0.4444444444444444,
             "#bd3786"
            ],
            [
             0.5555555555555556,
             "#d8576b"
            ],
            [
             0.6666666666666666,
             "#ed7953"
            ],
            [
             0.7777777777777778,
             "#fb9f3a"
            ],
            [
             0.8888888888888888,
             "#fdca26"
            ],
            [
             1,
             "#f0f921"
            ]
           ]
          },
          "colorway": [
           "#636efa",
           "#EF553B",
           "#00cc96",
           "#ab63fa",
           "#FFA15A",
           "#19d3f3",
           "#FF6692",
           "#B6E880",
           "#FF97FF",
           "#FECB52"
          ],
          "font": {
           "color": "#2a3f5f"
          },
          "geo": {
           "bgcolor": "white",
           "lakecolor": "white",
           "landcolor": "#E5ECF6",
           "showlakes": true,
           "showland": true,
           "subunitcolor": "white"
          },
          "hoverlabel": {
           "align": "left"
          },
          "hovermode": "closest",
          "mapbox": {
           "style": "light"
          },
          "paper_bgcolor": "white",
          "plot_bgcolor": "#E5ECF6",
          "polar": {
           "angularaxis": {
            "gridcolor": "white",
            "linecolor": "white",
            "ticks": ""
           },
           "bgcolor": "#E5ECF6",
           "radialaxis": {
            "gridcolor": "white",
            "linecolor": "white",
            "ticks": ""
           }
          },
          "scene": {
           "xaxis": {
            "backgroundcolor": "#E5ECF6",
            "gridcolor": "white",
            "gridwidth": 2,
            "linecolor": "white",
            "showbackground": true,
            "ticks": "",
            "zerolinecolor": "white"
           },
           "yaxis": {
            "backgroundcolor": "#E5ECF6",
            "gridcolor": "white",
            "gridwidth": 2,
            "linecolor": "white",
            "showbackground": true,
            "ticks": "",
            "zerolinecolor": "white"
           },
           "zaxis": {
            "backgroundcolor": "#E5ECF6",
            "gridcolor": "white",
            "gridwidth": 2,
            "linecolor": "white",
            "showbackground": true,
            "ticks": "",
            "zerolinecolor": "white"
           }
          },
          "shapedefaults": {
           "line": {
            "color": "#2a3f5f"
           }
          },
          "ternary": {
           "aaxis": {
            "gridcolor": "white",
            "linecolor": "white",
            "ticks": ""
           },
           "baxis": {
            "gridcolor": "white",
            "linecolor": "white",
            "ticks": ""
           },
           "bgcolor": "#E5ECF6",
           "caxis": {
            "gridcolor": "white",
            "linecolor": "white",
            "ticks": ""
           }
          },
          "title": {
           "x": 0.05
          },
          "xaxis": {
           "automargin": true,
           "gridcolor": "white",
           "linecolor": "white",
           "ticks": "",
           "title": {
            "standoff": 15
           },
           "zerolinecolor": "white",
           "zerolinewidth": 2
          },
          "yaxis": {
           "automargin": true,
           "gridcolor": "white",
           "linecolor": "white",
           "ticks": "",
           "title": {
            "standoff": 15
           },
           "zerolinecolor": "white",
           "zerolinewidth": 2
          }
         }
        },
        "xaxis": {
         "autorange": true,
         "range": [
          -0.3946120208580082,
          6.677797328037594
         ],
         "type": "linear"
        },
        "yaxis": {
         "autorange": true,
         "range": [
          -1.1464968152866242,
          1.1464968152866242
         ],
         "type": "linear"
        }
       }
      },
      "image/png": "[encoded data removed]",
      "text/html": [
       "<div>                            <div id=\"fb3814de-4177-443a-a4fc-5de2dc5c78d1\" class=\"plotly-graph-div\" style=\"height:525px; width:100%;\"></div>            <script type=\"text/javascript\">                require([\"plotly\"], function(Plotly) {                    window.PLOTLYENV=window.PLOTLYENV || {};                                    if (document.getElementById(\"fb3814de-4177-443a-a4fc-5de2dc5c78d1\")) {                    Plotly.newPlot(                        \"fb3814de-4177-443a-a4fc-5de2dc5c78d1\",                        [{\"mode\": \"lines+markers\", \"name\": \"y\", \"type\": \"scatter\", \"x\": [0.0, 0.06283185307179587, 0.12566370614359174, 0.1884955592153876, 0.25132741228718347, 0.3141592653589793, 0.3769911184307752, 0.4398229715025711, 0.5026548245743669, 0.5654866776461628, 0.6283185307179586, 0.6911503837897546, 0.7539822368615504, 0.8168140899333463, 0.8796459430051422, 0.942477796076938, 1.0053096491487339, 1.0681415022205298, 1.1309733552923256, 1.1938052083641215, 1.2566370614359172, 1.3194689145077132, 1.3823007675795091, 1.4451326206513049, 1.5079644737231008, 1.5707963267948968, 1.6336281798666925, 1.6964600329384885, 1.7592918860102844, 1.8221237390820801, 1.884955592153876, 1.9477874452256718, 2.0106192982974678, 2.0734511513692637, 2.1362830044410597, 2.199114857512855, 2.261946710584651, 2.324778563656447, 2.387610416728243, 2.450442269800039, 2.5132741228718345, 2.5761059759436304, 2.6389378290154264, 2.7017696820872223, 2.7646015351590183, 2.8274333882308142, 2.8902652413026098, 2.9530970943744057, 3.0159289474462017, 3.0787608005179976, 3.1415926535897936, 3.204424506661589, 3.267256359733385, 3.330088212805181, 3.392920065876977, 3.455751918948773, 3.518583772020569, 3.5814156250923643, 3.6442474781641603, 3.7070793312359562, 3.769911184307752, 3.832743037379548, 3.8955748904513436, 3.9584067435231396, 4.0212385965949355, 4.084070449666731, 4.1469023027385274, 4.209734155810323, 4.272566008882119, 4.335397861953915, 4.39822971502571, 4.461061568097507, 4.523893421169302, 4.586725274241099, 4.649557127312894, 4.71238898038469, 4.775220833456486, 4.838052686528282, 4.900884539600078, 4.9637163926718735, 5.026548245743669, 5.089380098815465, 5.152211951887261, 5.215043804959057, 5.277875658030853, 5.340707511102649, 5.403539364174445, 5.46637121724624, 5.529203070318037, 5.592034923389832, 5.6548667764616285, 5.717698629533424, 5.7805304826052195, 5.843362335677016, 5.906194188748811, 5.969026041820608, 6.031857894892403, 6.094689747964199, 6.157521601035995, 6.220353454107791, 6.283185307179586], \"y\": [0.0, 0.06279051952931337, 0.12533323356430426, 0.18738131458572463, 0.2486898871648548, 0.3090169943749474, 0.368124552684678, 0.4257792915650727, 0.4817536741017153, 0.5358267949789967, 0.5877852522924731, 0.6374239897486897, 0.6845471059286887, 0.7289686274214116, 0.7705132427757893, 0.8090169943749475, 0.8443279255020151, 0.8763066800438637, 0.9048270524660196, 0.9297764858882515, 0.9510565162951535, 0.9685831611286311, 0.9822872507286887, 0.9921147013144779, 0.9980267284282716, 1.0, 0.9980267284282716, 0.9921147013144778, 0.9822872507286886, 0.9685831611286311, 0.9510565162951535, 0.9297764858882513, 0.9048270524660195, 0.8763066800438635, 0.844327925502015, 0.8090169943749475, 0.7705132427757893, 0.7289686274214116, 0.6845471059286885, 0.6374239897486895, 0.5877852522924732, 0.5358267949789967, 0.4817536741017152, 0.4257792915650725, 0.3681245526846777, 0.3090169943749471, 0.2486898871648548, 0.18738131458572455, 0.1253332335643041, 0.06279051952931314, -3.216245299353273e-16, -0.06279051952931333, -0.1253332335643043, -0.18738131458572477, -0.24868988716485502, -0.30901699437494773, -0.36812455268467836, -0.4257792915650727, -0.4817536741017154, -0.5358267949789968, -0.5877852522924734, -0.63742398974869, -0.6845471059286887, -0.7289686274214116, -0.7705132427757894, -0.8090169943749473, -0.8443279255020153, -0.8763066800438636, -0.9048270524660198, -0.9297764858882515, -0.9510565162951535, -0.9685831611286312, -0.9822872507286887, -0.9921147013144779, -0.9980267284282716, -1.0, -0.9980267284282716, -0.9921147013144779, -0.9822872507286886, -0.9685831611286311, -0.9510565162951536, -0.9297764858882512, -0.9048270524660196, -0.8763066800438634, -0.8443279255020151, -0.809016994374947, -0.770513242775789, -0.7289686274214116, -0.6845471059286883, -0.6374239897486896, -0.5877852522924726, -0.5358267949789963, -0.4817536741017153, -0.4257792915650722, -0.3681245526846778, -0.3090169943749468, -0.2486898871648545, -0.18738131458572468, -0.1253332335643038, -0.06279051952931326, -2.4492935982947064e-16]}],                        {\"template\": {\"data\": {\"bar\": [{\"error_x\": {\"color\": \"#2a3f5f\"}, \"error_y\": {\"color\": \"#2a3f5f\"}, \"marker\": {\"line\": {\"color\": \"#E5ECF6\", \"width\": 0.5}}, \"type\": \"bar\"}], \"barpolar\": [{\"marker\": {\"line\": {\"color\": \"#E5ECF6\", \"width\": 0.5}}, \"type\": \"barpolar\"}], \"carpet\": [{\"aaxis\": {\"endlinecolor\": \"#2a3f5f\", \"gridcolor\": \"white\", \"linecolor\": \"white\", \"minorgridcolor\": \"white\", \"startlinecolor\": \"#2a3f5f\"}, \"baxis\": {\"endlinecolor\": \"#2a3f5f\", \"gridcolor\": \"white\", \"linecolor\": \"white\", \"minorgridcolor\": \"white\", \"startlinecolor\": \"#2a3f5f\"}, \"type\": \"carpet\"}], \"choropleth\": [{\"colorbar\": {\"outlinewidth\": 0, \"ticks\": \"\"}, \"type\": \"choropleth\"}], \"contour\": [{\"colorbar\": {\"outlinewidth\": 0, \"ticks\": \"\"}, \"colorscale\": [[0.0, \"#0d0887\"], [0.1111111111111111, \"#46039f\"], [0.2222222222222222, \"#7201a8\"], [0.3333333333333333, \"#9c179e\"], [0.4444444444444444, \"#bd3786\"], [0.5555555555555556, \"#d8576b\"], [0.6666666666666666, \"#ed7953\"], [0.7777777777777778, \"#fb9f3a\"], [0.8888888888888888, \"#fdca26\"], [1.0, \"#f0f921\"]], \"type\": \"contour\"}], \"contourcarpet\": [{\"colorbar\": {\"outlinewidth\": 0, \"ticks\": \"\"}, \"type\": \"contourcarpet\"}], \"heatmap\": [{\"colorbar\": {\"outlinewidth\": 0, \"ticks\": \"\"}, \"colorscale\": [[0.0, \"#0d0887\"], [0.1111111111111111, \"#46039f\"], [0.2222222222222222, \"#7201a8\"], [0.3333333333333333, \"#9c179e\"], [0.4444444444444444, \"#bd3786\"], [0.5555555555555556, \"#d8576b\"], [0.6666666666666666, \"#ed7953\"], [0.7777777777777778, \"#fb9f3a\"], [0.8888888888888888, \"#fdca26\"], [1.0, \"#f0f921\"]], \"type\": \"heatmap\"}], \"heatmapgl\": [{\"colorbar\": {\"outlinewidth\": 0, \"ticks\": \"\"}, \"colorscale\": [[0.0, \"#0d0887\"], [0.1111111111111111, \"#46039f\"], [0.2222222222222222, \"#7201a8\"], [0.3333333333333333, \"#9c179e\"], [0.4444444444444444, \"#bd3786\"], [0.5555555555555556, \"#d8576b\"], [0.6666666666666666, \"#ed7953\"], [0.7777777777777778, \"#fb9f3a\"], [0.8888888888888888, \"#fdca26\"], [1.0, \"#f0f921\"]], \"type\": \"heatmapgl\"}], \"histogram\": [{\"marker\": {\"colorbar\": {\"outlinewidth\": 0, \"ticks\": \"\"}}, \"type\": \"histogram\"}], \"histogram2d\": [{\"colorbar\": {\"outlinewidth\": 0, \"ticks\": \"\"}, \"colorscale\": [[0.0, \"#0d0887\"], [0.1111111111111111, \"#46039f\"], [0.2222222222222222, \"#7201a8\"], [0.3333333333333333, \"#9c179e\"], [0.4444444444444444, \"#bd3786\"], [0.5555555555555556, \"#d8576b\"], [0.6666666666666666, \"#ed7953\"], [0.7777777777777778, \"#fb9f3a\"], [0.8888888888888888, \"#fdca26\"], [1.0, \"#f0f921\"]], \"type\": \"histogram2d\"}], \"histogram2dcontour\": [{\"colorbar\": {\"outlinewidth\": 0, \"ticks\": \"\"}, \"colorscale\": [[0.0, \"#0d0887\"], [0.1111111111111111, \"#46039f\"], [0.2222222222222222, \"#7201a8\"], [0.3333333333333333, \"#9c179e\"], [0.4444444444444444, \"#bd3786\"], [0.5555555555555556, \"#d8576b\"], [0.6666666666666666, \"#ed7953\"], [0.7777777777777778, \"#fb9f3a\"], [0.8888888888888888, \"#fdca26\"], [1.0, \"#f0f921\"]], \"type\": \"histogram2dcontour\"}], \"mesh3d\": [{\"colorbar\": {\"outlinewidth\": 0, \"ticks\": \"\"}, \"type\": \"mesh3d\"}], \"parcoords\": [{\"line\": {\"colorbar\": {\"outlinewidth\": 0, \"ticks\": \"\"}}, \"type\": \"parcoords\"}], \"pie\": [{\"automargin\": true, \"type\": \"pie\"}], \"scatter\": [{\"marker\": {\"colorbar\": {\"outlinewidth\": 0, \"ticks\": \"\"}}, \"type\": \"scatter\"}], \"scatter3d\": [{\"line\": {\"colorbar\": {\"outlinewidth\": 0, \"ticks\": \"\"}}, \"marker\": {\"colorbar\": {\"outlinewidth\": 0, \"ticks\": \"\"}}, \"type\": \"scatter3d\"}], \"scattercarpet\": [{\"marker\": {\"colorbar\": {\"outlinewidth\": 0, \"ticks\": \"\"}}, \"type\": \"scattercarpet\"}], \"scattergeo\": [{\"marker\": {\"colorbar\": {\"outlinewidth\": 0, \"ticks\": \"\"}}, \"type\": \"scattergeo\"}], \"scattergl\": [{\"marker\": {\"colorbar\": {\"outlinewidth\": 0, \"ticks\": \"\"}}, \"type\": \"scattergl\"}], \"scattermapbox\": [{\"marker\": {\"colorbar\": {\"outlinewidth\": 0, \"ticks\": \"\"}}, \"type\": \"scattermapbox\"}], \"scatterpolar\": [{\"marker\": {\"colorbar\": {\"outlinewidth\": 0, \"ticks\": \"\"}}, \"type\": \"scatterpolar\"}], \"scatterpolargl\": [{\"marker\": {\"colorbar\": {\"outlinewidth\": 0, \"ticks\": \"\"}}, \"type\": \"scatterpolargl\"}], \"scatterternary\": [{\"marker\": {\"colorbar\": {\"outlinewidth\": 0, \"ticks\": \"\"}}, \"type\": \"scatterternary\"}], \"surface\": [{\"colorbar\": {\"outlinewidth\": 0, \"ticks\": \"\"}, \"colorscale\": [[0.0, \"#0d0887\"], [0.1111111111111111, \"#46039f\"], [0.2222222222222222, \"#7201a8\"], [0.3333333333333333, \"#9c179e\"], [0.4444444444444444, \"#bd3786\"], [0.5555555555555556, \"#d8576b\"], [0.6666666666666666, \"#ed7953\"], [0.7777777777777778, \"#fb9f3a\"], [0.8888888888888888, \"#fdca26\"], [1.0, \"#f0f921\"]], \"type\": \"surface\"}], \"table\": [{\"cells\": {\"fill\": {\"color\": \"#EBF0F8\"}, \"line\": {\"color\": \"white\"}}, \"header\": {\"fill\": {\"color\": \"#C8D4E3\"}, \"line\": {\"color\": \"white\"}}, \"type\": \"table\"}]}, \"layout\": {\"annotationdefaults\": {\"arrowcolor\": \"#2a3f5f\", \"arrowhead\": 0, \"arrowwidth\": 1}, \"autotypenumbers\": \"strict\", \"coloraxis\": {\"colorbar\": {\"outlinewidth\": 0, \"ticks\": \"\"}}, \"colorscale\": {\"diverging\": [[0, \"#8e0152\"], [0.1, \"#c51b7d\"], [0.2, \"#de77ae\"], [0.3, \"#f1b6da\"], [0.4, \"#fde0ef\"], [0.5, \"#f7f7f7\"], [0.6, \"#e6f5d0\"], [0.7, \"#b8e186\"], [0.8, \"#7fbc41\"], [0.9, \"#4d9221\"], [1, \"#276419\"]], \"sequential\": [[0.0, \"#0d0887\"], [0.1111111111111111, \"#46039f\"], [0.2222222222222222, \"#7201a8\"], [0.3333333333333333, \"#9c179e\"], [0.4444444444444444, \"#bd3786\"], [0.5555555555555556, \"#d8576b\"], [0.6666666666666666, \"#ed7953\"], [0.7777777777777778, \"#fb9f3a\"], [0.8888888888888888, \"#fdca26\"], [1.0, \"#f0f921\"]], \"sequentialminus\": [[0.0, \"#0d0887\"], [0.1111111111111111, \"#46039f\"], [0.2222222222222222, \"#7201a8\"], [0.3333333333333333, \"#9c179e\"], [0.4444444444444444, \"#bd3786\"], [0.5555555555555556, \"#d8576b\"], [0.6666666666666666, \"#ed7953\"], [0.7777777777777778, \"#fb9f3a\"], [0.8888888888888888, \"#fdca26\"], [1.0, \"#f0f921\"]]}, \"colorway\": [\"#636efa\", \"#EF553B\", \"#00cc96\", \"#ab63fa\", \"#FFA15A\", \"#19d3f3\", \"#FF6692\", \"#B6E880\", \"#FF97FF\", \"#FECB52\"], \"font\": {\"color\": \"#2a3f5f\"}, \"geo\": {\"bgcolor\": \"white\", \"lakecolor\": \"white\", \"landcolor\": \"#E5ECF6\", \"showlakes\": true, \"showland\": true, \"subunitcolor\": \"white\"}, \"hoverlabel\": {\"align\": \"left\"}, \"hovermode\": \"closest\", \"mapbox\": {\"style\": \"light\"}, \"paper_bgcolor\": \"white\", \"plot_bgcolor\": \"#E5ECF6\", \"polar\": {\"angularaxis\": {\"gridcolor\": \"white\", \"linecolor\": \"white\", \"ticks\": \"\"}, \"bgcolor\": \"#E5ECF6\", \"radialaxis\": {\"gridcolor\": \"white\", \"linecolor\": \"white\", \"ticks\": \"\"}}, \"scene\": {\"xaxis\": {\"backgroundcolor\": \"#E5ECF6\", \"gridcolor\": \"white\", \"gridwidth\": 2, \"linecolor\": \"white\", \"showbackground\": true, \"ticks\": \"\", \"zerolinecolor\": \"white\"}, \"yaxis\": {\"backgroundcolor\": \"#E5ECF6\", \"gridcolor\": \"white\", \"gridwidth\": 2, \"linecolor\": \"white\", \"showbackground\": true, \"ticks\": \"\", \"zerolinecolor\": \"white\"}, \"zaxis\": {\"backgroundcolor\": \"#E5ECF6\", \"gridcolor\": \"white\", \"gridwidth\": 2, \"linecolor\": \"white\", \"showbackground\": true, \"ticks\": \"\", \"zerolinecolor\": \"white\"}}, \"shapedefaults\": {\"line\": {\"color\": \"#2a3f5f\"}}, \"ternary\": {\"aaxis\": {\"gridcolor\": \"white\", \"linecolor\": \"white\", \"ticks\": \"\"}, \"baxis\": {\"gridcolor\": \"white\", \"linecolor\": \"white\", \"ticks\": \"\"}, \"bgcolor\": \"#E5ECF6\", \"caxis\": {\"gridcolor\": \"white\", \"linecolor\": \"white\", \"ticks\": \"\"}}, \"title\": {\"x\": 0.05}, \"xaxis\": {\"automargin\": true, \"gridcolor\": \"white\", \"linecolor\": \"white\", \"ticks\": \"\", \"title\": {\"standoff\": 15}, \"zerolinecolor\": \"white\", \"zerolinewidth\": 2}, \"yaxis\": {\"automargin\": true, \"gridcolor\": \"white\", \"linecolor\": \"white\", \"ticks\": \"\", \"title\": {\"standoff\": 15}, \"zerolinecolor\": \"white\", \"zerolinewidth\": 2}}}},                        {\"responsive\": true}                    ).then(function(){\n",
       "                            \n",
       "var gd = document.getElementById('fb3814de-4177-443a-a4fc-5de2dc5c78d1');\n",
       "var x = new MutationObserver(function (mutations, observer) {{\n",
       "        var display = window.getComputedStyle(gd).display;\n",
       "        if (!display || display === 'none') {{\n",
       "            console.log([gd, 'removed!']);\n",
       "            Plotly.purge(gd);\n",
       "            observer.disconnect();\n",
       "        }}\n",
       "}});\n",
       "\n",
       "// Listen for the removal of the full notebook cells\n",
       "var notebookContainer = gd.closest('#notebook-container');\n",
       "if (notebookContainer) {{\n",
       "    x.observe(notebookContainer, {childList: true});\n",
       "}}\n",
       "\n",
       "// Listen for the clearing of the current output cell\n",
       "var outputEl = gd.closest('.output');\n",
       "if (outputEl) {{\n",
       "    x.observe(outputEl, {childList: true});\n",
       "}}\n",
       "\n",
       "                        })                };                });            </script>        </div>"
      ]
     },
     "metadata": {},
     "output_type": "display_data"
    }
   ],
   "source": [
    "ts.preview()"
   ]
  },
  {
   "cell_type": "code",
   "execution_count": 4,
   "metadata": {},
   "outputs": [],
   "source": [
    "# real\n",
    "# ts.real.preview()\n",
    "# imag\n",
    "# ts.imag.preview()\n",
    "# conjugate\n",
    "# ts.conjugate.preview()\n",
    "# phase\n",
    "# ts.phase.preview()\n",
    "# mul\n",
    "# tem = ts * ts.conjugate\n",
    "# tem.preview()\n",
    "# binary\n",
    "# tem = 2*ts\n",
    "# tem.preview()\n",
    "# iter\n",
    "# for t, y in ts:\n",
    "#     print(t, y)\n",
    "# remove_mean\n",
    "# tem = ts + 2\n",
    "# tem.remove_mean().preview()\n",
    "# shift\n",
    "# ts.shift(1).preview()\n",
    "# redshift\n",
    "# ts.redshift(1).preview()\n",
    "# crop\n",
    "# ts.crop(np.pi, 2*np.pi).preview()\n",
    "# Resample the timeseries to regularly spaced times\n",
    "# ts.regular_resample().preview()\n",
    "# integrate\n",
    "# ts.integrate().preview()\n",
    "# gradient\n",
    "# ts.gradient().preview()\n",
    "# polyfit\n",
    "# ts.polyfit(3)"
   ]
  },
  {
   "cell_type": "markdown",
   "metadata": {},
   "source": [
    "## VectorSeries"
   ]
  },
  {
   "cell_type": "code",
   "execution_count": 5,
   "metadata": {},
   "outputs": [],
   "source": [
    "from CactusTool import VectorSeries\n",
    "import numpy as np\n",
    "\n",
    "t = np.linspace(0, 2 * np.pi, 101)\n",
    "y = np.vstack((np.sin(t), np.cos(t))).T\n",
    "vs = VectorSeries(t, y, CU=False)"
   ]
  },
  {
   "cell_type": "code",
   "execution_count": 6,
   "metadata": {},
   "outputs": [
    {
     "name": "stdout",
     "output_type": "stream",
     "text": [
      "VectorSeries:\n",
      "\tCactus Unit: False\n",
      "\tLenght: 101\n",
      "\tTime: (0.0, 6.283185307179586, 0.06283185307179587)\n",
      "\tDuration: 6.283185307179586\n",
      "\tFind nearest time pi: 50\n",
      "\tDimention: 2\n",
      "\n"
     ]
    }
   ],
   "source": [
    "ret = \"VectorSeries:\\n\"\n",
    "ret += f\"\\tCactus Unit: {vs._CU}\\n\"\n",
    "ret += f\"\\tLenght: {len(vs)}\\n\"\n",
    "ret += f\"\\tTime: ({vs.tmin}, {vs.tmax}, {vs.dt})\\n\"\n",
    "ret += f\"\\tDuration: {vs.duration}\\n\"\n",
    "ret += f\"\\tFind nearest time pi: {vs.NearestTimeIndex(np.pi)}\\n\"\n",
    "ret += f\"\\tDimention: {vs.dim}\\n\"\n",
    "print(ret)"
   ]
  },
  {
   "cell_type": "code",
   "execution_count": 7,
   "metadata": {},
   "outputs": [
    {
     "data": {
      "application/vnd.plotly.v1+json": {
       "config": {
        "plotlyServerURL": "https://plot.ly"
       },
       "data": [
        {
         "mode": "lines+markers",
         "name": "0 component",
         "type": "scatter",
         "x": [
          0,
          0.06283185307179587,
          0.12566370614359174,
          0.1884955592153876,
          0.25132741228718347,
          0.3141592653589793,
          0.3769911184307752,
          0.4398229715025711,
          0.5026548245743669,
          0.5654866776461628,
          0.6283185307179586,
          0.6911503837897546,
          0.7539822368615504,
          0.8168140899333463,
          0.8796459430051422,
          0.942477796076938,
          1.0053096491487339,
          1.0681415022205298,
          1.1309733552923256,
          1.1938052083641215,
          1.2566370614359172,
          1.3194689145077132,
          1.3823007675795091,
          1.4451326206513049,
          1.5079644737231008,
          1.5707963267948968,
          1.6336281798666925,
          1.6964600329384885,
          1.7592918860102844,
          1.8221237390820801,
          1.884955592153876,
          1.9477874452256718,
          2.0106192982974678,
          2.0734511513692637,
          2.1362830044410597,
          2.199114857512855,
          2.261946710584651,
          2.324778563656447,
          2.387610416728243,
          2.450442269800039,
          2.5132741228718345,
          2.5761059759436304,
          2.6389378290154264,
          2.7017696820872223,
          2.7646015351590183,
          2.8274333882308142,
          2.8902652413026098,
          2.9530970943744057,
          3.0159289474462017,
          3.0787608005179976,
          3.1415926535897936,
          3.204424506661589,
          3.267256359733385,
          3.330088212805181,
          3.392920065876977,
          3.455751918948773,
          3.518583772020569,
          3.5814156250923643,
          3.6442474781641603,
          3.7070793312359562,
          3.769911184307752,
          3.832743037379548,
          3.8955748904513436,
          3.9584067435231396,
          4.0212385965949355,
          4.084070449666731,
          4.1469023027385274,
          4.209734155810323,
          4.272566008882119,
          4.335397861953915,
          4.39822971502571,
          4.461061568097507,
          4.523893421169302,
          4.586725274241099,
          4.649557127312894,
          4.71238898038469,
          4.775220833456486,
          4.838052686528282,
          4.900884539600078,
          4.9637163926718735,
          5.026548245743669,
          5.089380098815465,
          5.152211951887261,
          5.215043804959057,
          5.277875658030853,
          5.340707511102649,
          5.403539364174445,
          5.46637121724624,
          5.529203070318037,
          5.592034923389832,
          5.6548667764616285,
          5.717698629533424,
          5.7805304826052195,
          5.843362335677016,
          5.906194188748811,
          5.969026041820608,
          6.031857894892403,
          6.094689747964199,
          6.157521601035995,
          6.220353454107791,
          6.283185307179586
         ],
         "y": [
          0,
          0.06279051952931337,
          0.12533323356430426,
          0.18738131458572463,
          0.2486898871648548,
          0.3090169943749474,
          0.368124552684678,
          0.4257792915650727,
          0.4817536741017153,
          0.5358267949789967,
          0.5877852522924731,
          0.6374239897486897,
          0.6845471059286887,
          0.7289686274214116,
          0.7705132427757893,
          0.8090169943749475,
          0.8443279255020151,
          0.8763066800438637,
          0.9048270524660196,
          0.9297764858882515,
          0.9510565162951535,
          0.9685831611286311,
          0.9822872507286887,
          0.9921147013144779,
          0.9980267284282716,
          1,
          0.9980267284282716,
          0.9921147013144778,
          0.9822872507286886,
          0.9685831611286311,
          0.9510565162951535,
          0.9297764858882513,
          0.9048270524660195,
          0.8763066800438635,
          0.844327925502015,
          0.8090169943749475,
          0.7705132427757893,
          0.7289686274214116,
          0.6845471059286885,
          0.6374239897486895,
          0.5877852522924732,
          0.5358267949789967,
          0.4817536741017152,
          0.4257792915650725,
          0.3681245526846777,
          0.3090169943749471,
          0.2486898871648548,
          0.18738131458572455,
          0.1253332335643041,
          0.06279051952931314,
          -3.216245299353273e-16,
          -0.06279051952931333,
          -0.1253332335643043,
          -0.18738131458572477,
          -0.24868988716485502,
          -0.30901699437494773,
          -0.36812455268467836,
          -0.4257792915650727,
          -0.4817536741017154,
          -0.5358267949789968,
          -0.5877852522924734,
          -0.63742398974869,
          -0.6845471059286887,
          -0.7289686274214116,
          -0.7705132427757894,
          -0.8090169943749473,
          -0.8443279255020153,
          -0.8763066800438636,
          -0.9048270524660198,
          -0.9297764858882515,
          -0.9510565162951535,
          -0.9685831611286312,
          -0.9822872507286887,
          -0.9921147013144779,
          -0.9980267284282716,
          -1,
          -0.9980267284282716,
          -0.9921147013144779,
          -0.9822872507286886,
          -0.9685831611286311,
          -0.9510565162951536,
          -0.9297764858882512,
          -0.9048270524660196,
          -0.8763066800438634,
          -0.8443279255020151,
          -0.809016994374947,
          -0.770513242775789,
          -0.7289686274214116,
          -0.6845471059286883,
          -0.6374239897486896,
          -0.5877852522924726,
          -0.5358267949789963,
          -0.4817536741017153,
          -0.4257792915650722,
          -0.3681245526846778,
          -0.3090169943749468,
          -0.2486898871648545,
          -0.18738131458572468,
          -0.1253332335643038,
          -0.06279051952931326,
          -2.4492935982947064e-16
         ]
        },
        {
         "mode": "lines+markers",
         "name": "1 component",
         "type": "scatter",
         "x": [
          0,
          0.06283185307179587,
          0.12566370614359174,
          0.1884955592153876,
          0.25132741228718347,
          0.3141592653589793,
          0.3769911184307752,
          0.4398229715025711,
          0.5026548245743669,
          0.5654866776461628,
          0.6283185307179586,
          0.6911503837897546,
          0.7539822368615504,
          0.8168140899333463,
          0.8796459430051422,
          0.942477796076938,
          1.0053096491487339,
          1.0681415022205298,
          1.1309733552923256,
          1.1938052083641215,
          1.2566370614359172,
          1.3194689145077132,
          1.3823007675795091,
          1.4451326206513049,
          1.5079644737231008,
          1.5707963267948968,
          1.6336281798666925,
          1.6964600329384885,
          1.7592918860102844,
          1.8221237390820801,
          1.884955592153876,
          1.9477874452256718,
          2.0106192982974678,
          2.0734511513692637,
          2.1362830044410597,
          2.199114857512855,
          2.261946710584651,
          2.324778563656447,
          2.387610416728243,
          2.450442269800039,
          2.5132741228718345,
          2.5761059759436304,
          2.6389378290154264,
          2.7017696820872223,
          2.7646015351590183,
          2.8274333882308142,
          2.8902652413026098,
          2.9530970943744057,
          3.0159289474462017,
          3.0787608005179976,
          3.1415926535897936,
          3.204424506661589,
          3.267256359733385,
          3.330088212805181,
          3.392920065876977,
          3.455751918948773,
          3.518583772020569,
          3.5814156250923643,
          3.6442474781641603,
          3.7070793312359562,
          3.769911184307752,
          3.832743037379548,
          3.8955748904513436,
          3.9584067435231396,
          4.0212385965949355,
          4.084070449666731,
          4.1469023027385274,
          4.209734155810323,
          4.272566008882119,
          4.335397861953915,
          4.39822971502571,
          4.461061568097507,
          4.523893421169302,
          4.586725274241099,
          4.649557127312894,
          4.71238898038469,
          4.775220833456486,
          4.838052686528282,
          4.900884539600078,
          4.9637163926718735,
          5.026548245743669,
          5.089380098815465,
          5.152211951887261,
          5.215043804959057,
          5.277875658030853,
          5.340707511102649,
          5.403539364174445,
          5.46637121724624,
          5.529203070318037,
          5.592034923389832,
          5.6548667764616285,
          5.717698629533424,
          5.7805304826052195,
          5.843362335677016,
          5.906194188748811,
          5.969026041820608,
          6.031857894892403,
          6.094689747964199,
          6.157521601035995,
          6.220353454107791,
          6.283185307179586
         ],
         "y": [
          1,
          0.9980267284282716,
          0.9921147013144779,
          0.9822872507286887,
          0.9685831611286311,
          0.9510565162951535,
          0.9297764858882513,
          0.9048270524660195,
          0.8763066800438636,
          0.8443279255020151,
          0.8090169943749475,
          0.7705132427757891,
          0.7289686274214116,
          0.6845471059286887,
          0.6374239897486896,
          0.5877852522924731,
          0.5358267949789967,
          0.4817536741017152,
          0.42577929156507266,
          0.36812455268467786,
          0.30901699437494745,
          0.24868988716485474,
          0.18738131458572452,
          0.12533323356430426,
          0.06279051952931329,
          -1.6081226496766366e-16,
          -0.0627905195293134,
          -0.12533323356430437,
          -0.18738131458572482,
          -0.24868988716485485,
          -0.30901699437494756,
          -0.368124552684678,
          -0.42577929156507277,
          -0.4817536741017154,
          -0.5358267949789968,
          -0.587785252292473,
          -0.6374239897486896,
          -0.6845471059286887,
          -0.7289686274214117,
          -0.7705132427757895,
          -0.8090169943749473,
          -0.8443279255020151,
          -0.8763066800438637,
          -0.9048270524660196,
          -0.9297764858882515,
          -0.9510565162951536,
          -0.9685831611286311,
          -0.9822872507286887,
          -0.9921147013144779,
          -0.9980267284282716,
          -1,
          -0.9980267284282716,
          -0.9921147013144779,
          -0.9822872507286886,
          -0.9685831611286311,
          -0.9510565162951534,
          -0.9297764858882512,
          -0.9048270524660195,
          -0.8763066800438635,
          -0.844327925502015,
          -0.8090169943749472,
          -0.770513242775789,
          -0.7289686274214116,
          -0.6845471059286886,
          -0.6374239897486896,
          -0.5877852522924732,
          -0.5358267949789963,
          -0.4817536741017153,
          -0.42577929156507216,
          -0.36812455268467775,
          -0.30901699437494756,
          -0.24868988716485443,
          -0.18738131458572463,
          -0.12533323356430373,
          -0.0627905195293132,
          -1.8369701987210297e-16,
          0.06279051952931372,
          0.12533323356430423,
          0.18738131458572513,
          0.24868988716485496,
          0.30901699437494723,
          0.3681245526846783,
          0.42577929156507266,
          0.4817536741017157,
          0.5358267949789967,
          0.5877852522924737,
          0.63742398974869,
          0.6845471059286886,
          0.7289686274214119,
          0.7705132427757894,
          0.8090169943749479,
          0.8443279255020153,
          0.8763066800438636,
          0.9048270524660198,
          0.9297764858882515,
          0.9510565162951538,
          0.9685831611286312,
          0.9822872507286887,
          0.9921147013144779,
          0.9980267284282716,
          1
         ]
        }
       ],
       "layout": {
        "autosize": true,
        "template": {
         "data": {
          "bar": [
           {
            "error_x": {
             "color": "#2a3f5f"
            },
            "error_y": {
             "color": "#2a3f5f"
            },
            "marker": {
             "line": {
              "color": "#E5ECF6",
              "width": 0.5
             }
            },
            "type": "bar"
           }
          ],
          "barpolar": [
           {
            "marker": {
             "line": {
              "color": "#E5ECF6",
              "width": 0.5
             }
            },
            "type": "barpolar"
           }
          ],
          "carpet": [
           {
            "aaxis": {
             "endlinecolor": "#2a3f5f",
             "gridcolor": "white",
             "linecolor": "white",
             "minorgridcolor": "white",
             "startlinecolor": "#2a3f5f"
            },
            "baxis": {
             "endlinecolor": "#2a3f5f",
             "gridcolor": "white",
             "linecolor": "white",
             "minorgridcolor": "white",
             "startlinecolor": "#2a3f5f"
            },
            "type": "carpet"
           }
          ],
          "choropleth": [
           {
            "colorbar": {
             "outlinewidth": 0,
             "ticks": ""
            },
            "type": "choropleth"
           }
          ],
          "contour": [
           {
            "colorbar": {
             "outlinewidth": 0,
             "ticks": ""
            },
            "colorscale": [
             [
              0,
              "#0d0887"
             ],
             [
              0.1111111111111111,
              "#46039f"
             ],
             [
              0.2222222222222222,
              "#7201a8"
             ],
             [
              0.3333333333333333,
              "#9c179e"
             ],
             [
              0.4444444444444444,
              "#bd3786"
             ],
             [
              0.5555555555555556,
              "#d8576b"
             ],
             [
              0.6666666666666666,
              "#ed7953"
             ],
             [
              0.7777777777777778,
              "#fb9f3a"
             ],
             [
              0.8888888888888888,
              "#fdca26"
             ],
             [
              1,
              "#f0f921"
             ]
            ],
            "type": "contour"
           }
          ],
          "contourcarpet": [
           {
            "colorbar": {
             "outlinewidth": 0,
             "ticks": ""
            },
            "type": "contourcarpet"
           }
          ],
          "heatmap": [
           {
            "colorbar": {
             "outlinewidth": 0,
             "ticks": ""
            },
            "colorscale": [
             [
              0,
              "#0d0887"
             ],
             [
              0.1111111111111111,
              "#46039f"
             ],
             [
              0.2222222222222222,
              "#7201a8"
             ],
             [
              0.3333333333333333,
              "#9c179e"
             ],
             [
              0.4444444444444444,
              "#bd3786"
             ],
             [
              0.5555555555555556,
              "#d8576b"
             ],
             [
              0.6666666666666666,
              "#ed7953"
             ],
             [
              0.7777777777777778,
              "#fb9f3a"
             ],
             [
              0.8888888888888888,
              "#fdca26"
             ],
             [
              1,
              "#f0f921"
             ]
            ],
            "type": "heatmap"
           }
          ],
          "heatmapgl": [
           {
            "colorbar": {
             "outlinewidth": 0,
             "ticks": ""
            },
            "colorscale": [
             [
              0,
              "#0d0887"
             ],
             [
              0.1111111111111111,
              "#46039f"
             ],
             [
              0.2222222222222222,
              "#7201a8"
             ],
             [
              0.3333333333333333,
              "#9c179e"
             ],
             [
              0.4444444444444444,
              "#bd3786"
             ],
             [
              0.5555555555555556,
              "#d8576b"
             ],
             [
              0.6666666666666666,
              "#ed7953"
             ],
             [
              0.7777777777777778,
              "#fb9f3a"
             ],
             [
              0.8888888888888888,
              "#fdca26"
             ],
             [
              1,
              "#f0f921"
             ]
            ],
            "type": "heatmapgl"
           }
          ],
          "histogram": [
           {
            "marker": {
             "colorbar": {
              "outlinewidth": 0,
              "ticks": ""
             }
            },
            "type": "histogram"
           }
          ],
          "histogram2d": [
           {
            "colorbar": {
             "outlinewidth": 0,
             "ticks": ""
            },
            "colorscale": [
             [
              0,
              "#0d0887"
             ],
             [
              0.1111111111111111,
              "#46039f"
             ],
             [
              0.2222222222222222,
              "#7201a8"
             ],
             [
              0.3333333333333333,
              "#9c179e"
             ],
             [
              0.4444444444444444,
              "#bd3786"
             ],
             [
              0.5555555555555556,
              "#d8576b"
             ],
             [
              0.6666666666666666,
              "#ed7953"
             ],
             [
              0.7777777777777778,
              "#fb9f3a"
             ],
             [
              0.8888888888888888,
              "#fdca26"
             ],
             [
              1,
              "#f0f921"
             ]
            ],
            "type": "histogram2d"
           }
          ],
          "histogram2dcontour": [
           {
            "colorbar": {
             "outlinewidth": 0,
             "ticks": ""
            },
            "colorscale": [
             [
              0,
              "#0d0887"
             ],
             [
              0.1111111111111111,
              "#46039f"
             ],
             [
              0.2222222222222222,
              "#7201a8"
             ],
             [
              0.3333333333333333,
              "#9c179e"
             ],
             [
              0.4444444444444444,
              "#bd3786"
             ],
             [
              0.5555555555555556,
              "#d8576b"
             ],
             [
              0.6666666666666666,
              "#ed7953"
             ],
             [
              0.7777777777777778,
              "#fb9f3a"
             ],
             [
              0.8888888888888888,
              "#fdca26"
             ],
             [
              1,
              "#f0f921"
             ]
            ],
            "type": "histogram2dcontour"
           }
          ],
          "mesh3d": [
           {
            "colorbar": {
             "outlinewidth": 0,
             "ticks": ""
            },
            "type": "mesh3d"
           }
          ],
          "parcoords": [
           {
            "line": {
             "colorbar": {
              "outlinewidth": 0,
              "ticks": ""
             }
            },
            "type": "parcoords"
           }
          ],
          "pie": [
           {
            "automargin": true,
            "type": "pie"
           }
          ],
          "scatter": [
           {
            "marker": {
             "colorbar": {
              "outlinewidth": 0,
              "ticks": ""
             }
            },
            "type": "scatter"
           }
          ],
          "scatter3d": [
           {
            "line": {
             "colorbar": {
              "outlinewidth": 0,
              "ticks": ""
             }
            },
            "marker": {
             "colorbar": {
              "outlinewidth": 0,
              "ticks": ""
             }
            },
            "type": "scatter3d"
           }
          ],
          "scattercarpet": [
           {
            "marker": {
             "colorbar": {
              "outlinewidth": 0,
              "ticks": ""
             }
            },
            "type": "scattercarpet"
           }
          ],
          "scattergeo": [
           {
            "marker": {
             "colorbar": {
              "outlinewidth": 0,
              "ticks": ""
             }
            },
            "type": "scattergeo"
           }
          ],
          "scattergl": [
           {
            "marker": {
             "colorbar": {
              "outlinewidth": 0,
              "ticks": ""
             }
            },
            "type": "scattergl"
           }
          ],
          "scattermapbox": [
           {
            "marker": {
             "colorbar": {
              "outlinewidth": 0,
              "ticks": ""
             }
            },
            "type": "scattermapbox"
           }
          ],
          "scatterpolar": [
           {
            "marker": {
             "colorbar": {
              "outlinewidth": 0,
              "ticks": ""
             }
            },
            "type": "scatterpolar"
           }
          ],
          "scatterpolargl": [
           {
            "marker": {
             "colorbar": {
              "outlinewidth": 0,
              "ticks": ""
             }
            },
            "type": "scatterpolargl"
           }
          ],
          "scatterternary": [
           {
            "marker": {
             "colorbar": {
              "outlinewidth": 0,
              "ticks": ""
             }
            },
            "type": "scatterternary"
           }
          ],
          "surface": [
           {
            "colorbar": {
             "outlinewidth": 0,
             "ticks": ""
            },
            "colorscale": [
             [
              0,
              "#0d0887"
             ],
             [
              0.1111111111111111,
              "#46039f"
             ],
             [
              0.2222222222222222,
              "#7201a8"
             ],
             [
              0.3333333333333333,
              "#9c179e"
             ],
             [
              0.4444444444444444,
              "#bd3786"
             ],
             [
              0.5555555555555556,
              "#d8576b"
             ],
             [
              0.6666666666666666,
              "#ed7953"
             ],
             [
              0.7777777777777778,
              "#fb9f3a"
             ],
             [
              0.8888888888888888,
              "#fdca26"
             ],
             [
              1,
              "#f0f921"
             ]
            ],
            "type": "surface"
           }
          ],
          "table": [
           {
            "cells": {
             "fill": {
              "color": "#EBF0F8"
             },
             "line": {
              "color": "white"
             }
            },
            "header": {
             "fill": {
              "color": "#C8D4E3"
             },
             "line": {
              "color": "white"
             }
            },
            "type": "table"
           }
          ]
         },
         "layout": {
          "annotationdefaults": {
           "arrowcolor": "#2a3f5f",
           "arrowhead": 0,
           "arrowwidth": 1
          },
          "autotypenumbers": "strict",
          "coloraxis": {
           "colorbar": {
            "outlinewidth": 0,
            "ticks": ""
           }
          },
          "colorscale": {
           "diverging": [
            [
             0,
             "#8e0152"
            ],
            [
             0.1,
             "#c51b7d"
            ],
            [
             0.2,
             "#de77ae"
            ],
            [
             0.3,
             "#f1b6da"
            ],
            [
             0.4,
             "#fde0ef"
            ],
            [
             0.5,
             "#f7f7f7"
            ],
            [
             0.6,
             "#e6f5d0"
            ],
            [
             0.7,
             "#b8e186"
            ],
            [
             0.8,
             "#7fbc41"
            ],
            [
             0.9,
             "#4d9221"
            ],
            [
             1,
             "#276419"
            ]
           ],
           "sequential": [
            [
             0,
             "#0d0887"
            ],
            [
             0.1111111111111111,
             "#46039f"
            ],
            [
             0.2222222222222222,
             "#7201a8"
            ],
            [
             0.3333333333333333,
             "#9c179e"
            ],
            [
             0.4444444444444444,
             "#bd3786"
            ],
            [
             0.5555555555555556,
             "#d8576b"
            ],
            [
             0.6666666666666666,
             "#ed7953"
            ],
            [
             0.7777777777777778,
             "#fb9f3a"
            ],
            [
             0.8888888888888888,
             "#fdca26"
            ],
            [
             1,
             "#f0f921"
            ]
           ],
           "sequentialminus": [
            [
             0,
             "#0d0887"
            ],
            [
             0.1111111111111111,
             "#46039f"
            ],
            [
             0.2222222222222222,
             "#7201a8"
            ],
            [
             0.3333333333333333,
             "#9c179e"
            ],
            [
             0.4444444444444444,
             "#bd3786"
            ],
            [
             0.5555555555555556,
             "#d8576b"
            ],
            [
             0.6666666666666666,
             "#ed7953"
            ],
            [
             0.7777777777777778,
             "#fb9f3a"
            ],
            [
             0.8888888888888888,
             "#fdca26"
            ],
            [
             1,
             "#f0f921"
            ]
           ]
          },
          "colorway": [
           "#636efa",
           "#EF553B",
           "#00cc96",
           "#ab63fa",
           "#FFA15A",
           "#19d3f3",
           "#FF6692",
           "#B6E880",
           "#FF97FF",
           "#FECB52"
          ],
          "font": {
           "color": "#2a3f5f"
          },
          "geo": {
           "bgcolor": "white",
           "lakecolor": "white",
           "landcolor": "#E5ECF6",
           "showlakes": true,
           "showland": true,
           "subunitcolor": "white"
          },
          "hoverlabel": {
           "align": "left"
          },
          "hovermode": "closest",
          "mapbox": {
           "style": "light"
          },
          "paper_bgcolor": "white",
          "plot_bgcolor": "#E5ECF6",
          "polar": {
           "angularaxis": {
            "gridcolor": "white",
            "linecolor": "white",
            "ticks": ""
           },
           "bgcolor": "#E5ECF6",
           "radialaxis": {
            "gridcolor": "white",
            "linecolor": "white",
            "ticks": ""
           }
          },
          "scene": {
           "xaxis": {
            "backgroundcolor": "#E5ECF6",
            "gridcolor": "white",
            "gridwidth": 2,
            "linecolor": "white",
            "showbackground": true,
            "ticks": "",
            "zerolinecolor": "white"
           },
           "yaxis": {
            "backgroundcolor": "#E5ECF6",
            "gridcolor": "white",
            "gridwidth": 2,
            "linecolor": "white",
            "showbackground": true,
            "ticks": "",
            "zerolinecolor": "white"
           },
           "zaxis": {
            "backgroundcolor": "#E5ECF6",
            "gridcolor": "white",
            "gridwidth": 2,
            "linecolor": "white",
            "showbackground": true,
            "ticks": "",
            "zerolinecolor": "white"
           }
          },
          "shapedefaults": {
           "line": {
            "color": "#2a3f5f"
           }
          },
          "ternary": {
           "aaxis": {
            "gridcolor": "white",
            "linecolor": "white",
            "ticks": ""
           },
           "baxis": {
            "gridcolor": "white",
            "linecolor": "white",
            "ticks": ""
           },
           "bgcolor": "#E5ECF6",
           "caxis": {
            "gridcolor": "white",
            "linecolor": "white",
            "ticks": ""
           }
          },
          "title": {
           "x": 0.05
          },
          "xaxis": {
           "automargin": true,
           "gridcolor": "white",
           "linecolor": "white",
           "ticks": "",
           "title": {
            "standoff": 15
           },
           "zerolinecolor": "white",
           "zerolinewidth": 2
          },
          "yaxis": {
           "automargin": true,
           "gridcolor": "white",
           "linecolor": "white",
           "ticks": "",
           "title": {
            "standoff": 15
           },
           "zerolinecolor": "white",
           "zerolinewidth": 2
          }
         }
        },
        "xaxis": {
         "autorange": true,
         "range": [
          -0.4002185248418416,
          6.683403832021428
         ],
         "type": "linear"
        },
        "yaxis": {
         "autorange": true,
         "range": [
          -1.1464968152866242,
          1.1464968152866242
         ],
         "type": "linear"
        }
       }
      },
      "image/png": "[encoded data removed]",
      "text/html": [
       "<div>                            <div id=\"9d96ce48-d81b-48d3-a13f-37e976ee52ba\" class=\"plotly-graph-div\" style=\"height:525px; width:100%;\"></div>            <script type=\"text/javascript\">                require([\"plotly\"], function(Plotly) {                    window.PLOTLYENV=window.PLOTLYENV || {};                                    if (document.getElementById(\"9d96ce48-d81b-48d3-a13f-37e976ee52ba\")) {                    Plotly.newPlot(                        \"9d96ce48-d81b-48d3-a13f-37e976ee52ba\",                        [{\"mode\": \"lines+markers\", \"name\": \"0 component\", \"type\": \"scatter\", \"x\": [0.0, 0.06283185307179587, 0.12566370614359174, 0.1884955592153876, 0.25132741228718347, 0.3141592653589793, 0.3769911184307752, 0.4398229715025711, 0.5026548245743669, 0.5654866776461628, 0.6283185307179586, 0.6911503837897546, 0.7539822368615504, 0.8168140899333463, 0.8796459430051422, 0.942477796076938, 1.0053096491487339, 1.0681415022205298, 1.1309733552923256, 1.1938052083641215, 1.2566370614359172, 1.3194689145077132, 1.3823007675795091, 1.4451326206513049, 1.5079644737231008, 1.5707963267948968, 1.6336281798666925, 1.6964600329384885, 1.7592918860102844, 1.8221237390820801, 1.884955592153876, 1.9477874452256718, 2.0106192982974678, 2.0734511513692637, 2.1362830044410597, 2.199114857512855, 2.261946710584651, 2.324778563656447, 2.387610416728243, 2.450442269800039, 2.5132741228718345, 2.5761059759436304, 2.6389378290154264, 2.7017696820872223, 2.7646015351590183, 2.8274333882308142, 2.8902652413026098, 2.9530970943744057, 3.0159289474462017, 3.0787608005179976, 3.1415926535897936, 3.204424506661589, 3.267256359733385, 3.330088212805181, 3.392920065876977, 3.455751918948773, 3.518583772020569, 3.5814156250923643, 3.6442474781641603, 3.7070793312359562, 3.769911184307752, 3.832743037379548, 3.8955748904513436, 3.9584067435231396, 4.0212385965949355, 4.084070449666731, 4.1469023027385274, 4.209734155810323, 4.272566008882119, 4.335397861953915, 4.39822971502571, 4.461061568097507, 4.523893421169302, 4.586725274241099, 4.649557127312894, 4.71238898038469, 4.775220833456486, 4.838052686528282, 4.900884539600078, 4.9637163926718735, 5.026548245743669, 5.089380098815465, 5.152211951887261, 5.215043804959057, 5.277875658030853, 5.340707511102649, 5.403539364174445, 5.46637121724624, 5.529203070318037, 5.592034923389832, 5.6548667764616285, 5.717698629533424, 5.7805304826052195, 5.843362335677016, 5.906194188748811, 5.969026041820608, 6.031857894892403, 6.094689747964199, 6.157521601035995, 6.220353454107791, 6.283185307179586], \"y\": [0.0, 0.06279051952931337, 0.12533323356430426, 0.18738131458572463, 0.2486898871648548, 0.3090169943749474, 0.368124552684678, 0.4257792915650727, 0.4817536741017153, 0.5358267949789967, 0.5877852522924731, 0.6374239897486897, 0.6845471059286887, 0.7289686274214116, 0.7705132427757893, 0.8090169943749475, 0.8443279255020151, 0.8763066800438637, 0.9048270524660196, 0.9297764858882515, 0.9510565162951535, 0.9685831611286311, 0.9822872507286887, 0.9921147013144779, 0.9980267284282716, 1.0, 0.9980267284282716, 0.9921147013144778, 0.9822872507286886, 0.9685831611286311, 0.9510565162951535, 0.9297764858882513, 0.9048270524660195, 0.8763066800438635, 0.844327925502015, 0.8090169943749475, 0.7705132427757893, 0.7289686274214116, 0.6845471059286885, 0.6374239897486895, 0.5877852522924732, 0.5358267949789967, 0.4817536741017152, 0.4257792915650725, 0.3681245526846777, 0.3090169943749471, 0.2486898871648548, 0.18738131458572455, 0.1253332335643041, 0.06279051952931314, -3.216245299353273e-16, -0.06279051952931333, -0.1253332335643043, -0.18738131458572477, -0.24868988716485502, -0.30901699437494773, -0.36812455268467836, -0.4257792915650727, -0.4817536741017154, -0.5358267949789968, -0.5877852522924734, -0.63742398974869, -0.6845471059286887, -0.7289686274214116, -0.7705132427757894, -0.8090169943749473, -0.8443279255020153, -0.8763066800438636, -0.9048270524660198, -0.9297764858882515, -0.9510565162951535, -0.9685831611286312, -0.9822872507286887, -0.9921147013144779, -0.9980267284282716, -1.0, -0.9980267284282716, -0.9921147013144779, -0.9822872507286886, -0.9685831611286311, -0.9510565162951536, -0.9297764858882512, -0.9048270524660196, -0.8763066800438634, -0.8443279255020151, -0.809016994374947, -0.770513242775789, -0.7289686274214116, -0.6845471059286883, -0.6374239897486896, -0.5877852522924726, -0.5358267949789963, -0.4817536741017153, -0.4257792915650722, -0.3681245526846778, -0.3090169943749468, -0.2486898871648545, -0.18738131458572468, -0.1253332335643038, -0.06279051952931326, -2.4492935982947064e-16]}, {\"mode\": \"lines+markers\", \"name\": \"1 component\", \"type\": \"scatter\", \"x\": [0.0, 0.06283185307179587, 0.12566370614359174, 0.1884955592153876, 0.25132741228718347, 0.3141592653589793, 0.3769911184307752, 0.4398229715025711, 0.5026548245743669, 0.5654866776461628, 0.6283185307179586, 0.6911503837897546, 0.7539822368615504, 0.8168140899333463, 0.8796459430051422, 0.942477796076938, 1.0053096491487339, 1.0681415022205298, 1.1309733552923256, 1.1938052083641215, 1.2566370614359172, 1.3194689145077132, 1.3823007675795091, 1.4451326206513049, 1.5079644737231008, 1.5707963267948968, 1.6336281798666925, 1.6964600329384885, 1.7592918860102844, 1.8221237390820801, 1.884955592153876, 1.9477874452256718, 2.0106192982974678, 2.0734511513692637, 2.1362830044410597, 2.199114857512855, 2.261946710584651, 2.324778563656447, 2.387610416728243, 2.450442269800039, 2.5132741228718345, 2.5761059759436304, 2.6389378290154264, 2.7017696820872223, 2.7646015351590183, 2.8274333882308142, 2.8902652413026098, 2.9530970943744057, 3.0159289474462017, 3.0787608005179976, 3.1415926535897936, 3.204424506661589, 3.267256359733385, 3.330088212805181, 3.392920065876977, 3.455751918948773, 3.518583772020569, 3.5814156250923643, 3.6442474781641603, 3.7070793312359562, 3.769911184307752, 3.832743037379548, 3.8955748904513436, 3.9584067435231396, 4.0212385965949355, 4.084070449666731, 4.1469023027385274, 4.209734155810323, 4.272566008882119, 4.335397861953915, 4.39822971502571, 4.461061568097507, 4.523893421169302, 4.586725274241099, 4.649557127312894, 4.71238898038469, 4.775220833456486, 4.838052686528282, 4.900884539600078, 4.9637163926718735, 5.026548245743669, 5.089380098815465, 5.152211951887261, 5.215043804959057, 5.277875658030853, 5.340707511102649, 5.403539364174445, 5.46637121724624, 5.529203070318037, 5.592034923389832, 5.6548667764616285, 5.717698629533424, 5.7805304826052195, 5.843362335677016, 5.906194188748811, 5.969026041820608, 6.031857894892403, 6.094689747964199, 6.157521601035995, 6.220353454107791, 6.283185307179586], \"y\": [1.0, 0.9980267284282716, 0.9921147013144779, 0.9822872507286887, 0.9685831611286311, 0.9510565162951535, 0.9297764858882513, 0.9048270524660195, 0.8763066800438636, 0.8443279255020151, 0.8090169943749475, 0.7705132427757891, 0.7289686274214116, 0.6845471059286887, 0.6374239897486896, 0.5877852522924731, 0.5358267949789967, 0.4817536741017152, 0.42577929156507266, 0.36812455268467786, 0.30901699437494745, 0.24868988716485474, 0.18738131458572452, 0.12533323356430426, 0.06279051952931329, -1.6081226496766366e-16, -0.0627905195293134, -0.12533323356430437, -0.18738131458572482, -0.24868988716485485, -0.30901699437494756, -0.368124552684678, -0.42577929156507277, -0.4817536741017154, -0.5358267949789968, -0.587785252292473, -0.6374239897486896, -0.6845471059286887, -0.7289686274214117, -0.7705132427757895, -0.8090169943749473, -0.8443279255020151, -0.8763066800438637, -0.9048270524660196, -0.9297764858882515, -0.9510565162951536, -0.9685831611286311, -0.9822872507286887, -0.9921147013144779, -0.9980267284282716, -1.0, -0.9980267284282716, -0.9921147013144779, -0.9822872507286886, -0.9685831611286311, -0.9510565162951534, -0.9297764858882512, -0.9048270524660195, -0.8763066800438635, -0.844327925502015, -0.8090169943749472, -0.770513242775789, -0.7289686274214116, -0.6845471059286886, -0.6374239897486896, -0.5877852522924732, -0.5358267949789963, -0.4817536741017153, -0.42577929156507216, -0.36812455268467775, -0.30901699437494756, -0.24868988716485443, -0.18738131458572463, -0.12533323356430373, -0.0627905195293132, -1.8369701987210297e-16, 0.06279051952931372, 0.12533323356430423, 0.18738131458572513, 0.24868988716485496, 0.30901699437494723, 0.3681245526846783, 0.42577929156507266, 0.4817536741017157, 0.5358267949789967, 0.5877852522924737, 0.63742398974869, 0.6845471059286886, 0.7289686274214119, 0.7705132427757894, 0.8090169943749479, 0.8443279255020153, 0.8763066800438636, 0.9048270524660198, 0.9297764858882515, 0.9510565162951538, 0.9685831611286312, 0.9822872507286887, 0.9921147013144779, 0.9980267284282716, 1.0]}],                        {\"template\": {\"data\": {\"bar\": [{\"error_x\": {\"color\": \"#2a3f5f\"}, \"error_y\": {\"color\": \"#2a3f5f\"}, \"marker\": {\"line\": {\"color\": \"#E5ECF6\", \"width\": 0.5}}, \"type\": \"bar\"}], \"barpolar\": [{\"marker\": {\"line\": {\"color\": \"#E5ECF6\", \"width\": 0.5}}, \"type\": \"barpolar\"}], \"carpet\": [{\"aaxis\": {\"endlinecolor\": \"#2a3f5f\", \"gridcolor\": \"white\", \"linecolor\": \"white\", \"minorgridcolor\": \"white\", \"startlinecolor\": \"#2a3f5f\"}, \"baxis\": {\"endlinecolor\": \"#2a3f5f\", \"gridcolor\": \"white\", \"linecolor\": \"white\", \"minorgridcolor\": \"white\", \"startlinecolor\": \"#2a3f5f\"}, \"type\": \"carpet\"}], \"choropleth\": [{\"colorbar\": {\"outlinewidth\": 0, \"ticks\": \"\"}, \"type\": \"choropleth\"}], \"contour\": [{\"colorbar\": {\"outlinewidth\": 0, \"ticks\": \"\"}, \"colorscale\": [[0.0, \"#0d0887\"], [0.1111111111111111, \"#46039f\"], [0.2222222222222222, \"#7201a8\"], [0.3333333333333333, \"#9c179e\"], [0.4444444444444444, \"#bd3786\"], [0.5555555555555556, \"#d8576b\"], [0.6666666666666666, \"#ed7953\"], [0.7777777777777778, \"#fb9f3a\"], [0.8888888888888888, \"#fdca26\"], [1.0, \"#f0f921\"]], \"type\": \"contour\"}], \"contourcarpet\": [{\"colorbar\": {\"outlinewidth\": 0, \"ticks\": \"\"}, \"type\": \"contourcarpet\"}], \"heatmap\": [{\"colorbar\": {\"outlinewidth\": 0, \"ticks\": \"\"}, \"colorscale\": [[0.0, \"#0d0887\"], [0.1111111111111111, \"#46039f\"], [0.2222222222222222, \"#7201a8\"], [0.3333333333333333, \"#9c179e\"], [0.4444444444444444, \"#bd3786\"], [0.5555555555555556, \"#d8576b\"], [0.6666666666666666, \"#ed7953\"], [0.7777777777777778, \"#fb9f3a\"], [0.8888888888888888, \"#fdca26\"], [1.0, \"#f0f921\"]], \"type\": \"heatmap\"}], \"heatmapgl\": [{\"colorbar\": {\"outlinewidth\": 0, \"ticks\": \"\"}, \"colorscale\": [[0.0, \"#0d0887\"], [0.1111111111111111, \"#46039f\"], [0.2222222222222222, \"#7201a8\"], [0.3333333333333333, \"#9c179e\"], [0.4444444444444444, \"#bd3786\"], [0.5555555555555556, \"#d8576b\"], [0.6666666666666666, \"#ed7953\"], [0.7777777777777778, \"#fb9f3a\"], [0.8888888888888888, \"#fdca26\"], [1.0, \"#f0f921\"]], \"type\": \"heatmapgl\"}], \"histogram\": [{\"marker\": {\"colorbar\": {\"outlinewidth\": 0, \"ticks\": \"\"}}, \"type\": \"histogram\"}], \"histogram2d\": [{\"colorbar\": {\"outlinewidth\": 0, \"ticks\": \"\"}, \"colorscale\": [[0.0, \"#0d0887\"], [0.1111111111111111, \"#46039f\"], [0.2222222222222222, \"#7201a8\"], [0.3333333333333333, \"#9c179e\"], [0.4444444444444444, \"#bd3786\"], [0.5555555555555556, \"#d8576b\"], [0.6666666666666666, \"#ed7953\"], [0.7777777777777778, \"#fb9f3a\"], [0.8888888888888888, \"#fdca26\"], [1.0, \"#f0f921\"]], \"type\": \"histogram2d\"}], \"histogram2dcontour\": [{\"colorbar\": {\"outlinewidth\": 0, \"ticks\": \"\"}, \"colorscale\": [[0.0, \"#0d0887\"], [0.1111111111111111, \"#46039f\"], [0.2222222222222222, \"#7201a8\"], [0.3333333333333333, \"#9c179e\"], [0.4444444444444444, \"#bd3786\"], [0.5555555555555556, \"#d8576b\"], [0.6666666666666666, \"#ed7953\"], [0.7777777777777778, \"#fb9f3a\"], [0.8888888888888888, \"#fdca26\"], [1.0, \"#f0f921\"]], \"type\": \"histogram2dcontour\"}], \"mesh3d\": [{\"colorbar\": {\"outlinewidth\": 0, \"ticks\": \"\"}, \"type\": \"mesh3d\"}], \"parcoords\": [{\"line\": {\"colorbar\": {\"outlinewidth\": 0, \"ticks\": \"\"}}, \"type\": \"parcoords\"}], \"pie\": [{\"automargin\": true, \"type\": \"pie\"}], \"scatter\": [{\"marker\": {\"colorbar\": {\"outlinewidth\": 0, \"ticks\": \"\"}}, \"type\": \"scatter\"}], \"scatter3d\": [{\"line\": {\"colorbar\": {\"outlinewidth\": 0, \"ticks\": \"\"}}, \"marker\": {\"colorbar\": {\"outlinewidth\": 0, \"ticks\": \"\"}}, \"type\": \"scatter3d\"}], \"scattercarpet\": [{\"marker\": {\"colorbar\": {\"outlinewidth\": 0, \"ticks\": \"\"}}, \"type\": \"scattercarpet\"}], \"scattergeo\": [{\"marker\": {\"colorbar\": {\"outlinewidth\": 0, \"ticks\": \"\"}}, \"type\": \"scattergeo\"}], \"scattergl\": [{\"marker\": {\"colorbar\": {\"outlinewidth\": 0, \"ticks\": \"\"}}, \"type\": \"scattergl\"}], \"scattermapbox\": [{\"marker\": {\"colorbar\": {\"outlinewidth\": 0, \"ticks\": \"\"}}, \"type\": \"scattermapbox\"}], \"scatterpolar\": [{\"marker\": {\"colorbar\": {\"outlinewidth\": 0, \"ticks\": \"\"}}, \"type\": \"scatterpolar\"}], \"scatterpolargl\": [{\"marker\": {\"colorbar\": {\"outlinewidth\": 0, \"ticks\": \"\"}}, \"type\": \"scatterpolargl\"}], \"scatterternary\": [{\"marker\": {\"colorbar\": {\"outlinewidth\": 0, \"ticks\": \"\"}}, \"type\": \"scatterternary\"}], \"surface\": [{\"colorbar\": {\"outlinewidth\": 0, \"ticks\": \"\"}, \"colorscale\": [[0.0, \"#0d0887\"], [0.1111111111111111, \"#46039f\"], [0.2222222222222222, \"#7201a8\"], [0.3333333333333333, \"#9c179e\"], [0.4444444444444444, \"#bd3786\"], [0.5555555555555556, \"#d8576b\"], [0.6666666666666666, \"#ed7953\"], [0.7777777777777778, \"#fb9f3a\"], [0.8888888888888888, \"#fdca26\"], [1.0, \"#f0f921\"]], \"type\": \"surface\"}], \"table\": [{\"cells\": {\"fill\": {\"color\": \"#EBF0F8\"}, \"line\": {\"color\": \"white\"}}, \"header\": {\"fill\": {\"color\": \"#C8D4E3\"}, \"line\": {\"color\": \"white\"}}, \"type\": \"table\"}]}, \"layout\": {\"annotationdefaults\": {\"arrowcolor\": \"#2a3f5f\", \"arrowhead\": 0, \"arrowwidth\": 1}, \"autotypenumbers\": \"strict\", \"coloraxis\": {\"colorbar\": {\"outlinewidth\": 0, \"ticks\": \"\"}}, \"colorscale\": {\"diverging\": [[0, \"#8e0152\"], [0.1, \"#c51b7d\"], [0.2, \"#de77ae\"], [0.3, \"#f1b6da\"], [0.4, \"#fde0ef\"], [0.5, \"#f7f7f7\"], [0.6, \"#e6f5d0\"], [0.7, \"#b8e186\"], [0.8, \"#7fbc41\"], [0.9, \"#4d9221\"], [1, \"#276419\"]], \"sequential\": [[0.0, \"#0d0887\"], [0.1111111111111111, \"#46039f\"], [0.2222222222222222, \"#7201a8\"], [0.3333333333333333, \"#9c179e\"], [0.4444444444444444, \"#bd3786\"], [0.5555555555555556, \"#d8576b\"], [0.6666666666666666, \"#ed7953\"], [0.7777777777777778, \"#fb9f3a\"], [0.8888888888888888, \"#fdca26\"], [1.0, \"#f0f921\"]], \"sequentialminus\": [[0.0, \"#0d0887\"], [0.1111111111111111, \"#46039f\"], [0.2222222222222222, \"#7201a8\"], [0.3333333333333333, \"#9c179e\"], [0.4444444444444444, \"#bd3786\"], [0.5555555555555556, \"#d8576b\"], [0.6666666666666666, \"#ed7953\"], [0.7777777777777778, \"#fb9f3a\"], [0.8888888888888888, \"#fdca26\"], [1.0, \"#f0f921\"]]}, \"colorway\": [\"#636efa\", \"#EF553B\", \"#00cc96\", \"#ab63fa\", \"#FFA15A\", \"#19d3f3\", \"#FF6692\", \"#B6E880\", \"#FF97FF\", \"#FECB52\"], \"font\": {\"color\": \"#2a3f5f\"}, \"geo\": {\"bgcolor\": \"white\", \"lakecolor\": \"white\", \"landcolor\": \"#E5ECF6\", \"showlakes\": true, \"showland\": true, \"subunitcolor\": \"white\"}, \"hoverlabel\": {\"align\": \"left\"}, \"hovermode\": \"closest\", \"mapbox\": {\"style\": \"light\"}, \"paper_bgcolor\": \"white\", \"plot_bgcolor\": \"#E5ECF6\", \"polar\": {\"angularaxis\": {\"gridcolor\": \"white\", \"linecolor\": \"white\", \"ticks\": \"\"}, \"bgcolor\": \"#E5ECF6\", \"radialaxis\": {\"gridcolor\": \"white\", \"linecolor\": \"white\", \"ticks\": \"\"}}, \"scene\": {\"xaxis\": {\"backgroundcolor\": \"#E5ECF6\", \"gridcolor\": \"white\", \"gridwidth\": 2, \"linecolor\": \"white\", \"showbackground\": true, \"ticks\": \"\", \"zerolinecolor\": \"white\"}, \"yaxis\": {\"backgroundcolor\": \"#E5ECF6\", \"gridcolor\": \"white\", \"gridwidth\": 2, \"linecolor\": \"white\", \"showbackground\": true, \"ticks\": \"\", \"zerolinecolor\": \"white\"}, \"zaxis\": {\"backgroundcolor\": \"#E5ECF6\", \"gridcolor\": \"white\", \"gridwidth\": 2, \"linecolor\": \"white\", \"showbackground\": true, \"ticks\": \"\", \"zerolinecolor\": \"white\"}}, \"shapedefaults\": {\"line\": {\"color\": \"#2a3f5f\"}}, \"ternary\": {\"aaxis\": {\"gridcolor\": \"white\", \"linecolor\": \"white\", \"ticks\": \"\"}, \"baxis\": {\"gridcolor\": \"white\", \"linecolor\": \"white\", \"ticks\": \"\"}, \"bgcolor\": \"#E5ECF6\", \"caxis\": {\"gridcolor\": \"white\", \"linecolor\": \"white\", \"ticks\": \"\"}}, \"title\": {\"x\": 0.05}, \"xaxis\": {\"automargin\": true, \"gridcolor\": \"white\", \"linecolor\": \"white\", \"ticks\": \"\", \"title\": {\"standoff\": 15}, \"zerolinecolor\": \"white\", \"zerolinewidth\": 2}, \"yaxis\": {\"automargin\": true, \"gridcolor\": \"white\", \"linecolor\": \"white\", \"ticks\": \"\", \"title\": {\"standoff\": 15}, \"zerolinecolor\": \"white\", \"zerolinewidth\": 2}}}},                        {\"responsive\": true}                    ).then(function(){\n",
       "                            \n",
       "var gd = document.getElementById('9d96ce48-d81b-48d3-a13f-37e976ee52ba');\n",
       "var x = new MutationObserver(function (mutations, observer) {{\n",
       "        var display = window.getComputedStyle(gd).display;\n",
       "        if (!display || display === 'none') {{\n",
       "            console.log([gd, 'removed!']);\n",
       "            Plotly.purge(gd);\n",
       "            observer.disconnect();\n",
       "        }}\n",
       "}});\n",
       "\n",
       "// Listen for the removal of the full notebook cells\n",
       "var notebookContainer = gd.closest('#notebook-container');\n",
       "if (notebookContainer) {{\n",
       "    x.observe(notebookContainer, {childList: true});\n",
       "}}\n",
       "\n",
       "// Listen for the clearing of the current output cell\n",
       "var outputEl = gd.closest('.output');\n",
       "if (outputEl) {{\n",
       "    x.observe(outputEl, {childList: true});\n",
       "}}\n",
       "\n",
       "                        })                };                });            </script>        </div>"
      ]
     },
     "metadata": {},
     "output_type": "display_data"
    }
   ],
   "source": [
    "vs.preview()"
   ]
  },
  {
   "cell_type": "code",
   "execution_count": 8,
   "metadata": {},
   "outputs": [],
   "source": [
    "# binary\n",
    "# tem = 2*vs + 2\n",
    "# tem.preview()\n",
    "# iter\n",
    "# for t, y in vs:\n",
    "#     print(t, y)\n",
    "# shift\n",
    "# vs.shift(2).preview()\n",
    "# redshift\n",
    "# vs.redshift(1).preview()\n",
    "# crop\n",
    "# vs.crop(np.pi, 2*np.pi).preview()\n",
    "# remove_mean\n",
    "# tem = vs + 2\n",
    "# tem.remove_mean().preview()\n",
    "# Resample the timeseries to regularly spaced times\n",
    "# vs.regular_resample().preview()\n",
    "# integrate\n",
    "# ts.integrate().preview()\n",
    "# gradient\n",
    "# ts.gradient().preview()\n",
    "# polyfit\n",
    "# ts.polyfit(3)"
   ]
  },
  {
   "cell_type": "markdown",
   "metadata": {},
   "source": [
    "## DataSeries"
   ]
  },
  {
   "cell_type": "code",
   "execution_count": 9,
   "metadata": {},
   "outputs": [],
   "source": [
    "from CactusTool import DataSeries\n",
    "import numpy as np\n",
    "\n",
    "t = np.linspace(0, 2 * np.pi, 101)\n",
    "y = np.vstack((np.sin(t), np.cos(t))).T\n",
    "columns = ['sin', 'cos']\n",
    "ds = DataSeries(t, y, columns, CU=False)"
   ]
  },
  {
   "cell_type": "code",
   "execution_count": 10,
   "metadata": {},
   "outputs": [
    {
     "data": {
      "application/vnd.plotly.v1+json": {
       "config": {
        "plotlyServerURL": "https://plot.ly"
       },
       "data": [
        {
         "mode": "lines+markers",
         "name": "sin",
         "type": "scatter",
         "x": [
          0,
          0.06283185307179587,
          0.12566370614359174,
          0.1884955592153876,
          0.25132741228718347,
          0.3141592653589793,
          0.3769911184307752,
          0.4398229715025711,
          0.5026548245743669,
          0.5654866776461628,
          0.6283185307179586,
          0.6911503837897546,
          0.7539822368615504,
          0.8168140899333463,
          0.8796459430051422,
          0.942477796076938,
          1.0053096491487339,
          1.0681415022205298,
          1.1309733552923256,
          1.1938052083641215,
          1.2566370614359172,
          1.3194689145077132,
          1.3823007675795091,
          1.4451326206513049,
          1.5079644737231008,
          1.5707963267948968,
          1.6336281798666925,
          1.6964600329384885,
          1.7592918860102844,
          1.8221237390820801,
          1.884955592153876,
          1.9477874452256718,
          2.0106192982974678,
          2.0734511513692637,
          2.1362830044410597,
          2.199114857512855,
          2.261946710584651,
          2.324778563656447,
          2.387610416728243,
          2.450442269800039,
          2.5132741228718345,
          2.5761059759436304,
          2.6389378290154264,
          2.7017696820872223,
          2.7646015351590183,
          2.8274333882308142,
          2.8902652413026098,
          2.9530970943744057,
          3.0159289474462017,
          3.0787608005179976,
          3.1415926535897936,
          3.204424506661589,
          3.267256359733385,
          3.330088212805181,
          3.392920065876977,
          3.455751918948773,
          3.518583772020569,
          3.5814156250923643,
          3.6442474781641603,
          3.7070793312359562,
          3.769911184307752,
          3.832743037379548,
          3.8955748904513436,
          3.9584067435231396,
          4.0212385965949355,
          4.084070449666731,
          4.1469023027385274,
          4.209734155810323,
          4.272566008882119,
          4.335397861953915,
          4.39822971502571,
          4.461061568097507,
          4.523893421169302,
          4.586725274241099,
          4.649557127312894,
          4.71238898038469,
          4.775220833456486,
          4.838052686528282,
          4.900884539600078,
          4.9637163926718735,
          5.026548245743669,
          5.089380098815465,
          5.152211951887261,
          5.215043804959057,
          5.277875658030853,
          5.340707511102649,
          5.403539364174445,
          5.46637121724624,
          5.529203070318037,
          5.592034923389832,
          5.6548667764616285,
          5.717698629533424,
          5.7805304826052195,
          5.843362335677016,
          5.906194188748811,
          5.969026041820608,
          6.031857894892403,
          6.094689747964199,
          6.157521601035995,
          6.220353454107791,
          6.283185307179586
         ],
         "y": [
          0,
          0.06279051952931337,
          0.12533323356430426,
          0.18738131458572463,
          0.2486898871648548,
          0.3090169943749474,
          0.368124552684678,
          0.4257792915650727,
          0.4817536741017153,
          0.5358267949789967,
          0.5877852522924731,
          0.6374239897486897,
          0.6845471059286887,
          0.7289686274214116,
          0.7705132427757893,
          0.8090169943749475,
          0.8443279255020151,
          0.8763066800438637,
          0.9048270524660196,
          0.9297764858882515,
          0.9510565162951535,
          0.9685831611286311,
          0.9822872507286887,
          0.9921147013144779,
          0.9980267284282716,
          1,
          0.9980267284282716,
          0.9921147013144778,
          0.9822872507286886,
          0.9685831611286311,
          0.9510565162951535,
          0.9297764858882513,
          0.9048270524660195,
          0.8763066800438635,
          0.844327925502015,
          0.8090169943749475,
          0.7705132427757893,
          0.7289686274214116,
          0.6845471059286885,
          0.6374239897486895,
          0.5877852522924732,
          0.5358267949789967,
          0.4817536741017152,
          0.4257792915650725,
          0.3681245526846777,
          0.3090169943749471,
          0.2486898871648548,
          0.18738131458572455,
          0.1253332335643041,
          0.06279051952931314,
          -3.216245299353273e-16,
          -0.06279051952931333,
          -0.1253332335643043,
          -0.18738131458572477,
          -0.24868988716485502,
          -0.30901699437494773,
          -0.36812455268467836,
          -0.4257792915650727,
          -0.4817536741017154,
          -0.5358267949789968,
          -0.5877852522924734,
          -0.63742398974869,
          -0.6845471059286887,
          -0.7289686274214116,
          -0.7705132427757894,
          -0.8090169943749473,
          -0.8443279255020153,
          -0.8763066800438636,
          -0.9048270524660198,
          -0.9297764858882515,
          -0.9510565162951535,
          -0.9685831611286312,
          -0.9822872507286887,
          -0.9921147013144779,
          -0.9980267284282716,
          -1,
          -0.9980267284282716,
          -0.9921147013144779,
          -0.9822872507286886,
          -0.9685831611286311,
          -0.9510565162951536,
          -0.9297764858882512,
          -0.9048270524660196,
          -0.8763066800438634,
          -0.8443279255020151,
          -0.809016994374947,
          -0.770513242775789,
          -0.7289686274214116,
          -0.6845471059286883,
          -0.6374239897486896,
          -0.5877852522924726,
          -0.5358267949789963,
          -0.4817536741017153,
          -0.4257792915650722,
          -0.3681245526846778,
          -0.3090169943749468,
          -0.2486898871648545,
          -0.18738131458572468,
          -0.1253332335643038,
          -0.06279051952931326,
          -2.4492935982947064e-16
         ]
        },
        {
         "mode": "lines+markers",
         "name": "cos",
         "type": "scatter",
         "x": [
          0,
          0.06283185307179587,
          0.12566370614359174,
          0.1884955592153876,
          0.25132741228718347,
          0.3141592653589793,
          0.3769911184307752,
          0.4398229715025711,
          0.5026548245743669,
          0.5654866776461628,
          0.6283185307179586,
          0.6911503837897546,
          0.7539822368615504,
          0.8168140899333463,
          0.8796459430051422,
          0.942477796076938,
          1.0053096491487339,
          1.0681415022205298,
          1.1309733552923256,
          1.1938052083641215,
          1.2566370614359172,
          1.3194689145077132,
          1.3823007675795091,
          1.4451326206513049,
          1.5079644737231008,
          1.5707963267948968,
          1.6336281798666925,
          1.6964600329384885,
          1.7592918860102844,
          1.8221237390820801,
          1.884955592153876,
          1.9477874452256718,
          2.0106192982974678,
          2.0734511513692637,
          2.1362830044410597,
          2.199114857512855,
          2.261946710584651,
          2.324778563656447,
          2.387610416728243,
          2.450442269800039,
          2.5132741228718345,
          2.5761059759436304,
          2.6389378290154264,
          2.7017696820872223,
          2.7646015351590183,
          2.8274333882308142,
          2.8902652413026098,
          2.9530970943744057,
          3.0159289474462017,
          3.0787608005179976,
          3.1415926535897936,
          3.204424506661589,
          3.267256359733385,
          3.330088212805181,
          3.392920065876977,
          3.455751918948773,
          3.518583772020569,
          3.5814156250923643,
          3.6442474781641603,
          3.7070793312359562,
          3.769911184307752,
          3.832743037379548,
          3.8955748904513436,
          3.9584067435231396,
          4.0212385965949355,
          4.084070449666731,
          4.1469023027385274,
          4.209734155810323,
          4.272566008882119,
          4.335397861953915,
          4.39822971502571,
          4.461061568097507,
          4.523893421169302,
          4.586725274241099,
          4.649557127312894,
          4.71238898038469,
          4.775220833456486,
          4.838052686528282,
          4.900884539600078,
          4.9637163926718735,
          5.026548245743669,
          5.089380098815465,
          5.152211951887261,
          5.215043804959057,
          5.277875658030853,
          5.340707511102649,
          5.403539364174445,
          5.46637121724624,
          5.529203070318037,
          5.592034923389832,
          5.6548667764616285,
          5.717698629533424,
          5.7805304826052195,
          5.843362335677016,
          5.906194188748811,
          5.969026041820608,
          6.031857894892403,
          6.094689747964199,
          6.157521601035995,
          6.220353454107791,
          6.283185307179586
         ],
         "y": [
          1,
          0.9980267284282716,
          0.9921147013144779,
          0.9822872507286887,
          0.9685831611286311,
          0.9510565162951535,
          0.9297764858882513,
          0.9048270524660195,
          0.8763066800438636,
          0.8443279255020151,
          0.8090169943749475,
          0.7705132427757891,
          0.7289686274214116,
          0.6845471059286887,
          0.6374239897486896,
          0.5877852522924731,
          0.5358267949789967,
          0.4817536741017152,
          0.42577929156507266,
          0.36812455268467786,
          0.30901699437494745,
          0.24868988716485474,
          0.18738131458572452,
          0.12533323356430426,
          0.06279051952931329,
          -1.6081226496766366e-16,
          -0.0627905195293134,
          -0.12533323356430437,
          -0.18738131458572482,
          -0.24868988716485485,
          -0.30901699437494756,
          -0.368124552684678,
          -0.42577929156507277,
          -0.4817536741017154,
          -0.5358267949789968,
          -0.587785252292473,
          -0.6374239897486896,
          -0.6845471059286887,
          -0.7289686274214117,
          -0.7705132427757895,
          -0.8090169943749473,
          -0.8443279255020151,
          -0.8763066800438637,
          -0.9048270524660196,
          -0.9297764858882515,
          -0.9510565162951536,
          -0.9685831611286311,
          -0.9822872507286887,
          -0.9921147013144779,
          -0.9980267284282716,
          -1,
          -0.9980267284282716,
          -0.9921147013144779,
          -0.9822872507286886,
          -0.9685831611286311,
          -0.9510565162951534,
          -0.9297764858882512,
          -0.9048270524660195,
          -0.8763066800438635,
          -0.844327925502015,
          -0.8090169943749472,
          -0.770513242775789,
          -0.7289686274214116,
          -0.6845471059286886,
          -0.6374239897486896,
          -0.5877852522924732,
          -0.5358267949789963,
          -0.4817536741017153,
          -0.42577929156507216,
          -0.36812455268467775,
          -0.30901699437494756,
          -0.24868988716485443,
          -0.18738131458572463,
          -0.12533323356430373,
          -0.0627905195293132,
          -1.8369701987210297e-16,
          0.06279051952931372,
          0.12533323356430423,
          0.18738131458572513,
          0.24868988716485496,
          0.30901699437494723,
          0.3681245526846783,
          0.42577929156507266,
          0.4817536741017157,
          0.5358267949789967,
          0.5877852522924737,
          0.63742398974869,
          0.6845471059286886,
          0.7289686274214119,
          0.7705132427757894,
          0.8090169943749479,
          0.8443279255020153,
          0.8763066800438636,
          0.9048270524660198,
          0.9297764858882515,
          0.9510565162951538,
          0.9685831611286312,
          0.9822872507286887,
          0.9921147013144779,
          0.9980267284282716,
          1
         ]
        }
       ],
       "layout": {
        "autosize": true,
        "template": {
         "data": {
          "bar": [
           {
            "error_x": {
             "color": "#2a3f5f"
            },
            "error_y": {
             "color": "#2a3f5f"
            },
            "marker": {
             "line": {
              "color": "#E5ECF6",
              "width": 0.5
             }
            },
            "type": "bar"
           }
          ],
          "barpolar": [
           {
            "marker": {
             "line": {
              "color": "#E5ECF6",
              "width": 0.5
             }
            },
            "type": "barpolar"
           }
          ],
          "carpet": [
           {
            "aaxis": {
             "endlinecolor": "#2a3f5f",
             "gridcolor": "white",
             "linecolor": "white",
             "minorgridcolor": "white",
             "startlinecolor": "#2a3f5f"
            },
            "baxis": {
             "endlinecolor": "#2a3f5f",
             "gridcolor": "white",
             "linecolor": "white",
             "minorgridcolor": "white",
             "startlinecolor": "#2a3f5f"
            },
            "type": "carpet"
           }
          ],
          "choropleth": [
           {
            "colorbar": {
             "outlinewidth": 0,
             "ticks": ""
            },
            "type": "choropleth"
           }
          ],
          "contour": [
           {
            "colorbar": {
             "outlinewidth": 0,
             "ticks": ""
            },
            "colorscale": [
             [
              0,
              "#0d0887"
             ],
             [
              0.1111111111111111,
              "#46039f"
             ],
             [
              0.2222222222222222,
              "#7201a8"
             ],
             [
              0.3333333333333333,
              "#9c179e"
             ],
             [
              0.4444444444444444,
              "#bd3786"
             ],
             [
              0.5555555555555556,
              "#d8576b"
             ],
             [
              0.6666666666666666,
              "#ed7953"
             ],
             [
              0.7777777777777778,
              "#fb9f3a"
             ],
             [
              0.8888888888888888,
              "#fdca26"
             ],
             [
              1,
              "#f0f921"
             ]
            ],
            "type": "contour"
           }
          ],
          "contourcarpet": [
           {
            "colorbar": {
             "outlinewidth": 0,
             "ticks": ""
            },
            "type": "contourcarpet"
           }
          ],
          "heatmap": [
           {
            "colorbar": {
             "outlinewidth": 0,
             "ticks": ""
            },
            "colorscale": [
             [
              0,
              "#0d0887"
             ],
             [
              0.1111111111111111,
              "#46039f"
             ],
             [
              0.2222222222222222,
              "#7201a8"
             ],
             [
              0.3333333333333333,
              "#9c179e"
             ],
             [
              0.4444444444444444,
              "#bd3786"
             ],
             [
              0.5555555555555556,
              "#d8576b"
             ],
             [
              0.6666666666666666,
              "#ed7953"
             ],
             [
              0.7777777777777778,
              "#fb9f3a"
             ],
             [
              0.8888888888888888,
              "#fdca26"
             ],
             [
              1,
              "#f0f921"
             ]
            ],
            "type": "heatmap"
           }
          ],
          "heatmapgl": [
           {
            "colorbar": {
             "outlinewidth": 0,
             "ticks": ""
            },
            "colorscale": [
             [
              0,
              "#0d0887"
             ],
             [
              0.1111111111111111,
              "#46039f"
             ],
             [
              0.2222222222222222,
              "#7201a8"
             ],
             [
              0.3333333333333333,
              "#9c179e"
             ],
             [
              0.4444444444444444,
              "#bd3786"
             ],
             [
              0.5555555555555556,
              "#d8576b"
             ],
             [
              0.6666666666666666,
              "#ed7953"
             ],
             [
              0.7777777777777778,
              "#fb9f3a"
             ],
             [
              0.8888888888888888,
              "#fdca26"
             ],
             [
              1,
              "#f0f921"
             ]
            ],
            "type": "heatmapgl"
           }
          ],
          "histogram": [
           {
            "marker": {
             "colorbar": {
              "outlinewidth": 0,
              "ticks": ""
             }
            },
            "type": "histogram"
           }
          ],
          "histogram2d": [
           {
            "colorbar": {
             "outlinewidth": 0,
             "ticks": ""
            },
            "colorscale": [
             [
              0,
              "#0d0887"
             ],
             [
              0.1111111111111111,
              "#46039f"
             ],
             [
              0.2222222222222222,
              "#7201a8"
             ],
             [
              0.3333333333333333,
              "#9c179e"
             ],
             [
              0.4444444444444444,
              "#bd3786"
             ],
             [
              0.5555555555555556,
              "#d8576b"
             ],
             [
              0.6666666666666666,
              "#ed7953"
             ],
             [
              0.7777777777777778,
              "#fb9f3a"
             ],
             [
              0.8888888888888888,
              "#fdca26"
             ],
             [
              1,
              "#f0f921"
             ]
            ],
            "type": "histogram2d"
           }
          ],
          "histogram2dcontour": [
           {
            "colorbar": {
             "outlinewidth": 0,
             "ticks": ""
            },
            "colorscale": [
             [
              0,
              "#0d0887"
             ],
             [
              0.1111111111111111,
              "#46039f"
             ],
             [
              0.2222222222222222,
              "#7201a8"
             ],
             [
              0.3333333333333333,
              "#9c179e"
             ],
             [
              0.4444444444444444,
              "#bd3786"
             ],
             [
              0.5555555555555556,
              "#d8576b"
             ],
             [
              0.6666666666666666,
              "#ed7953"
             ],
             [
              0.7777777777777778,
              "#fb9f3a"
             ],
             [
              0.8888888888888888,
              "#fdca26"
             ],
             [
              1,
              "#f0f921"
             ]
            ],
            "type": "histogram2dcontour"
           }
          ],
          "mesh3d": [
           {
            "colorbar": {
             "outlinewidth": 0,
             "ticks": ""
            },
            "type": "mesh3d"
           }
          ],
          "parcoords": [
           {
            "line": {
             "colorbar": {
              "outlinewidth": 0,
              "ticks": ""
             }
            },
            "type": "parcoords"
           }
          ],
          "pie": [
           {
            "automargin": true,
            "type": "pie"
           }
          ],
          "scatter": [
           {
            "marker": {
             "colorbar": {
              "outlinewidth": 0,
              "ticks": ""
             }
            },
            "type": "scatter"
           }
          ],
          "scatter3d": [
           {
            "line": {
             "colorbar": {
              "outlinewidth": 0,
              "ticks": ""
             }
            },
            "marker": {
             "colorbar": {
              "outlinewidth": 0,
              "ticks": ""
             }
            },
            "type": "scatter3d"
           }
          ],
          "scattercarpet": [
           {
            "marker": {
             "colorbar": {
              "outlinewidth": 0,
              "ticks": ""
             }
            },
            "type": "scattercarpet"
           }
          ],
          "scattergeo": [
           {
            "marker": {
             "colorbar": {
              "outlinewidth": 0,
              "ticks": ""
             }
            },
            "type": "scattergeo"
           }
          ],
          "scattergl": [
           {
            "marker": {
             "colorbar": {
              "outlinewidth": 0,
              "ticks": ""
             }
            },
            "type": "scattergl"
           }
          ],
          "scattermapbox": [
           {
            "marker": {
             "colorbar": {
              "outlinewidth": 0,
              "ticks": ""
             }
            },
            "type": "scattermapbox"
           }
          ],
          "scatterpolar": [
           {
            "marker": {
             "colorbar": {
              "outlinewidth": 0,
              "ticks": ""
             }
            },
            "type": "scatterpolar"
           }
          ],
          "scatterpolargl": [
           {
            "marker": {
             "colorbar": {
              "outlinewidth": 0,
              "ticks": ""
             }
            },
            "type": "scatterpolargl"
           }
          ],
          "scatterternary": [
           {
            "marker": {
             "colorbar": {
              "outlinewidth": 0,
              "ticks": ""
             }
            },
            "type": "scatterternary"
           }
          ],
          "surface": [
           {
            "colorbar": {
             "outlinewidth": 0,
             "ticks": ""
            },
            "colorscale": [
             [
              0,
              "#0d0887"
             ],
             [
              0.1111111111111111,
              "#46039f"
             ],
             [
              0.2222222222222222,
              "#7201a8"
             ],
             [
              0.3333333333333333,
              "#9c179e"
             ],
             [
              0.4444444444444444,
              "#bd3786"
             ],
             [
              0.5555555555555556,
              "#d8576b"
             ],
             [
              0.6666666666666666,
              "#ed7953"
             ],
             [
              0.7777777777777778,
              "#fb9f3a"
             ],
             [
              0.8888888888888888,
              "#fdca26"
             ],
             [
              1,
              "#f0f921"
             ]
            ],
            "type": "surface"
           }
          ],
          "table": [
           {
            "cells": {
             "fill": {
              "color": "#EBF0F8"
             },
             "line": {
              "color": "white"
             }
            },
            "header": {
             "fill": {
              "color": "#C8D4E3"
             },
             "line": {
              "color": "white"
             }
            },
            "type": "table"
           }
          ]
         },
         "layout": {
          "annotationdefaults": {
           "arrowcolor": "#2a3f5f",
           "arrowhead": 0,
           "arrowwidth": 1
          },
          "autotypenumbers": "strict",
          "coloraxis": {
           "colorbar": {
            "outlinewidth": 0,
            "ticks": ""
           }
          },
          "colorscale": {
           "diverging": [
            [
             0,
             "#8e0152"
            ],
            [
             0.1,
             "#c51b7d"
            ],
            [
             0.2,
             "#de77ae"
            ],
            [
             0.3,
             "#f1b6da"
            ],
            [
             0.4,
             "#fde0ef"
            ],
            [
             0.5,
             "#f7f7f7"
            ],
            [
             0.6,
             "#e6f5d0"
            ],
            [
             0.7,
             "#b8e186"
            ],
            [
             0.8,
             "#7fbc41"
            ],
            [
             0.9,
             "#4d9221"
            ],
            [
             1,
             "#276419"
            ]
           ],
           "sequential": [
            [
             0,
             "#0d0887"
            ],
            [
             0.1111111111111111,
             "#46039f"
            ],
            [
             0.2222222222222222,
             "#7201a8"
            ],
            [
             0.3333333333333333,
             "#9c179e"
            ],
            [
             0.4444444444444444,
             "#bd3786"
            ],
            [
             0.5555555555555556,
             "#d8576b"
            ],
            [
             0.6666666666666666,
             "#ed7953"
            ],
            [
             0.7777777777777778,
             "#fb9f3a"
            ],
            [
             0.8888888888888888,
             "#fdca26"
            ],
            [
             1,
             "#f0f921"
            ]
           ],
           "sequentialminus": [
            [
             0,
             "#0d0887"
            ],
            [
             0.1111111111111111,
             "#46039f"
            ],
            [
             0.2222222222222222,
             "#7201a8"
            ],
            [
             0.3333333333333333,
             "#9c179e"
            ],
            [
             0.4444444444444444,
             "#bd3786"
            ],
            [
             0.5555555555555556,
             "#d8576b"
            ],
            [
             0.6666666666666666,
             "#ed7953"
            ],
            [
             0.7777777777777778,
             "#fb9f3a"
            ],
            [
             0.8888888888888888,
             "#fdca26"
            ],
            [
             1,
             "#f0f921"
            ]
           ]
          },
          "colorway": [
           "#636efa",
           "#EF553B",
           "#00cc96",
           "#ab63fa",
           "#FFA15A",
           "#19d3f3",
           "#FF6692",
           "#B6E880",
           "#FF97FF",
           "#FECB52"
          ],
          "font": {
           "color": "#2a3f5f"
          },
          "geo": {
           "bgcolor": "white",
           "lakecolor": "white",
           "landcolor": "#E5ECF6",
           "showlakes": true,
           "showland": true,
           "subunitcolor": "white"
          },
          "hoverlabel": {
           "align": "left"
          },
          "hovermode": "closest",
          "mapbox": {
           "style": "light"
          },
          "paper_bgcolor": "white",
          "plot_bgcolor": "#E5ECF6",
          "polar": {
           "angularaxis": {
            "gridcolor": "white",
            "linecolor": "white",
            "ticks": ""
           },
           "bgcolor": "#E5ECF6",
           "radialaxis": {
            "gridcolor": "white",
            "linecolor": "white",
            "ticks": ""
           }
          },
          "scene": {
           "xaxis": {
            "backgroundcolor": "#E5ECF6",
            "gridcolor": "white",
            "gridwidth": 2,
            "linecolor": "white",
            "showbackground": true,
            "ticks": "",
            "zerolinecolor": "white"
           },
           "yaxis": {
            "backgroundcolor": "#E5ECF6",
            "gridcolor": "white",
            "gridwidth": 2,
            "linecolor": "white",
            "showbackground": true,
            "ticks": "",
            "zerolinecolor": "white"
           },
           "zaxis": {
            "backgroundcolor": "#E5ECF6",
            "gridcolor": "white",
            "gridwidth": 2,
            "linecolor": "white",
            "showbackground": true,
            "ticks": "",
            "zerolinecolor": "white"
           }
          },
          "shapedefaults": {
           "line": {
            "color": "#2a3f5f"
           }
          },
          "ternary": {
           "aaxis": {
            "gridcolor": "white",
            "linecolor": "white",
            "ticks": ""
           },
           "baxis": {
            "gridcolor": "white",
            "linecolor": "white",
            "ticks": ""
           },
           "bgcolor": "#E5ECF6",
           "caxis": {
            "gridcolor": "white",
            "linecolor": "white",
            "ticks": ""
           }
          },
          "title": {
           "x": 0.05
          },
          "xaxis": {
           "automargin": true,
           "gridcolor": "white",
           "linecolor": "white",
           "ticks": "",
           "title": {
            "standoff": 15
           },
           "zerolinecolor": "white",
           "zerolinewidth": 2
          },
          "yaxis": {
           "automargin": true,
           "gridcolor": "white",
           "linecolor": "white",
           "ticks": "",
           "title": {
            "standoff": 15
           },
           "zerolinecolor": "white",
           "zerolinewidth": 2
          }
         }
        },
        "xaxis": {
         "autorange": true,
         "range": [
          -0.3954102277752421,
          6.6785955349548285
         ],
         "type": "linear"
        },
        "yaxis": {
         "autorange": true,
         "range": [
          -1.1464968152866242,
          1.1464968152866242
         ],
         "type": "linear"
        }
       }
      },
      "image/png": "[encoded data removed]",
      "text/html": [
       "<div>                            <div id=\"5b034e1d-0277-4336-9ceb-4954b31c8c57\" class=\"plotly-graph-div\" style=\"height:525px; width:100%;\"></div>            <script type=\"text/javascript\">                require([\"plotly\"], function(Plotly) {                    window.PLOTLYENV=window.PLOTLYENV || {};                                    if (document.getElementById(\"5b034e1d-0277-4336-9ceb-4954b31c8c57\")) {                    Plotly.newPlot(                        \"5b034e1d-0277-4336-9ceb-4954b31c8c57\",                        [{\"mode\": \"lines+markers\", \"name\": \"sin\", \"type\": \"scatter\", \"x\": [0.0, 0.06283185307179587, 0.12566370614359174, 0.1884955592153876, 0.25132741228718347, 0.3141592653589793, 0.3769911184307752, 0.4398229715025711, 0.5026548245743669, 0.5654866776461628, 0.6283185307179586, 0.6911503837897546, 0.7539822368615504, 0.8168140899333463, 0.8796459430051422, 0.942477796076938, 1.0053096491487339, 1.0681415022205298, 1.1309733552923256, 1.1938052083641215, 1.2566370614359172, 1.3194689145077132, 1.3823007675795091, 1.4451326206513049, 1.5079644737231008, 1.5707963267948968, 1.6336281798666925, 1.6964600329384885, 1.7592918860102844, 1.8221237390820801, 1.884955592153876, 1.9477874452256718, 2.0106192982974678, 2.0734511513692637, 2.1362830044410597, 2.199114857512855, 2.261946710584651, 2.324778563656447, 2.387610416728243, 2.450442269800039, 2.5132741228718345, 2.5761059759436304, 2.6389378290154264, 2.7017696820872223, 2.7646015351590183, 2.8274333882308142, 2.8902652413026098, 2.9530970943744057, 3.0159289474462017, 3.0787608005179976, 3.1415926535897936, 3.204424506661589, 3.267256359733385, 3.330088212805181, 3.392920065876977, 3.455751918948773, 3.518583772020569, 3.5814156250923643, 3.6442474781641603, 3.7070793312359562, 3.769911184307752, 3.832743037379548, 3.8955748904513436, 3.9584067435231396, 4.0212385965949355, 4.084070449666731, 4.1469023027385274, 4.209734155810323, 4.272566008882119, 4.335397861953915, 4.39822971502571, 4.461061568097507, 4.523893421169302, 4.586725274241099, 4.649557127312894, 4.71238898038469, 4.775220833456486, 4.838052686528282, 4.900884539600078, 4.9637163926718735, 5.026548245743669, 5.089380098815465, 5.152211951887261, 5.215043804959057, 5.277875658030853, 5.340707511102649, 5.403539364174445, 5.46637121724624, 5.529203070318037, 5.592034923389832, 5.6548667764616285, 5.717698629533424, 5.7805304826052195, 5.843362335677016, 5.906194188748811, 5.969026041820608, 6.031857894892403, 6.094689747964199, 6.157521601035995, 6.220353454107791, 6.283185307179586], \"y\": [0.0, 0.06279051952931337, 0.12533323356430426, 0.18738131458572463, 0.2486898871648548, 0.3090169943749474, 0.368124552684678, 0.4257792915650727, 0.4817536741017153, 0.5358267949789967, 0.5877852522924731, 0.6374239897486897, 0.6845471059286887, 0.7289686274214116, 0.7705132427757893, 0.8090169943749475, 0.8443279255020151, 0.8763066800438637, 0.9048270524660196, 0.9297764858882515, 0.9510565162951535, 0.9685831611286311, 0.9822872507286887, 0.9921147013144779, 0.9980267284282716, 1.0, 0.9980267284282716, 0.9921147013144778, 0.9822872507286886, 0.9685831611286311, 0.9510565162951535, 0.9297764858882513, 0.9048270524660195, 0.8763066800438635, 0.844327925502015, 0.8090169943749475, 0.7705132427757893, 0.7289686274214116, 0.6845471059286885, 0.6374239897486895, 0.5877852522924732, 0.5358267949789967, 0.4817536741017152, 0.4257792915650725, 0.3681245526846777, 0.3090169943749471, 0.2486898871648548, 0.18738131458572455, 0.1253332335643041, 0.06279051952931314, -3.216245299353273e-16, -0.06279051952931333, -0.1253332335643043, -0.18738131458572477, -0.24868988716485502, -0.30901699437494773, -0.36812455268467836, -0.4257792915650727, -0.4817536741017154, -0.5358267949789968, -0.5877852522924734, -0.63742398974869, -0.6845471059286887, -0.7289686274214116, -0.7705132427757894, -0.8090169943749473, -0.8443279255020153, -0.8763066800438636, -0.9048270524660198, -0.9297764858882515, -0.9510565162951535, -0.9685831611286312, -0.9822872507286887, -0.9921147013144779, -0.9980267284282716, -1.0, -0.9980267284282716, -0.9921147013144779, -0.9822872507286886, -0.9685831611286311, -0.9510565162951536, -0.9297764858882512, -0.9048270524660196, -0.8763066800438634, -0.8443279255020151, -0.809016994374947, -0.770513242775789, -0.7289686274214116, -0.6845471059286883, -0.6374239897486896, -0.5877852522924726, -0.5358267949789963, -0.4817536741017153, -0.4257792915650722, -0.3681245526846778, -0.3090169943749468, -0.2486898871648545, -0.18738131458572468, -0.1253332335643038, -0.06279051952931326, -2.4492935982947064e-16]}, {\"mode\": \"lines+markers\", \"name\": \"cos\", \"type\": \"scatter\", \"x\": [0.0, 0.06283185307179587, 0.12566370614359174, 0.1884955592153876, 0.25132741228718347, 0.3141592653589793, 0.3769911184307752, 0.4398229715025711, 0.5026548245743669, 0.5654866776461628, 0.6283185307179586, 0.6911503837897546, 0.7539822368615504, 0.8168140899333463, 0.8796459430051422, 0.942477796076938, 1.0053096491487339, 1.0681415022205298, 1.1309733552923256, 1.1938052083641215, 1.2566370614359172, 1.3194689145077132, 1.3823007675795091, 1.4451326206513049, 1.5079644737231008, 1.5707963267948968, 1.6336281798666925, 1.6964600329384885, 1.7592918860102844, 1.8221237390820801, 1.884955592153876, 1.9477874452256718, 2.0106192982974678, 2.0734511513692637, 2.1362830044410597, 2.199114857512855, 2.261946710584651, 2.324778563656447, 2.387610416728243, 2.450442269800039, 2.5132741228718345, 2.5761059759436304, 2.6389378290154264, 2.7017696820872223, 2.7646015351590183, 2.8274333882308142, 2.8902652413026098, 2.9530970943744057, 3.0159289474462017, 3.0787608005179976, 3.1415926535897936, 3.204424506661589, 3.267256359733385, 3.330088212805181, 3.392920065876977, 3.455751918948773, 3.518583772020569, 3.5814156250923643, 3.6442474781641603, 3.7070793312359562, 3.769911184307752, 3.832743037379548, 3.8955748904513436, 3.9584067435231396, 4.0212385965949355, 4.084070449666731, 4.1469023027385274, 4.209734155810323, 4.272566008882119, 4.335397861953915, 4.39822971502571, 4.461061568097507, 4.523893421169302, 4.586725274241099, 4.649557127312894, 4.71238898038469, 4.775220833456486, 4.838052686528282, 4.900884539600078, 4.9637163926718735, 5.026548245743669, 5.089380098815465, 5.152211951887261, 5.215043804959057, 5.277875658030853, 5.340707511102649, 5.403539364174445, 5.46637121724624, 5.529203070318037, 5.592034923389832, 5.6548667764616285, 5.717698629533424, 5.7805304826052195, 5.843362335677016, 5.906194188748811, 5.969026041820608, 6.031857894892403, 6.094689747964199, 6.157521601035995, 6.220353454107791, 6.283185307179586], \"y\": [1.0, 0.9980267284282716, 0.9921147013144779, 0.9822872507286887, 0.9685831611286311, 0.9510565162951535, 0.9297764858882513, 0.9048270524660195, 0.8763066800438636, 0.8443279255020151, 0.8090169943749475, 0.7705132427757891, 0.7289686274214116, 0.6845471059286887, 0.6374239897486896, 0.5877852522924731, 0.5358267949789967, 0.4817536741017152, 0.42577929156507266, 0.36812455268467786, 0.30901699437494745, 0.24868988716485474, 0.18738131458572452, 0.12533323356430426, 0.06279051952931329, -1.6081226496766366e-16, -0.0627905195293134, -0.12533323356430437, -0.18738131458572482, -0.24868988716485485, -0.30901699437494756, -0.368124552684678, -0.42577929156507277, -0.4817536741017154, -0.5358267949789968, -0.587785252292473, -0.6374239897486896, -0.6845471059286887, -0.7289686274214117, -0.7705132427757895, -0.8090169943749473, -0.8443279255020151, -0.8763066800438637, -0.9048270524660196, -0.9297764858882515, -0.9510565162951536, -0.9685831611286311, -0.9822872507286887, -0.9921147013144779, -0.9980267284282716, -1.0, -0.9980267284282716, -0.9921147013144779, -0.9822872507286886, -0.9685831611286311, -0.9510565162951534, -0.9297764858882512, -0.9048270524660195, -0.8763066800438635, -0.844327925502015, -0.8090169943749472, -0.770513242775789, -0.7289686274214116, -0.6845471059286886, -0.6374239897486896, -0.5877852522924732, -0.5358267949789963, -0.4817536741017153, -0.42577929156507216, -0.36812455268467775, -0.30901699437494756, -0.24868988716485443, -0.18738131458572463, -0.12533323356430373, -0.0627905195293132, -1.8369701987210297e-16, 0.06279051952931372, 0.12533323356430423, 0.18738131458572513, 0.24868988716485496, 0.30901699437494723, 0.3681245526846783, 0.42577929156507266, 0.4817536741017157, 0.5358267949789967, 0.5877852522924737, 0.63742398974869, 0.6845471059286886, 0.7289686274214119, 0.7705132427757894, 0.8090169943749479, 0.8443279255020153, 0.8763066800438636, 0.9048270524660198, 0.9297764858882515, 0.9510565162951538, 0.9685831611286312, 0.9822872507286887, 0.9921147013144779, 0.9980267284282716, 1.0]}],                        {\"template\": {\"data\": {\"bar\": [{\"error_x\": {\"color\": \"#2a3f5f\"}, \"error_y\": {\"color\": \"#2a3f5f\"}, \"marker\": {\"line\": {\"color\": \"#E5ECF6\", \"width\": 0.5}}, \"type\": \"bar\"}], \"barpolar\": [{\"marker\": {\"line\": {\"color\": \"#E5ECF6\", \"width\": 0.5}}, \"type\": \"barpolar\"}], \"carpet\": [{\"aaxis\": {\"endlinecolor\": \"#2a3f5f\", \"gridcolor\": \"white\", \"linecolor\": \"white\", \"minorgridcolor\": \"white\", \"startlinecolor\": \"#2a3f5f\"}, \"baxis\": {\"endlinecolor\": \"#2a3f5f\", \"gridcolor\": \"white\", \"linecolor\": \"white\", \"minorgridcolor\": \"white\", \"startlinecolor\": \"#2a3f5f\"}, \"type\": \"carpet\"}], \"choropleth\": [{\"colorbar\": {\"outlinewidth\": 0, \"ticks\": \"\"}, \"type\": \"choropleth\"}], \"contour\": [{\"colorbar\": {\"outlinewidth\": 0, \"ticks\": \"\"}, \"colorscale\": [[0.0, \"#0d0887\"], [0.1111111111111111, \"#46039f\"], [0.2222222222222222, \"#7201a8\"], [0.3333333333333333, \"#9c179e\"], [0.4444444444444444, \"#bd3786\"], [0.5555555555555556, \"#d8576b\"], [0.6666666666666666, \"#ed7953\"], [0.7777777777777778, \"#fb9f3a\"], [0.8888888888888888, \"#fdca26\"], [1.0, \"#f0f921\"]], \"type\": \"contour\"}], \"contourcarpet\": [{\"colorbar\": {\"outlinewidth\": 0, \"ticks\": \"\"}, \"type\": \"contourcarpet\"}], \"heatmap\": [{\"colorbar\": {\"outlinewidth\": 0, \"ticks\": \"\"}, \"colorscale\": [[0.0, \"#0d0887\"], [0.1111111111111111, \"#46039f\"], [0.2222222222222222, \"#7201a8\"], [0.3333333333333333, \"#9c179e\"], [0.4444444444444444, \"#bd3786\"], [0.5555555555555556, \"#d8576b\"], [0.6666666666666666, \"#ed7953\"], [0.7777777777777778, \"#fb9f3a\"], [0.8888888888888888, \"#fdca26\"], [1.0, \"#f0f921\"]], \"type\": \"heatmap\"}], \"heatmapgl\": [{\"colorbar\": {\"outlinewidth\": 0, \"ticks\": \"\"}, \"colorscale\": [[0.0, \"#0d0887\"], [0.1111111111111111, \"#46039f\"], [0.2222222222222222, \"#7201a8\"], [0.3333333333333333, \"#9c179e\"], [0.4444444444444444, \"#bd3786\"], [0.5555555555555556, \"#d8576b\"], [0.6666666666666666, \"#ed7953\"], [0.7777777777777778, \"#fb9f3a\"], [0.8888888888888888, \"#fdca26\"], [1.0, \"#f0f921\"]], \"type\": \"heatmapgl\"}], \"histogram\": [{\"marker\": {\"colorbar\": {\"outlinewidth\": 0, \"ticks\": \"\"}}, \"type\": \"histogram\"}], \"histogram2d\": [{\"colorbar\": {\"outlinewidth\": 0, \"ticks\": \"\"}, \"colorscale\": [[0.0, \"#0d0887\"], [0.1111111111111111, \"#46039f\"], [0.2222222222222222, \"#7201a8\"], [0.3333333333333333, \"#9c179e\"], [0.4444444444444444, \"#bd3786\"], [0.5555555555555556, \"#d8576b\"], [0.6666666666666666, \"#ed7953\"], [0.7777777777777778, \"#fb9f3a\"], [0.8888888888888888, \"#fdca26\"], [1.0, \"#f0f921\"]], \"type\": \"histogram2d\"}], \"histogram2dcontour\": [{\"colorbar\": {\"outlinewidth\": 0, \"ticks\": \"\"}, \"colorscale\": [[0.0, \"#0d0887\"], [0.1111111111111111, \"#46039f\"], [0.2222222222222222, \"#7201a8\"], [0.3333333333333333, \"#9c179e\"], [0.4444444444444444, \"#bd3786\"], [0.5555555555555556, \"#d8576b\"], [0.6666666666666666, \"#ed7953\"], [0.7777777777777778, \"#fb9f3a\"], [0.8888888888888888, \"#fdca26\"], [1.0, \"#f0f921\"]], \"type\": \"histogram2dcontour\"}], \"mesh3d\": [{\"colorbar\": {\"outlinewidth\": 0, \"ticks\": \"\"}, \"type\": \"mesh3d\"}], \"parcoords\": [{\"line\": {\"colorbar\": {\"outlinewidth\": 0, \"ticks\": \"\"}}, \"type\": \"parcoords\"}], \"pie\": [{\"automargin\": true, \"type\": \"pie\"}], \"scatter\": [{\"marker\": {\"colorbar\": {\"outlinewidth\": 0, \"ticks\": \"\"}}, \"type\": \"scatter\"}], \"scatter3d\": [{\"line\": {\"colorbar\": {\"outlinewidth\": 0, \"ticks\": \"\"}}, \"marker\": {\"colorbar\": {\"outlinewidth\": 0, \"ticks\": \"\"}}, \"type\": \"scatter3d\"}], \"scattercarpet\": [{\"marker\": {\"colorbar\": {\"outlinewidth\": 0, \"ticks\": \"\"}}, \"type\": \"scattercarpet\"}], \"scattergeo\": [{\"marker\": {\"colorbar\": {\"outlinewidth\": 0, \"ticks\": \"\"}}, \"type\": \"scattergeo\"}], \"scattergl\": [{\"marker\": {\"colorbar\": {\"outlinewidth\": 0, \"ticks\": \"\"}}, \"type\": \"scattergl\"}], \"scattermapbox\": [{\"marker\": {\"colorbar\": {\"outlinewidth\": 0, \"ticks\": \"\"}}, \"type\": \"scattermapbox\"}], \"scatterpolar\": [{\"marker\": {\"colorbar\": {\"outlinewidth\": 0, \"ticks\": \"\"}}, \"type\": \"scatterpolar\"}], \"scatterpolargl\": [{\"marker\": {\"colorbar\": {\"outlinewidth\": 0, \"ticks\": \"\"}}, \"type\": \"scatterpolargl\"}], \"scatterternary\": [{\"marker\": {\"colorbar\": {\"outlinewidth\": 0, \"ticks\": \"\"}}, \"type\": \"scatterternary\"}], \"surface\": [{\"colorbar\": {\"outlinewidth\": 0, \"ticks\": \"\"}, \"colorscale\": [[0.0, \"#0d0887\"], [0.1111111111111111, \"#46039f\"], [0.2222222222222222, \"#7201a8\"], [0.3333333333333333, \"#9c179e\"], [0.4444444444444444, \"#bd3786\"], [0.5555555555555556, \"#d8576b\"], [0.6666666666666666, \"#ed7953\"], [0.7777777777777778, \"#fb9f3a\"], [0.8888888888888888, \"#fdca26\"], [1.0, \"#f0f921\"]], \"type\": \"surface\"}], \"table\": [{\"cells\": {\"fill\": {\"color\": \"#EBF0F8\"}, \"line\": {\"color\": \"white\"}}, \"header\": {\"fill\": {\"color\": \"#C8D4E3\"}, \"line\": {\"color\": \"white\"}}, \"type\": \"table\"}]}, \"layout\": {\"annotationdefaults\": {\"arrowcolor\": \"#2a3f5f\", \"arrowhead\": 0, \"arrowwidth\": 1}, \"autotypenumbers\": \"strict\", \"coloraxis\": {\"colorbar\": {\"outlinewidth\": 0, \"ticks\": \"\"}}, \"colorscale\": {\"diverging\": [[0, \"#8e0152\"], [0.1, \"#c51b7d\"], [0.2, \"#de77ae\"], [0.3, \"#f1b6da\"], [0.4, \"#fde0ef\"], [0.5, \"#f7f7f7\"], [0.6, \"#e6f5d0\"], [0.7, \"#b8e186\"], [0.8, \"#7fbc41\"], [0.9, \"#4d9221\"], [1, \"#276419\"]], \"sequential\": [[0.0, \"#0d0887\"], [0.1111111111111111, \"#46039f\"], [0.2222222222222222, \"#7201a8\"], [0.3333333333333333, \"#9c179e\"], [0.4444444444444444, \"#bd3786\"], [0.5555555555555556, \"#d8576b\"], [0.6666666666666666, \"#ed7953\"], [0.7777777777777778, \"#fb9f3a\"], [0.8888888888888888, \"#fdca26\"], [1.0, \"#f0f921\"]], \"sequentialminus\": [[0.0, \"#0d0887\"], [0.1111111111111111, \"#46039f\"], [0.2222222222222222, \"#7201a8\"], [0.3333333333333333, \"#9c179e\"], [0.4444444444444444, \"#bd3786\"], [0.5555555555555556, \"#d8576b\"], [0.6666666666666666, \"#ed7953\"], [0.7777777777777778, \"#fb9f3a\"], [0.8888888888888888, \"#fdca26\"], [1.0, \"#f0f921\"]]}, \"colorway\": [\"#636efa\", \"#EF553B\", \"#00cc96\", \"#ab63fa\", \"#FFA15A\", \"#19d3f3\", \"#FF6692\", \"#B6E880\", \"#FF97FF\", \"#FECB52\"], \"font\": {\"color\": \"#2a3f5f\"}, \"geo\": {\"bgcolor\": \"white\", \"lakecolor\": \"white\", \"landcolor\": \"#E5ECF6\", \"showlakes\": true, \"showland\": true, \"subunitcolor\": \"white\"}, \"hoverlabel\": {\"align\": \"left\"}, \"hovermode\": \"closest\", \"mapbox\": {\"style\": \"light\"}, \"paper_bgcolor\": \"white\", \"plot_bgcolor\": \"#E5ECF6\", \"polar\": {\"angularaxis\": {\"gridcolor\": \"white\", \"linecolor\": \"white\", \"ticks\": \"\"}, \"bgcolor\": \"#E5ECF6\", \"radialaxis\": {\"gridcolor\": \"white\", \"linecolor\": \"white\", \"ticks\": \"\"}}, \"scene\": {\"xaxis\": {\"backgroundcolor\": \"#E5ECF6\", \"gridcolor\": \"white\", \"gridwidth\": 2, \"linecolor\": \"white\", \"showbackground\": true, \"ticks\": \"\", \"zerolinecolor\": \"white\"}, \"yaxis\": {\"backgroundcolor\": \"#E5ECF6\", \"gridcolor\": \"white\", \"gridwidth\": 2, \"linecolor\": \"white\", \"showbackground\": true, \"ticks\": \"\", \"zerolinecolor\": \"white\"}, \"zaxis\": {\"backgroundcolor\": \"#E5ECF6\", \"gridcolor\": \"white\", \"gridwidth\": 2, \"linecolor\": \"white\", \"showbackground\": true, \"ticks\": \"\", \"zerolinecolor\": \"white\"}}, \"shapedefaults\": {\"line\": {\"color\": \"#2a3f5f\"}}, \"ternary\": {\"aaxis\": {\"gridcolor\": \"white\", \"linecolor\": \"white\", \"ticks\": \"\"}, \"baxis\": {\"gridcolor\": \"white\", \"linecolor\": \"white\", \"ticks\": \"\"}, \"bgcolor\": \"#E5ECF6\", \"caxis\": {\"gridcolor\": \"white\", \"linecolor\": \"white\", \"ticks\": \"\"}}, \"title\": {\"x\": 0.05}, \"xaxis\": {\"automargin\": true, \"gridcolor\": \"white\", \"linecolor\": \"white\", \"ticks\": \"\", \"title\": {\"standoff\": 15}, \"zerolinecolor\": \"white\", \"zerolinewidth\": 2}, \"yaxis\": {\"automargin\": true, \"gridcolor\": \"white\", \"linecolor\": \"white\", \"ticks\": \"\", \"title\": {\"standoff\": 15}, \"zerolinecolor\": \"white\", \"zerolinewidth\": 2}}}},                        {\"responsive\": true}                    ).then(function(){\n",
       "                            \n",
       "var gd = document.getElementById('5b034e1d-0277-4336-9ceb-4954b31c8c57');\n",
       "var x = new MutationObserver(function (mutations, observer) {{\n",
       "        var display = window.getComputedStyle(gd).display;\n",
       "        if (!display || display === 'none') {{\n",
       "            console.log([gd, 'removed!']);\n",
       "            Plotly.purge(gd);\n",
       "            observer.disconnect();\n",
       "        }}\n",
       "}});\n",
       "\n",
       "// Listen for the removal of the full notebook cells\n",
       "var notebookContainer = gd.closest('#notebook-container');\n",
       "if (notebookContainer) {{\n",
       "    x.observe(notebookContainer, {childList: true});\n",
       "}}\n",
       "\n",
       "// Listen for the clearing of the current output cell\n",
       "var outputEl = gd.closest('.output');\n",
       "if (outputEl) {{\n",
       "    x.observe(outputEl, {childList: true});\n",
       "}}\n",
       "\n",
       "                        })                };                });            </script>        </div>"
      ]
     },
     "metadata": {},
     "output_type": "display_data"
    }
   ],
   "source": [
    "ds.preview()"
   ]
  },
  {
   "cell_type": "code",
   "execution_count": 17,
   "metadata": {},
   "outputs": [
    {
     "data": {
      "application/vnd.plotly.v1+json": {
       "config": {
        "plotlyServerURL": "https://plot.ly"
       },
       "data": [
        {
         "mode": "lines+markers",
         "type": "scatter",
         "x": [
          0,
          0.06283185307179587,
          0.12566370614359174,
          0.1884955592153876,
          0.25132741228718347,
          0.3141592653589793,
          0.3769911184307752,
          0.4398229715025711,
          0.5026548245743669,
          0.5654866776461628,
          0.6283185307179586,
          0.6911503837897546,
          0.7539822368615504,
          0.8168140899333463,
          0.8796459430051422,
          0.942477796076938,
          1.0053096491487339,
          1.0681415022205298,
          1.1309733552923256,
          1.1938052083641215,
          1.2566370614359172,
          1.3194689145077132,
          1.3823007675795091,
          1.4451326206513049,
          1.5079644737231008,
          1.5707963267948968,
          1.6336281798666925,
          1.6964600329384885,
          1.7592918860102844,
          1.8221237390820801,
          1.884955592153876,
          1.9477874452256718,
          2.0106192982974678,
          2.0734511513692637,
          2.1362830044410597,
          2.199114857512855,
          2.261946710584651,
          2.324778563656447,
          2.387610416728243,
          2.450442269800039,
          2.5132741228718345,
          2.5761059759436304,
          2.6389378290154264,
          2.7017696820872223,
          2.7646015351590183,
          2.8274333882308142,
          2.8902652413026098,
          2.9530970943744057,
          3.0159289474462017,
          3.0787608005179976,
          3.1415926535897936,
          3.204424506661589,
          3.267256359733385,
          3.330088212805181,
          3.392920065876977,
          3.455751918948773,
          3.518583772020569,
          3.5814156250923643,
          3.6442474781641603,
          3.7070793312359562,
          3.769911184307752,
          3.832743037379548,
          3.8955748904513436,
          3.9584067435231396,
          4.0212385965949355,
          4.084070449666731,
          4.1469023027385274,
          4.209734155810323,
          4.272566008882119,
          4.335397861953915,
          4.39822971502571,
          4.461061568097507,
          4.523893421169302,
          4.586725274241099,
          4.649557127312894,
          4.71238898038469,
          4.775220833456486,
          4.838052686528282,
          4.900884539600078,
          4.9637163926718735,
          5.026548245743669,
          5.089380098815465,
          5.152211951887261,
          5.215043804959057,
          5.277875658030853,
          5.340707511102649,
          5.403539364174445,
          5.46637121724624,
          5.529203070318037,
          5.592034923389832,
          5.6548667764616285,
          5.717698629533424,
          5.7805304826052195,
          5.843362335677016,
          5.906194188748811,
          5.969026041820608,
          6.031857894892403,
          6.094689747964199,
          6.157521601035995,
          6.220353454107791,
          6.283185307179586
         ],
         "y": [
          0,
          0.06279051952931337,
          0.12533323356430426,
          0.18738131458572463,
          0.2486898871648548,
          0.3090169943749474,
          0.368124552684678,
          0.4257792915650727,
          0.4817536741017153,
          0.5358267949789967,
          0.5877852522924731,
          0.6374239897486897,
          0.6845471059286887,
          0.7289686274214116,
          0.7705132427757893,
          0.8090169943749475,
          0.8443279255020151,
          0.8763066800438637,
          0.9048270524660196,
          0.9297764858882515,
          0.9510565162951535,
          0.9685831611286311,
          0.9822872507286887,
          0.9921147013144779,
          0.9980267284282716,
          1,
          0.9980267284282716,
          0.9921147013144778,
          0.9822872507286886,
          0.9685831611286311,
          0.9510565162951535,
          0.9297764858882513,
          0.9048270524660195,
          0.8763066800438635,
          0.844327925502015,
          0.8090169943749475,
          0.7705132427757893,
          0.7289686274214116,
          0.6845471059286885,
          0.6374239897486895,
          0.5877852522924732,
          0.5358267949789967,
          0.4817536741017152,
          0.4257792915650725,
          0.3681245526846777,
          0.3090169943749471,
          0.2486898871648548,
          0.18738131458572455,
          0.1253332335643041,
          0.06279051952931314,
          -3.216245299353273e-16,
          -0.06279051952931333,
          -0.1253332335643043,
          -0.18738131458572477,
          -0.24868988716485502,
          -0.30901699437494773,
          -0.36812455268467836,
          -0.4257792915650727,
          -0.4817536741017154,
          -0.5358267949789968,
          -0.5877852522924734,
          -0.63742398974869,
          -0.6845471059286887,
          -0.7289686274214116,
          -0.7705132427757894,
          -0.8090169943749473,
          -0.8443279255020153,
          -0.8763066800438636,
          -0.9048270524660198,
          -0.9297764858882515,
          -0.9510565162951535,
          -0.9685831611286312,
          -0.9822872507286887,
          -0.9921147013144779,
          -0.9980267284282716,
          -1,
          -0.9980267284282716,
          -0.9921147013144779,
          -0.9822872507286886,
          -0.9685831611286311,
          -0.9510565162951536,
          -0.9297764858882512,
          -0.9048270524660196,
          -0.8763066800438634,
          -0.8443279255020151,
          -0.809016994374947,
          -0.770513242775789,
          -0.7289686274214116,
          -0.6845471059286883,
          -0.6374239897486896,
          -0.5877852522924726,
          -0.5358267949789963,
          -0.4817536741017153,
          -0.4257792915650722,
          -0.3681245526846778,
          -0.3090169943749468,
          -0.2486898871648545,
          -0.18738131458572468,
          -0.1253332335643038,
          -0.06279051952931326,
          -2.4492935982947064e-16
         ]
        }
       ],
       "layout": {
        "autosize": true,
        "template": {
         "data": {
          "bar": [
           {
            "error_x": {
             "color": "#2a3f5f"
            },
            "error_y": {
             "color": "#2a3f5f"
            },
            "marker": {
             "line": {
              "color": "#E5ECF6",
              "width": 0.5
             }
            },
            "type": "bar"
           }
          ],
          "barpolar": [
           {
            "marker": {
             "line": {
              "color": "#E5ECF6",
              "width": 0.5
             }
            },
            "type": "barpolar"
           }
          ],
          "carpet": [
           {
            "aaxis": {
             "endlinecolor": "#2a3f5f",
             "gridcolor": "white",
             "linecolor": "white",
             "minorgridcolor": "white",
             "startlinecolor": "#2a3f5f"
            },
            "baxis": {
             "endlinecolor": "#2a3f5f",
             "gridcolor": "white",
             "linecolor": "white",
             "minorgridcolor": "white",
             "startlinecolor": "#2a3f5f"
            },
            "type": "carpet"
           }
          ],
          "choropleth": [
           {
            "colorbar": {
             "outlinewidth": 0,
             "ticks": ""
            },
            "type": "choropleth"
           }
          ],
          "contour": [
           {
            "colorbar": {
             "outlinewidth": 0,
             "ticks": ""
            },
            "colorscale": [
             [
              0,
              "#0d0887"
             ],
             [
              0.1111111111111111,
              "#46039f"
             ],
             [
              0.2222222222222222,
              "#7201a8"
             ],
             [
              0.3333333333333333,
              "#9c179e"
             ],
             [
              0.4444444444444444,
              "#bd3786"
             ],
             [
              0.5555555555555556,
              "#d8576b"
             ],
             [
              0.6666666666666666,
              "#ed7953"
             ],
             [
              0.7777777777777778,
              "#fb9f3a"
             ],
             [
              0.8888888888888888,
              "#fdca26"
             ],
             [
              1,
              "#f0f921"
             ]
            ],
            "type": "contour"
           }
          ],
          "contourcarpet": [
           {
            "colorbar": {
             "outlinewidth": 0,
             "ticks": ""
            },
            "type": "contourcarpet"
           }
          ],
          "heatmap": [
           {
            "colorbar": {
             "outlinewidth": 0,
             "ticks": ""
            },
            "colorscale": [
             [
              0,
              "#0d0887"
             ],
             [
              0.1111111111111111,
              "#46039f"
             ],
             [
              0.2222222222222222,
              "#7201a8"
             ],
             [
              0.3333333333333333,
              "#9c179e"
             ],
             [
              0.4444444444444444,
              "#bd3786"
             ],
             [
              0.5555555555555556,
              "#d8576b"
             ],
             [
              0.6666666666666666,
              "#ed7953"
             ],
             [
              0.7777777777777778,
              "#fb9f3a"
             ],
             [
              0.8888888888888888,
              "#fdca26"
             ],
             [
              1,
              "#f0f921"
             ]
            ],
            "type": "heatmap"
           }
          ],
          "heatmapgl": [
           {
            "colorbar": {
             "outlinewidth": 0,
             "ticks": ""
            },
            "colorscale": [
             [
              0,
              "#0d0887"
             ],
             [
              0.1111111111111111,
              "#46039f"
             ],
             [
              0.2222222222222222,
              "#7201a8"
             ],
             [
              0.3333333333333333,
              "#9c179e"
             ],
             [
              0.4444444444444444,
              "#bd3786"
             ],
             [
              0.5555555555555556,
              "#d8576b"
             ],
             [
              0.6666666666666666,
              "#ed7953"
             ],
             [
              0.7777777777777778,
              "#fb9f3a"
             ],
             [
              0.8888888888888888,
              "#fdca26"
             ],
             [
              1,
              "#f0f921"
             ]
            ],
            "type": "heatmapgl"
           }
          ],
          "histogram": [
           {
            "marker": {
             "colorbar": {
              "outlinewidth": 0,
              "ticks": ""
             }
            },
            "type": "histogram"
           }
          ],
          "histogram2d": [
           {
            "colorbar": {
             "outlinewidth": 0,
             "ticks": ""
            },
            "colorscale": [
             [
              0,
              "#0d0887"
             ],
             [
              0.1111111111111111,
              "#46039f"
             ],
             [
              0.2222222222222222,
              "#7201a8"
             ],
             [
              0.3333333333333333,
              "#9c179e"
             ],
             [
              0.4444444444444444,
              "#bd3786"
             ],
             [
              0.5555555555555556,
              "#d8576b"
             ],
             [
              0.6666666666666666,
              "#ed7953"
             ],
             [
              0.7777777777777778,
              "#fb9f3a"
             ],
             [
              0.8888888888888888,
              "#fdca26"
             ],
             [
              1,
              "#f0f921"
             ]
            ],
            "type": "histogram2d"
           }
          ],
          "histogram2dcontour": [
           {
            "colorbar": {
             "outlinewidth": 0,
             "ticks": ""
            },
            "colorscale": [
             [
              0,
              "#0d0887"
             ],
             [
              0.1111111111111111,
              "#46039f"
             ],
             [
              0.2222222222222222,
              "#7201a8"
             ],
             [
              0.3333333333333333,
              "#9c179e"
             ],
             [
              0.4444444444444444,
              "#bd3786"
             ],
             [
              0.5555555555555556,
              "#d8576b"
             ],
             [
              0.6666666666666666,
              "#ed7953"
             ],
             [
              0.7777777777777778,
              "#fb9f3a"
             ],
             [
              0.8888888888888888,
              "#fdca26"
             ],
             [
              1,
              "#f0f921"
             ]
            ],
            "type": "histogram2dcontour"
           }
          ],
          "mesh3d": [
           {
            "colorbar": {
             "outlinewidth": 0,
             "ticks": ""
            },
            "type": "mesh3d"
           }
          ],
          "parcoords": [
           {
            "line": {
             "colorbar": {
              "outlinewidth": 0,
              "ticks": ""
             }
            },
            "type": "parcoords"
           }
          ],
          "pie": [
           {
            "automargin": true,
            "type": "pie"
           }
          ],
          "scatter": [
           {
            "marker": {
             "colorbar": {
              "outlinewidth": 0,
              "ticks": ""
             }
            },
            "type": "scatter"
           }
          ],
          "scatter3d": [
           {
            "line": {
             "colorbar": {
              "outlinewidth": 0,
              "ticks": ""
             }
            },
            "marker": {
             "colorbar": {
              "outlinewidth": 0,
              "ticks": ""
             }
            },
            "type": "scatter3d"
           }
          ],
          "scattercarpet": [
           {
            "marker": {
             "colorbar": {
              "outlinewidth": 0,
              "ticks": ""
             }
            },
            "type": "scattercarpet"
           }
          ],
          "scattergeo": [
           {
            "marker": {
             "colorbar": {
              "outlinewidth": 0,
              "ticks": ""
             }
            },
            "type": "scattergeo"
           }
          ],
          "scattergl": [
           {
            "marker": {
             "colorbar": {
              "outlinewidth": 0,
              "ticks": ""
             }
            },
            "type": "scattergl"
           }
          ],
          "scattermapbox": [
           {
            "marker": {
             "colorbar": {
              "outlinewidth": 0,
              "ticks": ""
             }
            },
            "type": "scattermapbox"
           }
          ],
          "scatterpolar": [
           {
            "marker": {
             "colorbar": {
              "outlinewidth": 0,
              "ticks": ""
             }
            },
            "type": "scatterpolar"
           }
          ],
          "scatterpolargl": [
           {
            "marker": {
             "colorbar": {
              "outlinewidth": 0,
              "ticks": ""
             }
            },
            "type": "scatterpolargl"
           }
          ],
          "scatterternary": [
           {
            "marker": {
             "colorbar": {
              "outlinewidth": 0,
              "ticks": ""
             }
            },
            "type": "scatterternary"
           }
          ],
          "surface": [
           {
            "colorbar": {
             "outlinewidth": 0,
             "ticks": ""
            },
            "colorscale": [
             [
              0,
              "#0d0887"
             ],
             [
              0.1111111111111111,
              "#46039f"
             ],
             [
              0.2222222222222222,
              "#7201a8"
             ],
             [
              0.3333333333333333,
              "#9c179e"
             ],
             [
              0.4444444444444444,
              "#bd3786"
             ],
             [
              0.5555555555555556,
              "#d8576b"
             ],
             [
              0.6666666666666666,
              "#ed7953"
             ],
             [
              0.7777777777777778,
              "#fb9f3a"
             ],
             [
              0.8888888888888888,
              "#fdca26"
             ],
             [
              1,
              "#f0f921"
             ]
            ],
            "type": "surface"
           }
          ],
          "table": [
           {
            "cells": {
             "fill": {
              "color": "#EBF0F8"
             },
             "line": {
              "color": "white"
             }
            },
            "header": {
             "fill": {
              "color": "#C8D4E3"
             },
             "line": {
              "color": "white"
             }
            },
            "type": "table"
           }
          ]
         },
         "layout": {
          "annotationdefaults": {
           "arrowcolor": "#2a3f5f",
           "arrowhead": 0,
           "arrowwidth": 1
          },
          "autotypenumbers": "strict",
          "coloraxis": {
           "colorbar": {
            "outlinewidth": 0,
            "ticks": ""
           }
          },
          "colorscale": {
           "diverging": [
            [
             0,
             "#8e0152"
            ],
            [
             0.1,
             "#c51b7d"
            ],
            [
             0.2,
             "#de77ae"
            ],
            [
             0.3,
             "#f1b6da"
            ],
            [
             0.4,
             "#fde0ef"
            ],
            [
             0.5,
             "#f7f7f7"
            ],
            [
             0.6,
             "#e6f5d0"
            ],
            [
             0.7,
             "#b8e186"
            ],
            [
             0.8,
             "#7fbc41"
            ],
            [
             0.9,
             "#4d9221"
            ],
            [
             1,
             "#276419"
            ]
           ],
           "sequential": [
            [
             0,
             "#0d0887"
            ],
            [
             0.1111111111111111,
             "#46039f"
            ],
            [
             0.2222222222222222,
             "#7201a8"
            ],
            [
             0.3333333333333333,
             "#9c179e"
            ],
            [
             0.4444444444444444,
             "#bd3786"
            ],
            [
             0.5555555555555556,
             "#d8576b"
            ],
            [
             0.6666666666666666,
             "#ed7953"
            ],
            [
             0.7777777777777778,
             "#fb9f3a"
            ],
            [
             0.8888888888888888,
             "#fdca26"
            ],
            [
             1,
             "#f0f921"
            ]
           ],
           "sequentialminus": [
            [
             0,
             "#0d0887"
            ],
            [
             0.1111111111111111,
             "#46039f"
            ],
            [
             0.2222222222222222,
             "#7201a8"
            ],
            [
             0.3333333333333333,
             "#9c179e"
            ],
            [
             0.4444444444444444,
             "#bd3786"
            ],
            [
             0.5555555555555556,
             "#d8576b"
            ],
            [
             0.6666666666666666,
             "#ed7953"
            ],
            [
             0.7777777777777778,
             "#fb9f3a"
            ],
            [
             0.8888888888888888,
             "#fdca26"
            ],
            [
             1,
             "#f0f921"
            ]
           ]
          },
          "colorway": [
           "#636efa",
           "#EF553B",
           "#00cc96",
           "#ab63fa",
           "#FFA15A",
           "#19d3f3",
           "#FF6692",
           "#B6E880",
           "#FF97FF",
           "#FECB52"
          ],
          "font": {
           "color": "#2a3f5f"
          },
          "geo": {
           "bgcolor": "white",
           "lakecolor": "white",
           "landcolor": "#E5ECF6",
           "showlakes": true,
           "showland": true,
           "subunitcolor": "white"
          },
          "hoverlabel": {
           "align": "left"
          },
          "hovermode": "closest",
          "mapbox": {
           "style": "light"
          },
          "paper_bgcolor": "white",
          "plot_bgcolor": "#E5ECF6",
          "polar": {
           "angularaxis": {
            "gridcolor": "white",
            "linecolor": "white",
            "ticks": ""
           },
           "bgcolor": "#E5ECF6",
           "radialaxis": {
            "gridcolor": "white",
            "linecolor": "white",
            "ticks": ""
           }
          },
          "scene": {
           "xaxis": {
            "backgroundcolor": "#E5ECF6",
            "gridcolor": "white",
            "gridwidth": 2,
            "linecolor": "white",
            "showbackground": true,
            "ticks": "",
            "zerolinecolor": "white"
           },
           "yaxis": {
            "backgroundcolor": "#E5ECF6",
            "gridcolor": "white",
            "gridwidth": 2,
            "linecolor": "white",
            "showbackground": true,
            "ticks": "",
            "zerolinecolor": "white"
           },
           "zaxis": {
            "backgroundcolor": "#E5ECF6",
            "gridcolor": "white",
            "gridwidth": 2,
            "linecolor": "white",
            "showbackground": true,
            "ticks": "",
            "zerolinecolor": "white"
           }
          },
          "shapedefaults": {
           "line": {
            "color": "#2a3f5f"
           }
          },
          "ternary": {
           "aaxis": {
            "gridcolor": "white",
            "linecolor": "white",
            "ticks": ""
           },
           "baxis": {
            "gridcolor": "white",
            "linecolor": "white",
            "ticks": ""
           },
           "bgcolor": "#E5ECF6",
           "caxis": {
            "gridcolor": "white",
            "linecolor": "white",
            "ticks": ""
           }
          },
          "title": {
           "x": 0.05
          },
          "xaxis": {
           "automargin": true,
           "gridcolor": "white",
           "linecolor": "white",
           "ticks": "",
           "title": {
            "standoff": 15
           },
           "zerolinecolor": "white",
           "zerolinewidth": 2
          },
          "yaxis": {
           "automargin": true,
           "gridcolor": "white",
           "linecolor": "white",
           "ticks": "",
           "title": {
            "standoff": 15
           },
           "zerolinecolor": "white",
           "zerolinewidth": 2
          }
         }
        },
        "xaxis": {
         "autorange": true,
         "range": [
          -0.3946120208580082,
          6.677797328037594
         ],
         "type": "linear"
        },
        "yaxis": {
         "autorange": true,
         "range": [
          -1.1464968152866242,
          1.1464968152866242
         ],
         "type": "linear"
        }
       }
      },
      "image/png": "[encoded data removed]",
      "text/html": [
       "<div>                            <div id=\"3bda065e-e4cc-4a07-8302-1ef60ea8facc\" class=\"plotly-graph-div\" style=\"height:525px; width:100%;\"></div>            <script type=\"text/javascript\">                require([\"plotly\"], function(Plotly) {                    window.PLOTLYENV=window.PLOTLYENV || {};                                    if (document.getElementById(\"3bda065e-e4cc-4a07-8302-1ef60ea8facc\")) {                    Plotly.newPlot(                        \"3bda065e-e4cc-4a07-8302-1ef60ea8facc\",                        [{\"mode\": \"lines+markers\", \"type\": \"scatter\", \"x\": [0.0, 0.06283185307179587, 0.12566370614359174, 0.1884955592153876, 0.25132741228718347, 0.3141592653589793, 0.3769911184307752, 0.4398229715025711, 0.5026548245743669, 0.5654866776461628, 0.6283185307179586, 0.6911503837897546, 0.7539822368615504, 0.8168140899333463, 0.8796459430051422, 0.942477796076938, 1.0053096491487339, 1.0681415022205298, 1.1309733552923256, 1.1938052083641215, 1.2566370614359172, 1.3194689145077132, 1.3823007675795091, 1.4451326206513049, 1.5079644737231008, 1.5707963267948968, 1.6336281798666925, 1.6964600329384885, 1.7592918860102844, 1.8221237390820801, 1.884955592153876, 1.9477874452256718, 2.0106192982974678, 2.0734511513692637, 2.1362830044410597, 2.199114857512855, 2.261946710584651, 2.324778563656447, 2.387610416728243, 2.450442269800039, 2.5132741228718345, 2.5761059759436304, 2.6389378290154264, 2.7017696820872223, 2.7646015351590183, 2.8274333882308142, 2.8902652413026098, 2.9530970943744057, 3.0159289474462017, 3.0787608005179976, 3.1415926535897936, 3.204424506661589, 3.267256359733385, 3.330088212805181, 3.392920065876977, 3.455751918948773, 3.518583772020569, 3.5814156250923643, 3.6442474781641603, 3.7070793312359562, 3.769911184307752, 3.832743037379548, 3.8955748904513436, 3.9584067435231396, 4.0212385965949355, 4.084070449666731, 4.1469023027385274, 4.209734155810323, 4.272566008882119, 4.335397861953915, 4.39822971502571, 4.461061568097507, 4.523893421169302, 4.586725274241099, 4.649557127312894, 4.71238898038469, 4.775220833456486, 4.838052686528282, 4.900884539600078, 4.9637163926718735, 5.026548245743669, 5.089380098815465, 5.152211951887261, 5.215043804959057, 5.277875658030853, 5.340707511102649, 5.403539364174445, 5.46637121724624, 5.529203070318037, 5.592034923389832, 5.6548667764616285, 5.717698629533424, 5.7805304826052195, 5.843362335677016, 5.906194188748811, 5.969026041820608, 6.031857894892403, 6.094689747964199, 6.157521601035995, 6.220353454107791, 6.283185307179586], \"y\": [0.0, 0.06279051952931337, 0.12533323356430426, 0.18738131458572463, 0.2486898871648548, 0.3090169943749474, 0.368124552684678, 0.4257792915650727, 0.4817536741017153, 0.5358267949789967, 0.5877852522924731, 0.6374239897486897, 0.6845471059286887, 0.7289686274214116, 0.7705132427757893, 0.8090169943749475, 0.8443279255020151, 0.8763066800438637, 0.9048270524660196, 0.9297764858882515, 0.9510565162951535, 0.9685831611286311, 0.9822872507286887, 0.9921147013144779, 0.9980267284282716, 1.0, 0.9980267284282716, 0.9921147013144778, 0.9822872507286886, 0.9685831611286311, 0.9510565162951535, 0.9297764858882513, 0.9048270524660195, 0.8763066800438635, 0.844327925502015, 0.8090169943749475, 0.7705132427757893, 0.7289686274214116, 0.6845471059286885, 0.6374239897486895, 0.5877852522924732, 0.5358267949789967, 0.4817536741017152, 0.4257792915650725, 0.3681245526846777, 0.3090169943749471, 0.2486898871648548, 0.18738131458572455, 0.1253332335643041, 0.06279051952931314, -3.216245299353273e-16, -0.06279051952931333, -0.1253332335643043, -0.18738131458572477, -0.24868988716485502, -0.30901699437494773, -0.36812455268467836, -0.4257792915650727, -0.4817536741017154, -0.5358267949789968, -0.5877852522924734, -0.63742398974869, -0.6845471059286887, -0.7289686274214116, -0.7705132427757894, -0.8090169943749473, -0.8443279255020153, -0.8763066800438636, -0.9048270524660198, -0.9297764858882515, -0.9510565162951535, -0.9685831611286312, -0.9822872507286887, -0.9921147013144779, -0.9980267284282716, -1.0, -0.9980267284282716, -0.9921147013144779, -0.9822872507286886, -0.9685831611286311, -0.9510565162951536, -0.9297764858882512, -0.9048270524660196, -0.8763066800438634, -0.8443279255020151, -0.809016994374947, -0.770513242775789, -0.7289686274214116, -0.6845471059286883, -0.6374239897486896, -0.5877852522924726, -0.5358267949789963, -0.4817536741017153, -0.4257792915650722, -0.3681245526846778, -0.3090169943749468, -0.2486898871648545, -0.18738131458572468, -0.1253332335643038, -0.06279051952931326, -2.4492935982947064e-16]}],                        {\"template\": {\"data\": {\"bar\": [{\"error_x\": {\"color\": \"#2a3f5f\"}, \"error_y\": {\"color\": \"#2a3f5f\"}, \"marker\": {\"line\": {\"color\": \"#E5ECF6\", \"width\": 0.5}}, \"type\": \"bar\"}], \"barpolar\": [{\"marker\": {\"line\": {\"color\": \"#E5ECF6\", \"width\": 0.5}}, \"type\": \"barpolar\"}], \"carpet\": [{\"aaxis\": {\"endlinecolor\": \"#2a3f5f\", \"gridcolor\": \"white\", \"linecolor\": \"white\", \"minorgridcolor\": \"white\", \"startlinecolor\": \"#2a3f5f\"}, \"baxis\": {\"endlinecolor\": \"#2a3f5f\", \"gridcolor\": \"white\", \"linecolor\": \"white\", \"minorgridcolor\": \"white\", \"startlinecolor\": \"#2a3f5f\"}, \"type\": \"carpet\"}], \"choropleth\": [{\"colorbar\": {\"outlinewidth\": 0, \"ticks\": \"\"}, \"type\": \"choropleth\"}], \"contour\": [{\"colorbar\": {\"outlinewidth\": 0, \"ticks\": \"\"}, \"colorscale\": [[0.0, \"#0d0887\"], [0.1111111111111111, \"#46039f\"], [0.2222222222222222, \"#7201a8\"], [0.3333333333333333, \"#9c179e\"], [0.4444444444444444, \"#bd3786\"], [0.5555555555555556, \"#d8576b\"], [0.6666666666666666, \"#ed7953\"], [0.7777777777777778, \"#fb9f3a\"], [0.8888888888888888, \"#fdca26\"], [1.0, \"#f0f921\"]], \"type\": \"contour\"}], \"contourcarpet\": [{\"colorbar\": {\"outlinewidth\": 0, \"ticks\": \"\"}, \"type\": \"contourcarpet\"}], \"heatmap\": [{\"colorbar\": {\"outlinewidth\": 0, \"ticks\": \"\"}, \"colorscale\": [[0.0, \"#0d0887\"], [0.1111111111111111, \"#46039f\"], [0.2222222222222222, \"#7201a8\"], [0.3333333333333333, \"#9c179e\"], [0.4444444444444444, \"#bd3786\"], [0.5555555555555556, \"#d8576b\"], [0.6666666666666666, \"#ed7953\"], [0.7777777777777778, \"#fb9f3a\"], [0.8888888888888888, \"#fdca26\"], [1.0, \"#f0f921\"]], \"type\": \"heatmap\"}], \"heatmapgl\": [{\"colorbar\": {\"outlinewidth\": 0, \"ticks\": \"\"}, \"colorscale\": [[0.0, \"#0d0887\"], [0.1111111111111111, \"#46039f\"], [0.2222222222222222, \"#7201a8\"], [0.3333333333333333, \"#9c179e\"], [0.4444444444444444, \"#bd3786\"], [0.5555555555555556, \"#d8576b\"], [0.6666666666666666, \"#ed7953\"], [0.7777777777777778, \"#fb9f3a\"], [0.8888888888888888, \"#fdca26\"], [1.0, \"#f0f921\"]], \"type\": \"heatmapgl\"}], \"histogram\": [{\"marker\": {\"colorbar\": {\"outlinewidth\": 0, \"ticks\": \"\"}}, \"type\": \"histogram\"}], \"histogram2d\": [{\"colorbar\": {\"outlinewidth\": 0, \"ticks\": \"\"}, \"colorscale\": [[0.0, \"#0d0887\"], [0.1111111111111111, \"#46039f\"], [0.2222222222222222, \"#7201a8\"], [0.3333333333333333, \"#9c179e\"], [0.4444444444444444, \"#bd3786\"], [0.5555555555555556, \"#d8576b\"], [0.6666666666666666, \"#ed7953\"], [0.7777777777777778, \"#fb9f3a\"], [0.8888888888888888, \"#fdca26\"], [1.0, \"#f0f921\"]], \"type\": \"histogram2d\"}], \"histogram2dcontour\": [{\"colorbar\": {\"outlinewidth\": 0, \"ticks\": \"\"}, \"colorscale\": [[0.0, \"#0d0887\"], [0.1111111111111111, \"#46039f\"], [0.2222222222222222, \"#7201a8\"], [0.3333333333333333, \"#9c179e\"], [0.4444444444444444, \"#bd3786\"], [0.5555555555555556, \"#d8576b\"], [0.6666666666666666, \"#ed7953\"], [0.7777777777777778, \"#fb9f3a\"], [0.8888888888888888, \"#fdca26\"], [1.0, \"#f0f921\"]], \"type\": \"histogram2dcontour\"}], \"mesh3d\": [{\"colorbar\": {\"outlinewidth\": 0, \"ticks\": \"\"}, \"type\": \"mesh3d\"}], \"parcoords\": [{\"line\": {\"colorbar\": {\"outlinewidth\": 0, \"ticks\": \"\"}}, \"type\": \"parcoords\"}], \"pie\": [{\"automargin\": true, \"type\": \"pie\"}], \"scatter\": [{\"marker\": {\"colorbar\": {\"outlinewidth\": 0, \"ticks\": \"\"}}, \"type\": \"scatter\"}], \"scatter3d\": [{\"line\": {\"colorbar\": {\"outlinewidth\": 0, \"ticks\": \"\"}}, \"marker\": {\"colorbar\": {\"outlinewidth\": 0, \"ticks\": \"\"}}, \"type\": \"scatter3d\"}], \"scattercarpet\": [{\"marker\": {\"colorbar\": {\"outlinewidth\": 0, \"ticks\": \"\"}}, \"type\": \"scattercarpet\"}], \"scattergeo\": [{\"marker\": {\"colorbar\": {\"outlinewidth\": 0, \"ticks\": \"\"}}, \"type\": \"scattergeo\"}], \"scattergl\": [{\"marker\": {\"colorbar\": {\"outlinewidth\": 0, \"ticks\": \"\"}}, \"type\": \"scattergl\"}], \"scattermapbox\": [{\"marker\": {\"colorbar\": {\"outlinewidth\": 0, \"ticks\": \"\"}}, \"type\": \"scattermapbox\"}], \"scatterpolar\": [{\"marker\": {\"colorbar\": {\"outlinewidth\": 0, \"ticks\": \"\"}}, \"type\": \"scatterpolar\"}], \"scatterpolargl\": [{\"marker\": {\"colorbar\": {\"outlinewidth\": 0, \"ticks\": \"\"}}, \"type\": \"scatterpolargl\"}], \"scatterternary\": [{\"marker\": {\"colorbar\": {\"outlinewidth\": 0, \"ticks\": \"\"}}, \"type\": \"scatterternary\"}], \"surface\": [{\"colorbar\": {\"outlinewidth\": 0, \"ticks\": \"\"}, \"colorscale\": [[0.0, \"#0d0887\"], [0.1111111111111111, \"#46039f\"], [0.2222222222222222, \"#7201a8\"], [0.3333333333333333, \"#9c179e\"], [0.4444444444444444, \"#bd3786\"], [0.5555555555555556, \"#d8576b\"], [0.6666666666666666, \"#ed7953\"], [0.7777777777777778, \"#fb9f3a\"], [0.8888888888888888, \"#fdca26\"], [1.0, \"#f0f921\"]], \"type\": \"surface\"}], \"table\": [{\"cells\": {\"fill\": {\"color\": \"#EBF0F8\"}, \"line\": {\"color\": \"white\"}}, \"header\": {\"fill\": {\"color\": \"#C8D4E3\"}, \"line\": {\"color\": \"white\"}}, \"type\": \"table\"}]}, \"layout\": {\"annotationdefaults\": {\"arrowcolor\": \"#2a3f5f\", \"arrowhead\": 0, \"arrowwidth\": 1}, \"autotypenumbers\": \"strict\", \"coloraxis\": {\"colorbar\": {\"outlinewidth\": 0, \"ticks\": \"\"}}, \"colorscale\": {\"diverging\": [[0, \"#8e0152\"], [0.1, \"#c51b7d\"], [0.2, \"#de77ae\"], [0.3, \"#f1b6da\"], [0.4, \"#fde0ef\"], [0.5, \"#f7f7f7\"], [0.6, \"#e6f5d0\"], [0.7, \"#b8e186\"], [0.8, \"#7fbc41\"], [0.9, \"#4d9221\"], [1, \"#276419\"]], \"sequential\": [[0.0, \"#0d0887\"], [0.1111111111111111, \"#46039f\"], [0.2222222222222222, \"#7201a8\"], [0.3333333333333333, \"#9c179e\"], [0.4444444444444444, \"#bd3786\"], [0.5555555555555556, \"#d8576b\"], [0.6666666666666666, \"#ed7953\"], [0.7777777777777778, \"#fb9f3a\"], [0.8888888888888888, \"#fdca26\"], [1.0, \"#f0f921\"]], \"sequentialminus\": [[0.0, \"#0d0887\"], [0.1111111111111111, \"#46039f\"], [0.2222222222222222, \"#7201a8\"], [0.3333333333333333, \"#9c179e\"], [0.4444444444444444, \"#bd3786\"], [0.5555555555555556, \"#d8576b\"], [0.6666666666666666, \"#ed7953\"], [0.7777777777777778, \"#fb9f3a\"], [0.8888888888888888, \"#fdca26\"], [1.0, \"#f0f921\"]]}, \"colorway\": [\"#636efa\", \"#EF553B\", \"#00cc96\", \"#ab63fa\", \"#FFA15A\", \"#19d3f3\", \"#FF6692\", \"#B6E880\", \"#FF97FF\", \"#FECB52\"], \"font\": {\"color\": \"#2a3f5f\"}, \"geo\": {\"bgcolor\": \"white\", \"lakecolor\": \"white\", \"landcolor\": \"#E5ECF6\", \"showlakes\": true, \"showland\": true, \"subunitcolor\": \"white\"}, \"hoverlabel\": {\"align\": \"left\"}, \"hovermode\": \"closest\", \"mapbox\": {\"style\": \"light\"}, \"paper_bgcolor\": \"white\", \"plot_bgcolor\": \"#E5ECF6\", \"polar\": {\"angularaxis\": {\"gridcolor\": \"white\", \"linecolor\": \"white\", \"ticks\": \"\"}, \"bgcolor\": \"#E5ECF6\", \"radialaxis\": {\"gridcolor\": \"white\", \"linecolor\": \"white\", \"ticks\": \"\"}}, \"scene\": {\"xaxis\": {\"backgroundcolor\": \"#E5ECF6\", \"gridcolor\": \"white\", \"gridwidth\": 2, \"linecolor\": \"white\", \"showbackground\": true, \"ticks\": \"\", \"zerolinecolor\": \"white\"}, \"yaxis\": {\"backgroundcolor\": \"#E5ECF6\", \"gridcolor\": \"white\", \"gridwidth\": 2, \"linecolor\": \"white\", \"showbackground\": true, \"ticks\": \"\", \"zerolinecolor\": \"white\"}, \"zaxis\": {\"backgroundcolor\": \"#E5ECF6\", \"gridcolor\": \"white\", \"gridwidth\": 2, \"linecolor\": \"white\", \"showbackground\": true, \"ticks\": \"\", \"zerolinecolor\": \"white\"}}, \"shapedefaults\": {\"line\": {\"color\": \"#2a3f5f\"}}, \"ternary\": {\"aaxis\": {\"gridcolor\": \"white\", \"linecolor\": \"white\", \"ticks\": \"\"}, \"baxis\": {\"gridcolor\": \"white\", \"linecolor\": \"white\", \"ticks\": \"\"}, \"bgcolor\": \"#E5ECF6\", \"caxis\": {\"gridcolor\": \"white\", \"linecolor\": \"white\", \"ticks\": \"\"}}, \"title\": {\"x\": 0.05}, \"xaxis\": {\"automargin\": true, \"gridcolor\": \"white\", \"linecolor\": \"white\", \"ticks\": \"\", \"title\": {\"standoff\": 15}, \"zerolinecolor\": \"white\", \"zerolinewidth\": 2}, \"yaxis\": {\"automargin\": true, \"gridcolor\": \"white\", \"linecolor\": \"white\", \"ticks\": \"\", \"title\": {\"standoff\": 15}, \"zerolinecolor\": \"white\", \"zerolinewidth\": 2}}}},                        {\"responsive\": true}                    ).then(function(){\n",
       "                            \n",
       "var gd = document.getElementById('3bda065e-e4cc-4a07-8302-1ef60ea8facc');\n",
       "var x = new MutationObserver(function (mutations, observer) {{\n",
       "        var display = window.getComputedStyle(gd).display;\n",
       "        if (!display || display === 'none') {{\n",
       "            console.log([gd, 'removed!']);\n",
       "            Plotly.purge(gd);\n",
       "            observer.disconnect();\n",
       "        }}\n",
       "}});\n",
       "\n",
       "// Listen for the removal of the full notebook cells\n",
       "var notebookContainer = gd.closest('#notebook-container');\n",
       "if (notebookContainer) {{\n",
       "    x.observe(notebookContainer, {childList: true});\n",
       "}}\n",
       "\n",
       "// Listen for the clearing of the current output cell\n",
       "var outputEl = gd.closest('.output');\n",
       "if (outputEl) {{\n",
       "    x.observe(outputEl, {childList: true});\n",
       "}}\n",
       "\n",
       "                        })                };                });            </script>        </div>"
      ]
     },
     "metadata": {},
     "output_type": "display_data"
    }
   ],
   "source": [
    "ds['sin'].preview()"
   ]
  },
  {
   "cell_type": "code",
   "execution_count": 12,
   "metadata": {},
   "outputs": [
    {
     "data": {
      "text/html": [
       "<div>\n",
       "<style scoped>\n",
       "    .dataframe tbody tr th:only-of-type {\n",
       "        vertical-align: middle;\n",
       "    }\n",
       "\n",
       "    .dataframe tbody tr th {\n",
       "        vertical-align: top;\n",
       "    }\n",
       "\n",
       "    .dataframe thead th {\n",
       "        text-align: right;\n",
       "    }\n",
       "</style>\n",
       "<table border=\"1\" class=\"dataframe\">\n",
       "  <thead>\n",
       "    <tr style=\"text-align: right;\">\n",
       "      <th></th>\n",
       "      <th>sin</th>\n",
       "      <th>cos</th>\n",
       "    </tr>\n",
       "  </thead>\n",
       "  <tbody>\n",
       "    <tr>\n",
       "      <th>0.000000</th>\n",
       "      <td>0.000000e+00</td>\n",
       "      <td>1.000000</td>\n",
       "    </tr>\n",
       "    <tr>\n",
       "      <th>0.062832</th>\n",
       "      <td>6.279052e-02</td>\n",
       "      <td>0.998027</td>\n",
       "    </tr>\n",
       "    <tr>\n",
       "      <th>0.125664</th>\n",
       "      <td>1.253332e-01</td>\n",
       "      <td>0.992115</td>\n",
       "    </tr>\n",
       "    <tr>\n",
       "      <th>0.188496</th>\n",
       "      <td>1.873813e-01</td>\n",
       "      <td>0.982287</td>\n",
       "    </tr>\n",
       "    <tr>\n",
       "      <th>0.251327</th>\n",
       "      <td>2.486899e-01</td>\n",
       "      <td>0.968583</td>\n",
       "    </tr>\n",
       "    <tr>\n",
       "      <th>...</th>\n",
       "      <td>...</td>\n",
       "      <td>...</td>\n",
       "    </tr>\n",
       "    <tr>\n",
       "      <th>6.031858</th>\n",
       "      <td>-2.486899e-01</td>\n",
       "      <td>0.968583</td>\n",
       "    </tr>\n",
       "    <tr>\n",
       "      <th>6.094690</th>\n",
       "      <td>-1.873813e-01</td>\n",
       "      <td>0.982287</td>\n",
       "    </tr>\n",
       "    <tr>\n",
       "      <th>6.157522</th>\n",
       "      <td>-1.253332e-01</td>\n",
       "      <td>0.992115</td>\n",
       "    </tr>\n",
       "    <tr>\n",
       "      <th>6.220353</th>\n",
       "      <td>-6.279052e-02</td>\n",
       "      <td>0.998027</td>\n",
       "    </tr>\n",
       "    <tr>\n",
       "      <th>6.283185</th>\n",
       "      <td>-2.449294e-16</td>\n",
       "      <td>1.000000</td>\n",
       "    </tr>\n",
       "  </tbody>\n",
       "</table>\n",
       "<p>101 rows × 2 columns</p>\n",
       "</div>"
      ],
      "text/plain": [
       "                   sin       cos\n",
       "0.000000  0.000000e+00  1.000000\n",
       "0.062832  6.279052e-02  0.998027\n",
       "0.125664  1.253332e-01  0.992115\n",
       "0.188496  1.873813e-01  0.982287\n",
       "0.251327  2.486899e-01  0.968583\n",
       "...                ...       ...\n",
       "6.031858 -2.486899e-01  0.968583\n",
       "6.094690 -1.873813e-01  0.982287\n",
       "6.157522 -1.253332e-01  0.992115\n",
       "6.220353 -6.279052e-02  0.998027\n",
       "6.283185 -2.449294e-16  1.000000\n",
       "\n",
       "[101 rows x 2 columns]"
      ]
     },
     "execution_count": 12,
     "metadata": {},
     "output_type": "execute_result"
    }
   ],
   "source": [
    "ds.DataFrame"
   ]
  },
  {
   "cell_type": "markdown",
   "metadata": {},
   "source": [
    "## FrequencySeries"
   ]
  },
  {
   "cell_type": "code",
   "execution_count": 13,
   "metadata": {},
   "outputs": [],
   "source": [
    "from CactusTool import FrequencySeries\n",
    "import numpy as np\n",
    "\n",
    "f = np.linspace(0, 2 * np.pi, 101)\n",
    "y = np.sin(f)\n",
    "fs = FrequencySeries(f, y, CU=False)"
   ]
  },
  {
   "cell_type": "code",
   "execution_count": 14,
   "metadata": {},
   "outputs": [
    {
     "name": "stdout",
     "output_type": "stream",
     "text": [
      "FrequencySeries:\n",
      "\tCactus Unit: False\n",
      "\tLenght: 101\n",
      "\tTime: (0.0, 6.283185307179586, 0.06283185307179587)\n",
      "\tDuration: 6.283185307179586\n",
      "\n"
     ]
    }
   ],
   "source": [
    "ret = \"FrequencySeries:\\n\"\n",
    "ret += f\"\\tCactus Unit: {fs._CU}\\n\"\n",
    "ret += f\"\\tLenght: {len(fs)}\\n\"\n",
    "ret += f\"\\tTime: ({fs.fmin}, {fs.fmax}, {fs.df})\\n\"\n",
    "ret += f\"\\tDuration: {fs.frange}\\n\"\n",
    "print(ret)"
   ]
  },
  {
   "cell_type": "markdown",
   "metadata": {},
   "source": [
    "## Plot"
   ]
  },
  {
   "cell_type": "code",
   "execution_count": 9,
   "metadata": {},
   "outputs": [
    {
     "data": {
      "application/vnd.plotly.v1+json": {
       "config": {
        "plotlyServerURL": "https://plot.ly"
       },
       "data": [
        {
         "mode": "lines+markers",
         "name": "y",
         "type": "scatter",
         "x": [
          0,
          0.06283185307179587,
          0.12566370614359174,
          0.1884955592153876,
          0.25132741228718347,
          0.3141592653589793,
          0.3769911184307752,
          0.4398229715025711,
          0.5026548245743669,
          0.5654866776461628,
          0.6283185307179586,
          0.6911503837897546,
          0.7539822368615504,
          0.8168140899333463,
          0.8796459430051422,
          0.942477796076938,
          1.0053096491487339,
          1.0681415022205298,
          1.1309733552923256,
          1.1938052083641215,
          1.2566370614359172,
          1.3194689145077132,
          1.3823007675795091,
          1.4451326206513049,
          1.5079644737231008,
          1.5707963267948968,
          1.6336281798666925,
          1.6964600329384885,
          1.7592918860102844,
          1.8221237390820801,
          1.884955592153876,
          1.9477874452256718,
          2.0106192982974678,
          2.0734511513692637,
          2.1362830044410597,
          2.199114857512855,
          2.261946710584651,
          2.324778563656447,
          2.387610416728243,
          2.450442269800039,
          2.5132741228718345,
          2.5761059759436304,
          2.6389378290154264,
          2.7017696820872223,
          2.7646015351590183,
          2.8274333882308142,
          2.8902652413026098,
          2.9530970943744057,
          3.0159289474462017,
          3.0787608005179976,
          3.1415926535897936,
          3.204424506661589,
          3.267256359733385,
          3.330088212805181,
          3.392920065876977,
          3.455751918948773,
          3.518583772020569,
          3.5814156250923643,
          3.6442474781641603,
          3.7070793312359562,
          3.769911184307752,
          3.832743037379548,
          3.8955748904513436,
          3.9584067435231396,
          4.0212385965949355,
          4.084070449666731,
          4.1469023027385274,
          4.209734155810323,
          4.272566008882119,
          4.335397861953915,
          4.39822971502571,
          4.461061568097507,
          4.523893421169302,
          4.586725274241099,
          4.649557127312894,
          4.71238898038469,
          4.775220833456486,
          4.838052686528282,
          4.900884539600078,
          4.9637163926718735,
          5.026548245743669,
          5.089380098815465,
          5.152211951887261,
          5.215043804959057,
          5.277875658030853,
          5.340707511102649,
          5.403539364174445,
          5.46637121724624,
          5.529203070318037,
          5.592034923389832,
          5.6548667764616285,
          5.717698629533424,
          5.7805304826052195,
          5.843362335677016,
          5.906194188748811,
          5.969026041820608,
          6.031857894892403,
          6.094689747964199,
          6.157521601035995,
          6.220353454107791,
          6.283185307179586
         ],
         "y": [
          0,
          0.06279051952931337,
          0.12533323356430426,
          0.18738131458572463,
          0.2486898871648548,
          0.3090169943749474,
          0.368124552684678,
          0.4257792915650727,
          0.4817536741017153,
          0.5358267949789967,
          0.5877852522924731,
          0.6374239897486897,
          0.6845471059286887,
          0.7289686274214116,
          0.7705132427757893,
          0.8090169943749475,
          0.8443279255020151,
          0.8763066800438637,
          0.9048270524660196,
          0.9297764858882515,
          0.9510565162951535,
          0.9685831611286311,
          0.9822872507286887,
          0.9921147013144779,
          0.9980267284282716,
          1,
          0.9980267284282716,
          0.9921147013144778,
          0.9822872507286886,
          0.9685831611286311,
          0.9510565162951535,
          0.9297764858882513,
          0.9048270524660195,
          0.8763066800438635,
          0.844327925502015,
          0.8090169943749475,
          0.7705132427757893,
          0.7289686274214116,
          0.6845471059286885,
          0.6374239897486895,
          0.5877852522924732,
          0.5358267949789967,
          0.4817536741017152,
          0.4257792915650725,
          0.3681245526846777,
          0.3090169943749471,
          0.2486898871648548,
          0.18738131458572455,
          0.1253332335643041,
          0.06279051952931314,
          -3.216245299353273e-16,
          -0.06279051952931333,
          -0.1253332335643043,
          -0.18738131458572477,
          -0.24868988716485502,
          -0.30901699437494773,
          -0.36812455268467836,
          -0.4257792915650727,
          -0.4817536741017154,
          -0.5358267949789968,
          -0.5877852522924734,
          -0.63742398974869,
          -0.6845471059286887,
          -0.7289686274214116,
          -0.7705132427757894,
          -0.8090169943749473,
          -0.8443279255020153,
          -0.8763066800438636,
          -0.9048270524660198,
          -0.9297764858882515,
          -0.9510565162951535,
          -0.9685831611286312,
          -0.9822872507286887,
          -0.9921147013144779,
          -0.9980267284282716,
          -1,
          -0.9980267284282716,
          -0.9921147013144779,
          -0.9822872507286886,
          -0.9685831611286311,
          -0.9510565162951536,
          -0.9297764858882512,
          -0.9048270524660196,
          -0.8763066800438634,
          -0.8443279255020151,
          -0.809016994374947,
          -0.770513242775789,
          -0.7289686274214116,
          -0.6845471059286883,
          -0.6374239897486896,
          -0.5877852522924726,
          -0.5358267949789963,
          -0.4817536741017153,
          -0.4257792915650722,
          -0.3681245526846778,
          -0.3090169943749468,
          -0.2486898871648545,
          -0.18738131458572468,
          -0.1253332335643038,
          -0.06279051952931326,
          -2.4492935982947064e-16
         ]
        }
       ],
       "layout": {
        "autosize": true,
        "template": {
         "data": {
          "bar": [
           {
            "error_x": {
             "color": "#2a3f5f"
            },
            "error_y": {
             "color": "#2a3f5f"
            },
            "marker": {
             "line": {
              "color": "#E5ECF6",
              "width": 0.5
             }
            },
            "type": "bar"
           }
          ],
          "barpolar": [
           {
            "marker": {
             "line": {
              "color": "#E5ECF6",
              "width": 0.5
             }
            },
            "type": "barpolar"
           }
          ],
          "carpet": [
           {
            "aaxis": {
             "endlinecolor": "#2a3f5f",
             "gridcolor": "white",
             "linecolor": "white",
             "minorgridcolor": "white",
             "startlinecolor": "#2a3f5f"
            },
            "baxis": {
             "endlinecolor": "#2a3f5f",
             "gridcolor": "white",
             "linecolor": "white",
             "minorgridcolor": "white",
             "startlinecolor": "#2a3f5f"
            },
            "type": "carpet"
           }
          ],
          "choropleth": [
           {
            "colorbar": {
             "outlinewidth": 0,
             "ticks": ""
            },
            "type": "choropleth"
           }
          ],
          "contour": [
           {
            "colorbar": {
             "outlinewidth": 0,
             "ticks": ""
            },
            "colorscale": [
             [
              0,
              "#0d0887"
             ],
             [
              0.1111111111111111,
              "#46039f"
             ],
             [
              0.2222222222222222,
              "#7201a8"
             ],
             [
              0.3333333333333333,
              "#9c179e"
             ],
             [
              0.4444444444444444,
              "#bd3786"
             ],
             [
              0.5555555555555556,
              "#d8576b"
             ],
             [
              0.6666666666666666,
              "#ed7953"
             ],
             [
              0.7777777777777778,
              "#fb9f3a"
             ],
             [
              0.8888888888888888,
              "#fdca26"
             ],
             [
              1,
              "#f0f921"
             ]
            ],
            "type": "contour"
           }
          ],
          "contourcarpet": [
           {
            "colorbar": {
             "outlinewidth": 0,
             "ticks": ""
            },
            "type": "contourcarpet"
           }
          ],
          "heatmap": [
           {
            "colorbar": {
             "outlinewidth": 0,
             "ticks": ""
            },
            "colorscale": [
             [
              0,
              "#0d0887"
             ],
             [
              0.1111111111111111,
              "#46039f"
             ],
             [
              0.2222222222222222,
              "#7201a8"
             ],
             [
              0.3333333333333333,
              "#9c179e"
             ],
             [
              0.4444444444444444,
              "#bd3786"
             ],
             [
              0.5555555555555556,
              "#d8576b"
             ],
             [
              0.6666666666666666,
              "#ed7953"
             ],
             [
              0.7777777777777778,
              "#fb9f3a"
             ],
             [
              0.8888888888888888,
              "#fdca26"
             ],
             [
              1,
              "#f0f921"
             ]
            ],
            "type": "heatmap"
           }
          ],
          "heatmapgl": [
           {
            "colorbar": {
             "outlinewidth": 0,
             "ticks": ""
            },
            "colorscale": [
             [
              0,
              "#0d0887"
             ],
             [
              0.1111111111111111,
              "#46039f"
             ],
             [
              0.2222222222222222,
              "#7201a8"
             ],
             [
              0.3333333333333333,
              "#9c179e"
             ],
             [
              0.4444444444444444,
              "#bd3786"
             ],
             [
              0.5555555555555556,
              "#d8576b"
             ],
             [
              0.6666666666666666,
              "#ed7953"
             ],
             [
              0.7777777777777778,
              "#fb9f3a"
             ],
             [
              0.8888888888888888,
              "#fdca26"
             ],
             [
              1,
              "#f0f921"
             ]
            ],
            "type": "heatmapgl"
           }
          ],
          "histogram": [
           {
            "marker": {
             "colorbar": {
              "outlinewidth": 0,
              "ticks": ""
             }
            },
            "type": "histogram"
           }
          ],
          "histogram2d": [
           {
            "colorbar": {
             "outlinewidth": 0,
             "ticks": ""
            },
            "colorscale": [
             [
              0,
              "#0d0887"
             ],
             [
              0.1111111111111111,
              "#46039f"
             ],
             [
              0.2222222222222222,
              "#7201a8"
             ],
             [
              0.3333333333333333,
              "#9c179e"
             ],
             [
              0.4444444444444444,
              "#bd3786"
             ],
             [
              0.5555555555555556,
              "#d8576b"
             ],
             [
              0.6666666666666666,
              "#ed7953"
             ],
             [
              0.7777777777777778,
              "#fb9f3a"
             ],
             [
              0.8888888888888888,
              "#fdca26"
             ],
             [
              1,
              "#f0f921"
             ]
            ],
            "type": "histogram2d"
           }
          ],
          "histogram2dcontour": [
           {
            "colorbar": {
             "outlinewidth": 0,
             "ticks": ""
            },
            "colorscale": [
             [
              0,
              "#0d0887"
             ],
             [
              0.1111111111111111,
              "#46039f"
             ],
             [
              0.2222222222222222,
              "#7201a8"
             ],
             [
              0.3333333333333333,
              "#9c179e"
             ],
             [
              0.4444444444444444,
              "#bd3786"
             ],
             [
              0.5555555555555556,
              "#d8576b"
             ],
             [
              0.6666666666666666,
              "#ed7953"
             ],
             [
              0.7777777777777778,
              "#fb9f3a"
             ],
             [
              0.8888888888888888,
              "#fdca26"
             ],
             [
              1,
              "#f0f921"
             ]
            ],
            "type": "histogram2dcontour"
           }
          ],
          "mesh3d": [
           {
            "colorbar": {
             "outlinewidth": 0,
             "ticks": ""
            },
            "type": "mesh3d"
           }
          ],
          "parcoords": [
           {
            "line": {
             "colorbar": {
              "outlinewidth": 0,
              "ticks": ""
             }
            },
            "type": "parcoords"
           }
          ],
          "pie": [
           {
            "automargin": true,
            "type": "pie"
           }
          ],
          "scatter": [
           {
            "marker": {
             "colorbar": {
              "outlinewidth": 0,
              "ticks": ""
             }
            },
            "type": "scatter"
           }
          ],
          "scatter3d": [
           {
            "line": {
             "colorbar": {
              "outlinewidth": 0,
              "ticks": ""
             }
            },
            "marker": {
             "colorbar": {
              "outlinewidth": 0,
              "ticks": ""
             }
            },
            "type": "scatter3d"
           }
          ],
          "scattercarpet": [
           {
            "marker": {
             "colorbar": {
              "outlinewidth": 0,
              "ticks": ""
             }
            },
            "type": "scattercarpet"
           }
          ],
          "scattergeo": [
           {
            "marker": {
             "colorbar": {
              "outlinewidth": 0,
              "ticks": ""
             }
            },
            "type": "scattergeo"
           }
          ],
          "scattergl": [
           {
            "marker": {
             "colorbar": {
              "outlinewidth": 0,
              "ticks": ""
             }
            },
            "type": "scattergl"
           }
          ],
          "scattermapbox": [
           {
            "marker": {
             "colorbar": {
              "outlinewidth": 0,
              "ticks": ""
             }
            },
            "type": "scattermapbox"
           }
          ],
          "scatterpolar": [
           {
            "marker": {
             "colorbar": {
              "outlinewidth": 0,
              "ticks": ""
             }
            },
            "type": "scatterpolar"
           }
          ],
          "scatterpolargl": [
           {
            "marker": {
             "colorbar": {
              "outlinewidth": 0,
              "ticks": ""
             }
            },
            "type": "scatterpolargl"
           }
          ],
          "scatterternary": [
           {
            "marker": {
             "colorbar": {
              "outlinewidth": 0,
              "ticks": ""
             }
            },
            "type": "scatterternary"
           }
          ],
          "surface": [
           {
            "colorbar": {
             "outlinewidth": 0,
             "ticks": ""
            },
            "colorscale": [
             [
              0,
              "#0d0887"
             ],
             [
              0.1111111111111111,
              "#46039f"
             ],
             [
              0.2222222222222222,
              "#7201a8"
             ],
             [
              0.3333333333333333,
              "#9c179e"
             ],
             [
              0.4444444444444444,
              "#bd3786"
             ],
             [
              0.5555555555555556,
              "#d8576b"
             ],
             [
              0.6666666666666666,
              "#ed7953"
             ],
             [
              0.7777777777777778,
              "#fb9f3a"
             ],
             [
              0.8888888888888888,
              "#fdca26"
             ],
             [
              1,
              "#f0f921"
             ]
            ],
            "type": "surface"
           }
          ],
          "table": [
           {
            "cells": {
             "fill": {
              "color": "#EBF0F8"
             },
             "line": {
              "color": "white"
             }
            },
            "header": {
             "fill": {
              "color": "#C8D4E3"
             },
             "line": {
              "color": "white"
             }
            },
            "type": "table"
           }
          ]
         },
         "layout": {
          "annotationdefaults": {
           "arrowcolor": "#2a3f5f",
           "arrowhead": 0,
           "arrowwidth": 1
          },
          "autotypenumbers": "strict",
          "coloraxis": {
           "colorbar": {
            "outlinewidth": 0,
            "ticks": ""
           }
          },
          "colorscale": {
           "diverging": [
            [
             0,
             "#8e0152"
            ],
            [
             0.1,
             "#c51b7d"
            ],
            [
             0.2,
             "#de77ae"
            ],
            [
             0.3,
             "#f1b6da"
            ],
            [
             0.4,
             "#fde0ef"
            ],
            [
             0.5,
             "#f7f7f7"
            ],
            [
             0.6,
             "#e6f5d0"
            ],
            [
             0.7,
             "#b8e186"
            ],
            [
             0.8,
             "#7fbc41"
            ],
            [
             0.9,
             "#4d9221"
            ],
            [
             1,
             "#276419"
            ]
           ],
           "sequential": [
            [
             0,
             "#0d0887"
            ],
            [
             0.1111111111111111,
             "#46039f"
            ],
            [
             0.2222222222222222,
             "#7201a8"
            ],
            [
             0.3333333333333333,
             "#9c179e"
            ],
            [
             0.4444444444444444,
             "#bd3786"
            ],
            [
             0.5555555555555556,
             "#d8576b"
            ],
            [
             0.6666666666666666,
             "#ed7953"
            ],
            [
             0.7777777777777778,
             "#fb9f3a"
            ],
            [
             0.8888888888888888,
             "#fdca26"
            ],
            [
             1,
             "#f0f921"
            ]
           ],
           "sequentialminus": [
            [
             0,
             "#0d0887"
            ],
            [
             0.1111111111111111,
             "#46039f"
            ],
            [
             0.2222222222222222,
             "#7201a8"
            ],
            [
             0.3333333333333333,
             "#9c179e"
            ],
            [
             0.4444444444444444,
             "#bd3786"
            ],
            [
             0.5555555555555556,
             "#d8576b"
            ],
            [
             0.6666666666666666,
             "#ed7953"
            ],
            [
             0.7777777777777778,
             "#fb9f3a"
            ],
            [
             0.8888888888888888,
             "#fdca26"
            ],
            [
             1,
             "#f0f921"
            ]
           ]
          },
          "colorway": [
           "#636efa",
           "#EF553B",
           "#00cc96",
           "#ab63fa",
           "#FFA15A",
           "#19d3f3",
           "#FF6692",
           "#B6E880",
           "#FF97FF",
           "#FECB52"
          ],
          "font": {
           "color": "#2a3f5f"
          },
          "geo": {
           "bgcolor": "white",
           "lakecolor": "white",
           "landcolor": "#E5ECF6",
           "showlakes": true,
           "showland": true,
           "subunitcolor": "white"
          },
          "hoverlabel": {
           "align": "left"
          },
          "hovermode": "closest",
          "mapbox": {
           "style": "light"
          },
          "paper_bgcolor": "white",
          "plot_bgcolor": "#E5ECF6",
          "polar": {
           "angularaxis": {
            "gridcolor": "white",
            "linecolor": "white",
            "ticks": ""
           },
           "bgcolor": "#E5ECF6",
           "radialaxis": {
            "gridcolor": "white",
            "linecolor": "white",
            "ticks": ""
           }
          },
          "scene": {
           "xaxis": {
            "backgroundcolor": "#E5ECF6",
            "gridcolor": "white",
            "gridwidth": 2,
            "linecolor": "white",
            "showbackground": true,
            "ticks": "",
            "zerolinecolor": "white"
           },
           "yaxis": {
            "backgroundcolor": "#E5ECF6",
            "gridcolor": "white",
            "gridwidth": 2,
            "linecolor": "white",
            "showbackground": true,
            "ticks": "",
            "zerolinecolor": "white"
           },
           "zaxis": {
            "backgroundcolor": "#E5ECF6",
            "gridcolor": "white",
            "gridwidth": 2,
            "linecolor": "white",
            "showbackground": true,
            "ticks": "",
            "zerolinecolor": "white"
           }
          },
          "shapedefaults": {
           "line": {
            "color": "#2a3f5f"
           }
          },
          "ternary": {
           "aaxis": {
            "gridcolor": "white",
            "linecolor": "white",
            "ticks": ""
           },
           "baxis": {
            "gridcolor": "white",
            "linecolor": "white",
            "ticks": ""
           },
           "bgcolor": "#E5ECF6",
           "caxis": {
            "gridcolor": "white",
            "linecolor": "white",
            "ticks": ""
           }
          },
          "title": {
           "x": 0.05
          },
          "xaxis": {
           "automargin": true,
           "gridcolor": "white",
           "linecolor": "white",
           "ticks": "",
           "title": {
            "standoff": 15
           },
           "zerolinecolor": "white",
           "zerolinewidth": 2
          },
          "yaxis": {
           "automargin": true,
           "gridcolor": "white",
           "linecolor": "white",
           "ticks": "",
           "title": {
            "standoff": 15
           },
           "zerolinecolor": "white",
           "zerolinewidth": 2
          }
         }
        },
        "xaxis": {
         "autorange": true,
         "range": [
          -0.3946120208580082,
          6.677797328037594
         ],
         "type": "linear"
        },
        "yaxis": {
         "autorange": true,
         "range": [
          -1.1464968152866242,
          1.1464968152866242
         ],
         "type": "linear"
        }
       }
      },
      "image/png": "[encoded data removed]",
      "text/html": [
       "<div>                            <div id=\"8894fa94-ad04-4425-9e99-0c72a0af505a\" class=\"plotly-graph-div\" style=\"height:525px; width:100%;\"></div>            <script type=\"text/javascript\">                require([\"plotly\"], function(Plotly) {                    window.PLOTLYENV=window.PLOTLYENV || {};                                    if (document.getElementById(\"8894fa94-ad04-4425-9e99-0c72a0af505a\")) {                    Plotly.newPlot(                        \"8894fa94-ad04-4425-9e99-0c72a0af505a\",                        [{\"mode\": \"lines+markers\", \"name\": \"y\", \"type\": \"scatter\", \"x\": [0.0, 0.06283185307179587, 0.12566370614359174, 0.1884955592153876, 0.25132741228718347, 0.3141592653589793, 0.3769911184307752, 0.4398229715025711, 0.5026548245743669, 0.5654866776461628, 0.6283185307179586, 0.6911503837897546, 0.7539822368615504, 0.8168140899333463, 0.8796459430051422, 0.942477796076938, 1.0053096491487339, 1.0681415022205298, 1.1309733552923256, 1.1938052083641215, 1.2566370614359172, 1.3194689145077132, 1.3823007675795091, 1.4451326206513049, 1.5079644737231008, 1.5707963267948968, 1.6336281798666925, 1.6964600329384885, 1.7592918860102844, 1.8221237390820801, 1.884955592153876, 1.9477874452256718, 2.0106192982974678, 2.0734511513692637, 2.1362830044410597, 2.199114857512855, 2.261946710584651, 2.324778563656447, 2.387610416728243, 2.450442269800039, 2.5132741228718345, 2.5761059759436304, 2.6389378290154264, 2.7017696820872223, 2.7646015351590183, 2.8274333882308142, 2.8902652413026098, 2.9530970943744057, 3.0159289474462017, 3.0787608005179976, 3.1415926535897936, 3.204424506661589, 3.267256359733385, 3.330088212805181, 3.392920065876977, 3.455751918948773, 3.518583772020569, 3.5814156250923643, 3.6442474781641603, 3.7070793312359562, 3.769911184307752, 3.832743037379548, 3.8955748904513436, 3.9584067435231396, 4.0212385965949355, 4.084070449666731, 4.1469023027385274, 4.209734155810323, 4.272566008882119, 4.335397861953915, 4.39822971502571, 4.461061568097507, 4.523893421169302, 4.586725274241099, 4.649557127312894, 4.71238898038469, 4.775220833456486, 4.838052686528282, 4.900884539600078, 4.9637163926718735, 5.026548245743669, 5.089380098815465, 5.152211951887261, 5.215043804959057, 5.277875658030853, 5.340707511102649, 5.403539364174445, 5.46637121724624, 5.529203070318037, 5.592034923389832, 5.6548667764616285, 5.717698629533424, 5.7805304826052195, 5.843362335677016, 5.906194188748811, 5.969026041820608, 6.031857894892403, 6.094689747964199, 6.157521601035995, 6.220353454107791, 6.283185307179586], \"y\": [0.0, 0.06279051952931337, 0.12533323356430426, 0.18738131458572463, 0.2486898871648548, 0.3090169943749474, 0.368124552684678, 0.4257792915650727, 0.4817536741017153, 0.5358267949789967, 0.5877852522924731, 0.6374239897486897, 0.6845471059286887, 0.7289686274214116, 0.7705132427757893, 0.8090169943749475, 0.8443279255020151, 0.8763066800438637, 0.9048270524660196, 0.9297764858882515, 0.9510565162951535, 0.9685831611286311, 0.9822872507286887, 0.9921147013144779, 0.9980267284282716, 1.0, 0.9980267284282716, 0.9921147013144778, 0.9822872507286886, 0.9685831611286311, 0.9510565162951535, 0.9297764858882513, 0.9048270524660195, 0.8763066800438635, 0.844327925502015, 0.8090169943749475, 0.7705132427757893, 0.7289686274214116, 0.6845471059286885, 0.6374239897486895, 0.5877852522924732, 0.5358267949789967, 0.4817536741017152, 0.4257792915650725, 0.3681245526846777, 0.3090169943749471, 0.2486898871648548, 0.18738131458572455, 0.1253332335643041, 0.06279051952931314, -3.216245299353273e-16, -0.06279051952931333, -0.1253332335643043, -0.18738131458572477, -0.24868988716485502, -0.30901699437494773, -0.36812455268467836, -0.4257792915650727, -0.4817536741017154, -0.5358267949789968, -0.5877852522924734, -0.63742398974869, -0.6845471059286887, -0.7289686274214116, -0.7705132427757894, -0.8090169943749473, -0.8443279255020153, -0.8763066800438636, -0.9048270524660198, -0.9297764858882515, -0.9510565162951535, -0.9685831611286312, -0.9822872507286887, -0.9921147013144779, -0.9980267284282716, -1.0, -0.9980267284282716, -0.9921147013144779, -0.9822872507286886, -0.9685831611286311, -0.9510565162951536, -0.9297764858882512, -0.9048270524660196, -0.8763066800438634, -0.8443279255020151, -0.809016994374947, -0.770513242775789, -0.7289686274214116, -0.6845471059286883, -0.6374239897486896, -0.5877852522924726, -0.5358267949789963, -0.4817536741017153, -0.4257792915650722, -0.3681245526846778, -0.3090169943749468, -0.2486898871648545, -0.18738131458572468, -0.1253332335643038, -0.06279051952931326, -2.4492935982947064e-16]}],                        {\"template\": {\"data\": {\"bar\": [{\"error_x\": {\"color\": \"#2a3f5f\"}, \"error_y\": {\"color\": \"#2a3f5f\"}, \"marker\": {\"line\": {\"color\": \"#E5ECF6\", \"width\": 0.5}}, \"type\": \"bar\"}], \"barpolar\": [{\"marker\": {\"line\": {\"color\": \"#E5ECF6\", \"width\": 0.5}}, \"type\": \"barpolar\"}], \"carpet\": [{\"aaxis\": {\"endlinecolor\": \"#2a3f5f\", \"gridcolor\": \"white\", \"linecolor\": \"white\", \"minorgridcolor\": \"white\", \"startlinecolor\": \"#2a3f5f\"}, \"baxis\": {\"endlinecolor\": \"#2a3f5f\", \"gridcolor\": \"white\", \"linecolor\": \"white\", \"minorgridcolor\": \"white\", \"startlinecolor\": \"#2a3f5f\"}, \"type\": \"carpet\"}], \"choropleth\": [{\"colorbar\": {\"outlinewidth\": 0, \"ticks\": \"\"}, \"type\": \"choropleth\"}], \"contour\": [{\"colorbar\": {\"outlinewidth\": 0, \"ticks\": \"\"}, \"colorscale\": [[0.0, \"#0d0887\"], [0.1111111111111111, \"#46039f\"], [0.2222222222222222, \"#7201a8\"], [0.3333333333333333, \"#9c179e\"], [0.4444444444444444, \"#bd3786\"], [0.5555555555555556, \"#d8576b\"], [0.6666666666666666, \"#ed7953\"], [0.7777777777777778, \"#fb9f3a\"], [0.8888888888888888, \"#fdca26\"], [1.0, \"#f0f921\"]], \"type\": \"contour\"}], \"contourcarpet\": [{\"colorbar\": {\"outlinewidth\": 0, \"ticks\": \"\"}, \"type\": \"contourcarpet\"}], \"heatmap\": [{\"colorbar\": {\"outlinewidth\": 0, \"ticks\": \"\"}, \"colorscale\": [[0.0, \"#0d0887\"], [0.1111111111111111, \"#46039f\"], [0.2222222222222222, \"#7201a8\"], [0.3333333333333333, \"#9c179e\"], [0.4444444444444444, \"#bd3786\"], [0.5555555555555556, \"#d8576b\"], [0.6666666666666666, \"#ed7953\"], [0.7777777777777778, \"#fb9f3a\"], [0.8888888888888888, \"#fdca26\"], [1.0, \"#f0f921\"]], \"type\": \"heatmap\"}], \"heatmapgl\": [{\"colorbar\": {\"outlinewidth\": 0, \"ticks\": \"\"}, \"colorscale\": [[0.0, \"#0d0887\"], [0.1111111111111111, \"#46039f\"], [0.2222222222222222, \"#7201a8\"], [0.3333333333333333, \"#9c179e\"], [0.4444444444444444, \"#bd3786\"], [0.5555555555555556, \"#d8576b\"], [0.6666666666666666, \"#ed7953\"], [0.7777777777777778, \"#fb9f3a\"], [0.8888888888888888, \"#fdca26\"], [1.0, \"#f0f921\"]], \"type\": \"heatmapgl\"}], \"histogram\": [{\"marker\": {\"colorbar\": {\"outlinewidth\": 0, \"ticks\": \"\"}}, \"type\": \"histogram\"}], \"histogram2d\": [{\"colorbar\": {\"outlinewidth\": 0, \"ticks\": \"\"}, \"colorscale\": [[0.0, \"#0d0887\"], [0.1111111111111111, \"#46039f\"], [0.2222222222222222, \"#7201a8\"], [0.3333333333333333, \"#9c179e\"], [0.4444444444444444, \"#bd3786\"], [0.5555555555555556, \"#d8576b\"], [0.6666666666666666, \"#ed7953\"], [0.7777777777777778, \"#fb9f3a\"], [0.8888888888888888, \"#fdca26\"], [1.0, \"#f0f921\"]], \"type\": \"histogram2d\"}], \"histogram2dcontour\": [{\"colorbar\": {\"outlinewidth\": 0, \"ticks\": \"\"}, \"colorscale\": [[0.0, \"#0d0887\"], [0.1111111111111111, \"#46039f\"], [0.2222222222222222, \"#7201a8\"], [0.3333333333333333, \"#9c179e\"], [0.4444444444444444, \"#bd3786\"], [0.5555555555555556, \"#d8576b\"], [0.6666666666666666, \"#ed7953\"], [0.7777777777777778, \"#fb9f3a\"], [0.8888888888888888, \"#fdca26\"], [1.0, \"#f0f921\"]], \"type\": \"histogram2dcontour\"}], \"mesh3d\": [{\"colorbar\": {\"outlinewidth\": 0, \"ticks\": \"\"}, \"type\": \"mesh3d\"}], \"parcoords\": [{\"line\": {\"colorbar\": {\"outlinewidth\": 0, \"ticks\": \"\"}}, \"type\": \"parcoords\"}], \"pie\": [{\"automargin\": true, \"type\": \"pie\"}], \"scatter\": [{\"marker\": {\"colorbar\": {\"outlinewidth\": 0, \"ticks\": \"\"}}, \"type\": \"scatter\"}], \"scatter3d\": [{\"line\": {\"colorbar\": {\"outlinewidth\": 0, \"ticks\": \"\"}}, \"marker\": {\"colorbar\": {\"outlinewidth\": 0, \"ticks\": \"\"}}, \"type\": \"scatter3d\"}], \"scattercarpet\": [{\"marker\": {\"colorbar\": {\"outlinewidth\": 0, \"ticks\": \"\"}}, \"type\": \"scattercarpet\"}], \"scattergeo\": [{\"marker\": {\"colorbar\": {\"outlinewidth\": 0, \"ticks\": \"\"}}, \"type\": \"scattergeo\"}], \"scattergl\": [{\"marker\": {\"colorbar\": {\"outlinewidth\": 0, \"ticks\": \"\"}}, \"type\": \"scattergl\"}], \"scattermapbox\": [{\"marker\": {\"colorbar\": {\"outlinewidth\": 0, \"ticks\": \"\"}}, \"type\": \"scattermapbox\"}], \"scatterpolar\": [{\"marker\": {\"colorbar\": {\"outlinewidth\": 0, \"ticks\": \"\"}}, \"type\": \"scatterpolar\"}], \"scatterpolargl\": [{\"marker\": {\"colorbar\": {\"outlinewidth\": 0, \"ticks\": \"\"}}, \"type\": \"scatterpolargl\"}], \"scatterternary\": [{\"marker\": {\"colorbar\": {\"outlinewidth\": 0, \"ticks\": \"\"}}, \"type\": \"scatterternary\"}], \"surface\": [{\"colorbar\": {\"outlinewidth\": 0, \"ticks\": \"\"}, \"colorscale\": [[0.0, \"#0d0887\"], [0.1111111111111111, \"#46039f\"], [0.2222222222222222, \"#7201a8\"], [0.3333333333333333, \"#9c179e\"], [0.4444444444444444, \"#bd3786\"], [0.5555555555555556, \"#d8576b\"], [0.6666666666666666, \"#ed7953\"], [0.7777777777777778, \"#fb9f3a\"], [0.8888888888888888, \"#fdca26\"], [1.0, \"#f0f921\"]], \"type\": \"surface\"}], \"table\": [{\"cells\": {\"fill\": {\"color\": \"#EBF0F8\"}, \"line\": {\"color\": \"white\"}}, \"header\": {\"fill\": {\"color\": \"#C8D4E3\"}, \"line\": {\"color\": \"white\"}}, \"type\": \"table\"}]}, \"layout\": {\"annotationdefaults\": {\"arrowcolor\": \"#2a3f5f\", \"arrowhead\": 0, \"arrowwidth\": 1}, \"autotypenumbers\": \"strict\", \"coloraxis\": {\"colorbar\": {\"outlinewidth\": 0, \"ticks\": \"\"}}, \"colorscale\": {\"diverging\": [[0, \"#8e0152\"], [0.1, \"#c51b7d\"], [0.2, \"#de77ae\"], [0.3, \"#f1b6da\"], [0.4, \"#fde0ef\"], [0.5, \"#f7f7f7\"], [0.6, \"#e6f5d0\"], [0.7, \"#b8e186\"], [0.8, \"#7fbc41\"], [0.9, \"#4d9221\"], [1, \"#276419\"]], \"sequential\": [[0.0, \"#0d0887\"], [0.1111111111111111, \"#46039f\"], [0.2222222222222222, \"#7201a8\"], [0.3333333333333333, \"#9c179e\"], [0.4444444444444444, \"#bd3786\"], [0.5555555555555556, \"#d8576b\"], [0.6666666666666666, \"#ed7953\"], [0.7777777777777778, \"#fb9f3a\"], [0.8888888888888888, \"#fdca26\"], [1.0, \"#f0f921\"]], \"sequentialminus\": [[0.0, \"#0d0887\"], [0.1111111111111111, \"#46039f\"], [0.2222222222222222, \"#7201a8\"], [0.3333333333333333, \"#9c179e\"], [0.4444444444444444, \"#bd3786\"], [0.5555555555555556, \"#d8576b\"], [0.6666666666666666, \"#ed7953\"], [0.7777777777777778, \"#fb9f3a\"], [0.8888888888888888, \"#fdca26\"], [1.0, \"#f0f921\"]]}, \"colorway\": [\"#636efa\", \"#EF553B\", \"#00cc96\", \"#ab63fa\", \"#FFA15A\", \"#19d3f3\", \"#FF6692\", \"#B6E880\", \"#FF97FF\", \"#FECB52\"], \"font\": {\"color\": \"#2a3f5f\"}, \"geo\": {\"bgcolor\": \"white\", \"lakecolor\": \"white\", \"landcolor\": \"#E5ECF6\", \"showlakes\": true, \"showland\": true, \"subunitcolor\": \"white\"}, \"hoverlabel\": {\"align\": \"left\"}, \"hovermode\": \"closest\", \"mapbox\": {\"style\": \"light\"}, \"paper_bgcolor\": \"white\", \"plot_bgcolor\": \"#E5ECF6\", \"polar\": {\"angularaxis\": {\"gridcolor\": \"white\", \"linecolor\": \"white\", \"ticks\": \"\"}, \"bgcolor\": \"#E5ECF6\", \"radialaxis\": {\"gridcolor\": \"white\", \"linecolor\": \"white\", \"ticks\": \"\"}}, \"scene\": {\"xaxis\": {\"backgroundcolor\": \"#E5ECF6\", \"gridcolor\": \"white\", \"gridwidth\": 2, \"linecolor\": \"white\", \"showbackground\": true, \"ticks\": \"\", \"zerolinecolor\": \"white\"}, \"yaxis\": {\"backgroundcolor\": \"#E5ECF6\", \"gridcolor\": \"white\", \"gridwidth\": 2, \"linecolor\": \"white\", \"showbackground\": true, \"ticks\": \"\", \"zerolinecolor\": \"white\"}, \"zaxis\": {\"backgroundcolor\": \"#E5ECF6\", \"gridcolor\": \"white\", \"gridwidth\": 2, \"linecolor\": \"white\", \"showbackground\": true, \"ticks\": \"\", \"zerolinecolor\": \"white\"}}, \"shapedefaults\": {\"line\": {\"color\": \"#2a3f5f\"}}, \"ternary\": {\"aaxis\": {\"gridcolor\": \"white\", \"linecolor\": \"white\", \"ticks\": \"\"}, \"baxis\": {\"gridcolor\": \"white\", \"linecolor\": \"white\", \"ticks\": \"\"}, \"bgcolor\": \"#E5ECF6\", \"caxis\": {\"gridcolor\": \"white\", \"linecolor\": \"white\", \"ticks\": \"\"}}, \"title\": {\"x\": 0.05}, \"xaxis\": {\"automargin\": true, \"gridcolor\": \"white\", \"linecolor\": \"white\", \"ticks\": \"\", \"title\": {\"standoff\": 15}, \"zerolinecolor\": \"white\", \"zerolinewidth\": 2}, \"yaxis\": {\"automargin\": true, \"gridcolor\": \"white\", \"linecolor\": \"white\", \"ticks\": \"\", \"title\": {\"standoff\": 15}, \"zerolinecolor\": \"white\", \"zerolinewidth\": 2}}}},                        {\"responsive\": true}                    ).then(function(){\n",
       "                            \n",
       "var gd = document.getElementById('8894fa94-ad04-4425-9e99-0c72a0af505a');\n",
       "var x = new MutationObserver(function (mutations, observer) {{\n",
       "        var display = window.getComputedStyle(gd).display;\n",
       "        if (!display || display === 'none') {{\n",
       "            console.log([gd, 'removed!']);\n",
       "            Plotly.purge(gd);\n",
       "            observer.disconnect();\n",
       "        }}\n",
       "}});\n",
       "\n",
       "// Listen for the removal of the full notebook cells\n",
       "var notebookContainer = gd.closest('#notebook-container');\n",
       "if (notebookContainer) {{\n",
       "    x.observe(notebookContainer, {childList: true});\n",
       "}}\n",
       "\n",
       "// Listen for the clearing of the current output cell\n",
       "var outputEl = gd.closest('.output');\n",
       "if (outputEl) {{\n",
       "    x.observe(outputEl, {childList: true});\n",
       "}}\n",
       "\n",
       "                        })                };                });            </script>        </div>"
      ]
     },
     "metadata": {},
     "output_type": "display_data"
    }
   ],
   "source": [
    "# plot with plotly\n",
    "import plotly.graph_objects as go\n",
    "fig = go.Figure()\n",
    "ts.plot(fig, mode='lines+markers')\n",
    "fig.show()"
   ]
  },
  {
   "cell_type": "code",
   "execution_count": 8,
   "metadata": {},
   "outputs": [
    {
     "data": {
      "image/png": "[encoded data removed]",
      "text/plain": [
       "<Figure size 432x288 with 1 Axes>"
      ]
     },
     "metadata": {
      "needs_background": "light"
     },
     "output_type": "display_data"
    }
   ],
   "source": [
    "# plot with matplotlib\n",
    "import matplotlib.pyplot as plt\n",
    "fig, ax = plt.subplots()\n",
    "ts.plot(ax)\n",
    "plt.legend()\n",
    "plt.show()"
   ]
  },
  {
   "cell_type": "code",
   "execution_count": null,
   "metadata": {},
   "outputs": [],
   "source": []
  }
 ],
 "metadata": {
  "kernelspec": {
   "display_name": "Python 3",
   "language": "python",
   "name": "python3"
  },
  "language_info": {
   "codemirror_mode": {
    "name": "ipython",
    "version": 3
   },
   "file_extension": ".py",
   "mimetype": "text/x-python",
   "name": "python",
   "nbconvert_exporter": "python",
   "pygments_lexer": "ipython3",
   "version": "3.8.5"
  }
 },
 "nbformat": 4,
 "nbformat_minor": 4
}
