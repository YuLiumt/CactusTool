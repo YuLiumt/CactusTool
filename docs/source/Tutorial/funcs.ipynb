{
 "cells": [
  {
   "cell_type": "markdown",
   "metadata": {},
   "source": [
    "# Check"
   ]
  },
  {
   "cell_type": "code",
   "execution_count": 1,
   "metadata": {
    "ExecuteTime": {
     "end_time": "2020-02-01T03:40:15.489299Z",
     "start_time": "2020-02-01T03:40:14.836020Z"
    }
   },
   "outputs": [],
   "source": [
    "from CactusTool.funcs import check"
   ]
  },
  {
   "cell_type": "code",
   "execution_count": 2,
   "metadata": {
    "ExecuteTime": {
     "end_time": "2020-02-01T03:40:15.498001Z",
     "start_time": "2020-02-01T03:40:15.491592Z"
    }
   },
   "outputs": [
    {
     "name": "stdout",
     "output_type": "stream",
     "text": [
      "xy\n",
      "OK\n"
     ]
    }
   ],
   "source": [
    "file = '/Users/liuyu/simulations/GW150914/phi.0.xy.h5'\n",
    "import os\n",
    "import re\n",
    "def hdf5_check(file):\n",
    "    assert os.path.exists(file), \"{} doesn't exist in your local computer\".format(file)\n",
    "    pat_fn = re.compile(\"\\S*\\.([xyz]*)\\.h5$\")\n",
    "    m = pat_fn.match(file)\n",
    "    if m:\n",
    "        return m.group(1)\n",
    "    else:\n",
    "        raise ValueError(\"%s is not HDF5 file\" % os.path.basename(file))\n",
    "a = hdf5_check(file)\n",
    "print(a)\n",
    "print('OK')"
   ]
  },
  {
   "cell_type": "markdown",
   "metadata": {},
   "source": [
    "# file"
   ]
  },
  {
   "cell_type": "code",
   "execution_count": 3,
   "metadata": {
    "ExecuteTime": {
     "end_time": "2020-02-01T03:40:15.503854Z",
     "start_time": "2020-02-01T03:40:15.501529Z"
    },
    "scrolled": true
   },
   "outputs": [],
   "source": [
    "from CactusTool.funcs.file import dataframe_h5"
   ]
  },
  {
   "cell_type": "code",
   "execution_count": 4,
   "metadata": {
    "ExecuteTime": {
     "end_time": "2020-02-01T03:40:15.508053Z",
     "start_time": "2020-02-01T03:40:15.505961Z"
    }
   },
   "outputs": [],
   "source": [
    "# file = '/Users/liuyu/simulations/GW150914/phi.0.xy.h5'\n",
    "# dataframe_h5(file, 'xy')"
   ]
  },
  {
   "cell_type": "code",
   "execution_count": 5,
   "metadata": {
    "ExecuteTime": {
     "end_time": "2020-02-01T03:40:15.512414Z",
     "start_time": "2020-02-01T03:40:15.509876Z"
    }
   },
   "outputs": [],
   "source": [
    "# X = np.arange(0,10)\n",
    "# Y = np.arange(10,20)\n",
    "# Z = np.arange(20,30)\n",
    "# tuple(X, Y, Z)"
   ]
  },
  {
   "cell_type": "code",
   "execution_count": 6,
   "metadata": {
    "ExecuteTime": {
     "end_time": "2020-02-01T03:40:15.516741Z",
     "start_time": "2020-02-01T03:40:15.514382Z"
    }
   },
   "outputs": [],
   "source": [
    "# np.meshgrid(a)"
   ]
  },
  {
   "cell_type": "code",
   "execution_count": 7,
   "metadata": {
    "ExecuteTime": {
     "end_time": "2020-02-01T03:40:15.521189Z",
     "start_time": "2020-02-01T03:40:15.518940Z"
    }
   },
   "outputs": [],
   "source": [
    "# coord = [X, Y, Z]\n",
    "# dim = 3\n",
    "# a = tuple(coord[i] for i in range(dim))\n",
    "# print(a)"
   ]
  },
  {
   "cell_type": "code",
   "execution_count": 8,
   "metadata": {
    "ExecuteTime": {
     "end_time": "2020-02-01T03:40:15.527571Z",
     "start_time": "2020-02-01T03:40:15.524998Z"
    }
   },
   "outputs": [],
   "source": [
    "import CactusTool"
   ]
  },
  {
   "cell_type": "code",
   "execution_count": 9,
   "metadata": {
    "ExecuteTime": {
     "end_time": "2020-02-01T03:40:15.535085Z",
     "start_time": "2020-02-01T03:40:15.530201Z"
    }
   },
   "outputs": [],
   "source": [
    "path = '/Users/liuyu/simulations/BH/'\n",
    "sim = CactusTool.load(path)"
   ]
  },
  {
   "cell_type": "code",
   "execution_count": 10,
   "metadata": {
    "ExecuteTime": {
     "end_time": "2020-02-01T03:40:51.897893Z",
     "start_time": "2020-02-01T03:40:15.536768Z"
    }
   },
   "outputs": [],
   "source": [
    "var = sim.H5.xy['H']"
   ]
  },
  {
   "cell_type": "code",
   "execution_count": 11,
   "metadata": {
    "ExecuteTime": {
     "end_time": "2020-02-01T03:40:51.920690Z",
     "start_time": "2020-02-01T03:40:51.899730Z"
    }
   },
   "outputs": [
    {
     "data": {
      "text/html": [
       "<div>\n",
       "<style scoped>\n",
       "    .dataframe tbody tr th:only-of-type {\n",
       "        vertical-align: middle;\n",
       "    }\n",
       "\n",
       "    .dataframe tbody tr th {\n",
       "        vertical-align: top;\n",
       "    }\n",
       "\n",
       "    .dataframe thead th {\n",
       "        text-align: right;\n",
       "    }\n",
       "</style>\n",
       "<table border=\"1\" class=\"dataframe\">\n",
       "  <thead>\n",
       "    <tr style=\"text-align: right;\">\n",
       "      <th></th>\n",
       "      <th>x</th>\n",
       "      <th>y</th>\n",
       "      <th>H</th>\n",
       "      <th>rl</th>\n",
       "      <th>it</th>\n",
       "      <th>time</th>\n",
       "      <th>c</th>\n",
       "    </tr>\n",
       "  </thead>\n",
       "  <tbody>\n",
       "    <tr>\n",
       "      <td>0</td>\n",
       "      <td>-230.00000</td>\n",
       "      <td>-230.0000</td>\n",
       "      <td>-1.312429e-12</td>\n",
       "      <td>0</td>\n",
       "      <td>0</td>\n",
       "      <td>0.0</td>\n",
       "      <td>0</td>\n",
       "    </tr>\n",
       "    <tr>\n",
       "      <td>1</td>\n",
       "      <td>-220.00000</td>\n",
       "      <td>-230.0000</td>\n",
       "      <td>-1.312429e-12</td>\n",
       "      <td>0</td>\n",
       "      <td>0</td>\n",
       "      <td>0.0</td>\n",
       "      <td>0</td>\n",
       "    </tr>\n",
       "    <tr>\n",
       "      <td>2</td>\n",
       "      <td>-210.00000</td>\n",
       "      <td>-230.0000</td>\n",
       "      <td>-1.312429e-12</td>\n",
       "      <td>0</td>\n",
       "      <td>0</td>\n",
       "      <td>0.0</td>\n",
       "      <td>0</td>\n",
       "    </tr>\n",
       "    <tr>\n",
       "      <td>3</td>\n",
       "      <td>-200.00000</td>\n",
       "      <td>-230.0000</td>\n",
       "      <td>-1.312429e-12</td>\n",
       "      <td>0</td>\n",
       "      <td>0</td>\n",
       "      <td>0.0</td>\n",
       "      <td>0</td>\n",
       "    </tr>\n",
       "    <tr>\n",
       "      <td>4</td>\n",
       "      <td>-190.00000</td>\n",
       "      <td>-230.0000</td>\n",
       "      <td>-1.551929e-12</td>\n",
       "      <td>0</td>\n",
       "      <td>0</td>\n",
       "      <td>0.0</td>\n",
       "      <td>0</td>\n",
       "    </tr>\n",
       "    <tr>\n",
       "      <td>...</td>\n",
       "      <td>...</td>\n",
       "      <td>...</td>\n",
       "      <td>...</td>\n",
       "      <td>...</td>\n",
       "      <td>...</td>\n",
       "      <td>...</td>\n",
       "      <td>...</td>\n",
       "    </tr>\n",
       "    <tr>\n",
       "      <td>565</td>\n",
       "      <td>-2.96875</td>\n",
       "      <td>0.9375</td>\n",
       "      <td>6.596199e-03</td>\n",
       "      <td>6</td>\n",
       "      <td>9984</td>\n",
       "      <td>39.0</td>\n",
       "      <td>9</td>\n",
       "    </tr>\n",
       "    <tr>\n",
       "      <td>566</td>\n",
       "      <td>-2.81250</td>\n",
       "      <td>0.9375</td>\n",
       "      <td>8.107562e-03</td>\n",
       "      <td>6</td>\n",
       "      <td>9984</td>\n",
       "      <td>39.0</td>\n",
       "      <td>9</td>\n",
       "    </tr>\n",
       "    <tr>\n",
       "      <td>567</td>\n",
       "      <td>-2.65625</td>\n",
       "      <td>0.9375</td>\n",
       "      <td>9.574487e-03</td>\n",
       "      <td>6</td>\n",
       "      <td>9984</td>\n",
       "      <td>39.0</td>\n",
       "      <td>9</td>\n",
       "    </tr>\n",
       "    <tr>\n",
       "      <td>568</td>\n",
       "      <td>-2.50000</td>\n",
       "      <td>0.9375</td>\n",
       "      <td>1.131892e-02</td>\n",
       "      <td>6</td>\n",
       "      <td>9984</td>\n",
       "      <td>39.0</td>\n",
       "      <td>9</td>\n",
       "    </tr>\n",
       "    <tr>\n",
       "      <td>569</td>\n",
       "      <td>-2.34375</td>\n",
       "      <td>0.9375</td>\n",
       "      <td>1.385628e-02</td>\n",
       "      <td>6</td>\n",
       "      <td>9984</td>\n",
       "      <td>39.0</td>\n",
       "      <td>9</td>\n",
       "    </tr>\n",
       "  </tbody>\n",
       "</table>\n",
       "<p>4214446 rows × 7 columns</p>\n",
       "</div>"
      ],
      "text/plain": [
       "             x         y             H  rl    it  time  c\n",
       "0   -230.00000 -230.0000 -1.312429e-12   0     0   0.0  0\n",
       "1   -220.00000 -230.0000 -1.312429e-12   0     0   0.0  0\n",
       "2   -210.00000 -230.0000 -1.312429e-12   0     0   0.0  0\n",
       "3   -200.00000 -230.0000 -1.312429e-12   0     0   0.0  0\n",
       "4   -190.00000 -230.0000 -1.551929e-12   0     0   0.0  0\n",
       "..         ...       ...           ...  ..   ...   ... ..\n",
       "565   -2.96875    0.9375  6.596199e-03   6  9984  39.0  9\n",
       "566   -2.81250    0.9375  8.107562e-03   6  9984  39.0  9\n",
       "567   -2.65625    0.9375  9.574487e-03   6  9984  39.0  9\n",
       "568   -2.50000    0.9375  1.131892e-02   6  9984  39.0  9\n",
       "569   -2.34375    0.9375  1.385628e-02   6  9984  39.0  9\n",
       "\n",
       "[4214446 rows x 7 columns]"
      ]
     },
     "execution_count": 11,
     "metadata": {},
     "output_type": "execute_result"
    }
   ],
   "source": [
    "var.dataset"
   ]
  },
  {
   "cell_type": "code",
   "execution_count": 12,
   "metadata": {
    "ExecuteTime": {
     "end_time": "2020-02-01T03:40:51.952383Z",
     "start_time": "2020-02-01T03:40:51.922772Z"
    }
   },
   "outputs": [],
   "source": [
    "import pandas as pd\n",
    "dataset = var.dataset[var.dataset.it == 0]\n",
    "column = ['rl', 'c', 'H']\n",
    "for dim in ['x', 'y']:\n",
    "    column += dim\n",
    "dset = pd.DataFrame(dataset, columns=column) "
   ]
  },
  {
   "cell_type": "code",
   "execution_count": 13,
   "metadata": {
    "ExecuteTime": {
     "end_time": "2020-02-01T03:40:51.957487Z",
     "start_time": "2020-02-01T03:40:51.954148Z"
    }
   },
   "outputs": [],
   "source": [
    "from scipy.interpolate import griddata\n",
    "points = tuple([dset[dim].values for dim in ['x', 'y']])\n",
    "coords = tuple([dset[dim].values for dim in ['x', 'y']])\n",
    "# f = griddata(points, dset['H'].values, np.meshgrid(*coords), method='nearest')"
   ]
  },
  {
   "cell_type": "code",
   "execution_count": 14,
   "metadata": {
    "ExecuteTime": {
     "end_time": "2020-02-01T03:40:51.961427Z",
     "start_time": "2020-02-01T03:40:51.959117Z"
    }
   },
   "outputs": [],
   "source": [
    "# f"
   ]
  },
  {
   "cell_type": "code",
   "execution_count": 19,
   "metadata": {
    "ExecuteTime": {
     "end_time": "2020-02-01T03:42:13.453693Z",
     "start_time": "2020-02-01T03:42:13.354952Z"
    }
   },
   "outputs": [],
   "source": [
    "a = griddata(points, dset['H'].values, points, method='nearest')"
   ]
  },
  {
   "cell_type": "code",
   "execution_count": 21,
   "metadata": {
    "ExecuteTime": {
     "end_time": "2020-02-01T03:42:18.737795Z",
     "start_time": "2020-02-01T03:42:18.732988Z"
    }
   },
   "outputs": [
    {
     "data": {
      "text/plain": [
       "array([-1.31242938e-12, -1.31242938e-12, -1.31242938e-12, ...,\n",
       "        4.35767644e-08, -6.10905256e-09, -7.91307467e-08])"
      ]
     },
     "execution_count": 21,
     "metadata": {},
     "output_type": "execute_result"
    }
   ],
   "source": [
    "a"
   ]
  },
  {
   "cell_type": "code",
   "execution_count": 22,
   "metadata": {
    "ExecuteTime": {
     "end_time": "2020-02-01T09:11:15.560743Z",
     "start_time": "2020-02-01T09:11:15.546169Z"
    }
   },
   "outputs": [
    {
     "data": {
      "text/plain": [
       "(array([-230.     , -220.     , -210.     , ...,    0.625  ,    0.78125,\n",
       "           0.9375 ]),\n",
       " array([-230.     , -230.     , -230.     , ...,    2.03125,    2.03125,\n",
       "           2.03125]))"
      ]
     },
     "execution_count": 22,
     "metadata": {},
     "output_type": "execute_result"
    }
   ],
   "source": [
    "coords"
   ]
  },
  {
   "cell_type": "code",
   "execution_count": 37,
   "metadata": {
    "ExecuteTime": {
     "end_time": "2020-02-01T09:26:23.061291Z",
     "start_time": "2020-02-01T09:26:23.051482Z"
    }
   },
   "outputs": [],
   "source": [
    "# for i in range(len(coords)):\n",
    "#     a = np.unique(coords[i])\n",
    "#     print(a)\n",
    "co = tuple([np.sort(np.unique(coords[i])) for i in range(len(coords))])\n",
    "gr = tuple(np.meshgrid(*co))"
   ]
  },
  {
   "cell_type": "code",
   "execution_count": 38,
   "metadata": {
    "ExecuteTime": {
     "end_time": "2020-02-01T09:26:24.038893Z",
     "start_time": "2020-02-01T09:26:24.034824Z"
    }
   },
   "outputs": [
    {
     "data": {
      "text/plain": [
       "(array([[-230., -220., -210., ...,  200.,  210.,  220.],\n",
       "        [-230., -220., -210., ...,  200.,  210.,  220.],\n",
       "        [-230., -220., -210., ...,  200.,  210.,  220.],\n",
       "        ...,\n",
       "        [-230., -220., -210., ...,  200.,  210.,  220.],\n",
       "        [-230., -220., -210., ...,  200.,  210.,  220.],\n",
       "        [-230., -220., -210., ...,  200.,  210.,  220.]]),\n",
       " array([[-230., -230., -230., ..., -230., -230., -230.],\n",
       "        [-220., -220., -220., ..., -220., -220., -220.],\n",
       "        [-210., -210., -210., ..., -210., -210., -210.],\n",
       "        ...,\n",
       "        [ 200.,  200.,  200., ...,  200.,  200.,  200.],\n",
       "        [ 210.,  210.,  210., ...,  210.,  210.,  210.],\n",
       "        [ 220.,  220.,  220., ...,  220.,  220.,  220.]]))"
      ]
     },
     "execution_count": 38,
     "metadata": {},
     "output_type": "execute_result"
    }
   ],
   "source": [
    "gr"
   ]
  },
  {
   "cell_type": "code",
   "execution_count": 40,
   "metadata": {
    "ExecuteTime": {
     "end_time": "2020-02-01T09:26:37.198511Z",
     "start_time": "2020-02-01T09:26:37.078683Z"
    }
   },
   "outputs": [],
   "source": [
    "a = griddata(points, dset['H'].values, gr, method='nearest')"
   ]
  },
  {
   "cell_type": "code",
   "execution_count": 43,
   "metadata": {
    "ExecuteTime": {
     "end_time": "2020-02-01T09:28:04.833783Z",
     "start_time": "2020-02-01T09:28:04.604476Z"
    }
   },
   "outputs": [
    {
     "data": {
      "text/plain": [
       "<matplotlib.image.AxesImage at 0x10f510690>"
      ]
     },
     "execution_count": 43,
     "metadata": {},
     "output_type": "execute_result"
    },
    {
     "data": {
      "image/png": "[encoded data removed]",
      "text/plain": [
       "<Figure size 432x288 with 1 Axes>"
      ]
     },
     "metadata": {
      "needs_background": "light"
     },
     "output_type": "display_data"
    }
   ],
   "source": [
    "import matplotlib.pyplot as plt\n",
    "plt.imshow(a)"
   ]
  },
  {
   "cell_type": "markdown",
   "metadata": {},
   "source": [
    "# Array"
   ]
  },
  {
   "cell_type": "code",
   "execution_count": 1,
   "metadata": {
    "ExecuteTime": {
     "end_time": "2020-02-05T05:59:14.384638Z",
     "start_time": "2020-02-05T05:59:14.373560Z"
    }
   },
   "outputs": [],
   "source": [
    "from CactusTool.funcs import array"
   ]
  },
  {
   "cell_type": "code",
   "execution_count": null,
   "metadata": {},
   "outputs": [],
   "source": [
    "array.arithmetic_progression()"
   ]
  }
 ],
 "metadata": {
  "kernelspec": {
   "display_name": "Python 3",
   "language": "python",
   "name": "python3"
  },
  "language_info": {
   "codemirror_mode": {
    "name": "ipython",
    "version": 3
   },
   "file_extension": ".py",
   "mimetype": "text/x-python",
   "name": "python",
   "nbconvert_exporter": "python",
   "pygments_lexer": "ipython3",
   "version": "3.7.4"
  },
  "nbTranslate": {
   "displayLangs": [
    "*"
   ],
   "hotkey": "alt-t",
   "langInMainMenu": true,
   "sourceLang": "en",
   "targetLang": "fr",
   "useGoogleTranslate": true
  },
  "toc": {
   "base_numbering": 1,
   "nav_menu": {},
   "number_sections": true,
   "sideBar": true,
   "skip_h1_title": false,
   "title_cell": "Table of Contents",
   "title_sidebar": "Contents",
   "toc_cell": false,
   "toc_position": {},
   "toc_section_display": true,
   "toc_window_display": false
  },
  "varInspector": {
   "cols": {
    "lenName": 16,
    "lenType": 16,
    "lenVar": 40
   },
   "kernels_config": {
    "python": {
     "delete_cmd_postfix": "",
     "delete_cmd_prefix": "del ",
     "library": "var_list.py",
     "varRefreshCmd": "print(var_dic_list())"
    },
    "r": {
     "delete_cmd_postfix": ") ",
     "delete_cmd_prefix": "rm(",
     "library": "var_list.r",
     "varRefreshCmd": "cat(var_dic_list()) "
    }
   },
   "types_to_exclude": [
    "module",
    "function",
    "builtin_function_or_method",
    "instance",
    "_Feature"
   ],
   "window_display": false
  }
 },
 "nbformat": 4,
 "nbformat_minor": 2
}
