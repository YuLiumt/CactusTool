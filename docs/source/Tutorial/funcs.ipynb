{
 "cells": [
  {
   "cell_type": "markdown",
   "metadata": {},
   "source": [
    "# sys.py"
   ]
  },
  {
   "cell_type": "code",
   "execution_count": 14,
   "metadata": {
    "ExecuteTime": {
     "end_time": "2020-03-28T12:54:22.375926Z",
     "start_time": "2020-03-28T12:54:22.370757Z"
    }
   },
   "outputs": [
    {
     "data": {
      "text/plain": [
       "'/Users/liuyu/Desktop/CactusTool/docs/source/Tutorial/'"
      ]
     },
     "execution_count": 14,
     "metadata": {},
     "output_type": "execute_result"
    }
   ],
   "source": [
    "from CactusTool.funcs import curdir\n",
    "curdir()"
   ]
  },
  {
   "cell_type": "markdown",
   "metadata": {},
   "source": [
    "# Check"
   ]
  },
  {
   "cell_type": "code",
   "execution_count": 1,
   "metadata": {
    "ExecuteTime": {
     "end_time": "2020-03-28T12:51:52.190233Z",
     "start_time": "2020-03-28T12:51:51.185267Z"
    }
   },
   "outputs": [],
   "source": [
    "from CactusTool.funcs import check"
   ]
  },
  {
   "cell_type": "code",
   "execution_count": 2,
   "metadata": {
    "ExecuteTime": {
     "end_time": "2020-03-28T12:51:52.199526Z",
     "start_time": "2020-03-28T12:51:52.192266Z"
    }
   },
   "outputs": [
    {
     "name": "stdout",
     "output_type": "stream",
     "text": [
      "xy\n",
      "OK\n"
     ]
    }
   ],
   "source": [
    "file = '/Users/liuyu/simulations/GW150914/phi.0.xy.h5'\n",
    "import os\n",
    "import re\n",
    "def hdf5_check(file):\n",
    "    assert os.path.exists(file), \"{} doesn't exist in your local computer\".format(file)\n",
    "    pat_fn = re.compile(\"\\S*\\.([xyz]*)\\.h5$\")\n",
    "    m = pat_fn.match(file)\n",
    "    if m:\n",
    "        return m.group(1)\n",
    "    else:\n",
    "        raise ValueError(\"%s is not HDF5 file\" % os.path.basename(file))\n",
    "a = hdf5_check(file)\n",
    "print(a)\n",
    "print('OK')"
   ]
  },
  {
   "cell_type": "markdown",
   "metadata": {},
   "source": [
    "# file"
   ]
  },
  {
   "cell_type": "code",
   "execution_count": 3,
   "metadata": {
    "ExecuteTime": {
     "end_time": "2020-03-28T12:51:52.204913Z",
     "start_time": "2020-03-28T12:51:52.202505Z"
    },
    "scrolled": true
   },
   "outputs": [],
   "source": [
    "from CactusTool.funcs.file import dataframe_h5"
   ]
  },
  {
   "cell_type": "code",
   "execution_count": 4,
   "metadata": {
    "ExecuteTime": {
     "end_time": "2020-03-28T12:51:52.209939Z",
     "start_time": "2020-03-28T12:51:52.207529Z"
    }
   },
   "outputs": [],
   "source": [
    "# file = '/Users/liuyu/simulations/GW150914/phi.0.xy.h5'\n",
    "# dataframe_h5(file, 'xy')"
   ]
  },
  {
   "cell_type": "code",
   "execution_count": 5,
   "metadata": {
    "ExecuteTime": {
     "end_time": "2020-03-28T12:51:52.215170Z",
     "start_time": "2020-03-28T12:51:52.212483Z"
    }
   },
   "outputs": [],
   "source": [
    "# X = np.arange(0,10)\n",
    "# Y = np.arange(10,20)\n",
    "# Z = np.arange(20,30)\n",
    "# tuple(X, Y, Z)"
   ]
  },
  {
   "cell_type": "code",
   "execution_count": 6,
   "metadata": {
    "ExecuteTime": {
     "end_time": "2020-03-28T12:51:52.220284Z",
     "start_time": "2020-03-28T12:51:52.217768Z"
    }
   },
   "outputs": [],
   "source": [
    "# np.meshgrid(a)"
   ]
  },
  {
   "cell_type": "code",
   "execution_count": 7,
   "metadata": {
    "ExecuteTime": {
     "end_time": "2020-03-28T12:51:52.225105Z",
     "start_time": "2020-03-28T12:51:52.222574Z"
    }
   },
   "outputs": [],
   "source": [
    "# coord = [X, Y, Z]\n",
    "# dim = 3\n",
    "# a = tuple(coord[i] for i in range(dim))\n",
    "# print(a)"
   ]
  },
  {
   "cell_type": "code",
   "execution_count": 8,
   "metadata": {
    "ExecuteTime": {
     "end_time": "2020-03-28T12:51:52.233301Z",
     "start_time": "2020-03-28T12:51:52.230210Z"
    }
   },
   "outputs": [],
   "source": [
    "import CactusTool"
   ]
  },
  {
   "cell_type": "code",
   "execution_count": 9,
   "metadata": {
    "ExecuteTime": {
     "end_time": "2020-03-28T12:51:52.243870Z",
     "start_time": "2020-03-28T12:51:52.236725Z"
    }
   },
   "outputs": [],
   "source": [
    "path = '/Users/liuyu/simulations/BH/'\n",
    "sim = CactusTool.load(path)"
   ]
  },
  {
   "cell_type": "code",
   "execution_count": 10,
   "metadata": {
    "ExecuteTime": {
     "end_time": "2020-03-28T12:51:53.482456Z",
     "start_time": "2020-03-28T12:51:52.246181Z"
    }
   },
   "outputs": [],
   "source": [
    "var = sim.H5.xy['H']"
   ]
  },
  {
   "cell_type": "code",
   "execution_count": 11,
   "metadata": {
    "ExecuteTime": {
     "end_time": "2020-03-28T12:51:53.662505Z",
     "start_time": "2020-03-28T12:51:53.484136Z"
    }
   },
   "outputs": [
    {
     "ename": "AttributeError",
     "evalue": "'Variable' object has no attribute 'dataset'",
     "output_type": "error",
     "traceback": [
      "\u001b[0;31m---------------------------------------------------------------------------\u001b[0m",
      "\u001b[0;31mAttributeError\u001b[0m                            Traceback (most recent call last)",
      "\u001b[0;32m<ipython-input-11-2b0eae45f95c>\u001b[0m in \u001b[0;36m<module>\u001b[0;34m\u001b[0m\n\u001b[0;32m----> 1\u001b[0;31m \u001b[0mvar\u001b[0m\u001b[0;34m.\u001b[0m\u001b[0mdataset\u001b[0m\u001b[0;34m\u001b[0m\u001b[0;34m\u001b[0m\u001b[0m\n\u001b[0m",
      "\u001b[0;31mAttributeError\u001b[0m: 'Variable' object has no attribute 'dataset'"
     ]
    }
   ],
   "source": [
    "var.dataset"
   ]
  },
  {
   "cell_type": "code",
   "execution_count": null,
   "metadata": {
    "ExecuteTime": {
     "end_time": "2020-03-28T12:51:53.670756Z",
     "start_time": "2020-03-28T12:51:51.400Z"
    }
   },
   "outputs": [],
   "source": [
    "import pandas as pd\n",
    "dataset = var.dataset[var.dataset.it == 0]\n",
    "column = ['rl', 'c', 'H']\n",
    "for dim in ['x', 'y']:\n",
    "    column += dim\n",
    "dset = pd.DataFrame(dataset, columns=column) "
   ]
  },
  {
   "cell_type": "code",
   "execution_count": null,
   "metadata": {
    "ExecuteTime": {
     "end_time": "2020-03-28T12:51:53.672387Z",
     "start_time": "2020-03-28T12:51:51.413Z"
    }
   },
   "outputs": [],
   "source": [
    "from scipy.interpolate import griddata\n",
    "points = tuple([dset[dim].values for dim in ['x', 'y']])\n",
    "coords = tuple([dset[dim].values for dim in ['x', 'y']])\n",
    "# f = griddata(points, dset['H'].values, np.meshgrid(*coords), method='nearest')"
   ]
  },
  {
   "cell_type": "code",
   "execution_count": null,
   "metadata": {
    "ExecuteTime": {
     "end_time": "2020-03-28T12:51:53.674041Z",
     "start_time": "2020-03-28T12:51:51.424Z"
    }
   },
   "outputs": [],
   "source": [
    "# f"
   ]
  },
  {
   "cell_type": "code",
   "execution_count": null,
   "metadata": {
    "ExecuteTime": {
     "end_time": "2020-03-28T12:51:53.675916Z",
     "start_time": "2020-03-28T12:51:51.435Z"
    }
   },
   "outputs": [],
   "source": [
    "a = griddata(points, dset['H'].values, points, method='nearest')"
   ]
  },
  {
   "cell_type": "code",
   "execution_count": null,
   "metadata": {
    "ExecuteTime": {
     "end_time": "2020-03-28T12:51:53.677802Z",
     "start_time": "2020-03-28T12:51:51.446Z"
    }
   },
   "outputs": [],
   "source": [
    "a"
   ]
  },
  {
   "cell_type": "code",
   "execution_count": null,
   "metadata": {
    "ExecuteTime": {
     "end_time": "2020-03-28T12:51:53.679560Z",
     "start_time": "2020-03-28T12:51:51.456Z"
    }
   },
   "outputs": [],
   "source": [
    "coords"
   ]
  },
  {
   "cell_type": "code",
   "execution_count": null,
   "metadata": {
    "ExecuteTime": {
     "end_time": "2020-03-28T12:51:53.681153Z",
     "start_time": "2020-03-28T12:51:51.468Z"
    }
   },
   "outputs": [],
   "source": [
    "# for i in range(len(coords)):\n",
    "#     a = np.unique(coords[i])\n",
    "#     print(a)\n",
    "co = tuple([np.sort(np.unique(coords[i])) for i in range(len(coords))])\n",
    "gr = tuple(np.meshgrid(*co))"
   ]
  },
  {
   "cell_type": "code",
   "execution_count": null,
   "metadata": {
    "ExecuteTime": {
     "end_time": "2020-03-28T12:51:53.682648Z",
     "start_time": "2020-03-28T12:51:51.479Z"
    }
   },
   "outputs": [],
   "source": [
    "gr"
   ]
  },
  {
   "cell_type": "code",
   "execution_count": null,
   "metadata": {
    "ExecuteTime": {
     "end_time": "2020-03-28T12:51:53.683921Z",
     "start_time": "2020-03-28T12:51:51.490Z"
    }
   },
   "outputs": [],
   "source": [
    "a = griddata(points, dset['H'].values, gr, method='nearest')"
   ]
  },
  {
   "cell_type": "code",
   "execution_count": null,
   "metadata": {
    "ExecuteTime": {
     "end_time": "2020-03-28T12:51:53.685531Z",
     "start_time": "2020-03-28T12:51:51.501Z"
    }
   },
   "outputs": [],
   "source": [
    "import matplotlib.pyplot as plt\n",
    "plt.imshow(a)"
   ]
  },
  {
   "cell_type": "markdown",
   "metadata": {},
   "source": [
    "# Array"
   ]
  },
  {
   "cell_type": "code",
   "execution_count": null,
   "metadata": {
    "ExecuteTime": {
     "end_time": "2020-03-28T12:51:53.686925Z",
     "start_time": "2020-03-28T12:51:51.515Z"
    }
   },
   "outputs": [],
   "source": [
    "from CactusTool.funcs import array"
   ]
  },
  {
   "cell_type": "code",
   "execution_count": null,
   "metadata": {
    "ExecuteTime": {
     "end_time": "2020-03-28T12:51:53.688504Z",
     "start_time": "2020-03-28T12:51:51.526Z"
    }
   },
   "outputs": [],
   "source": [
    "array.arithmetic_progression()"
   ]
  },
  {
   "cell_type": "markdown",
   "metadata": {},
   "source": [
    "# sys.py"
   ]
  },
  {
   "cell_type": "code",
   "execution_count": 12,
   "metadata": {
    "ExecuteTime": {
     "end_time": "2020-03-28T12:52:05.678897Z",
     "start_time": "2020-03-28T12:52:05.675738Z"
    }
   },
   "outputs": [],
   "source": []
  },
  {
   "cell_type": "code",
   "execution_count": 13,
   "metadata": {
    "ExecuteTime": {
     "end_time": "2020-03-28T12:52:10.627214Z",
     "start_time": "2020-03-28T12:52:10.620509Z"
    }
   },
   "outputs": [
    {
     "data": {
      "text/plain": [
       "'/Users/liuyu/Desktop/CactusTool/docs/source/Tutorial/'"
      ]
     },
     "execution_count": 13,
     "metadata": {},
     "output_type": "execute_result"
    }
   ],
   "source": []
  },
  {
   "cell_type": "code",
   "execution_count": null,
   "metadata": {},
   "outputs": [],
   "source": []
  }
 ],
 "metadata": {
  "kernelspec": {
   "display_name": "Python 3",
   "language": "python",
   "name": "python3"
  },
  "language_info": {
   "codemirror_mode": {
    "name": "ipython",
    "version": 3
   },
   "file_extension": ".py",
   "mimetype": "text/x-python",
   "name": "python",
   "nbconvert_exporter": "python",
   "pygments_lexer": "ipython3",
   "version": "3.7.4"
  },
  "nbTranslate": {
   "displayLangs": [
    "*"
   ],
   "hotkey": "alt-t",
   "langInMainMenu": true,
   "sourceLang": "en",
   "targetLang": "fr",
   "useGoogleTranslate": true
  },
  "toc": {
   "base_numbering": 1,
   "nav_menu": {},
   "number_sections": true,
   "sideBar": true,
   "skip_h1_title": false,
   "title_cell": "Table of Contents",
   "title_sidebar": "Contents",
   "toc_cell": false,
   "toc_position": {},
   "toc_section_display": true,
   "toc_window_display": false
  },
  "varInspector": {
   "cols": {
    "lenName": 16,
    "lenType": 16,
    "lenVar": 40
   },
   "kernels_config": {
    "python": {
     "delete_cmd_postfix": "",
     "delete_cmd_prefix": "del ",
     "library": "var_list.py",
     "varRefreshCmd": "print(var_dic_list())"
    },
    "r": {
     "delete_cmd_postfix": ") ",
     "delete_cmd_prefix": "rm(",
     "library": "var_list.r",
     "varRefreshCmd": "cat(var_dic_list()) "
    }
   },
   "types_to_exclude": [
    "module",
    "function",
    "builtin_function_or_method",
    "instance",
    "_Feature"
   ],
   "window_display": false
  }
 },
 "nbformat": 4,
 "nbformat_minor": 2
}
