{
 "cells": [
  {
   "cell_type": "markdown",
   "metadata": {},
   "source": [
    "## Initial Parameter"
   ]
  },
  {
   "cell_type": "code",
   "execution_count": 1,
   "metadata": {},
   "outputs": [
    {
     "name": "stdout",
     "output_type": "stream",
     "text": [
      "ADMMass: 1.0139711713700215\n",
      "Mp: 0.8571428572398605\n",
      "Mm: 0.1428571428573117\n",
      "xp: 1.4285714285714284\n",
      "xm: -8.571428571428571\n",
      "Spinp: [0.7393390242006571, 0.19018282911795378, -0.4952859841728963]\n",
      "Spinm: [-0.18960235167155184, 0.051032825497879374, -0.22681722441846386]\n",
      "Pp: [-0.00101047682025024, 0.0960552787458443, 0.0]\n",
      "Pm: [0.00101047682025024, -0.0960552787458443, 0.0]\n",
      "\n"
     ]
    }
   ],
   "source": [
    "import CactusTool\n",
    "\n",
    "name = 'BBH001Lev1'\n",
    "sim = CactusTool.load(name, '/Volumes/simulations/BBH_Catalog')\n",
    "bbh = sim.Analysis('TwoPunctures')\n",
    "output = \"ADMMass: {}\\n\".format(bbh.ADMMass)\n",
    "output += \"Mp: {}\\n\".format(bbh.Mp)\n",
    "output += \"Mm: {}\\n\".format(bbh.Mm)\n",
    "output += \"xp: {}\\n\".format(bbh.xp)\n",
    "output += \"xm: {}\\n\".format(bbh.xm)\n",
    "output += \"Spinp: {}\\n\".format(bbh.Spinp)\n",
    "output += \"Spinm: {}\\n\".format(bbh.Spinm)\n",
    "output += \"Pp: {}\\n\".format(bbh.Pp)\n",
    "output += \"Pm: {}\\n\".format(bbh.Pm)\n",
    "print(output)"
   ]
  },
  {
   "cell_type": "code",
   "execution_count": 27,
   "metadata": {},
   "outputs": [
    {
     "data": {
      "text/plain": [
       "Text(0.5, 0, 'time [M]')"
      ]
     },
     "execution_count": 27,
     "metadata": {},
     "output_type": "execute_result"
    },
    {
     "data": {
      "image/png": "[encoded data removed]",
      "text/plain": [
       "<Figure size 432x288 with 1 Axes>"
      ]
     },
     "metadata": {
      "needs_background": "light"
     },
     "output_type": "display_data"
    }
   ],
   "source": [
    "p = sim.Scalar(ftype='')['quasilocalmeasures-qlm_scalars']\n",
    "vars = ['qlm_time[0]', 'qlm_time[1]', 'qlm_time[2]', 'qlm_equatorial_circumference[0]', 'qlm_equatorial_circumference[1]', 'qlm_equatorial_circumference[2]', 'qlm_polar_circumference_0[0]', 'qlm_polar_circumference_0[1]', 'qlm_polar_circumference_0[2]', 'qlm_polar_circumference_pi_2[0]', 'qlm_polar_circumference_pi_2[1]', 'qlm_polar_circumference_pi_2[2]', 'qlm_area[0]', 'qlm_area[1]', 'qlm_area[2]', 'qlm_irreducible_mass[0]', 'qlm_irreducible_mass[1]', 'qlm_irreducible_mass[2]', 'qlm_radius[0]', 'qlm_radius[1]', 'qlm_radius[2]', 'qlm_spin_guess[0]', 'qlm_spin_guess[1]', 'qlm_spin_guess[2]', 'qlm_mass_guess[0]', 'qlm_mass_guess[1]', 'qlm_mass_guess[2]', 'qlm_killing_eigenvalue_re[0]', 'qlm_killing_eigenvalue_re[1]', 'qlm_killing_eigenvalue_re[2]', 'qlm_killing_eigenvalue_im[0]', 'qlm_killing_eigenvalue_im[1]', 'qlm_killing_eigenvalue_im[2]', 'qlm_spin[0]', 'qlm_spin[1]', 'qlm_spin[2]', 'qlm_npspin[0]', 'qlm_npspin[1]', 'qlm_npspin[2]', 'qlm_wsspin[0]', 'qlm_wsspin[1]', 'qlm_wsspin[2]', 'qlm_cvspin[0]', 'qlm_cvspin[1]', 'qlm_cvspin[2]', 'qlm_coordspinx[0]', 'qlm_coordspinx[1]', 'qlm_coordspinx[2]', 'qlm_coordspiny[0]', 'qlm_coordspiny[1]', 'qlm_coordspiny[2]', 'qlm_coordspinz[0]', 'qlm_coordspinz[1]', 'qlm_coordspinz[2]', 'qlm_mass[0]', 'qlm_mass[1]', 'qlm_mass[2]', 'qlm_adm_energy[0]', 'qlm_adm_energy[1]', 'qlm_adm_energy[2]', 'qlm_adm_momentum_x[0]', 'qlm_adm_momentum_x[1]', 'qlm_adm_momentum_x[2]', 'qlm_adm_momentum_y[0]', 'qlm_adm_momentum_y[1]', 'qlm_adm_momentum_y[2]', 'qlm_adm_momentum_z[0]', 'qlm_adm_momentum_z[1]', 'qlm_adm_momentum_z[2]', 'qlm_adm_angular_momentum_x[0]', 'qlm_adm_angular_momentum_x[1]', 'qlm_adm_angular_momentum_x[2]', 'qlm_adm_angular_momentum_y[0]', 'qlm_adm_angular_momentum_y[1]', 'qlm_adm_angular_momentum_y[2]', 'qlm_adm_angular_momentum_z[0]', 'qlm_adm_angular_momentum_z[1]', 'qlm_adm_angular_momentum_z[2]', 'qlm_w_energy[0]', 'qlm_w_energy[1]', 'qlm_w_energy[2]', 'qlm_w_momentum_x[0]', 'qlm_w_momentum_x[1]', 'qlm_w_momentum_x[2]', 'qlm_w_momentum_y[0]', 'qlm_w_momentum_y[1]', 'qlm_w_momentum_y[2]', 'qlm_w_momentum_z[0]', 'qlm_w_momentum_z[1]', 'qlm_w_momentum_z[2]', 'qlm_w_angular_momentum_x[0]', 'qlm_w_angular_momentum_x[1]', 'qlm_w_angular_momentum_x[2]', 'qlm_w_angular_momentum_y[0]', 'qlm_w_angular_momentum_y[1]', 'qlm_w_angular_momentum_y[2]', 'qlm_w_angular_momentum_z[0]', 'qlm_w_angular_momentum_z[1]', 'qlm_w_angular_momentum_z[2]']\n",
    "# t = p.dsets('qlm_time[0]')[1]\n",
    "# sz_1 = p.dsets('qlm_coordspinz[0]')[1]\n",
    "# sz_2 = p.dsets('qlm_coordspinz[1]')[1]\n",
    "# m1 = p.dsets('qlm_mass[0]')[1]\n",
    "# m2 = p.dsets('qlm_mass[1]')[1]\n",
    "\n",
    "import matplotlib.pyplot as plt\n",
    "\n",
    "n = 18\n",
    "fig, ax = plt.subplots()\n",
    "dset = p.dsets(vars[n])\n",
    "ax.plot(dset[0], dset[1], label=vars[n])\n",
    "# ax.plot(t, m2, label=r\"$S_{1 z}$\")\n",
    "# ax.plot(t, sz_1/m1**2, label=r\"$S_{1 z}$\")\n",
    "# ax.plot(t, sz_2/m2**2, label=r\"$S_{2 z}$\")\n",
    "# ax.axhline(0.6, c='k', linestyle='--')\n",
    "# ax.axhline(-0.6, c='k', linestyle='--')\n",
    "# ax.set_xlim(t.min(), t.max())\n",
    "ax.legend()\n",
    "ax.set_xlabel('time [M]')\n",
    "# ax.set_ylabel(r'$S_{i z}$')"
   ]
  },
  {
   "cell_type": "markdown",
   "metadata": {},
   "source": [
    "## remnant formulas"
   ]
  }
 ],
 "metadata": {
  "kernelspec": {
   "display_name": "Python 3",
   "language": "python",
   "name": "python3"
  },
  "language_info": {
   "codemirror_mode": {
    "name": "ipython",
    "version": 3
   },
   "file_extension": ".py",
   "mimetype": "text/x-python",
   "name": "python",
   "nbconvert_exporter": "python",
   "pygments_lexer": "ipython3",
   "version": "3.8.5"
  }
 },
 "nbformat": 4,
 "nbformat_minor": 4
}
