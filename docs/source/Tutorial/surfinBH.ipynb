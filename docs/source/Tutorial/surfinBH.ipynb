{
 "cells": [
  {
   "cell_type": "markdown",
   "metadata": {},
   "source": [
    "## NRSur7dq4"
   ]
  },
  {
   "cell_type": "code",
   "execution_count": 2,
   "metadata": {},
   "outputs": [],
   "source": [
    "import CactusTool\n",
    "\n",
    "name = 'BBH000Lev3_test2'\n",
    "sim = CactusTool.load(name, '/Volumes/simulations/BBH_Catalog')\n",
    "mp = sim.ThornOutput('multipole')\n",
    "bbh = sim.ThornOutput('TwoPunctures')\n",
    "qlm = sim.ThornOutput('quasilocalmeasures')\n",
    "loc = sim.ThornOutput('puncturetracker')\n",
    "# strain = mp.Strain(bbh.ADMMass, bbh.CutoffFrequency, (2,2), -1)"
   ]
  },
  {
   "cell_type": "code",
   "execution_count": 3,
   "metadata": {},
   "outputs": [
    {
     "name": "stderr",
     "output_type": "stream",
     "text": [
      "/usr/local/lib/python3.8/site-packages/gwtools/rotations.py:63: UserWarning: Could not import GWFrames, needed for rotations module\n",
      "  _warnings.warn(\"Could not import GWFrames, needed for rotations module\")\n",
      "/usr/local/lib/python3.8/site-packages/gwtools/__init__.py:11: UserWarning: Could not import rotations, decompositions, or fitfuncs. These are not needed by GWSurrogate.\n",
      "  _warnings.warn(\"Could not import rotations, decompositions, or fitfuncs. These are not needed by GWSurrogate.\")\n"
     ]
    },
    {
     "name": "stdout",
     "output_type": "stream",
     "text": [
      "setting __package__ to gwsurrogate.new so relative imports work\n",
      "__name__ = gwsurrogate.new.spline_evaluation\n",
      "__package__= gwsurrogate.new\n",
      "setting __package__ to gwsurrogate.new so relative imports work\n",
      "setting __package__ to gwsurrogate.new so relative imports work\n"
     ]
    },
    {
     "name": "stderr",
     "output_type": "stream",
     "text": [
      "/usr/local/lib/python3.8/site-packages/gwsurrogate/new/precessing_surrogate.py:245: H5pyDeprecationWarning: dataset.value has been deprecated. Use dataset[()] instead.\n",
      "  self.t = h5file['t_ds'].value\n",
      "/usr/local/lib/python3.8/site-packages/gwsurrogate/new/precessing_surrogate.py:272: H5pyDeprecationWarning: dataset.value has been deprecated. Use dataset[()] instead.\n",
      "  'coefs': group['%s_coefs'%(key)].value,\n",
      "/usr/local/lib/python3.8/site-packages/gwsurrogate/new/precessing_surrogate.py:273: H5pyDeprecationWarning: dataset.value has been deprecated. Use dataset[()] instead.\n",
      "  'bfOrders': group['%s_bfOrders'%(key)].value\n",
      "/usr/local/lib/python3.8/site-packages/gwsurrogate/new/precessing_surrogate.py:282: H5pyDeprecationWarning: dataset.value has been deprecated. Use dataset[()] instead.\n",
      "  'coefs': group['%s_%d_coefs'%(key, i)].value,\n",
      "/usr/local/lib/python3.8/site-packages/gwsurrogate/new/precessing_surrogate.py:283: H5pyDeprecationWarning: dataset.value has been deprecated. Use dataset[()] instead.\n",
      "  'bfOrders': group['%s_%d_bfOrders'%(key, i)].value\n",
      "/usr/local/lib/python3.8/site-packages/gwsurrogate/new/precessing_surrogate.py:733: H5pyDeprecationWarning: dataset.value has been deprecated. Use dataset[()] instead.\n",
      "  self.t = h5file['t_coorb'].value\n",
      "/usr/local/lib/python3.8/site-packages/gwsurrogate/new/precessing_surrogate.py:691: H5pyDeprecationWarning: dataset.value has been deprecated. Use dataset[()] instead.\n",
      "  data['EI_basis'] = h5_group['EIBasis'].value\n",
      "/usr/local/lib/python3.8/site-packages/gwsurrogate/new/precessing_surrogate.py:692: H5pyDeprecationWarning: dataset.value has been deprecated. Use dataset[()] instead.\n",
      "  data['nodeIndices'] = h5_group['nodeIndices'].value\n",
      "/usr/local/lib/python3.8/site-packages/gwsurrogate/new/precessing_surrogate.py:693: H5pyDeprecationWarning: dataset.value has been deprecated. Use dataset[()] instead.\n",
      "  data['coefs'] = [h5_group['nodeModelers']['coefs_%s'%(i)].value\n",
      "/usr/local/lib/python3.8/site-packages/gwsurrogate/new/precessing_surrogate.py:695: H5pyDeprecationWarning: dataset.value has been deprecated. Use dataset[()] instead.\n",
      "  data['orders'] = [h5_group['nodeModelers']['bfOrders_%s'%(i)].value\n"
     ]
    },
    {
     "name": "stdout",
     "output_type": "stream",
     "text": [
      "Loaded NRSur7dq4 model\n",
      "Loaded NRSur7dq4Remnant fit.\n",
      "Loaded NRSur7dq4 model\n",
      "mf: 0.950078643419529 mf_err: 0.00011433166503401867\n",
      "chif: [-8.10206933e-05 -1.07579216e-04  6.82261461e-01] chif_err: [0.00059609 0.0005957  0.00042786]\n",
      "vf: [ 9.88419307e-05 -7.49044795e-06 -6.03883640e-03] vf_err: [3.36787220e-05 2.60254750e-05 8.20174946e-05]\n"
     ]
    }
   ],
   "source": [
    "import gwsurrogate\n",
    "import numpy as np\n",
    "\n",
    "sur = gwsurrogate.LoadSurrogate('NRSur7dq4')\n",
    "m1 = bbh.m1\n",
    "m2 = bbh.m2\n",
    "q = bbh.mass_ratio\n",
    "chiA = bbh.chi1\n",
    "chiB = bbh.chi2\n",
    "dt = 0.1        # timestep size, Units of M\n",
    "f_low = bbh.Omega_orb / np.pi   # initial frequency, f_low=0 returns the full surrogate\n",
    "t, h, dyn = sur(q, chiA, chiB, dt=dt, f_low=f_low) \n",
    "t_p, h_p, dyn_p = sur(q, chiA, chiB, dt=dt, f_low=f_low, precessing_opts={'return_dynamics': True})\n",
    "\n",
    "import surfinBH\n",
    "\n",
    "#  Dimensionless orbital frequency at reference epoch (in units of rad/M)\n",
    "fit_name = 'NRSur7dq4Remnant'\n",
    "fit = surfinBH.LoadFits(fit_name)\n",
    "# All of these together\n",
    "omega0 = bbh.Omega_orb\n",
    "mf, chif, vf, mf_err, chif_err, vf_err = fit.all(q, chiA, chiB, omega0=omega0)\n",
    "print(\"mf:\", mf, \"mf_err:\", mf_err)\n",
    "print(\"chif:\", chif, \"chif_err:\", chif_err)\n",
    "print(\"vf:\", vf, \"vf_err:\", vf_err)"
   ]
  },
  {
   "cell_type": "markdown",
   "metadata": {},
   "source": [
    "## Gravitational Wave"
   ]
  },
  {
   "cell_type": "code",
   "execution_count": null,
   "metadata": {},
   "outputs": [],
   "source": [
    "import numpy as np\n",
    "import matplotlib.pyplot as plt\n",
    "\n",
    "plt.plot(strain.t-loc.tmerger()+21,strain.y.real,'k', label='BBH002Lev1')\n",
    "plt.plot(t, h[(2,2)].real, 'b--', label='NRSur7dq4')\n",
    "plt.ylabel('$h_{+}^{(2,2)}$', fontsize=18)\n",
    "plt.xlabel('t [M]', fontsize=18)\n",
    "plt.xlim(-100,100)\n",
    "plt.legend()\n",
    "plt.tight_layout()\n",
    "plt.savefig('/Users/liuyu/Downloads/GW_BBH002.png')"
   ]
  },
  {
   "cell_type": "markdown",
   "metadata": {},
   "source": [
    "## Mass"
   ]
  },
  {
   "cell_type": "code",
   "execution_count": 4,
   "metadata": {},
   "outputs": [
    {
     "ename": "AttributeError",
     "evalue": "'quasilocalmeasures' object has no attribute 'dsets'",
     "output_type": "error",
     "traceback": [
      "\u001b[0;31m---------------------------------------------------------------------------\u001b[0m",
      "\u001b[0;31mAttributeError\u001b[0m                            Traceback (most recent call last)",
      "\u001b[0;32m<ipython-input-4-4ab8f1689f26>\u001b[0m in \u001b[0;36m<module>\u001b[0;34m\u001b[0m\n\u001b[1;32m      1\u001b[0m \u001b[0;32mimport\u001b[0m \u001b[0mmatplotlib\u001b[0m\u001b[0;34m.\u001b[0m\u001b[0mpyplot\u001b[0m \u001b[0;32mas\u001b[0m \u001b[0mplt\u001b[0m\u001b[0;34m\u001b[0m\u001b[0;34m\u001b[0m\u001b[0m\n\u001b[1;32m      2\u001b[0m \u001b[0;34m\u001b[0m\u001b[0m\n\u001b[0;32m----> 3\u001b[0;31m \u001b[0mplt\u001b[0m\u001b[0;34m.\u001b[0m\u001b[0mplot\u001b[0m\u001b[0;34m(\u001b[0m\u001b[0mqlm\u001b[0m\u001b[0;34m.\u001b[0m\u001b[0mdsets\u001b[0m\u001b[0;34m[\u001b[0m\u001b[0;34m't'\u001b[0m\u001b[0;34m]\u001b[0m\u001b[0;34m-\u001b[0m\u001b[0mloc\u001b[0m\u001b[0;34m.\u001b[0m\u001b[0mtmerger\u001b[0m\u001b[0;34m(\u001b[0m\u001b[0;34m)\u001b[0m\u001b[0;34m,\u001b[0m \u001b[0mqlm\u001b[0m\u001b[0;34m.\u001b[0m\u001b[0mdsets\u001b[0m\u001b[0;34m[\u001b[0m\u001b[0;34m'm1'\u001b[0m\u001b[0;34m]\u001b[0m\u001b[0;34m,\u001b[0m \u001b[0;34m'b'\u001b[0m\u001b[0;34m,\u001b[0m \u001b[0mlabel\u001b[0m\u001b[0;34m=\u001b[0m\u001b[0;34m'$m_{1}$'\u001b[0m\u001b[0;34m)\u001b[0m\u001b[0;34m\u001b[0m\u001b[0;34m\u001b[0m\u001b[0m\n\u001b[0m\u001b[1;32m      4\u001b[0m \u001b[0;31m# plt.axhline(bbh.m1, c='b', linestyle='--')\u001b[0m\u001b[0;34m\u001b[0m\u001b[0;34m\u001b[0m\u001b[0;34m\u001b[0m\u001b[0m\n\u001b[1;32m      5\u001b[0m \u001b[0mplt\u001b[0m\u001b[0;34m.\u001b[0m\u001b[0mplot\u001b[0m\u001b[0;34m(\u001b[0m\u001b[0mqlm\u001b[0m\u001b[0;34m.\u001b[0m\u001b[0mdsets\u001b[0m\u001b[0;34m[\u001b[0m\u001b[0;34m't'\u001b[0m\u001b[0;34m]\u001b[0m\u001b[0;34m-\u001b[0m\u001b[0mloc\u001b[0m\u001b[0;34m.\u001b[0m\u001b[0mtmerger\u001b[0m\u001b[0;34m(\u001b[0m\u001b[0;34m)\u001b[0m\u001b[0;34m,\u001b[0m \u001b[0mqlm\u001b[0m\u001b[0;34m.\u001b[0m\u001b[0mdsets\u001b[0m\u001b[0;34m[\u001b[0m\u001b[0;34m'm2'\u001b[0m\u001b[0;34m]\u001b[0m\u001b[0;34m,\u001b[0m \u001b[0;34m'g'\u001b[0m\u001b[0;34m,\u001b[0m \u001b[0mlabel\u001b[0m\u001b[0;34m=\u001b[0m\u001b[0;34m'$m_{2}$'\u001b[0m\u001b[0;34m)\u001b[0m\u001b[0;34m\u001b[0m\u001b[0;34m\u001b[0m\u001b[0m\n",
      "\u001b[0;31mAttributeError\u001b[0m: 'quasilocalmeasures' object has no attribute 'dsets'"
     ]
    }
   ],
   "source": [
    "import matplotlib.pyplot as plt\n",
    "\n",
    "plt.plot(qlm.dsets['t']-loc.tmerger(), qlm.dsets['m1'], 'b', label='$m_{1}$')\n",
    "# plt.axhline(bbh.m1, c='b', linestyle='--')\n",
    "plt.plot(qlm.dsets['t']-loc.tmerger(), qlm.dsets['m2'], 'g', label='$m_{2}$')\n",
    "# plt.axhline(bbh.m2, c='g', linestyle='--')\n",
    "# plt.axhline(mf, c='k', linestyle='--')\n",
    "plt.ylabel('Mass', fontsize=18)\n",
    "plt.xlabel('t', fontsize=18)\n",
    "plt.legend(fontsize=14)\n",
    "# plt.savefig('/Users/liuyu/Desktop/ZettelKasten/Report/mass_BBH002.png')"
   ]
  },
  {
   "cell_type": "markdown",
   "metadata": {},
   "source": [
    "## Spin"
   ]
  },
  {
   "cell_type": "code",
   "execution_count": 5,
   "metadata": {},
   "outputs": [
    {
     "ename": "AttributeError",
     "evalue": "'quasilocalmeasures' object has no attribute 'dsets'",
     "output_type": "error",
     "traceback": [
      "\u001b[0;31m---------------------------------------------------------------------------\u001b[0m",
      "\u001b[0;31mAttributeError\u001b[0m                            Traceback (most recent call last)",
      "\u001b[0;32m<ipython-input-5-0690f3297c07>\u001b[0m in \u001b[0;36m<module>\u001b[0;34m\u001b[0m\n\u001b[1;32m      1\u001b[0m \u001b[0mplt\u001b[0m\u001b[0;34m.\u001b[0m\u001b[0mfigure\u001b[0m\u001b[0;34m(\u001b[0m\u001b[0;36m1\u001b[0m\u001b[0;34m,\u001b[0m \u001b[0mfigsize\u001b[0m\u001b[0;34m=\u001b[0m\u001b[0;34m(\u001b[0m\u001b[0;36m10\u001b[0m\u001b[0;34m,\u001b[0m\u001b[0;36m6\u001b[0m\u001b[0;34m)\u001b[0m\u001b[0;34m)\u001b[0m\u001b[0;34m\u001b[0m\u001b[0;34m\u001b[0m\u001b[0m\n\u001b[1;32m      2\u001b[0m \u001b[0;34m\u001b[0m\u001b[0m\n\u001b[0;32m----> 3\u001b[0;31m \u001b[0mplt\u001b[0m\u001b[0;34m.\u001b[0m\u001b[0mplot\u001b[0m\u001b[0;34m(\u001b[0m\u001b[0mqlm\u001b[0m\u001b[0;34m.\u001b[0m\u001b[0mdsets\u001b[0m\u001b[0;34m[\u001b[0m\u001b[0;34m't'\u001b[0m\u001b[0;34m]\u001b[0m\u001b[0;34m-\u001b[0m\u001b[0mloc\u001b[0m\u001b[0;34m.\u001b[0m\u001b[0mtmerger\u001b[0m\u001b[0;34m,\u001b[0m \u001b[0mqlm\u001b[0m\u001b[0;34m.\u001b[0m\u001b[0mdsets\u001b[0m\u001b[0;34m[\u001b[0m\u001b[0;34m'spin1x'\u001b[0m\u001b[0;34m]\u001b[0m\u001b[0;34m/\u001b[0m\u001b[0mbbh\u001b[0m\u001b[0;34m.\u001b[0m\u001b[0mm1\u001b[0m\u001b[0;34m**\u001b[0m\u001b[0;36m2\u001b[0m\u001b[0;34m,\u001b[0m \u001b[0;34m'b'\u001b[0m\u001b[0;34m,\u001b[0m \u001b[0mlabel\u001b[0m\u001b[0;34m=\u001b[0m\u001b[0;34m'$\\chi_{1x}$ BBH002Lev1'\u001b[0m\u001b[0;34m)\u001b[0m\u001b[0;34m\u001b[0m\u001b[0;34m\u001b[0m\u001b[0m\n\u001b[0m\u001b[1;32m      4\u001b[0m \u001b[0mplt\u001b[0m\u001b[0;34m.\u001b[0m\u001b[0mplot\u001b[0m\u001b[0;34m(\u001b[0m\u001b[0mt_p\u001b[0m\u001b[0;34m,\u001b[0m \u001b[0mdyn_p\u001b[0m\u001b[0;34m[\u001b[0m\u001b[0;34m'chiA'\u001b[0m\u001b[0;34m]\u001b[0m\u001b[0;34m[\u001b[0m\u001b[0;34m:\u001b[0m\u001b[0;34m,\u001b[0m\u001b[0;36m0\u001b[0m\u001b[0;34m]\u001b[0m\u001b[0;34m,\u001b[0m \u001b[0;34m'b--'\u001b[0m\u001b[0;34m,\u001b[0m \u001b[0mlabel\u001b[0m\u001b[0;34m=\u001b[0m\u001b[0;34m'$\\chi_{1x}$ NRSur7dq4'\u001b[0m\u001b[0;34m)\u001b[0m\u001b[0;34m\u001b[0m\u001b[0;34m\u001b[0m\u001b[0m\n\u001b[1;32m      5\u001b[0m \u001b[0;34m\u001b[0m\u001b[0m\n",
      "\u001b[0;31mAttributeError\u001b[0m: 'quasilocalmeasures' object has no attribute 'dsets'"
     ]
    },
    {
     "data": {
      "text/plain": [
       "<Figure size 720x432 with 0 Axes>"
      ]
     },
     "metadata": {},
     "output_type": "display_data"
    }
   ],
   "source": [
    "plt.figure(1, figsize=(10,6))\n",
    "\n",
    "plt.plot(qlm.dsets['t']-loc.tmerger, qlm.dsets['spin1x']/bbh.m1**2, 'b', label='$\\chi_{1x}$ BBH002Lev1')\n",
    "plt.plot(t_p, dyn_p['chiA'][:,0], 'b--', label='$\\chi_{1x}$ NRSur7dq4')\n",
    "\n",
    "plt.plot(qlm.dsets['t']-loc.tmerger, qlm.dsets['spin2x']/bbh.m2**2, 'g', label='$\\chi_{2x}$ BBH002Lev1')\n",
    "plt.plot(t_p, dyn_p['chiB'][:,0], 'g--', label='$\\chi_{2x}$ NRSur7dq4')\n",
    "\n",
    "plt.axhline(chif[0], c='k', linestyle='--', label='NRSur7dq4Remnant')\n",
    "\n",
    "plt.ylabel('$\\chi_x$', fontsize=18)\n",
    "plt.xlabel('t', fontsize=18)\n",
    "# plt.title('Spinx')\n",
    "plt.legend(fontsize=14)\n",
    "\n",
    "plt.figure(2, figsize=(10,6))\n",
    "\n",
    "plt.plot(qlm.dsets['t']-loc.tmerger, qlm.dsets['spin1y']/qlm.dsets['m1']**2, 'b', label='$\\chi_{1y}$ BBH002Lev1')\n",
    "plt.plot(t_p, dyn_p['chiA'][:,1], 'b--', label='$\\chi_{1y}$ NRSur7dq4')\n",
    "\n",
    "plt.plot(qlm.dsets['t']-loc.tmerger, qlm.dsets['spin2y']/qlm.dsets['m2']**2, 'g', label='$\\chi_{2y}$ BBH002Lev1')\n",
    "plt.plot(t_p, dyn_p['chiB'][:,1], 'g--', label='$\\chi_{2y}$ NRSur7dq4')\n",
    "\n",
    "plt.axhline(chif[1], c='k', linestyle='--', label='NRSur7dq4Remnant')\n",
    "\n",
    "plt.ylabel('$\\chi_y$', fontsize=18)\n",
    "plt.xlabel('t', fontsize=18)\n",
    "# plt.title('Spiny')\n",
    "plt.legend(fontsize=14)\n",
    "\n",
    "plt.figure(3, figsize=(10,6))\n",
    "\n",
    "plt.plot(qlm.dsets['t']-loc.tmerger, qlm.dsets['spin1z']/qlm.dsets['m1']**2, 'b', label='$\\chi_{1z}$ BBH002Lev1')\n",
    "plt.plot(t_p, dyn_p['chiA'][:,2], 'b--', label='$\\chi_{1z}$ NRSur7dq4')\n",
    "\n",
    "plt.plot(qlm.dsets['t']-loc.tmerger, qlm.dsets['spin2z']/qlm.dsets['m2']**2, 'g', label='$\\chi_{2z}$ BBH002Lev1')\n",
    "plt.plot(t_p, dyn_p['chiB'][:,2], 'g--', label='$\\chi_{2z}$ NRSur7dq4')\n",
    "\n",
    "plt.axhline(chif[2], c='k', linestyle='--', label='NRSur7dq4Remnant')\n",
    "\n",
    "plt.ylabel('$\\chi_z$', fontsize=18)\n",
    "plt.xlabel('t', fontsize=18)\n",
    "# plt.title('Spinz')\n",
    "plt.legend(fontsize=14)\n",
    "print(loc.tmerger)\n",
    "plt.savefig('/Users/liuyu/Downloads/spinz_BBH002.png')\n"
   ]
  },
  {
   "cell_type": "code",
   "execution_count": null,
   "metadata": {},
   "outputs": [],
   "source": [
    "plt.figure(1)\n",
    "\n",
    "# plt.plot(qlm.dsets['t']-925, qlm.dsets['px'], 'b', label='$\\p_{x}$')\n",
    "plt.axhline(vf[0], c='k', linestyle='--')\n",
    "\n",
    "plt.figure(2)\n",
    "\n",
    "# plt.plot(qlm.dsets['t']-925, qlm.dsets['py'], 'b', label='$\\p_{y}$')\n",
    "plt.axhline(vf[1], c='k', linestyle='--')\n",
    "\n",
    "plt.figure(3)\n",
    "\n",
    "# plt.plot(qlm.dsets['t']-925, qlm.dsets['pz'], 'b', label='$\\p_{z}$')\n",
    "plt.axhline(vf[2], c='k', linestyle='--')"
   ]
  },
  {
   "cell_type": "code",
   "execution_count": null,
   "metadata": {},
   "outputs": [],
   "source": [
    "import matplotlib.pyplot as plt\n",
    "\n",
    "tNR = strain[0]\n",
    "hp = strain[1].real\n",
    "hc = strain[1].imag\n",
    "hp_dot = np.gradient(hp, tNR)\n",
    "hc_dot = np.gradient(hc, tNR)\n",
    "Omega = (hp_dot*hc - hp*hc_dot) / (2 * (hp**2 + hc**2))\n",
    "plt.plot(tNR-loc.tmerger+21, Omega, label='BBH002Lev1')\n",
    "\n",
    "Omega = np.gradient(dyn_p['orbphase'][:,], t_p)\n",
    "plt.plot(t, Omega, '--', label='NRSur7dq4')\n",
    "plt.ylabel('$M\\omega$', fontsize=18)\n",
    "plt.xlabel('t', fontsize=18)\n",
    "# plt.title('$M\\omega$')\n",
    "plt.legend()\n",
    "\n",
    "# plt.xlim(-1000,-700)\n",
    "plt.ylim(0,0.3)\n",
    "plt.savefig('/Users/liuyu/Downloads/omega_BBH002.png')\n",
    "# plt.savefig('/Users/liuyu/Desktop/ZettelKasten/Report/omega_BBH002.png')"
   ]
  },
  {
   "cell_type": "code",
   "execution_count": null,
   "metadata": {},
   "outputs": [],
   "source": []
  }
 ],
 "metadata": {
  "kernelspec": {
   "display_name": "Python 3",
   "language": "python",
   "name": "python3"
  },
  "language_info": {
   "codemirror_mode": {
    "name": "ipython",
    "version": 3
   },
   "file_extension": ".py",
   "mimetype": "text/x-python",
   "name": "python",
   "nbconvert_exporter": "python",
   "pygments_lexer": "ipython3",
   "version": "3.8.5"
  }
 },
 "nbformat": 4,
 "nbformat_minor": 4
}
