{
 "cells": [
  {
   "cell_type": "code",
   "execution_count": null,
   "metadata": {},
   "outputs": [],
   "source": [
    "import CactusTool\n",
    "\n",
    "# name = 'BBH001'\n",
    "# name = 'GW150914_28'\n",
    "# sim = CactusTool.load(name, '/Volumes/simulations', output=['output-0000', 'output-0003', 'output-0004'])\n",
    "name = 'BBH001Lev3'\n",
    "sim = CactusTool.load(name, '/Volumes/simulations/BBH001Lev4')\n",
    "process_memory = sim.Scalar(ftype='maximum')['systemstatistics-process_memory_mb']\n",
    "\n",
    "import matplotlib.pyplot as plt\n",
    "\n",
    "n = len(process_memory.vars)\n",
    "fig, axs = plt.subplots(n, 1, constrained_layout=True, figsize=(6,n*2))\n",
    "\n",
    "i = 0\n",
    "for var in process_memory.vars:\n",
    "    ax = axs[i]\n",
    "    dsets = process_memory.dsets(var)\n",
    "    ax.plot(dsets[0], dsets[1])\n",
    "    ax.set_xlabel(r'$t [M]$')\n",
    "    ax.set_title(var)  \n",
    "    i+=1"
   ]
  },
  {
   "cell_type": "code",
   "execution_count": null,
   "metadata": {},
   "outputs": [],
   "source": []
  }
 ],
 "metadata": {
  "kernelspec": {
   "display_name": "Python 3",
   "language": "python",
   "name": "python3"
  },
  "language_info": {
   "codemirror_mode": {
    "name": "ipython",
    "version": 3
   },
   "file_extension": ".py",
   "mimetype": "text/x-python",
   "name": "python",
   "nbconvert_exporter": "python",
   "pygments_lexer": "ipython3",
   "version": "3.8.5"
  }
 },
 "nbformat": 4,
 "nbformat_minor": 4
}
