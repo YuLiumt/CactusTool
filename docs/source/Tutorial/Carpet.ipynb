{
 "cells": [
  {
   "cell_type": "markdown",
   "metadata": {
    "deletable": false,
    "editable": false,
    "run_control": {
     "frozen": true
    }
   },
   "source": [
    "# Carpet\n",
    "\n",
    "`Carpet` is a sub-module of `CactusTool`. This modular main processes output of Thorn `Carpet`. To reduce the potential bug, this part will be written as simple as possible. These class also not depend on the `CactusTool` modular and can be used alone.\n",
    "\n",
    "Thorn `Carpet` provides three different I/O methods, namely `CarpetIOScalar`, `CarpetIOHDF5`, and `CarpetIOASCII`. Where `CarpetIOScalar` is time series while `CarpetIOHDF5`, and `CarpetIOASCII` is gird function. `CarpetIOHDF5` can read the corresponding data according to the header. However, `CarpetIOASCII` will read all data at once. This is not an efficient way for extremely large data files. So we recommend 1-D grid function use `CarpetIOASCII` while 2-D or 3_D use `CarpetIOHDF5`.\n",
    "\n",
    "`Carpet` module main contain three base class `CarpetIOScalar`, `CarpetIOHDF5`, and `CarpetIOASCII`. We deal with them separately, because their data structure is completely different. These class only return part of the dataset, given time, refinement level and component. We don't recommend using all the data when drawing. Because the amount of simulation data is too large, this is no need and waste resources.\n",
    "\n",
    "We're going to get started by loading up necessary modular and specify some example file in my local computer to demonstrate the function of this module."
   ]
  },
  {
   "cell_type": "code",
   "execution_count": 1,
   "metadata": {
    "ExecuteTime": {
     "end_time": "2020-01-26T02:36:19.195042Z",
     "start_time": "2020-01-26T02:36:18.474985Z"
    },
    "deletable": false,
    "editable": false
   },
   "outputs": [],
   "source": [
    "%matplotlib inline\n",
    "from CactusTool.Carpet import CarpetIOScalar\n",
    "from CactusTool.Carpet import CarpetIOHDF5\n",
    "from CactusTool.Carpet import CarpetIOASCII\n",
    "from CactusTool.funcs import filter_file\n",
    "import numpy as np\n",
    "import os"
   ]
  },
  {
   "cell_type": "code",
   "execution_count": 2,
   "metadata": {
    "ExecuteTime": {
     "end_time": "2020-01-26T02:36:19.202641Z",
     "start_time": "2020-01-26T02:36:19.198191Z"
    },
    "deletable": false,
    "editable": false
   },
   "outputs": [],
   "source": [
    "path = '/Users/liuyu/simulations/BH/'\n",
    "files = [path + file for file in os.listdir(path)]"
   ]
  },
  {
   "cell_type": "markdown",
   "metadata": {
    "deletable": false,
    "editable": false,
    "run_control": {
     "frozen": true
    }
   },
   "source": [
    "## CarpetIOScalar\n",
    "\n",
    "First view all available reduction or all available variables."
   ]
  },
  {
   "cell_type": "code",
   "execution_count": 3,
   "metadata": {
    "ExecuteTime": {
     "end_time": "2020-01-26T02:36:19.226519Z",
     "start_time": "2020-01-26T02:36:19.206819Z"
    },
    "deletable": false,
    "editable": false,
    "scrolled": true
   },
   "outputs": [
    {
     "name": "stdout",
     "output_type": "stream",
     "text": [
      "Available reductions: ['max', 'none']\n",
      "All available variables:\n",
      "------------\n",
      "Available maximum timeseries:\n",
      "['H', 'M1', 'M2', 'M3', 'qlm_shape[0]', 'qlm_shape[1]', 'maxrss_mb', 'majflt_mb', 'arena_mb', 'ordblks_mb', 'hblks_mb', 'hblkhd_mb', 'uordblks_mb', 'fordblks_mb', 'keepcost_mb', 'swap_used_mb']\n",
      "Available none timeseries:\n",
      "['pt_loc_t[0]', 'pt_loc_t[1]', 'pt_loc_t[2]', 'pt_loc_t[3]', 'pt_loc_t[4]', 'pt_loc_t[5]', 'pt_loc_t[6]', 'pt_loc_t[7]', 'pt_loc_t[8]', 'pt_loc_t[9]', 'pt_loc_x[0]', 'pt_loc_x[1]', 'pt_loc_x[2]', 'pt_loc_x[3]', 'pt_loc_x[4]', 'pt_loc_x[5]', 'pt_loc_x[6]', 'pt_loc_x[7]', 'pt_loc_x[8]', 'pt_loc_x[9]', 'pt_loc_y[0]', 'pt_loc_y[1]', 'pt_loc_y[2]', 'pt_loc_y[3]', 'pt_loc_y[4]', 'pt_loc_y[5]', 'pt_loc_y[6]', 'pt_loc_y[7]', 'pt_loc_y[8]', 'pt_loc_y[9]', 'pt_loc_z[0]', 'pt_loc_z[1]', 'pt_loc_z[2]', 'pt_loc_z[3]', 'pt_loc_z[4]', 'pt_loc_z[5]', 'pt_loc_z[6]', 'pt_loc_z[7]', 'pt_loc_z[8]', 'pt_loc_z[9]', 'qlm_time[0]', 'qlm_time[1]', 'qlm_equatorial_circumference[0]', 'qlm_equatorial_circumference[1]', 'qlm_polar_circumference_0[0]', 'qlm_polar_circumference_0[1]', 'qlm_polar_circumference_pi_2[0]', 'qlm_polar_circumference_pi_2[1]', 'qlm_area[0]', 'qlm_area[1]', 'qlm_irreducible_mass[0]', 'qlm_irreducible_mass[1]', 'qlm_radius[0]', 'qlm_radius[1]', 'qlm_spin_guess[0]', 'qlm_spin_guess[1]', 'qlm_mass_guess[0]', 'qlm_mass_guess[1]', 'qlm_killing_eigenvalue_re[0]', 'qlm_killing_eigenvalue_re[1]', 'qlm_killing_eigenvalue_im[0]', 'qlm_killing_eigenvalue_im[1]', 'qlm_spin[0]', 'qlm_spin[1]', 'qlm_npspin[0]', 'qlm_npspin[1]', 'qlm_wsspin[0]', 'qlm_wsspin[1]', 'qlm_cvspin[0]', 'qlm_cvspin[1]', 'qlm_coordspinx[0]', 'qlm_coordspinx[1]', 'qlm_coordspiny[0]', 'qlm_coordspiny[1]', 'qlm_coordspinz[0]', 'qlm_coordspinz[1]', 'qlm_mass[0]', 'qlm_mass[1]', 'qlm_adm_energy[0]', 'qlm_adm_energy[1]', 'qlm_adm_momentum_x[0]', 'qlm_adm_momentum_x[1]', 'qlm_adm_momentum_y[0]', 'qlm_adm_momentum_y[1]', 'qlm_adm_momentum_z[0]', 'qlm_adm_momentum_z[1]', 'qlm_adm_angular_momentum_x[0]', 'qlm_adm_angular_momentum_x[1]', 'qlm_adm_angular_momentum_y[0]', 'qlm_adm_angular_momentum_y[1]', 'qlm_adm_angular_momentum_z[0]', 'qlm_adm_angular_momentum_z[1]', 'qlm_w_energy[0]', 'qlm_w_energy[1]', 'qlm_w_momentum_x[0]', 'qlm_w_momentum_x[1]', 'qlm_w_momentum_y[0]', 'qlm_w_momentum_y[1]', 'qlm_w_momentum_z[0]', 'qlm_w_momentum_z[1]', 'qlm_w_angular_momentum_x[0]', 'qlm_w_angular_momentum_x[1]', 'qlm_w_angular_momentum_y[0]', 'qlm_w_angular_momentum_y[1]', 'qlm_w_angular_momentum_z[0]', 'qlm_w_angular_momentum_z[1]']\n",
      "\n"
     ]
    }
   ],
   "source": [
    "ds_scalar = CarpetIOScalar(files)\n",
    "print(\"Available reductions:\", ds_scalar.available_reductions)\n",
    "print(\"All available variables:\\n------------\")\n",
    "print(ds_scalar)"
   ]
  },
  {
   "cell_type": "markdown",
   "metadata": {
    "deletable": false,
    "editable": false,
    "run_control": {
     "frozen": true
    }
   },
   "source": [
    "All available variables in a given reduction."
   ]
  },
  {
   "cell_type": "code",
   "execution_count": 4,
   "metadata": {
    "ExecuteTime": {
     "end_time": "2020-01-26T02:36:19.237059Z",
     "start_time": "2020-01-26T02:36:19.230247Z"
    },
    "deletable": false,
    "editable": false
   },
   "outputs": [
    {
     "name": "stdout",
     "output_type": "stream",
     "text": [
      "Available variables: ['H', 'M1', 'M2', 'M3', 'qlm_shape[0]', 'qlm_shape[1]', 'maxrss_mb', 'majflt_mb', 'arena_mb', 'ordblks_mb', 'hblks_mb', 'hblkhd_mb', 'uordblks_mb', 'fordblks_mb', 'keepcost_mb', 'swap_used_mb']\n"
     ]
    }
   ],
   "source": [
    "print(\"Available variables:\", ds_scalar.max.available_variables)"
   ]
  },
  {
   "cell_type": "markdown",
   "metadata": {
    "ExecuteTime": {
     "end_time": "2020-01-09T10:27:45.096430Z",
     "start_time": "2020-01-09T10:27:45.092868Z"
    }
   },
   "source": [
    "Then specify variables and their corresponding operations."
   ]
  },
  {
   "cell_type": "code",
   "execution_count": 5,
   "metadata": {
    "ExecuteTime": {
     "end_time": "2020-01-26T02:36:19.247285Z",
     "start_time": "2020-01-26T02:36:19.241357Z"
    },
    "deletable": false,
    "editable": false
   },
   "outputs": [],
   "source": [
    "var_scalar = ds_scalar.max['M1'] # A scalar"
   ]
  },
  {
   "cell_type": "markdown",
   "metadata": {
    "deletable": false,
    "editable": false,
    "run_control": {
     "frozen": true
    }
   },
   "source": [
    "**Following are some attribute of this variable you may need:**"
   ]
  },
  {
   "cell_type": "markdown",
   "metadata": {
    "deletable": false,
    "editable": false,
    "run_control": {
     "frozen": true
    }
   },
   "source": [
    "### Dataset"
   ]
  },
  {
   "cell_type": "markdown",
   "metadata": {
    "deletable": false,
    "editable": false,
    "run_control": {
     "frozen": true
    }
   },
   "source": [
    "These dataset may store in different files and one file may contain many variables. Pandas DataFrame is a powerful tool to combine them and remove duplicate data. We use `pd.concat` to the same variable and `pd.merge` to different variable."
   ]
  },
  {
   "cell_type": "code",
   "execution_count": 6,
   "metadata": {
    "ExecuteTime": {
     "end_time": "2020-01-26T02:36:19.281936Z",
     "start_time": "2020-01-26T02:36:19.250132Z"
    }
   },
   "outputs": [
    {
     "data": {
      "text/html": [
       "<div>\n",
       "<style scoped>\n",
       "    .dataframe tbody tr th:only-of-type {\n",
       "        vertical-align: middle;\n",
       "    }\n",
       "\n",
       "    .dataframe tbody tr th {\n",
       "        vertical-align: top;\n",
       "    }\n",
       "\n",
       "    .dataframe thead th {\n",
       "        text-align: right;\n",
       "    }\n",
       "</style>\n",
       "<table border=\"1\" class=\"dataframe\">\n",
       "  <thead>\n",
       "    <tr style=\"text-align: right;\">\n",
       "      <th></th>\n",
       "      <th>iteration</th>\n",
       "      <th>time</th>\n",
       "      <th>M1</th>\n",
       "      <th>M2</th>\n",
       "      <th>M3</th>\n",
       "    </tr>\n",
       "  </thead>\n",
       "  <tbody>\n",
       "    <tr>\n",
       "      <td>0</td>\n",
       "      <td>0.0</td>\n",
       "      <td>0.0</td>\n",
       "      <td>6.911620</td>\n",
       "      <td>23.938131</td>\n",
       "      <td>0.730308</td>\n",
       "    </tr>\n",
       "    <tr>\n",
       "      <td>1</td>\n",
       "      <td>256.0</td>\n",
       "      <td>1.0</td>\n",
       "      <td>4.690899</td>\n",
       "      <td>6.131249</td>\n",
       "      <td>1.355362</td>\n",
       "    </tr>\n",
       "    <tr>\n",
       "      <td>2</td>\n",
       "      <td>512.0</td>\n",
       "      <td>2.0</td>\n",
       "      <td>8.159930</td>\n",
       "      <td>8.806923</td>\n",
       "      <td>2.408183</td>\n",
       "    </tr>\n",
       "    <tr>\n",
       "      <td>3</td>\n",
       "      <td>768.0</td>\n",
       "      <td>3.0</td>\n",
       "      <td>16.974336</td>\n",
       "      <td>16.485445</td>\n",
       "      <td>2.944662</td>\n",
       "    </tr>\n",
       "    <tr>\n",
       "      <td>4</td>\n",
       "      <td>1024.0</td>\n",
       "      <td>4.0</td>\n",
       "      <td>19.698239</td>\n",
       "      <td>14.367274</td>\n",
       "      <td>4.194277</td>\n",
       "    </tr>\n",
       "    <tr>\n",
       "      <td>...</td>\n",
       "      <td>...</td>\n",
       "      <td>...</td>\n",
       "      <td>...</td>\n",
       "      <td>...</td>\n",
       "      <td>...</td>\n",
       "    </tr>\n",
       "    <tr>\n",
       "      <td>65</td>\n",
       "      <td>16640.0</td>\n",
       "      <td>65.0</td>\n",
       "      <td>27.362242</td>\n",
       "      <td>14.835847</td>\n",
       "      <td>10.510170</td>\n",
       "    </tr>\n",
       "    <tr>\n",
       "      <td>66</td>\n",
       "      <td>16896.0</td>\n",
       "      <td>66.0</td>\n",
       "      <td>34.752490</td>\n",
       "      <td>10.354096</td>\n",
       "      <td>8.157228</td>\n",
       "    </tr>\n",
       "    <tr>\n",
       "      <td>67</td>\n",
       "      <td>17152.0</td>\n",
       "      <td>67.0</td>\n",
       "      <td>41.331741</td>\n",
       "      <td>9.649753</td>\n",
       "      <td>7.046484</td>\n",
       "    </tr>\n",
       "    <tr>\n",
       "      <td>68</td>\n",
       "      <td>17408.0</td>\n",
       "      <td>68.0</td>\n",
       "      <td>56.774063</td>\n",
       "      <td>7.861392</td>\n",
       "      <td>8.128903</td>\n",
       "    </tr>\n",
       "    <tr>\n",
       "      <td>69</td>\n",
       "      <td>17664.0</td>\n",
       "      <td>69.0</td>\n",
       "      <td>86.641334</td>\n",
       "      <td>9.599766</td>\n",
       "      <td>10.149837</td>\n",
       "    </tr>\n",
       "  </tbody>\n",
       "</table>\n",
       "<p>70 rows × 5 columns</p>\n",
       "</div>"
      ],
      "text/plain": [
       "    iteration  time         M1         M2         M3\n",
       "0         0.0   0.0   6.911620  23.938131   0.730308\n",
       "1       256.0   1.0   4.690899   6.131249   1.355362\n",
       "2       512.0   2.0   8.159930   8.806923   2.408183\n",
       "3       768.0   3.0  16.974336  16.485445   2.944662\n",
       "4      1024.0   4.0  19.698239  14.367274   4.194277\n",
       "..        ...   ...        ...        ...        ...\n",
       "65    16640.0  65.0  27.362242  14.835847  10.510170\n",
       "66    16896.0  66.0  34.752490  10.354096   8.157228\n",
       "67    17152.0  67.0  41.331741   9.649753   7.046484\n",
       "68    17408.0  68.0  56.774063   7.861392   8.128903\n",
       "69    17664.0  69.0  86.641334   9.599766  10.149837\n",
       "\n",
       "[70 rows x 5 columns]"
      ]
     },
     "execution_count": 6,
     "metadata": {},
     "output_type": "execute_result"
    }
   ],
   "source": [
    "var_scalar.dataset"
   ]
  },
  {
   "cell_type": "code",
   "execution_count": 7,
   "metadata": {
    "ExecuteTime": {
     "end_time": "2020-01-26T02:36:19.298087Z",
     "start_time": "2020-01-26T02:36:19.285153Z"
    },
    "scrolled": false
   },
   "outputs": [
    {
     "name": "stdout",
     "output_type": "stream",
     "text": [
      "[ 0.  1.  2.  3.  4.  5.  6.  7.  8.  9. 10. 11. 12. 13. 14. 15. 16. 17.\n",
      " 18. 19. 20. 21. 22. 23. 24. 25. 26. 27. 28. 29. 30. 31. 32. 33. 34. 35.\n",
      " 36. 37. 38. 39. 40. 41. 42. 43. 44. 45. 46. 47. 48. 49. 50. 51. 52. 53.\n",
      " 54. 55. 56. 57. 58. 59. 60. 61. 62. 63. 64. 65. 66. 67. 68. 69.]\n"
     ]
    }
   ],
   "source": [
    "print(var_scalar.t)"
   ]
  },
  {
   "cell_type": "code",
   "execution_count": 8,
   "metadata": {
    "ExecuteTime": {
     "end_time": "2020-01-26T02:36:19.318092Z",
     "start_time": "2020-01-26T02:36:19.305580Z"
    }
   },
   "outputs": [
    {
     "name": "stdout",
     "output_type": "stream",
     "text": [
      "[ 6.91162042  4.69089922  8.15992957 16.97433572 19.69823863  9.8019281\n",
      "  9.4338747  10.77087389 12.00844701 11.01484966 12.79959189 12.24370226\n",
      "  9.20261885  8.44617812  7.05872649  7.09998882  7.51981068  5.91742035\n",
      "  6.37142577  7.94033838  5.80713348  6.52797666  6.32129715  5.78973875\n",
      "  7.34959148  6.06841687  6.93356998  6.83452031  7.26392397  6.0761769\n",
      "  7.17537283  6.83487526  7.56906249  7.80594351  7.66626339  7.89391274\n",
      "  7.80146422  8.7930208   8.83248621  8.5883266   9.06674216  8.99319226\n",
      "  8.93508182  8.63234341  8.47202999  8.35542697  8.23359316  8.54950164\n",
      "  8.21014089  9.20736732  9.44981673  8.74601727  9.4345638   8.66198577\n",
      "  8.83671494  8.69098541  8.05605277  8.48518954 11.24335718 13.76169372\n",
      " 15.24567271 17.25641237 21.17488396 24.64856006 27.66993284 27.36224159\n",
      " 34.75248999 41.33174092 56.77406288 86.64133425]\n"
     ]
    }
   ],
   "source": [
    "print(var_scalar.y)"
   ]
  },
  {
   "cell_type": "markdown",
   "metadata": {
    "deletable": false,
    "editable": false
   },
   "source": [
    "### Header\n",
    "\n",
    "Not sure it's necessary"
   ]
  },
  {
   "cell_type": "markdown",
   "metadata": {},
   "source": [
    "## CarpetIOASCII\n",
    "\n",
    "Mostly the same as CarpetIOScalar"
   ]
  },
  {
   "cell_type": "markdown",
   "metadata": {
    "ExecuteTime": {
     "end_time": "2020-01-10T09:09:19.356972Z",
     "start_time": "2020-01-10T09:09:19.353750Z"
    }
   },
   "source": [
    "First view all available variables in a given dimensions."
   ]
  },
  {
   "cell_type": "code",
   "execution_count": 9,
   "metadata": {
    "ExecuteTime": {
     "end_time": "2020-01-26T02:36:19.994332Z",
     "start_time": "2020-01-26T02:36:19.322934Z"
    },
    "scrolled": true
   },
   "outputs": [
    {
     "name": "stdout",
     "output_type": "stream",
     "text": [
      "Available dimension: ['x', 'y', 'z']\n",
      "All available dimensions:\n",
      "------------\n",
      "Available grid function with x dimension:\n",
      "['H', 'gxx', 'gxy', 'gxz', 'gyy', 'gyz', 'gzz', 'M1', 'M2', 'M3']\n",
      "Available grid function with y dimension:\n",
      "['H', 'gxx', 'gxy', 'gxz', 'gyy', 'gyz', 'gzz', 'M1', 'M2', 'M3']\n",
      "Available grid function with z dimension:\n",
      "['H', 'gxx', 'gxy', 'gxz', 'gyy', 'gyz', 'gzz', 'M1', 'M2', 'M3']\n",
      "\n"
     ]
    }
   ],
   "source": [
    "ds_ascii = CarpetIOASCII(files)\n",
    "print(\"Available dimension:\", ds_ascii.available_dims)\n",
    "print(\"All available dimensions:\\n------------\")\n",
    "print(ds_ascii)"
   ]
  },
  {
   "cell_type": "code",
   "execution_count": 10,
   "metadata": {
    "ExecuteTime": {
     "end_time": "2020-01-26T02:36:20.063230Z",
     "start_time": "2020-01-26T02:36:19.996768Z"
    }
   },
   "outputs": [
    {
     "name": "stdout",
     "output_type": "stream",
     "text": [
      "Available variables: ['H', 'gxx', 'gxy', 'gxz', 'gyy', 'gyz', 'gzz', 'M1', 'M2', 'M3']\n"
     ]
    }
   ],
   "source": [
    "print(\"Available variables:\", ds_ascii.x.available_variables)"
   ]
  },
  {
   "cell_type": "markdown",
   "metadata": {},
   "source": [
    "Then specify variables and their corresponding dim."
   ]
  },
  {
   "cell_type": "code",
   "execution_count": 11,
   "metadata": {
    "ExecuteTime": {
     "end_time": "2020-01-26T02:36:20.186523Z",
     "start_time": "2020-01-26T02:36:20.065323Z"
    }
   },
   "outputs": [],
   "source": [
    "var_ascii = ds_ascii.x['H']"
   ]
  },
  {
   "cell_type": "markdown",
   "metadata": {
    "deletable": false,
    "editable": false,
    "run_control": {
     "frozen": true
    }
   },
   "source": [
    "**Following are some attribute of this variable you may need:**"
   ]
  },
  {
   "cell_type": "markdown",
   "metadata": {
    "deletable": false,
    "editable": false,
    "run_control": {
     "frozen": true
    }
   },
   "source": [
    "### Dataset"
   ]
  },
  {
   "cell_type": "markdown",
   "metadata": {},
   "source": [
    "These dataset may store in different files and one file may contain many variables. Pandas DataFrame is a powerful tool to combine them and remove duplicate data.\n",
    "\n",
    "`dataset` is a method, because sometime we need use different way to combine data. We use `pd.concat` to do it. Following are some example. For more `pd.concat` parameter you can see https://pandas.pydata.org/pandas-docs/stable/user_guide/merging.html"
   ]
  },
  {
   "cell_type": "code",
   "execution_count": 12,
   "metadata": {
    "ExecuteTime": {
     "end_time": "2020-01-26T02:36:21.314791Z",
     "start_time": "2020-01-26T02:36:20.189140Z"
    },
    "scrolled": true
   },
   "outputs": [
    {
     "data": {
      "text/html": [
       "<div>\n",
       "<style scoped>\n",
       "    .dataframe tbody tr th:only-of-type {\n",
       "        vertical-align: middle;\n",
       "    }\n",
       "\n",
       "    .dataframe tbody tr th {\n",
       "        vertical-align: top;\n",
       "    }\n",
       "\n",
       "    .dataframe thead th {\n",
       "        text-align: right;\n",
       "    }\n",
       "</style>\n",
       "<table border=\"1\" class=\"dataframe\">\n",
       "  <thead>\n",
       "    <tr style=\"text-align: right;\">\n",
       "      <th></th>\n",
       "      <th>it</th>\n",
       "      <th>tl</th>\n",
       "      <th>rl</th>\n",
       "      <th>c</th>\n",
       "      <th>ml</th>\n",
       "      <th>ix</th>\n",
       "      <th>iy</th>\n",
       "      <th>iz</th>\n",
       "      <th>time</th>\n",
       "      <th>x</th>\n",
       "      <th>y</th>\n",
       "      <th>z</th>\n",
       "      <th>H</th>\n",
       "    </tr>\n",
       "  </thead>\n",
       "  <tbody>\n",
       "    <tr>\n",
       "      <td>0</td>\n",
       "      <td>0.0</td>\n",
       "      <td>0.0</td>\n",
       "      <td>0.0</td>\n",
       "      <td>5.0</td>\n",
       "      <td>0.0</td>\n",
       "      <td>0.0</td>\n",
       "      <td>5888.0</td>\n",
       "      <td>768.0</td>\n",
       "      <td>0.0</td>\n",
       "      <td>-230.00000</td>\n",
       "      <td>0.0</td>\n",
       "      <td>0.0</td>\n",
       "      <td>-8.299652e-10</td>\n",
       "    </tr>\n",
       "    <tr>\n",
       "      <td>1</td>\n",
       "      <td>0.0</td>\n",
       "      <td>0.0</td>\n",
       "      <td>0.0</td>\n",
       "      <td>5.0</td>\n",
       "      <td>0.0</td>\n",
       "      <td>256.0</td>\n",
       "      <td>5888.0</td>\n",
       "      <td>768.0</td>\n",
       "      <td>0.0</td>\n",
       "      <td>-220.00000</td>\n",
       "      <td>0.0</td>\n",
       "      <td>0.0</td>\n",
       "      <td>-8.299652e-10</td>\n",
       "    </tr>\n",
       "    <tr>\n",
       "      <td>2</td>\n",
       "      <td>0.0</td>\n",
       "      <td>0.0</td>\n",
       "      <td>0.0</td>\n",
       "      <td>5.0</td>\n",
       "      <td>0.0</td>\n",
       "      <td>512.0</td>\n",
       "      <td>5888.0</td>\n",
       "      <td>768.0</td>\n",
       "      <td>0.0</td>\n",
       "      <td>-210.00000</td>\n",
       "      <td>0.0</td>\n",
       "      <td>0.0</td>\n",
       "      <td>-8.299652e-10</td>\n",
       "    </tr>\n",
       "    <tr>\n",
       "      <td>3</td>\n",
       "      <td>0.0</td>\n",
       "      <td>0.0</td>\n",
       "      <td>0.0</td>\n",
       "      <td>5.0</td>\n",
       "      <td>0.0</td>\n",
       "      <td>768.0</td>\n",
       "      <td>5888.0</td>\n",
       "      <td>768.0</td>\n",
       "      <td>0.0</td>\n",
       "      <td>-200.00000</td>\n",
       "      <td>0.0</td>\n",
       "      <td>0.0</td>\n",
       "      <td>-8.299652e-10</td>\n",
       "    </tr>\n",
       "    <tr>\n",
       "      <td>4</td>\n",
       "      <td>0.0</td>\n",
       "      <td>0.0</td>\n",
       "      <td>0.0</td>\n",
       "      <td>5.0</td>\n",
       "      <td>0.0</td>\n",
       "      <td>1024.0</td>\n",
       "      <td>5888.0</td>\n",
       "      <td>768.0</td>\n",
       "      <td>0.0</td>\n",
       "      <td>-190.00000</td>\n",
       "      <td>0.0</td>\n",
       "      <td>0.0</td>\n",
       "      <td>-9.211791e-10</td>\n",
       "    </tr>\n",
       "    <tr>\n",
       "      <td>...</td>\n",
       "      <td>...</td>\n",
       "      <td>...</td>\n",
       "      <td>...</td>\n",
       "      <td>...</td>\n",
       "      <td>...</td>\n",
       "      <td>...</td>\n",
       "      <td>...</td>\n",
       "      <td>...</td>\n",
       "      <td>...</td>\n",
       "      <td>...</td>\n",
       "      <td>...</td>\n",
       "      <td>...</td>\n",
       "      <td>...</td>\n",
       "    </tr>\n",
       "    <tr>\n",
       "      <td>70240</td>\n",
       "      <td>17664.0</td>\n",
       "      <td>0.0</td>\n",
       "      <td>6.0</td>\n",
       "      <td>4.0</td>\n",
       "      <td>0.0</td>\n",
       "      <td>6036.0</td>\n",
       "      <td>5888.0</td>\n",
       "      <td>768.0</td>\n",
       "      <td>69.0</td>\n",
       "      <td>5.78125</td>\n",
       "      <td>0.0</td>\n",
       "      <td>0.0</td>\n",
       "      <td>-4.753934e-02</td>\n",
       "    </tr>\n",
       "    <tr>\n",
       "      <td>70241</td>\n",
       "      <td>17664.0</td>\n",
       "      <td>0.0</td>\n",
       "      <td>6.0</td>\n",
       "      <td>4.0</td>\n",
       "      <td>0.0</td>\n",
       "      <td>6040.0</td>\n",
       "      <td>5888.0</td>\n",
       "      <td>768.0</td>\n",
       "      <td>69.0</td>\n",
       "      <td>5.93750</td>\n",
       "      <td>0.0</td>\n",
       "      <td>0.0</td>\n",
       "      <td>-4.116361e-02</td>\n",
       "    </tr>\n",
       "    <tr>\n",
       "      <td>70242</td>\n",
       "      <td>17664.0</td>\n",
       "      <td>0.0</td>\n",
       "      <td>6.0</td>\n",
       "      <td>4.0</td>\n",
       "      <td>0.0</td>\n",
       "      <td>6044.0</td>\n",
       "      <td>5888.0</td>\n",
       "      <td>768.0</td>\n",
       "      <td>69.0</td>\n",
       "      <td>6.09375</td>\n",
       "      <td>0.0</td>\n",
       "      <td>0.0</td>\n",
       "      <td>-3.494065e-02</td>\n",
       "    </tr>\n",
       "    <tr>\n",
       "      <td>70243</td>\n",
       "      <td>17664.0</td>\n",
       "      <td>0.0</td>\n",
       "      <td>6.0</td>\n",
       "      <td>4.0</td>\n",
       "      <td>0.0</td>\n",
       "      <td>6048.0</td>\n",
       "      <td>5888.0</td>\n",
       "      <td>768.0</td>\n",
       "      <td>69.0</td>\n",
       "      <td>6.25000</td>\n",
       "      <td>0.0</td>\n",
       "      <td>0.0</td>\n",
       "      <td>-2.893913e-02</td>\n",
       "    </tr>\n",
       "    <tr>\n",
       "      <td>70244</td>\n",
       "      <td>17664.0</td>\n",
       "      <td>0.0</td>\n",
       "      <td>6.0</td>\n",
       "      <td>4.0</td>\n",
       "      <td>0.0</td>\n",
       "      <td>6052.0</td>\n",
       "      <td>5888.0</td>\n",
       "      <td>768.0</td>\n",
       "      <td>69.0</td>\n",
       "      <td>6.40625</td>\n",
       "      <td>0.0</td>\n",
       "      <td>0.0</td>\n",
       "      <td>-2.323888e-02</td>\n",
       "    </tr>\n",
       "  </tbody>\n",
       "</table>\n",
       "<p>70245 rows × 13 columns</p>\n",
       "</div>"
      ],
      "text/plain": [
       "            it   tl   rl    c   ml      ix      iy     iz  time          x  \\\n",
       "0          0.0  0.0  0.0  5.0  0.0     0.0  5888.0  768.0   0.0 -230.00000   \n",
       "1          0.0  0.0  0.0  5.0  0.0   256.0  5888.0  768.0   0.0 -220.00000   \n",
       "2          0.0  0.0  0.0  5.0  0.0   512.0  5888.0  768.0   0.0 -210.00000   \n",
       "3          0.0  0.0  0.0  5.0  0.0   768.0  5888.0  768.0   0.0 -200.00000   \n",
       "4          0.0  0.0  0.0  5.0  0.0  1024.0  5888.0  768.0   0.0 -190.00000   \n",
       "...        ...  ...  ...  ...  ...     ...     ...    ...   ...        ...   \n",
       "70240  17664.0  0.0  6.0  4.0  0.0  6036.0  5888.0  768.0  69.0    5.78125   \n",
       "70241  17664.0  0.0  6.0  4.0  0.0  6040.0  5888.0  768.0  69.0    5.93750   \n",
       "70242  17664.0  0.0  6.0  4.0  0.0  6044.0  5888.0  768.0  69.0    6.09375   \n",
       "70243  17664.0  0.0  6.0  4.0  0.0  6048.0  5888.0  768.0  69.0    6.25000   \n",
       "70244  17664.0  0.0  6.0  4.0  0.0  6052.0  5888.0  768.0  69.0    6.40625   \n",
       "\n",
       "         y    z             H  \n",
       "0      0.0  0.0 -8.299652e-10  \n",
       "1      0.0  0.0 -8.299652e-10  \n",
       "2      0.0  0.0 -8.299652e-10  \n",
       "3      0.0  0.0 -8.299652e-10  \n",
       "4      0.0  0.0 -9.211791e-10  \n",
       "...    ...  ...           ...  \n",
       "70240  0.0  0.0 -4.753934e-02  \n",
       "70241  0.0  0.0 -4.116361e-02  \n",
       "70242  0.0  0.0 -3.494065e-02  \n",
       "70243  0.0  0.0 -2.893913e-02  \n",
       "70244  0.0  0.0 -2.323888e-02  \n",
       "\n",
       "[70245 rows x 13 columns]"
      ]
     },
     "execution_count": 12,
     "metadata": {},
     "output_type": "execute_result"
    }
   ],
   "source": [
    "var_ascii.dataset"
   ]
  },
  {
   "cell_type": "code",
   "execution_count": 13,
   "metadata": {
    "ExecuteTime": {
     "end_time": "2020-01-26T02:36:22.306904Z",
     "start_time": "2020-01-26T02:36:21.316798Z"
    },
    "scrolled": true
   },
   "outputs": [
    {
     "name": "stdout",
     "output_type": "stream",
     "text": [
      "[0, 256, 512, 768, 1024, 1280, 1536, 1792, 2048, 2304, 2560, 2816, 3072, 3328, 3584, 3840, 4096, 4352, 4608, 4864, 5120, 5376, 5632, 5888, 6144, 6400, 6656, 6912, 7168, 7424, 7680, 7936, 8192, 8448, 8704, 8960, 9216, 9472, 9728, 9984, 10240, 10496, 10752, 11008, 11264, 11520, 11776, 12032, 12288, 12544, 12800, 13056, 13312, 13568, 13824, 14080, 14336, 14592, 14848, 15104, 15360, 15616, 15872, 16128, 16384, 16640, 16896, 17152, 17408, 17664]\n"
     ]
    }
   ],
   "source": [
    "print(var_ascii.it)"
   ]
  },
  {
   "cell_type": "code",
   "execution_count": 14,
   "metadata": {
    "ExecuteTime": {
     "end_time": "2020-01-26T02:36:24.331858Z",
     "start_time": "2020-01-26T02:36:22.308791Z"
    },
    "scrolled": true
   },
   "outputs": [
    {
     "name": "stdout",
     "output_type": "stream",
     "text": [
      "it\n",
      "0         0.0\n",
      "256       1.0\n",
      "512       2.0\n",
      "768       3.0\n",
      "1024      4.0\n",
      "         ... \n",
      "16640    65.0\n",
      "16896    66.0\n",
      "17152    67.0\n",
      "17408    68.0\n",
      "17664    69.0\n",
      "Length: 70, dtype: float64\n"
     ]
    }
   ],
   "source": [
    "print(var_ascii.time)"
   ]
  },
  {
   "cell_type": "markdown",
   "metadata": {},
   "source": [
    "### AMR grid"
   ]
  },
  {
   "cell_type": "code",
   "execution_count": 15,
   "metadata": {
    "ExecuteTime": {
     "end_time": "2020-01-26T02:36:26.332086Z",
     "start_time": "2020-01-26T02:36:24.334236Z"
    }
   },
   "outputs": [],
   "source": [
    "AMRgrid_temporary = var_ascii.temporary(it=0)"
   ]
  },
  {
   "cell_type": "code",
   "execution_count": 16,
   "metadata": {
    "ExecuteTime": {
     "end_time": "2020-01-26T02:36:26.345236Z",
     "start_time": "2020-01-26T02:36:26.334075Z"
    }
   },
   "outputs": [
    {
     "data": {
      "text/plain": [
       "{0: [5, 7, 9, 10, 12, 14],\n",
       " 1: [2, 7, 12, 17],\n",
       " 2: [2, 7, 12, 17],\n",
       " 3: [2, 7, 12, 17],\n",
       " 4: [2, 7, 12, 17],\n",
       " 5: [0, 2, 4, 6, 8, 10, 12, 14, 16, 18],\n",
       " 6: [0, 2, 4, 6, 9, 12, 15, 18]}"
      ]
     },
     "execution_count": 16,
     "metadata": {},
     "output_type": "execute_result"
    }
   ],
   "source": [
    "AMRgrid_temporary.hierarchy"
   ]
  },
  {
   "cell_type": "code",
   "execution_count": 17,
   "metadata": {
    "ExecuteTime": {
     "end_time": "2020-01-26T02:36:26.364329Z",
     "start_time": "2020-01-26T02:36:26.347023Z"
    }
   },
   "outputs": [
    {
     "data": {
      "text/plain": [
       "(array([-2.300000e+02, -2.200000e+02, -2.100000e+02, -2.000000e+02,\n",
       "        -1.900000e+02, -1.800000e+02, -1.700000e+02, -1.600000e+02,\n",
       "        -1.500000e+02, -1.400000e+02, -1.300000e+02, -1.200000e+02,\n",
       "        -1.100000e+02, -1.000000e+02, -9.000000e+01, -8.000000e+01,\n",
       "        -7.000000e+01, -6.000000e+01, -5.000000e+01, -4.000000e+01,\n",
       "        -3.000000e+01, -8.000000e+01, -7.000000e+01, -6.000000e+01,\n",
       "        -5.000000e+01, -4.000000e+01, -3.000000e+01, -2.000000e+01,\n",
       "        -1.000000e+01,  0.000000e+00,  1.000000e+01,  2.000000e+01,\n",
       "         3.000000e+01,  4.000000e+01,  5.000000e+01,  6.000000e+01,\n",
       "         7.000000e+01,  8.000000e+01,  9.000000e+01,  1.000000e+02,\n",
       "         1.100000e+02,  1.200000e+02,  1.300000e+02,  1.400000e+02,\n",
       "         1.500000e+02,  1.600000e+02,  1.100000e+02,  1.200000e+02,\n",
       "         1.300000e+02,  1.400000e+02,  1.500000e+02,  1.600000e+02,\n",
       "         1.700000e+02,  1.800000e+02,  1.900000e+02,  2.000000e+02,\n",
       "         2.100000e+02,  2.200000e+02, -2.300000e+02, -2.200000e+02,\n",
       "        -2.100000e+02, -2.000000e+02, -1.900000e+02, -1.800000e+02,\n",
       "        -1.700000e+02, -1.600000e+02, -1.500000e+02, -1.400000e+02,\n",
       "        -1.300000e+02, -1.200000e+02, -1.100000e+02, -1.000000e+02,\n",
       "        -9.000000e+01, -8.000000e+01, -7.000000e+01, -6.000000e+01,\n",
       "        -5.000000e+01, -4.000000e+01, -3.000000e+01, -8.000000e+01,\n",
       "        -7.000000e+01, -6.000000e+01, -5.000000e+01, -4.000000e+01,\n",
       "        -3.000000e+01, -2.000000e+01, -1.000000e+01,  0.000000e+00,\n",
       "         1.000000e+01,  2.000000e+01,  3.000000e+01,  4.000000e+01,\n",
       "         5.000000e+01,  6.000000e+01,  7.000000e+01,  8.000000e+01,\n",
       "         9.000000e+01,  1.000000e+02,  1.100000e+02,  1.200000e+02,\n",
       "         1.300000e+02,  1.400000e+02,  1.500000e+02,  1.600000e+02,\n",
       "         1.100000e+02,  1.200000e+02,  1.300000e+02,  1.400000e+02,\n",
       "         1.500000e+02,  1.600000e+02,  1.700000e+02,  1.800000e+02,\n",
       "         1.900000e+02,  2.000000e+02,  2.100000e+02,  2.200000e+02,\n",
       "        -1.850000e+02, -1.800000e+02, -1.750000e+02, -1.700000e+02,\n",
       "        -1.650000e+02, -1.600000e+02, -1.550000e+02, -1.500000e+02,\n",
       "        -1.450000e+02, -1.400000e+02, -1.350000e+02, -1.300000e+02,\n",
       "        -1.250000e+02, -1.200000e+02, -1.150000e+02, -1.100000e+02,\n",
       "        -1.050000e+02, -1.000000e+02, -9.500000e+01, -9.000000e+01,\n",
       "        -8.500000e+01, -8.000000e+01, -7.500000e+01, -1.000000e+02,\n",
       "        -9.500000e+01, -9.000000e+01, -8.500000e+01, -8.000000e+01,\n",
       "        -7.500000e+01, -7.000000e+01, -6.500000e+01, -6.000000e+01,\n",
       "        -5.500000e+01, -5.000000e+01, -4.500000e+01, -4.000000e+01,\n",
       "        -3.500000e+01, -3.000000e+01, -2.500000e+01, -2.000000e+01,\n",
       "        -1.500000e+01, -1.000000e+01, -5.000000e+00,  0.000000e+00,\n",
       "         5.000000e+00,  1.000000e+01, -1.500000e+01, -1.000000e+01,\n",
       "        -5.000000e+00,  0.000000e+00,  5.000000e+00,  1.000000e+01,\n",
       "         1.500000e+01,  2.000000e+01,  2.500000e+01,  3.000000e+01,\n",
       "         3.500000e+01,  4.000000e+01,  4.500000e+01,  5.000000e+01,\n",
       "         5.500000e+01,  6.000000e+01,  6.500000e+01,  7.000000e+01,\n",
       "         7.500000e+01,  8.000000e+01,  8.500000e+01,  9.000000e+01,\n",
       "         9.500000e+01,  1.000000e+02,  7.500000e+01,  8.000000e+01,\n",
       "         8.500000e+01,  9.000000e+01,  9.500000e+01,  1.000000e+02,\n",
       "         1.050000e+02,  1.100000e+02,  1.150000e+02,  1.200000e+02,\n",
       "         1.250000e+02,  1.300000e+02,  1.350000e+02,  1.400000e+02,\n",
       "         1.450000e+02,  1.500000e+02,  1.550000e+02,  1.600000e+02,\n",
       "         1.650000e+02,  1.700000e+02,  1.750000e+02,  1.800000e+02,\n",
       "         1.850000e+02, -9.500000e+01, -9.250000e+01, -9.000000e+01,\n",
       "        -8.750000e+01, -8.500000e+01, -8.250000e+01, -8.000000e+01,\n",
       "        -7.750000e+01, -7.500000e+01, -7.250000e+01, -7.000000e+01,\n",
       "        -6.750000e+01, -6.500000e+01, -6.250000e+01, -6.000000e+01,\n",
       "        -5.750000e+01, -5.500000e+01, -5.250000e+01, -5.000000e+01,\n",
       "        -4.750000e+01, -4.500000e+01, -4.250000e+01, -4.000000e+01,\n",
       "        -3.750000e+01, -5.000000e+01, -4.750000e+01, -4.500000e+01,\n",
       "        -4.250000e+01, -4.000000e+01, -3.750000e+01, -3.500000e+01,\n",
       "        -3.250000e+01, -3.000000e+01, -2.750000e+01, -2.500000e+01,\n",
       "        -2.250000e+01, -2.000000e+01, -1.750000e+01, -1.500000e+01,\n",
       "        -1.250000e+01, -1.000000e+01, -7.500000e+00, -5.000000e+00,\n",
       "        -2.500000e+00,  0.000000e+00,  2.500000e+00,  5.000000e+00,\n",
       "         7.500000e+00, -5.000000e+00, -2.500000e+00,  0.000000e+00,\n",
       "         2.500000e+00,  5.000000e+00,  7.500000e+00,  1.000000e+01,\n",
       "         1.250000e+01,  1.500000e+01,  1.750000e+01,  2.000000e+01,\n",
       "         2.250000e+01,  2.500000e+01,  2.750000e+01,  3.000000e+01,\n",
       "         3.250000e+01,  3.500000e+01,  3.750000e+01,  4.000000e+01,\n",
       "         4.250000e+01,  4.500000e+01,  4.750000e+01,  5.000000e+01,\n",
       "         5.250000e+01,  4.000000e+01,  4.250000e+01,  4.500000e+01,\n",
       "         4.750000e+01,  5.000000e+01,  5.250000e+01,  5.500000e+01,\n",
       "         5.750000e+01,  6.000000e+01,  6.250000e+01,  6.500000e+01,\n",
       "         6.750000e+01,  7.000000e+01,  7.250000e+01,  7.500000e+01,\n",
       "         7.750000e+01,  8.000000e+01,  8.250000e+01,  8.500000e+01,\n",
       "         8.750000e+01,  9.000000e+01,  9.250000e+01,  9.500000e+01,\n",
       "        -5.000000e+01, -4.875000e+01, -4.750000e+01, -4.625000e+01,\n",
       "        -4.500000e+01, -4.375000e+01, -4.250000e+01, -4.125000e+01,\n",
       "        -4.000000e+01, -3.875000e+01, -3.750000e+01, -3.625000e+01,\n",
       "        -3.500000e+01, -3.375000e+01, -3.250000e+01, -3.125000e+01,\n",
       "        -3.000000e+01, -2.875000e+01, -2.750000e+01, -2.625000e+01,\n",
       "        -2.500000e+01, -2.375000e+01, -2.250000e+01, -2.125000e+01,\n",
       "        -2.000000e+01, -2.625000e+01, -2.500000e+01, -2.375000e+01,\n",
       "        -2.250000e+01, -2.125000e+01, -2.000000e+01, -1.875000e+01,\n",
       "        -1.750000e+01, -1.625000e+01, -1.500000e+01, -1.375000e+01,\n",
       "        -1.250000e+01, -1.125000e+01, -1.000000e+01, -8.750000e+00,\n",
       "        -7.500000e+00, -6.250000e+00, -5.000000e+00, -3.750000e+00,\n",
       "        -2.500000e+00, -1.250000e+00,  0.000000e+00,  1.250000e+00,\n",
       "         2.500000e+00,  3.750000e+00, -2.500000e+00, -1.250000e+00,\n",
       "         0.000000e+00,  1.250000e+00,  2.500000e+00,  3.750000e+00,\n",
       "         5.000000e+00,  6.250000e+00,  7.500000e+00,  8.750000e+00,\n",
       "         1.000000e+01,  1.125000e+01,  1.250000e+01,  1.375000e+01,\n",
       "         1.500000e+01,  1.625000e+01,  1.750000e+01,  1.875000e+01,\n",
       "         2.000000e+01,  2.125000e+01,  2.250000e+01,  2.375000e+01,\n",
       "         2.500000e+01,  2.625000e+01,  2.750000e+01,  2.125000e+01,\n",
       "         2.250000e+01,  2.375000e+01,  2.500000e+01,  2.625000e+01,\n",
       "         2.750000e+01,  2.875000e+01,  3.000000e+01,  3.125000e+01,\n",
       "         3.250000e+01,  3.375000e+01,  3.500000e+01,  3.625000e+01,\n",
       "         3.750000e+01,  3.875000e+01,  4.000000e+01,  4.125000e+01,\n",
       "         4.250000e+01,  4.375000e+01,  4.500000e+01,  4.625000e+01,\n",
       "         4.750000e+01,  4.875000e+01,  5.000000e+01, -2.750000e+01,\n",
       "        -2.687500e+01, -2.625000e+01, -2.562500e+01, -2.500000e+01,\n",
       "        -2.437500e+01, -2.375000e+01, -2.312500e+01, -2.250000e+01,\n",
       "        -2.187500e+01, -2.125000e+01, -2.062500e+01, -2.000000e+01,\n",
       "        -1.937500e+01, -1.875000e+01, -1.812500e+01, -1.750000e+01,\n",
       "        -1.687500e+01, -1.625000e+01, -1.562500e+01, -1.500000e+01,\n",
       "        -1.437500e+01, -1.375000e+01, -1.312500e+01, -1.250000e+01,\n",
       "        -1.187500e+01, -1.125000e+01, -1.437500e+01, -1.375000e+01,\n",
       "        -1.312500e+01, -1.250000e+01, -1.187500e+01, -1.125000e+01,\n",
       "        -1.062500e+01, -1.000000e+01, -9.375000e+00, -8.750000e+00,\n",
       "        -8.125000e+00, -7.500000e+00, -6.875000e+00, -6.250000e+00,\n",
       "        -5.625000e+00, -5.000000e+00, -4.375000e+00, -3.750000e+00,\n",
       "        -3.125000e+00, -2.500000e+00, -1.875000e+00, -1.250000e+00,\n",
       "        -6.250000e-01,  0.000000e+00,  6.250000e-01,  1.250000e+00,\n",
       "        -1.875000e+00, -1.250000e+00, -6.250000e-01,  0.000000e+00,\n",
       "         6.250000e-01,  1.250000e+00,  1.875000e+00,  2.500000e+00,\n",
       "         3.125000e+00,  3.750000e+00,  4.375000e+00,  5.000000e+00,\n",
       "         5.625000e+00,  6.250000e+00,  6.875000e+00,  7.500000e+00,\n",
       "         8.125000e+00,  8.750000e+00,  9.375000e+00,  1.000000e+01,\n",
       "         1.062500e+01,  1.125000e+01,  1.187500e+01,  1.250000e+01,\n",
       "         1.312500e+01,  1.375000e+01,  1.437500e+01,  1.125000e+01,\n",
       "         1.187500e+01,  1.250000e+01,  1.312500e+01,  1.375000e+01,\n",
       "         1.437500e+01,  1.500000e+01,  1.562500e+01,  1.625000e+01,\n",
       "         1.687500e+01,  1.750000e+01,  1.812500e+01,  1.875000e+01,\n",
       "         1.937500e+01,  2.000000e+01,  2.062500e+01,  2.125000e+01,\n",
       "         2.187500e+01,  2.250000e+01,  2.312500e+01,  2.375000e+01,\n",
       "         2.437500e+01,  2.500000e+01,  2.562500e+01,  2.625000e+01,\n",
       "         2.687500e+01, -1.625000e+01, -1.593750e+01, -1.562500e+01,\n",
       "        -1.531250e+01, -1.500000e+01, -1.468750e+01, -1.437500e+01,\n",
       "        -1.406250e+01, -1.375000e+01, -1.343750e+01, -1.312500e+01,\n",
       "        -1.281250e+01, -1.250000e+01, -1.218750e+01, -1.187500e+01,\n",
       "        -1.156250e+01, -1.125000e+01, -1.093750e+01, -1.062500e+01,\n",
       "        -1.031250e+01, -1.000000e+01, -9.687500e+00, -9.375000e+00,\n",
       "        -9.062500e+00, -8.750000e+00, -1.625000e+01, -1.593750e+01,\n",
       "        -1.562500e+01, -1.531250e+01, -1.500000e+01, -1.468750e+01,\n",
       "        -1.437500e+01, -1.406250e+01, -1.375000e+01, -1.343750e+01,\n",
       "        -1.312500e+01, -1.281250e+01, -1.250000e+01, -1.218750e+01,\n",
       "        -1.187500e+01, -1.156250e+01, -1.125000e+01, -1.093750e+01,\n",
       "        -1.062500e+01, -1.031250e+01, -1.000000e+01, -9.687500e+00,\n",
       "        -9.375000e+00, -9.062500e+00, -8.750000e+00, -1.031250e+01,\n",
       "        -1.000000e+01, -9.687500e+00, -9.375000e+00, -9.062500e+00,\n",
       "        -8.750000e+00, -8.437500e+00, -8.125000e+00, -7.812500e+00,\n",
       "        -7.500000e+00, -7.187500e+00, -6.875000e+00, -6.562500e+00,\n",
       "        -6.250000e+00, -5.937500e+00, -5.625000e+00, -5.312500e+00,\n",
       "        -5.000000e+00, -4.687500e+00, -4.375000e+00, -4.062500e+00,\n",
       "        -3.750000e+00, -3.437500e+00, -3.125000e+00, -2.812500e+00,\n",
       "        -1.031250e+01, -1.000000e+01, -9.687500e+00, -9.375000e+00,\n",
       "        -9.062500e+00, -8.750000e+00, -8.437500e+00, -8.125000e+00,\n",
       "        -7.812500e+00, -7.500000e+00, -7.187500e+00, -6.875000e+00,\n",
       "        -6.562500e+00, -6.250000e+00, -5.937500e+00, -5.625000e+00,\n",
       "        -5.312500e+00, -5.000000e+00, -4.687500e+00, -4.375000e+00,\n",
       "        -4.062500e+00, -3.750000e+00, -3.437500e+00, -3.125000e+00,\n",
       "        -2.812500e+00, -4.375000e+00, -4.062500e+00, -3.750000e+00,\n",
       "        -3.437500e+00, -3.125000e+00, -2.812500e+00, -2.500000e+00,\n",
       "        -2.187500e+00, -1.875000e+00, -1.562500e+00, -1.250000e+00,\n",
       "        -9.375000e-01, -6.250000e-01, -3.125000e-01,  0.000000e+00,\n",
       "         3.125000e-01,  6.250000e-01,  9.375000e-01,  1.250000e+00,\n",
       "         1.562500e+00,  1.875000e+00,  2.187500e+00,  2.500000e+00,\n",
       "         2.812500e+00,  3.125000e+00, -4.375000e+00, -4.062500e+00,\n",
       "        -3.750000e+00, -3.437500e+00, -3.125000e+00, -2.812500e+00,\n",
       "        -2.500000e+00, -2.187500e+00, -1.875000e+00, -1.562500e+00,\n",
       "        -1.250000e+00, -9.375000e-01, -6.250000e-01, -3.125000e-01,\n",
       "         0.000000e+00,  3.125000e-01,  6.250000e-01,  9.375000e-01,\n",
       "         1.250000e+00,  1.562500e+00,  1.875000e+00,  2.187500e+00,\n",
       "         2.500000e+00,  2.812500e+00,  3.125000e+00,  1.562500e+00,\n",
       "         1.875000e+00,  2.187500e+00,  2.500000e+00,  2.812500e+00,\n",
       "         3.125000e+00,  3.437500e+00,  3.750000e+00,  4.062500e+00,\n",
       "         4.375000e+00,  4.687500e+00,  5.000000e+00,  5.312500e+00,\n",
       "         5.625000e+00,  5.937500e+00,  6.250000e+00,  6.562500e+00,\n",
       "         6.875000e+00,  7.187500e+00,  7.500000e+00,  7.812500e+00,\n",
       "         8.125000e+00,  8.437500e+00,  8.750000e+00,  9.062500e+00,\n",
       "         9.375000e+00,  1.562500e+00,  1.875000e+00,  2.187500e+00,\n",
       "         2.500000e+00,  2.812500e+00,  3.125000e+00,  3.437500e+00,\n",
       "         3.750000e+00,  4.062500e+00,  4.375000e+00,  4.687500e+00,\n",
       "         5.000000e+00,  5.312500e+00,  5.625000e+00,  5.937500e+00,\n",
       "         6.250000e+00,  6.562500e+00,  6.875000e+00,  7.187500e+00,\n",
       "         7.500000e+00,  7.812500e+00,  8.125000e+00,  8.437500e+00,\n",
       "         8.750000e+00,  9.062500e+00,  9.375000e+00,  7.812500e+00,\n",
       "         8.125000e+00,  8.437500e+00,  8.750000e+00,  9.062500e+00,\n",
       "         9.375000e+00,  9.687500e+00,  1.000000e+01,  1.031250e+01,\n",
       "         1.062500e+01,  1.093750e+01,  1.125000e+01,  1.156250e+01,\n",
       "         1.187500e+01,  1.218750e+01,  1.250000e+01,  1.281250e+01,\n",
       "         1.312500e+01,  1.343750e+01,  1.375000e+01,  1.406250e+01,\n",
       "         1.437500e+01,  1.468750e+01,  1.500000e+01,  1.531250e+01,\n",
       "         7.812500e+00,  8.125000e+00,  8.437500e+00,  8.750000e+00,\n",
       "         9.062500e+00,  9.375000e+00,  9.687500e+00,  1.000000e+01,\n",
       "         1.031250e+01,  1.062500e+01,  1.093750e+01,  1.125000e+01,\n",
       "         1.156250e+01,  1.187500e+01,  1.218750e+01,  1.250000e+01,\n",
       "         1.281250e+01,  1.312500e+01,  1.343750e+01,  1.375000e+01,\n",
       "         1.406250e+01,  1.437500e+01,  1.468750e+01,  1.500000e+01,\n",
       "         1.531250e+01, -1.046875e+01, -1.031250e+01, -1.015625e+01,\n",
       "        -1.000000e+01, -9.843750e+00, -9.687500e+00, -9.531250e+00,\n",
       "        -9.375000e+00, -9.218750e+00, -9.062500e+00, -8.906250e+00,\n",
       "        -8.750000e+00, -8.593750e+00, -8.437500e+00, -8.281250e+00,\n",
       "        -8.125000e+00, -7.968750e+00, -7.812500e+00, -7.656250e+00,\n",
       "        -7.500000e+00, -7.343750e+00, -7.187500e+00, -7.031250e+00,\n",
       "        -6.875000e+00, -6.718750e+00, -6.562500e+00, -6.406250e+00,\n",
       "        -6.250000e+00, -6.093750e+00, -5.937500e+00, -5.781250e+00,\n",
       "        -1.046875e+01, -1.031250e+01, -1.015625e+01, -1.000000e+01,\n",
       "        -9.843750e+00, -9.687500e+00, -9.531250e+00, -9.375000e+00,\n",
       "        -9.218750e+00, -9.062500e+00, -8.906250e+00, -8.750000e+00,\n",
       "        -8.593750e+00, -8.437500e+00, -8.281250e+00, -8.125000e+00,\n",
       "        -7.968750e+00, -7.812500e+00, -7.656250e+00, -7.500000e+00,\n",
       "        -7.343750e+00, -7.187500e+00, -7.031250e+00, -6.875000e+00,\n",
       "        -6.718750e+00, -6.562500e+00, -6.406250e+00, -6.250000e+00,\n",
       "        -6.093750e+00, -5.937500e+00, -5.781250e+00, -6.562500e+00,\n",
       "        -6.406250e+00, -6.250000e+00, -6.093750e+00, -5.937500e+00,\n",
       "        -5.781250e+00, -5.625000e+00, -5.468750e+00, -5.312500e+00,\n",
       "        -5.156250e+00, -5.000000e+00, -4.843750e+00, -4.687500e+00,\n",
       "        -4.531250e+00, -4.375000e+00, -4.218750e+00, -4.062500e+00,\n",
       "        -3.906250e+00, -3.750000e+00, -3.593750e+00, -3.437500e+00,\n",
       "        -3.281250e+00, -3.125000e+00, -2.968750e+00, -2.812500e+00,\n",
       "        -2.656250e+00, -2.500000e+00, -2.343750e+00, -2.187500e+00,\n",
       "        -2.031250e+00, -1.875000e+00, -6.562500e+00, -6.406250e+00,\n",
       "        -6.250000e+00, -6.093750e+00, -5.937500e+00, -5.781250e+00,\n",
       "        -5.625000e+00, -5.468750e+00, -5.312500e+00, -5.156250e+00,\n",
       "        -5.000000e+00, -4.843750e+00, -4.687500e+00, -4.531250e+00,\n",
       "        -4.375000e+00, -4.218750e+00, -4.062500e+00, -3.906250e+00,\n",
       "        -3.750000e+00, -3.593750e+00, -3.437500e+00, -3.281250e+00,\n",
       "        -3.125000e+00, -2.968750e+00, -2.812500e+00, -2.656250e+00,\n",
       "        -2.500000e+00, -2.343750e+00, -2.187500e+00, -2.031250e+00,\n",
       "        -1.875000e+00, -2.656250e+00, -2.500000e+00, -2.343750e+00,\n",
       "        -2.187500e+00, -2.031250e+00, -1.875000e+00, -1.718750e+00,\n",
       "        -1.562500e+00, -1.406250e+00, -1.250000e+00, -1.093750e+00,\n",
       "        -9.375000e-01, -7.812500e-01, -6.250000e-01, -4.687500e-01,\n",
       "        -3.125000e-01, -1.562500e-01,  0.000000e+00,  1.562500e-01,\n",
       "         3.125000e-01,  4.687500e-01,  6.250000e-01,  7.812500e-01,\n",
       "         9.375000e-01,  1.562500e-01,  3.125000e-01,  4.687500e-01,\n",
       "         6.250000e-01,  7.812500e-01,  9.375000e-01,  1.093750e+00,\n",
       "         1.250000e+00,  1.406250e+00,  1.562500e+00,  1.718750e+00,\n",
       "         1.875000e+00,  2.031250e+00,  2.187500e+00,  2.343750e+00,\n",
       "         2.500000e+00,  2.656250e+00,  2.812500e+00,  2.968750e+00,\n",
       "         3.125000e+00,  3.281250e+00,  3.437500e+00,  3.593750e+00,\n",
       "         3.750000e+00,  2.968750e+00,  3.125000e+00,  3.281250e+00,\n",
       "         3.437500e+00,  3.593750e+00,  3.750000e+00,  3.906250e+00,\n",
       "         4.062500e+00,  4.218750e+00,  4.375000e+00,  4.531250e+00,\n",
       "         4.687500e+00,  4.843750e+00,  5.000000e+00,  5.156250e+00,\n",
       "         5.312500e+00,  5.468750e+00,  5.625000e+00,  5.781250e+00,\n",
       "         5.937500e+00,  6.093750e+00,  6.250000e+00,  6.406250e+00,\n",
       "         6.562500e+00,  6.718750e+00,  5.937500e+00,  6.093750e+00,\n",
       "         6.250000e+00,  6.406250e+00,  6.562500e+00,  6.718750e+00,\n",
       "         6.875000e+00,  7.031250e+00,  7.187500e+00,  7.343750e+00,\n",
       "         7.500000e+00,  7.656250e+00,  7.812500e+00,  7.968750e+00,\n",
       "         8.125000e+00,  8.281250e+00,  8.437500e+00,  8.593750e+00,\n",
       "         8.750000e+00,  8.906250e+00,  9.062500e+00,  9.218750e+00,\n",
       "         9.375000e+00,  9.531250e+00]),)"
      ]
     },
     "execution_count": 17,
     "metadata": {},
     "output_type": "execute_result"
    }
   ],
   "source": [
    "coords = AMRgrid_temporary.coords()\n",
    "coords"
   ]
  },
  {
   "cell_type": "code",
   "execution_count": 25,
   "metadata": {
    "ExecuteTime": {
     "end_time": "2020-01-26T02:38:19.016747Z",
     "start_time": "2020-01-26T02:38:18.828658Z"
    }
   },
   "outputs": [
    {
     "data": {
      "image/png": "[encoded data removed]",
      "text/plain": [
       "<Figure size 432x288 with 1 Axes>"
      ]
     },
     "metadata": {
      "needs_background": "light"
     },
     "output_type": "display_data"
    }
   ],
   "source": [
    "import matplotlib.pyplot as plt\n",
    "\n",
    "f = AMRgrid_temporary.interpolate(coords)\n",
    "fig, ax = plt.subplots()\n",
    "ax.plot(coords[0], f, '.')\n",
    "plt.show()"
   ]
  },
  {
   "cell_type": "markdown",
   "metadata": {},
   "source": [
    "## CarpetIOHDF5"
   ]
  },
  {
   "cell_type": "code",
   "execution_count": 19,
   "metadata": {
    "ExecuteTime": {
     "end_time": "2020-01-26T02:36:27.721784Z",
     "start_time": "2020-01-26T02:36:26.547658Z"
    }
   },
   "outputs": [
    {
     "name": "stdout",
     "output_type": "stream",
     "text": [
      "Available dimension: ['xy', 'xz', 'yz']\n",
      "All available dimensions:\n",
      "------------\n",
      "Available grid function with x dimension:\n",
      "['H', 'gxx', 'gxy', 'gxz', 'gyy', 'gyz', 'gzz', 'M1', 'M2', 'M3']\n",
      "Available grid function with y dimension:\n",
      "['H', 'gxx', 'gxy', 'gxz', 'gyy', 'gyz', 'gzz', 'M1', 'M2', 'M3']\n",
      "Available grid function with z dimension:\n",
      "['H', 'gxx', 'gxy', 'gxz', 'gyy', 'gyz', 'gzz', 'M1', 'M2', 'M3']\n",
      "\n"
     ]
    }
   ],
   "source": [
    "ds_hdf5 = CarpetIOHDF5(files)\n",
    "print(\"Available dimension:\", ds_hdf5.available_dims)\n",
    "print(\"All available dimensions:\\n------------\")\n",
    "print(ds_ascii)"
   ]
  },
  {
   "cell_type": "markdown",
   "metadata": {},
   "source": [
    "Then specify variables and their corresponding dim.\n",
    "\n",
    "**Note: When specify variable name, we just simple filter it by use string `in` method in python.** So you can specify a vector or tensor like following."
   ]
  },
  {
   "cell_type": "code",
   "execution_count": 20,
   "metadata": {
    "ExecuteTime": {
     "end_time": "2020-01-26T02:36:27.919166Z",
     "start_time": "2020-01-26T02:36:27.723912Z"
    }
   },
   "outputs": [],
   "source": [
    "var_hdf5 = ds_hdf5.xy['H']"
   ]
  },
  {
   "cell_type": "markdown",
   "metadata": {
    "ExecuteTime": {
     "end_time": "2020-01-21T08:50:16.187751Z",
     "start_time": "2020-01-21T08:50:16.181120Z"
    }
   },
   "source": [
    "### header"
   ]
  },
  {
   "cell_type": "code",
   "execution_count": 21,
   "metadata": {
    "ExecuteTime": {
     "end_time": "2020-01-26T02:36:28.011592Z",
     "start_time": "2020-01-26T02:36:27.921657Z"
    }
   },
   "outputs": [
    {
     "name": "stdout",
     "output_type": "stream",
     "text": [
      "None\n"
     ]
    }
   ],
   "source": [
    "print(var_hdf5.it)"
   ]
  },
  {
   "cell_type": "code",
   "execution_count": 22,
   "metadata": {
    "ExecuteTime": {
     "end_time": "2020-01-26T02:36:28.016058Z",
     "start_time": "2020-01-26T02:36:28.013437Z"
    }
   },
   "outputs": [],
   "source": [
    "# var_hdf5.t"
   ]
  },
  {
   "cell_type": "code",
   "execution_count": 23,
   "metadata": {
    "ExecuteTime": {
     "end_time": "2020-01-26T02:36:28.043825Z",
     "start_time": "2020-01-26T02:36:28.022617Z"
    }
   },
   "outputs": [],
   "source": [
    "from scipy import ndimage\n"
   ]
  },
  {
   "cell_type": "code",
   "execution_count": null,
   "metadata": {},
   "outputs": [],
   "source": []
  }
 ],
 "metadata": {
  "kernelspec": {
   "display_name": "Python 3",
   "language": "python",
   "name": "python3"
  },
  "language_info": {
   "codemirror_mode": {
    "name": "ipython",
    "version": 3
   },
   "file_extension": ".py",
   "mimetype": "text/x-python",
   "name": "python",
   "nbconvert_exporter": "python",
   "pygments_lexer": "ipython3",
   "version": "3.7.4"
  },
  "nbTranslate": {
   "displayLangs": [
    "*"
   ],
   "hotkey": "alt-t",
   "langInMainMenu": true,
   "sourceLang": "en",
   "targetLang": "fr",
   "useGoogleTranslate": true
  },
  "toc": {
   "base_numbering": 1,
   "nav_menu": {},
   "number_sections": true,
   "sideBar": true,
   "skip_h1_title": false,
   "title_cell": "Table of Contents",
   "title_sidebar": "Contents",
   "toc_cell": false,
   "toc_position": {},
   "toc_section_display": true,
   "toc_window_display": false
  },
  "varInspector": {
   "cols": {
    "lenName": 16,
    "lenType": 16,
    "lenVar": 40
   },
   "kernels_config": {
    "python": {
     "delete_cmd_postfix": "",
     "delete_cmd_prefix": "del ",
     "library": "var_list.py",
     "varRefreshCmd": "print(var_dic_list())"
    },
    "r": {
     "delete_cmd_postfix": ") ",
     "delete_cmd_prefix": "rm(",
     "library": "var_list.r",
     "varRefreshCmd": "cat(var_dic_list()) "
    }
   },
   "position": {
    "height": "281px",
    "left": "299.4821472167969px",
    "right": "20px",
    "top": "94.00000762939453px",
    "width": "409px"
   },
   "types_to_exclude": [
    "module",
    "function",
    "builtin_function_or_method",
    "instance",
    "_Feature"
   ],
   "window_display": false
  }
 },
 "nbformat": 4,
 "nbformat_minor": 2
}
