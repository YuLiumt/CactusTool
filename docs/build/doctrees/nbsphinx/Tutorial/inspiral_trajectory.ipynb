{
 "cells": [
  {
   "cell_type": "code",
   "execution_count": 1,
   "metadata": {},
   "outputs": [],
   "source": [
    "import CactusTool\n",
    "\n",
    "name = 'HMNS_long'\n",
    "sim = CactusTool.load(name)"
   ]
  },
  {
   "cell_type": "code",
   "execution_count": 2,
   "metadata": {},
   "outputs": [
    {
     "data": {
      "application/vnd.jupyter.widget-view+json": {
       "model_id": "f5e043b5b092433687939658a5f28620",
       "version_major": 2,
       "version_minor": 0
      },
      "text/plain": [
       "VBox(children=(Label(value='VolumeIntegrals_GRMHD:'), IntRangeSlider(value=(0, 2880), continuous_update=False,…"
      ]
     },
     "metadata": {},
     "output_type": "display_data"
    }
   ],
   "source": [
    "%matplotlib inline\n",
    "import ipywidgets as widgets\n",
    "from ipywidgets import interactive_output, HBox, VBox\n",
    "\n",
    "CoM = sim.Analysis('VolumeIntegrals_GRMHD')\n",
    "\n",
    "chapter = widgets.Label(value='VolumeIntegrals_GRMHD:')\n",
    "n = len(CoM.t)-1\n",
    "t_item = widgets.IntRangeSlider(value=[0, n], min=0, max=n, step=1, description='Time Range:', continuous_update=False)\n",
    "axis_item = widgets.Checkbox(value=False, description='axis')\n",
    "view_angle_item = widgets.Text(value='(90, 90)', description='view_angle:')\n",
    "axlim_item = widgets.FloatText(value=40.0, description='axlim:', continuous_update=False)\n",
    "\n",
    "def show(t, axis, axlim, view_angle):\n",
    "    CoM.Preview(tstart=t[0], tend=t[1], view_angle=eval(view_angle), axis=axis, axlim=(-axlim, axlim))\n",
    "    \n",
    "output = interactive_output(show, \n",
    "                            {\n",
    "                                't': t_item,\n",
    "                                'axis': axis_item,\n",
    "                                'view_angle': view_angle_item,\n",
    "                                'axlim': axlim_item,\n",
    "                            })    \n",
    "    \n",
    "VBox([\n",
    "    chapter,\n",
    "    t_item,\n",
    "    HBox([\n",
    "        view_angle_item,\n",
    "        axlim_item,\n",
    "        axis_item,\n",
    "    ]),\n",
    "    output,\n",
    "])"
   ]
  },
  {
   "cell_type": "code",
   "execution_count": 3,
   "metadata": {},
   "outputs": [
    {
     "name": "stdout",
     "output_type": "stream",
     "text": [
      "Absolute abscidia of star_1: -18.668049654576908 [M] or -27.56570953151125 [km]\n",
      "Absolute abscidia of star_2: 21.953752270922433 [M] or 32.417460282393854 [km]\n"
     ]
    }
   ],
   "source": [
    "\"\"\"\n",
    "Lorene output\n",
    "Coordinate separation between the two stellar centers : 60.0000000000000 km\n",
    "   \n",
    "Star 1 : \n",
    "\n",
    "* Baryon mass :        1.5841503289824 M_sol\n",
    "* Gravitational mass : 1.4430155414391 M_sol\n",
    "* Absolute abscidia of the stellar center: -27.5723075487168 km\n",
    "* Absolute abscidia of the barycenter of the baryon density : -27.5668619132369 km\n",
    "\n",
    "Star 2 : \n",
    "\n",
    "* Baryon mass :        1.3288461197984 M_sol\n",
    "* Gravitational mass : 1.2277390388913 M_sol\n",
    "* Absolute abscidia of the stellar center: 32.4276924512832 km\n",
    "* Absolute abscidia of the barycenter of the baryon density : 32.4188190295015 km\n",
    "\"\"\"\n",
    "\n",
    "from CactusTool import Units\n",
    "\n",
    "CoM = sim.Analysis('VolumeIntegrals_GRMHD')\n",
    "print(\"Absolute abscidia of star_1: {} [M] or {} [km]\".format(CoM.x1[0], CoM.x1[0]*Units('km')))\n",
    "print(\"Absolute abscidia of star_2: {} [M] or {} [km]\".format(CoM.x2[0], CoM.x2[0]*Units('km')))"
   ]
  },
  {
   "cell_type": "code",
   "execution_count": null,
   "metadata": {},
   "outputs": [],
   "source": []
  }
 ],
 "metadata": {
  "kernelspec": {
   "display_name": "Python 3",
   "language": "python",
   "name": "python3"
  },
  "language_info": {
   "codemirror_mode": {
    "name": "ipython",
    "version": 3
   },
   "file_extension": ".py",
   "mimetype": "text/x-python",
   "name": "python",
   "nbconvert_exporter": "python",
   "pygments_lexer": "ipython3",
   "version": "3.7.3"
  }
 },
 "nbformat": 4,
 "nbformat_minor": 2
}
