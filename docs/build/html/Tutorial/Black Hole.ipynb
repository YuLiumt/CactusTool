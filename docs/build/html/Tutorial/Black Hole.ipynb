{
 "cells": [
  {
   "cell_type": "markdown",
   "metadata": {},
   "source": [
    "## Black Hole"
   ]
  },
  {
   "cell_type": "markdown",
   "metadata": {},
   "source": [
    "## inspiral_trajectory"
   ]
  },
  {
   "cell_type": "code",
   "execution_count": 6,
   "metadata": {
    "scrolled": false
   },
   "outputs": [
    {
     "data": {
      "application/vnd.jupyter.widget-view+json": {
       "model_id": "dff77aa38838480e9eeb7eda9ba38988",
       "version_major": 2,
       "version_minor": 0
      },
      "text/plain": [
       "VBox(children=(Label(value='PunctureTracker:'), IntRangeSlider(value=(0, 177), continuous_update=False, descri…"
      ]
     },
     "metadata": {},
     "output_type": "display_data"
    }
   ],
   "source": [
    "%matplotlib inline\n",
    "import ipywidgets as widgets\n",
    "from ipywidgets import interactive_output, HBox, VBox\n",
    "import CactusTool\n",
    "\n",
    "name = 'BBH003'\n",
    "sim = CactusTool.load(name, '/Users/liuyu/Desktop/Remote')\n",
    "# name = 'BBH001'\n",
    "# sim = CactusTool.load(name, '/Volumes/simulations', output=['output-0000', 'output-0003', 'output-0004'])\n",
    "# name = 'GW150914_28'\n",
    "# sim = CactusTool.load(name, '/Volumes/simulations')\n",
    "BH = sim.Analysis('PunctureTracker')\n",
    "\n",
    "chapter = widgets.Label(value='PunctureTracker:')\n",
    "n = len(BH.t)-1\n",
    "t_item = widgets.IntRangeSlider(value=[0, n], min=0, max=n, step=1, description='Time Range:', continuous_update=False)\n",
    "grid_item = widgets.Checkbox(value=True, description='grid')\n",
    "view_angle_item = widgets.Text(value='(90, 90)', description='view_angle:')\n",
    "axlim_item = widgets.FloatText(value=20.0, description='axlim:', continuous_update=False)\n",
    "\n",
    "def show(t, grid, axlim, view_angle):\n",
    "    BH.Preview(tstart=t[0], tend=t[1], view_angle=eval(view_angle), grid=grid, axlim=(-axlim, axlim))\n",
    "    \n",
    "    \n",
    "output = interactive_output(show, \n",
    "                            {\n",
    "                                't': t_item,\n",
    "                                'grid': grid_item,\n",
    "                                'view_angle': view_angle_item,\n",
    "                                'axlim': axlim_item,\n",
    "                            })    \n",
    "    \n",
    "VBox([\n",
    "    chapter,\n",
    "    t_item,\n",
    "    HBox([\n",
    "        view_angle_item,\n",
    "        axlim_item,\n",
    "        grid_item,\n",
    "    ]),\n",
    "    output,\n",
    "])"
   ]
  },
  {
   "cell_type": "markdown",
   "metadata": {},
   "source": [
    "## Eccentricity"
   ]
  },
  {
   "cell_type": "code",
   "execution_count": 2,
   "metadata": {},
   "outputs": [
    {
     "ename": "AssertionError",
     "evalue": "simulation name 'BBH001' not in your '/Volumes/simulations'.",
     "output_type": "error",
     "traceback": [
      "\u001b[0;31m---------------------------------------------------------------------------\u001b[0m",
      "\u001b[0;31mAssertionError\u001b[0m                            Traceback (most recent call last)",
      "\u001b[0;32m<ipython-input-2-f0996f25123d>\u001b[0m in \u001b[0;36m<module>\u001b[0;34m\u001b[0m\n\u001b[1;32m      2\u001b[0m \u001b[0;34m\u001b[0m\u001b[0m\n\u001b[1;32m      3\u001b[0m \u001b[0mname\u001b[0m \u001b[0;34m=\u001b[0m \u001b[0;34m'BBH001'\u001b[0m\u001b[0;34m\u001b[0m\u001b[0;34m\u001b[0m\u001b[0m\n\u001b[0;32m----> 4\u001b[0;31m \u001b[0msim\u001b[0m \u001b[0;34m=\u001b[0m \u001b[0mCactusTool\u001b[0m\u001b[0;34m.\u001b[0m\u001b[0mload\u001b[0m\u001b[0;34m(\u001b[0m\u001b[0mname\u001b[0m\u001b[0;34m,\u001b[0m \u001b[0;34m'/Volumes/simulations'\u001b[0m\u001b[0;34m,\u001b[0m \u001b[0moutput\u001b[0m\u001b[0;34m=\u001b[0m\u001b[0;34m[\u001b[0m\u001b[0;34m'output-0000'\u001b[0m\u001b[0;34m,\u001b[0m \u001b[0;34m'output-0003'\u001b[0m\u001b[0;34m,\u001b[0m \u001b[0;34m'output-0004'\u001b[0m\u001b[0;34m]\u001b[0m\u001b[0;34m)\u001b[0m\u001b[0;34m\u001b[0m\u001b[0;34m\u001b[0m\u001b[0m\n\u001b[0m\u001b[1;32m      5\u001b[0m \u001b[0msim\u001b[0m\u001b[0;34m.\u001b[0m\u001b[0mAnalysis\u001b[0m\u001b[0;34m(\u001b[0m\u001b[0;34m'puncturetracker'\u001b[0m\u001b[0;34m)\u001b[0m\u001b[0;34m.\u001b[0m\u001b[0meccentricity\u001b[0m\u001b[0;34m(\u001b[0m\u001b[0;34m)\u001b[0m\u001b[0;34m\u001b[0m\u001b[0;34m\u001b[0m\u001b[0m\n",
      "\u001b[0;32m~/Desktop/CactusTool/CactusTool/main.py\u001b[0m in \u001b[0;36m__init__\u001b[0;34m(self, simname, basedir, output)\u001b[0m\n\u001b[1;32m     26\u001b[0m         \u001b[0mself\u001b[0m\u001b[0;34m.\u001b[0m\u001b[0msimpath\u001b[0m \u001b[0;34m=\u001b[0m \u001b[0mos\u001b[0m\u001b[0;34m.\u001b[0m\u001b[0mpath\u001b[0m\u001b[0;34m.\u001b[0m\u001b[0mjoin\u001b[0m\u001b[0;34m(\u001b[0m\u001b[0mbasedir\u001b[0m\u001b[0;34m,\u001b[0m \u001b[0msimname\u001b[0m\u001b[0;34m)\u001b[0m\u001b[0;34m\u001b[0m\u001b[0;34m\u001b[0m\u001b[0m\n\u001b[1;32m     27\u001b[0m         \u001b[0;31m# Make sure simulation directory exists.\u001b[0m\u001b[0;34m\u001b[0m\u001b[0;34m\u001b[0m\u001b[0;34m\u001b[0m\u001b[0m\n\u001b[0;32m---> 28\u001b[0;31m         \u001b[0;32massert\u001b[0m \u001b[0mos\u001b[0m\u001b[0;34m.\u001b[0m\u001b[0mpath\u001b[0m\u001b[0;34m.\u001b[0m\u001b[0mexists\u001b[0m\u001b[0;34m(\u001b[0m\u001b[0mself\u001b[0m\u001b[0;34m.\u001b[0m\u001b[0msimpath\u001b[0m\u001b[0;34m)\u001b[0m\u001b[0;34m,\u001b[0m \u001b[0;34m\"simulation name '{}' not in your '{}'.\"\u001b[0m\u001b[0;34m.\u001b[0m\u001b[0mformat\u001b[0m\u001b[0;34m(\u001b[0m\u001b[0mself\u001b[0m\u001b[0;34m.\u001b[0m\u001b[0msimname\u001b[0m\u001b[0;34m,\u001b[0m \u001b[0mbasedir\u001b[0m\u001b[0;34m)\u001b[0m\u001b[0;34m\u001b[0m\u001b[0;34m\u001b[0m\u001b[0m\n\u001b[0m\u001b[1;32m     29\u001b[0m         \u001b[0;31m# The directory structure of SimFactory is different from the traditional one.\u001b[0m\u001b[0;34m\u001b[0m\u001b[0;34m\u001b[0m\u001b[0;34m\u001b[0m\u001b[0m\n\u001b[1;32m     30\u001b[0m         \u001b[0mself\u001b[0m\u001b[0;34m.\u001b[0m\u001b[0m_simfactory\u001b[0m \u001b[0;34m=\u001b[0m \u001b[0mis_simfactory\u001b[0m\u001b[0;34m(\u001b[0m\u001b[0mself\u001b[0m\u001b[0;34m.\u001b[0m\u001b[0msimpath\u001b[0m\u001b[0;34m)\u001b[0m\u001b[0;34m\u001b[0m\u001b[0;34m\u001b[0m\u001b[0m\n",
      "\u001b[0;31mAssertionError\u001b[0m: simulation name 'BBH001' not in your '/Volumes/simulations'."
     ]
    }
   ],
   "source": [
    "import CactusTool\n",
    "\n",
    "name = 'BBH001'\n",
    "sim = CactusTool.load(name, '/Volumes/simulations', output=['output-0000', 'output-0003', 'output-0004'])\n",
    "sim.Analysis('puncturetracker').eccentricity()"
   ]
  },
  {
   "cell_type": "code",
   "execution_count": null,
   "metadata": {},
   "outputs": [],
   "source": []
  }
 ],
 "metadata": {
  "kernelspec": {
   "display_name": "Python 3",
   "language": "python",
   "name": "python3"
  },
  "language_info": {
   "codemirror_mode": {
    "name": "ipython",
    "version": 3
   },
   "file_extension": ".py",
   "mimetype": "text/x-python",
   "name": "python",
   "nbconvert_exporter": "python",
   "pygments_lexer": "ipython3",
   "version": "3.8.5"
  }
 },
 "nbformat": 4,
 "nbformat_minor": 4
}
